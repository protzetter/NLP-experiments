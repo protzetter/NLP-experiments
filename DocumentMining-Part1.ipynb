{
 "cells": [
  {
   "cell_type": "markdown",
   "metadata": {
    "cell_id": "00000-7079e1ca-a2f2-48e5-b5c0-c4daef44134e",
    "deepnote_cell_type": "markdown"
   },
   "source": [
    "Created on December 20th 2020 by Patrick Rotzetter\n",
    "\n",
    "https://www.linkedin.com/in/rotzetter/\n",
    "\n",
    "# Small experiment of document mining with various techniques Part 1\n",
    "\n",
    "In the first part, we will be using spacy for tokenization, parsing and named entity recognition. We will then look at some simple statistics based on spacy results."
   ]
  },
  {
   "cell_type": "code",
   "execution_count": 1,
   "metadata": {
    "cell_id": "00001-4ee23b8c-5b4b-4341-b555-0f5cdfb7f019",
    "deepnote_cell_type": "code",
    "deepnote_to_be_reexecuted": false,
    "execution_millis": 18,
    "execution_start": 1609408903481,
    "source_hash": "359195b9"
   },
   "outputs": [
    {
     "data": {
      "text/plain": [
       "'/opt/anaconda3/envs/base38/bin/python'"
      ]
     },
     "execution_count": 1,
     "metadata": {},
     "output_type": "execute_result"
    }
   ],
   "source": [
    "#check python version and path\n",
    "import sys\n",
    "sys.executable"
   ]
  },
  {
   "cell_type": "code",
   "execution_count": 2,
   "metadata": {
    "cell_id": "00002-5a3f2a00-7b81-4e3f-ba51-828ec90a4fb3",
    "deepnote_cell_type": "code",
    "deepnote_to_be_reexecuted": false,
    "execution_millis": 7825,
    "execution_start": 1609408903502,
    "source_hash": "a807d41a"
   },
   "outputs": [],
   "source": [
    "#import main libraries\n",
    "import numpy as np\n",
    "import PyPDF2\n",
    "import spacy\n",
    "import pandas as pd\n",
    "import re\n",
    "from pptx import Presentation\n",
    "import pdftotext\n",
    "import texthero as hero"
   ]
  },
  {
   "cell_type": "code",
   "execution_count": 3,
   "metadata": {
    "cell_id": "00003-c681b3d0-7d28-4ac8-b5e5-1c6644a54282",
    "deepnote_cell_type": "code",
    "deepnote_to_be_reexecuted": false,
    "execution_millis": 1714,
    "execution_start": 1609408911331,
    "source_hash": "ab8c3b25"
   },
   "outputs": [
    {
     "name": "stdout",
     "output_type": "stream",
     "text": [
      "\u001b[2K\u001b[38;5;2m✔ Loaded compatibility table\u001b[0m\n",
      "\u001b[1m\n",
      "====================== Installed models (spaCy v2.3.5) ======================\u001b[0m\n",
      "\u001b[38;5;4mℹ spaCy installation:\n",
      "/opt/anaconda3/envs/base38/lib/python3.8/site-packages/spacy\u001b[0m\n",
      "\n",
      "TYPE      NAME             MODEL            VERSION                            \n",
      "package   en-core-web-sm   en_core_web_sm   \u001b[38;5;2m2.3.1\u001b[0m   \u001b[38;5;2m✔\u001b[0m\n",
      "package   en-core-web-lg   en_core_web_lg   \u001b[38;5;2m2.3.1\u001b[0m   \u001b[38;5;2m✔\u001b[0m\n",
      "\n"
     ]
    }
   ],
   "source": [
    "#  validate spacy language models just in case, this command does not work on Mac ARM systems unless you have installed the brew workaround and reinstalled python\n",
    "!python -m spacy validate"
   ]
  },
  {
   "cell_type": "code",
   "execution_count": 4,
   "metadata": {
    "cell_id": "00004-d91201ad-7d3d-4903-a370-5602331274d9",
    "deepnote_cell_type": "code",
    "deepnote_to_be_reexecuted": false,
    "execution_millis": 3,
    "execution_start": 1609408913052,
    "source_hash": "c04b7596"
   },
   "outputs": [],
   "source": [
    "# function to read PDF files using PYPdf2\n",
    "def readPdfFilePY(filename):\n",
    "    text=\"\"\n",
    "    read_pdf = PyPDF2.PdfFileReader(filename,'rb')   \n",
    "    for i in range(read_pdf.getNumPages()):\n",
    "        page = read_pdf.getPage(i)\n",
    "        txt=page.extractText()\n",
    "        text=text+txt\n",
    "    return text\n"
   ]
  },
  {
   "cell_type": "code",
   "execution_count": 5,
   "metadata": {
    "cell_id": "00005-a1901dd3-c023-404a-ad5e-54bb9e243052",
    "deepnote_cell_type": "code",
    "deepnote_to_be_reexecuted": false,
    "execution_millis": 6,
    "execution_start": 1609408913062,
    "source_hash": "528c1789"
   },
   "outputs": [],
   "source": [
    "# function to read PDF files using pdftotext\n",
    "def readPdfFile(filename):\n",
    "    text=\"\"\n",
    "    with open(filename, \"rb\") as f:\n",
    "        pdf = pdftotext.PDF(f)\n",
    "        for page in pdf:\n",
    "            text=text+page\n",
    "    return text"
   ]
  },
  {
   "cell_type": "code",
   "execution_count": 6,
   "metadata": {
    "cell_id": "00006-7ffcd334-575e-4630-9cdc-b490391638ea",
    "deepnote_cell_type": "code",
    "deepnote_to_be_reexecuted": false,
    "execution_millis": 7,
    "execution_start": 1609408913073,
    "source_hash": "c5e1e201"
   },
   "outputs": [],
   "source": [
    "# function to read PPT files\n",
    "def readPPTFile(filename):\n",
    "    text=\"\"  \n",
    "    prs = Presentation(filename)\n",
    "    for slide in prs.slides:\n",
    "        for shape in slide.shapes:\n",
    "            if hasattr(shape, \"text\"):\n",
    "                text=text+shape.text\n",
    "    text=remove_special_characters(text)\n",
    "    return text"
   ]
  },
  {
   "cell_type": "code",
   "execution_count": 7,
   "metadata": {
    "cell_id": "00007-ec1a18d4-c491-4d83-bd0b-89d80d023486",
    "deepnote_cell_type": "code",
    "deepnote_to_be_reexecuted": false,
    "execution_millis": 0,
    "execution_start": 1609409219029,
    "output_cleared": false,
    "source_hash": "bb2fc269"
   },
   "outputs": [],
   "source": [
    "#path of first input test file\n",
    "path='./sampledocs/'\n",
    "docFile = path+'Technology-and-innovation-in-the-insurance-sector.pdf' "
   ]
  },
  {
   "cell_type": "code",
   "execution_count": 8,
   "metadata": {
    "cell_id": "00008-edb5c9c2-54e2-45ed-96da-d747f9899901",
    "deepnote_cell_type": "code",
    "deepnote_to_be_reexecuted": false,
    "execution_millis": 156,
    "execution_start": 1609409220492,
    "source_hash": "8b32020b"
   },
   "outputs": [
    {
     "data": {
      "text/plain": [
       "127312"
      ]
     },
     "execution_count": 8,
     "metadata": {},
     "output_type": "execute_result"
    }
   ],
   "source": [
    "#read the PDF File\n",
    " \n",
    "textFromPdf=readPdfFile(docFile)\n",
    "len(textFromPdf)"
   ]
  },
  {
   "cell_type": "code",
   "execution_count": 9,
   "metadata": {
    "cell_id": "00009-fc0448e8-7ba3-4e60-8959-895843d4f751",
    "deepnote_cell_type": "code",
    "deepnote_to_be_reexecuted": false,
    "execution_millis": 7,
    "execution_start": 1609409222189,
    "source_hash": "148ad8dd"
   },
   "outputs": [
    {
     "name": "stdout",
     "output_type": "stream",
     "text": [
      "Technology and\n",
      "innovation in the\n",
      "insurance sector\n",
      "\f",
      "\f",
      "TECHNOLOGY AND INNOVATION\n",
      "  IN THE INSURANCE SEC\n"
     ]
    }
   ],
   "source": [
    "# print the start of file to check we have read it correctly\n",
    "print(textFromPdf[0:100])"
   ]
  },
  {
   "cell_type": "code",
   "execution_count": 10,
   "metadata": {
    "cell_id": "00010-11ccde72-7d82-46c4-a80a-3632f634dbaa",
    "deepnote_cell_type": "code",
    "deepnote_to_be_reexecuted": false,
    "execution_millis": 2,
    "execution_start": 1609409223044,
    "source_hash": "3aab7773"
   },
   "outputs": [],
   "source": [
    "#path of second input file\n",
    "docFile = path+'Digital-disruption-in-Insurance.pdf' "
   ]
  },
  {
   "cell_type": "code",
   "execution_count": 11,
   "metadata": {
    "cell_id": "00011-d1f41ce8-cbfe-4078-b3d4-ac372ae82f1f",
    "deepnote_cell_type": "code",
    "deepnote_to_be_reexecuted": false,
    "execution_millis": 799,
    "execution_start": 1609409223786,
    "source_hash": "a3228439"
   },
   "outputs": [
    {
     "data": {
      "text/plain": [
       "464271"
      ]
     },
     "execution_count": 11,
     "metadata": {},
     "output_type": "execute_result"
    }
   ],
   "source": [
    "#read the second PDF file   \n",
    "textFromPdf2=readPdfFile(docFile)\n",
    "len(textFromPdf2)"
   ]
  },
  {
   "cell_type": "code",
   "execution_count": 12,
   "metadata": {
    "cell_id": "00012-a10dadf0-e73c-4dcc-a7de-e724cc0fe202",
    "deepnote_cell_type": "code",
    "deepnote_to_be_reexecuted": false,
    "execution_millis": 9,
    "execution_start": 1609409224588,
    "source_hash": "2120c43f"
   },
   "outputs": [
    {
     "name": "stdout",
     "output_type": "stream",
     "text": [
      "Digital disruption\n",
      "in insurance:\n",
      "Cutting through\n",
      "the noise\n",
      "\f",
      "     Contents\n",
      "      Preface\t\t\t\t\t\t\t\t     \n"
     ]
    }
   ],
   "source": [
    "# print the file to check we have read it correctly\n",
    "print(textFromPdf2[0:100])"
   ]
  },
  {
   "cell_type": "markdown",
   "metadata": {
    "cell_id": "00013-ef2036de-3984-4291-bfa2-f1ee6019c9c3",
    "deepnote_cell_type": "markdown"
   },
   "source": [
    "## Process files with spacy and calculate their similarity"
   ]
  },
  {
   "cell_type": "code",
   "execution_count": 13,
   "metadata": {
    "cell_id": "00014-507e8032-a56f-4a2a-8d6c-a4f7951ec65a",
    "deepnote_cell_type": "code",
    "deepnote_to_be_reexecuted": false,
    "execution_millis": 6076,
    "execution_start": 1609409226373,
    "source_hash": "e0cff2"
   },
   "outputs": [],
   "source": [
    "# load spacy with large English model\n",
    "# nlp = spacy.load(\"en-core-web-lg\") -- was working on Windows, but now on a Mac\n",
    "import en_core_web_lg\n",
    "nlp = en_core_web_lg.load()"
   ]
  },
  {
   "cell_type": "code",
   "execution_count": 14,
   "metadata": {
    "cell_id": "00015-5a9a6acb-dc7c-4335-9fec-43b61059b819",
    "deepnote_cell_type": "code",
    "deepnote_to_be_reexecuted": false,
    "execution_millis": 14113,
    "execution_start": 1609409232449,
    "source_hash": "ac8654df"
   },
   "outputs": [],
   "source": [
    "# let us process the 2 files using spacy pipeline\n",
    "docpdf1=nlp(textFromPdf)\n",
    "docpdf2=nlp(textFromPdf2)"
   ]
  },
  {
   "cell_type": "code",
   "execution_count": 15,
   "metadata": {
    "cell_id": "00016-cf670244-9dcf-438e-ac68-11a7e12d2f20",
    "deepnote_cell_type": "code",
    "deepnote_to_be_reexecuted": false,
    "execution_millis": 269,
    "execution_start": 1609409246569,
    "source_hash": "c607b422"
   },
   "outputs": [
    {
     "data": {
      "text/plain": [
       "(300,)"
      ]
     },
     "execution_count": 15,
     "metadata": {},
     "output_type": "execute_result"
    }
   ],
   "source": [
    "# let us check the document vector shape\n",
    "docpdf1.vector.shape"
   ]
  },
  {
   "cell_type": "code",
   "execution_count": 16,
   "metadata": {
    "cell_id": "00017-742a4d24-042e-4f45-87a8-50dba5f3353f",
    "deepnote_cell_type": "code",
    "deepnote_to_be_reexecuted": false,
    "execution_millis": 4451,
    "execution_start": 1609409246842,
    "source_hash": "9df9cb86"
   },
   "outputs": [
    {
     "data": {
      "text/plain": [
       "0.9921302780761528"
      ]
     },
     "execution_count": 16,
     "metadata": {},
     "output_type": "execute_result"
    }
   ],
   "source": [
    "# calculate document similarity with spacy function\n",
    "docpdf1.similarity(docpdf2)"
   ]
  },
  {
   "cell_type": "code",
   "execution_count": 17,
   "metadata": {
    "cell_id": "00018-88ece158-678f-4f1d-a28d-d51d8b00a274",
    "deepnote_cell_type": "code",
    "deepnote_to_be_reexecuted": false,
    "execution_millis": 5,
    "execution_start": 1609409251302,
    "source_hash": "a95fdbac"
   },
   "outputs": [
    {
     "data": {
      "text/plain": [
       "6.7858405"
      ]
     },
     "execution_count": 17,
     "metadata": {},
     "output_type": "execute_result"
    }
   ],
   "source": [
    "# document similarity can also be calculated by multiplying the document vectors. we will use this later on\n",
    "np.dot(docpdf1.vector,docpdf2.vector)"
   ]
  },
  {
   "cell_type": "markdown",
   "metadata": {
    "cell_id": "00019-0d4e055e-df16-462b-b102-d6b6ce8e0d03",
    "deepnote_cell_type": "markdown"
   },
   "source": [
    "## Process all directory files with spacy"
   ]
  },
  {
   "cell_type": "code",
   "execution_count": 18,
   "metadata": {
    "cell_id": "00020-e077d573-9d1d-4d08-96ac-e94be911fcb4",
    "deepnote_cell_type": "code",
    "deepnote_to_be_reexecuted": false,
    "execution_millis": 7,
    "execution_start": 1609409251311,
    "source_hash": "31b9d7f8"
   },
   "outputs": [],
   "source": [
    "# helper function to process documents in an apply function and return the nlp object\n",
    "def processDoc(doc):\n",
    "    return nlp(doc)"
   ]
  },
  {
   "cell_type": "code",
   "execution_count": 19,
   "metadata": {
    "cell_id": "00021-4abcc142-8b60-4c8d-8eb7-6dfc54ede2cf",
    "deepnote_cell_type": "code",
    "deepnote_to_be_reexecuted": false,
    "execution_millis": 25755,
    "execution_start": 1609409251322,
    "source_hash": "4ff71c02"
   },
   "outputs": [],
   "source": [
    "# let us scan the full directory, read PDF and PPT documents, clean them and process them with spacy\n",
    "\n",
    "docName=[]\n",
    "docType=[]\n",
    "docText=[]\n",
    "docNLP=[]\n",
    "import glob\n",
    "list_of_files = glob.glob(path+'*.pdf')           # create the list of file\n",
    "fileNames=[]\n",
    "for file_name in list_of_files:\n",
    "    fileText=readPdfFile(file_name)\n",
    "    docName.append(file_name)\n",
    "    docType.append('pdf')\n",
    "    docText.append(fileText)\n",
    "list_of_files = glob.glob(path+'*.pptx')           # create the list of file\n",
    "for file_name in list_of_files:\n",
    "    fileText=readPPTFile(file_name)\n",
    "    docName.append(file_name)\n",
    "    docType.append('ppt')\n",
    "    docText.append(fileText)\n",
    "fullDocs = pd.DataFrame({'Name':docName,'Type':docType,'Text':docText})\n",
    "fullDocs['cleanText']=hero.clean(fullDocs['Text'])\n",
    "fullDocs['NLP']=fullDocs['cleanText'].apply(processDoc)"
   ]
  },
  {
   "cell_type": "code",
   "execution_count": 20,
   "metadata": {
    "cell_id": "00022-f30704b2-24ac-4575-a46b-c496aba2c153",
    "deepnote_cell_type": "code",
    "deepnote_to_be_reexecuted": false,
    "execution_millis": 0,
    "execution_start": 1609409277078,
    "source_hash": "2775c8a4"
   },
   "outputs": [
    {
     "name": "stdout",
     "output_type": "stream",
     "text": [
      "Average length of text:173026.0\n",
      "Min length of text:17987\n",
      "Max length of text:464271\n"
     ]
    }
   ],
   "source": [
    " print (\"Average length of text:\" + str((np.mean(fullDocs['Text'].str.len()))))\n",
    " print (\"Min length of text:\" + str((np.min(fullDocs['Text'].str.len()))))\n",
    " print (\"Max length of text:\" + str((np.max(fullDocs['Text'].str.len()))))"
   ]
  },
  {
   "cell_type": "code",
   "execution_count": 21,
   "metadata": {
    "cell_id": "00023-477dc6c1-2d27-40f1-8aa6-41969f133484",
    "deepnote_cell_type": "code",
    "deepnote_to_be_reexecuted": false,
    "execution_millis": 581,
    "execution_start": 1609409277796,
    "source_hash": "aa02f66"
   },
   "outputs": [
    {
     "data": {
      "text/html": [
       "<div>\n",
       "<style scoped>\n",
       "    .dataframe tbody tr th:only-of-type {\n",
       "        vertical-align: middle;\n",
       "    }\n",
       "\n",
       "    .dataframe tbody tr th {\n",
       "        vertical-align: top;\n",
       "    }\n",
       "\n",
       "    .dataframe thead th {\n",
       "        text-align: right;\n",
       "    }\n",
       "</style>\n",
       "<table border=\"1\" class=\"dataframe\">\n",
       "  <thead>\n",
       "    <tr style=\"text-align: right;\">\n",
       "      <th></th>\n",
       "      <th>Name</th>\n",
       "      <th>Type</th>\n",
       "      <th>Text</th>\n",
       "      <th>cleanText</th>\n",
       "      <th>NLP</th>\n",
       "      <th>text_word_count</th>\n",
       "      <th>text_unique_words</th>\n",
       "    </tr>\n",
       "  </thead>\n",
       "  <tbody>\n",
       "    <tr>\n",
       "      <th>0</th>\n",
       "      <td>./sampledocs/ai-360-research.pdf</td>\n",
       "      <td>pdf</td>\n",
       "      <td>AI 360: insights from the\\nnext frontier of bu...</td>\n",
       "      <td>ai insights next frontier business corner offi...</td>\n",
       "      <td>(ai, insights, next, frontier, business, corne...</td>\n",
       "      <td>5289</td>\n",
       "      <td>1752</td>\n",
       "    </tr>\n",
       "    <tr>\n",
       "      <th>1</th>\n",
       "      <td>./sampledocs/Module-1-Lecture-Slides.pdf</td>\n",
       "      <td>pdf</td>\n",
       "      <td>Application of AI, Insurtech and Real Estate\\n...</td>\n",
       "      <td>application ai insurtech real estate technolog...</td>\n",
       "      <td>(application, ai, insurtech, real, estate, tec...</td>\n",
       "      <td>3732</td>\n",
       "      <td>1509</td>\n",
       "    </tr>\n",
       "    <tr>\n",
       "      <th>2</th>\n",
       "      <td>./sampledocs/Technology-and-innovation-in-the-...</td>\n",
       "      <td>pdf</td>\n",
       "      <td>Technology and\\ninnovation in the\\ninsurance s...</td>\n",
       "      <td>technology innovation insurance sector technol...</td>\n",
       "      <td>(technology, innovation, insurance, sector, te...</td>\n",
       "      <td>16763</td>\n",
       "      <td>4237</td>\n",
       "    </tr>\n",
       "    <tr>\n",
       "      <th>3</th>\n",
       "      <td>./sampledocs/sigma-5-2020-en.pdf</td>\n",
       "      <td>pdf</td>\n",
       "      <td>No 5 /2020\\n\\n\\n\\n\\n...</td>\n",
       "      <td>machine intelligence executive summary machine...</td>\n",
       "      <td>(machine, intelligence, executive, summary, ma...</td>\n",
       "      <td>14512</td>\n",
       "      <td>4342</td>\n",
       "    </tr>\n",
       "    <tr>\n",
       "      <th>4</th>\n",
       "      <td>./sampledocs/_content_dam_Deloitte_de_Document...</td>\n",
       "      <td>pdf</td>\n",
       "      <td>From mystery to mastery:\\nUnlocking the busine...</td>\n",
       "      <td>mystery mastery unlocking business value artif...</td>\n",
       "      <td>(mystery, mastery, unlocking, business, value,...</td>\n",
       "      <td>11032</td>\n",
       "      <td>3457</td>\n",
       "    </tr>\n",
       "  </tbody>\n",
       "</table>\n",
       "</div>"
      ],
      "text/plain": [
       "                                                Name Type  \\\n",
       "0                   ./sampledocs/ai-360-research.pdf  pdf   \n",
       "1           ./sampledocs/Module-1-Lecture-Slides.pdf  pdf   \n",
       "2  ./sampledocs/Technology-and-innovation-in-the-...  pdf   \n",
       "3                   ./sampledocs/sigma-5-2020-en.pdf  pdf   \n",
       "4  ./sampledocs/_content_dam_Deloitte_de_Document...  pdf   \n",
       "\n",
       "                                                Text  \\\n",
       "0  AI 360: insights from the\\nnext frontier of bu...   \n",
       "1  Application of AI, Insurtech and Real Estate\\n...   \n",
       "2  Technology and\\ninnovation in the\\ninsurance s...   \n",
       "3                            No 5 /2020\\n\\n\\n\\n\\n...   \n",
       "4  From mystery to mastery:\\nUnlocking the busine...   \n",
       "\n",
       "                                           cleanText  \\\n",
       "0  ai insights next frontier business corner offi...   \n",
       "1  application ai insurtech real estate technolog...   \n",
       "2  technology innovation insurance sector technol...   \n",
       "3  machine intelligence executive summary machine...   \n",
       "4  mystery mastery unlocking business value artif...   \n",
       "\n",
       "                                                 NLP  text_word_count  \\\n",
       "0  (ai, insights, next, frontier, business, corne...             5289   \n",
       "1  (application, ai, insurtech, real, estate, tec...             3732   \n",
       "2  (technology, innovation, insurance, sector, te...            16763   \n",
       "3  (machine, intelligence, executive, summary, ma...            14512   \n",
       "4  (mystery, mastery, unlocking, business, value,...            11032   \n",
       "\n",
       "   text_unique_words  \n",
       "0               1752  \n",
       "1               1509  \n",
       "2               4237  \n",
       "3               4342  \n",
       "4               3457  "
      ]
     },
     "execution_count": 21,
     "metadata": {},
     "output_type": "execute_result"
    }
   ],
   "source": [
    "fullDocs['text_word_count'] = fullDocs['Text'].apply(lambda x: len(x.strip().split()))  # word count\n",
    "fullDocs['text_unique_words']=fullDocs['Text'].apply(lambda x:len(set(str(x).split())))  # number of unique words\n",
    "fullDocs.head()"
   ]
  },
  {
   "cell_type": "code",
   "execution_count": 22,
   "metadata": {
    "cell_id": "00024-d02c0230-e529-449a-b094-5074c254f871",
    "deepnote_cell_type": "code",
    "deepnote_to_be_reexecuted": false,
    "execution_start": 1609409278383,
    "source_hash": "8a46534f"
   },
   "outputs": [
    {
     "name": "stdout",
     "output_type": "stream",
     "text": [
      "<class 'pandas.core.frame.DataFrame'>\n",
      "RangeIndex: 10 entries, 0 to 9\n",
      "Data columns (total 7 columns):\n",
      " #   Column             Non-Null Count  Dtype \n",
      "---  ------             --------------  ----- \n",
      " 0   Name               10 non-null     object\n",
      " 1   Type               10 non-null     object\n",
      " 2   Text               10 non-null     object\n",
      " 3   cleanText          10 non-null     object\n",
      " 4   NLP                10 non-null     object\n",
      " 5   text_word_count    10 non-null     int64 \n",
      " 6   text_unique_words  10 non-null     int64 \n",
      "dtypes: int64(2), object(5)\n",
      "memory usage: 688.0+ bytes\n"
     ]
    }
   ],
   "source": [
    "fullDocs.info()"
   ]
  },
  {
   "cell_type": "code",
   "execution_count": 23,
   "metadata": {
    "cell_id": "00025-b66fdba4-5470-4f11-96ce-611c4950287a",
    "deepnote_cell_type": "code",
    "deepnote_to_be_reexecuted": false,
    "execution_start": 1609409278430,
    "source_hash": "631c63aa"
   },
   "outputs": [
    {
     "data": {
      "text/html": [
       "<div>\n",
       "<style scoped>\n",
       "    .dataframe tbody tr th:only-of-type {\n",
       "        vertical-align: middle;\n",
       "    }\n",
       "\n",
       "    .dataframe tbody tr th {\n",
       "        vertical-align: top;\n",
       "    }\n",
       "\n",
       "    .dataframe thead th {\n",
       "        text-align: right;\n",
       "    }\n",
       "</style>\n",
       "<table border=\"1\" class=\"dataframe\">\n",
       "  <thead>\n",
       "    <tr style=\"text-align: right;\">\n",
       "      <th></th>\n",
       "      <th>text_word_count</th>\n",
       "      <th>text_unique_words</th>\n",
       "    </tr>\n",
       "  </thead>\n",
       "  <tbody>\n",
       "    <tr>\n",
       "      <th>count</th>\n",
       "      <td>10.000000</td>\n",
       "      <td>10.000000</td>\n",
       "    </tr>\n",
       "    <tr>\n",
       "      <th>mean</th>\n",
       "      <td>17238.100000</td>\n",
       "      <td>4083.700000</td>\n",
       "    </tr>\n",
       "    <tr>\n",
       "      <th>std</th>\n",
       "      <td>14729.007181</td>\n",
       "      <td>2398.566797</td>\n",
       "    </tr>\n",
       "    <tr>\n",
       "      <th>min</th>\n",
       "      <td>2502.000000</td>\n",
       "      <td>1006.000000</td>\n",
       "    </tr>\n",
       "    <tr>\n",
       "      <th>25%</th>\n",
       "      <td>6724.750000</td>\n",
       "      <td>2178.250000</td>\n",
       "    </tr>\n",
       "    <tr>\n",
       "      <th>50%</th>\n",
       "      <td>14951.000000</td>\n",
       "      <td>3961.000000</td>\n",
       "    </tr>\n",
       "    <tr>\n",
       "      <th>75%</th>\n",
       "      <td>18329.000000</td>\n",
       "      <td>5075.500000</td>\n",
       "    </tr>\n",
       "    <tr>\n",
       "      <th>max</th>\n",
       "      <td>49779.000000</td>\n",
       "      <td>8462.000000</td>\n",
       "    </tr>\n",
       "  </tbody>\n",
       "</table>\n",
       "</div>"
      ],
      "text/plain": [
       "       text_word_count  text_unique_words\n",
       "count        10.000000          10.000000\n",
       "mean      17238.100000        4083.700000\n",
       "std       14729.007181        2398.566797\n",
       "min        2502.000000        1006.000000\n",
       "25%        6724.750000        2178.250000\n",
       "50%       14951.000000        3961.000000\n",
       "75%       18329.000000        5075.500000\n",
       "max       49779.000000        8462.000000"
      ]
     },
     "execution_count": 23,
     "metadata": {},
     "output_type": "execute_result"
    }
   ],
   "source": [
    "fullDocs.describe()"
   ]
  },
  {
   "cell_type": "markdown",
   "metadata": {
    "cell_id": "00026-11f4e363-3b29-46dc-bc0c-f62143cb620e",
    "deepnote_cell_type": "markdown"
   },
   "source": [
    "## Word count and most common words and nouns"
   ]
  },
  {
   "cell_type": "code",
   "execution_count": 24,
   "metadata": {
    "cell_id": "00027-3a8c83b9-96b0-4071-8389-8d9b9a4f32c5",
    "deepnote_cell_type": "code",
    "deepnote_to_be_reexecuted": false,
    "execution_millis": 34,
    "execution_start": 1609409278431,
    "source_hash": "cee157d5"
   },
   "outputs": [
    {
     "name": "stdout",
     "output_type": "stream",
     "text": [
      "ADJ 557 digital\n",
      "ADP 147 across\n",
      "ADV 453 also\n",
      "AUX 16 get\n",
      "CCONJ 37 yet\n",
      "DET 78 another\n",
      "INTJ 30 ai\n",
      "NOUN 1522 data\n",
      "NUM 238 one\n",
      "PART 529 '\n",
      "PRON 41 us\n",
      "PROPN 688 ai\n",
      "PUNCT 967 \"\n",
      "SCONJ 77 whether\n",
      "SYM 4 x\n",
      "VERB 451 based\n",
      "X 44 etc\n"
     ]
    }
   ],
   "source": [
    "# let us look most used words for each part of speech\n",
    "from collections import defaultdict, Counter\n",
    "\n",
    "posCounts = defaultdict(Counter)\n",
    "\n",
    "for doc in fullDocs.NLP:\n",
    "    for token in doc:\n",
    "        posCounts[token.pos][token.orth] += 1\n",
    "\n",
    "for pos_id, counts in sorted(posCounts.items()):\n",
    "    pos = doc.vocab.strings[pos_id]\n",
    "    for orth_id, count in counts.most_common(1):\n",
    "        print(pos, count, doc.vocab.strings[orth_id])"
   ]
  },
  {
   "cell_type": "code",
   "execution_count": 25,
   "metadata": {
    "cell_id": "00028-510ac7f3-89eb-48e7-a5a1-1e6b2e345f15",
    "deepnote_cell_type": "code",
    "deepnote_to_be_reexecuted": false,
    "execution_millis": 1,
    "execution_start": 1609409278465,
    "source_hash": "1aa898b7"
   },
   "outputs": [],
   "source": [
    "# add some common words to stop wordds that may not add much context\n",
    "from spacy.lang.en.stop_words import STOP_WORDS\n",
    "customStopWords = [\n",
    "    'insurance','insurer','customer','technology','datum']\n",
    "\n",
    "for w in customStopWords:\n",
    "    if w not in STOP_WORDS:\n",
    "        STOP_WORDS.add(w)"
   ]
  },
  {
   "cell_type": "code",
   "execution_count": 26,
   "metadata": {
    "cell_id": "00029-f55936ad-a073-4492-b812-e54d976d0d29",
    "deepnote_cell_type": "code",
    "deepnote_to_be_reexecuted": false,
    "execution_millis": 122,
    "execution_start": 1609409278466,
    "source_hash": "9cd9cab8"
   },
   "outputs": [
    {
     "name": "stdout",
     "output_type": "stream",
     "text": [
      "[('business', 537), ('risk', 521), ('system', 496), ('right', 493), ('product', 450), ('company', 431), ('example', 425), ('use', 418), ('consumer', 376), ('case', 374), ('data', 371), ('service', 370), ('model', 364), ('value', 326), ('information', 324), ('process', 320), ('decision', 312), ('impact', 285), ('claim', 279), ('protection', 270)]\n"
     ]
    }
   ],
   "source": [
    "# get most common nouns\n",
    "from collections import defaultdict, Counter\n",
    "from spacy.symbols import nsubj, VERB, dobj, NOUN, root, xcomp, PROPN, NUM,SYM\n",
    "# all tokens that arent stop words or punctuations\n",
    "words=[]\n",
    "for doc in fullDocs.NLP:\n",
    "    words += [token.lemma_ for token in doc if token.pos==NOUN and (not token.lemma_ in STOP_WORDS)] \n",
    "# five most common tokens\n",
    "wordFreq = Counter(words)\n",
    "commonWords = wordFreq.most_common(20)\n",
    "print(commonWords)"
   ]
  },
  {
   "cell_type": "code",
   "execution_count": 27,
   "metadata": {
    "cell_id": "00030-ad708e1a-9cff-41ad-9092-ce05f825588f",
    "deepnote_cell_type": "code",
    "deepnote_to_be_reexecuted": false,
    "execution_millis": 463,
    "execution_start": 1609409278591,
    "source_hash": "c1f41ff2"
   },
   "outputs": [
    {
     "data": {
      "image/png": "[encoded data removed]",
      "text/plain": [
       "<Figure size 432x288 with 1 Axes>"
      ]
     },
     "metadata": {
      "needs_background": "light"
     },
     "output_type": "display_data"
    }
   ],
   "source": [
    "import seaborn as sns\n",
    "\n",
    "\n",
    "def displayEntitiesChart(commonEntities,n=20, save=False, saveToFile='test.jpg'):\n",
    "    x, y= [], []\n",
    "    for word,count in commonEntities[:n]:\n",
    "            x.append(word)\n",
    "            y.append(count)\n",
    "        \n",
    "    plot= sns.barplot(x=y,y=x)\n",
    "    if save:\n",
    "        fig = plot.get_figure()\n",
    "        fig.savefig(saveToFile)\n",
    "displayEntitiesChart(commonWords)"
   ]
  },
  {
   "cell_type": "code",
   "execution_count": 28,
   "metadata": {
    "cell_id": "00031-8dfceb14-5e09-45af-961d-a08155db6a97",
    "deepnote_cell_type": "code",
    "deepnote_to_be_reexecuted": false,
    "execution_millis": 92,
    "execution_start": 1609409279057,
    "source_hash": "a1956e67"
   },
   "outputs": [
    {
     "data": {
      "image/png": "[encoded data removed]",
      "text/plain": [
       "<Figure size 432x288 with 1 Axes>"
      ]
     },
     "metadata": {
      "needs_background": "light"
     },
     "output_type": "display_data"
    }
   ],
   "source": [
    "# get most common proper nouns\n",
    "from collections import defaultdict, Counter\n",
    "from spacy.symbols import nsubj, VERB, dobj, NOUN, root, xcomp, PROPN, NUM,SYM\n",
    "# all tokens that arent stop words or punctuations\n",
    "words=[]\n",
    "for doc in fullDocs.NLP:\n",
    "    \n",
    "    words += [token.lemma_ for token in doc if token.pos==PROPN and (not token.lemma_ in STOP_WORDS)\\\n",
    "             and (len(token)>1)] \n",
    "\n",
    "\n",
    "# five most common tokens\n",
    "wordFreq = Counter(words)\n",
    "commonWords = wordFreq.most_common(20)\n",
    "displayEntitiesChart(commonWords)"
   ]
  },
  {
   "cell_type": "code",
   "execution_count": 30,
   "metadata": {
    "cell_id": "00035-31fe0cf1-c393-4717-a1f6-589e267e079a",
    "deepnote_cell_type": "code",
    "deepnote_to_be_reexecuted": false,
    "execution_millis": 27,
    "execution_start": 1609409279953,
    "source_hash": "8477c40"
   },
   "outputs": [
    {
     "data": {
      "image/png": "[encoded data removed]",
      "text/plain": [
       "<Figure size 432x288 with 1 Axes>"
      ]
     },
     "metadata": {
      "needs_background": "light"
     },
     "output_type": "display_data"
    }
   ],
   "source": [
    "# most frequest PERSON entities\n",
    "entities=[]\n",
    "for doc in fullDocs.NLP:\n",
    "    # all entities\n",
    "    for ent in doc.ents:\n",
    "        #print(ent.text)\n",
    "        if ent.label_ == 'PERSON':\n",
    "            if ent.text not in STOP_WORDS:\n",
    "                entities += [ent.text]\n",
    "entityFreq = Counter(entities)\n",
    "commonEntities = entityFreq.most_common(40)\n",
    "displayEntitiesChart(commonEntities)"
   ]
  },
  {
   "cell_type": "code",
   "execution_count": 32,
   "metadata": {
    "cell_id": "00033-ffcba3ff-531b-4a7f-9d1c-86110ada16a5",
    "deepnote_cell_type": "code",
    "deepnote_to_be_reexecuted": false,
    "execution_millis": 40,
    "execution_start": 1609409279532,
    "source_hash": "b8d79b81"
   },
   "outputs": [
    {
     "data": {
      "image/png": "[encoded data removed]",
      "text/plain": [
       "<Figure size 432x288 with 1 Axes>"
      ]
     },
     "metadata": {
      "needs_background": "light"
     },
     "output_type": "display_data"
    }
   ],
   "source": [
    "# most frequest ORG entities\n",
    "entities=[]\n",
    "for doc in fullDocs.NLP:\n",
    "    # all entities\n",
    "    for ent in doc.ents:\n",
    "        #print(ent.text)\n",
    "        if ent.label_ == 'ORG':\n",
    "            if ent.text not in STOP_WORDS:\n",
    "                entities += [ent.text]\n",
    "entityFreq = Counter(entities)\n",
    "commonEntities = entityFreq.most_common(40)\n",
    "displayEntitiesChart(commonEntities,20,True,'spacy23.jpg')"
   ]
  },
  {
   "cell_type": "code",
   "execution_count": null,
   "metadata": {
    "cell_id": "00037-c48a2e1f-322c-49b3-bdf8-63375edefe8a",
    "deepnote_cell_type": "code",
    "deepnote_to_be_reexecuted": false,
    "execution_millis": 5,
    "execution_start": 1609409280369,
    "source_hash": "b623e53d",
    "tags": []
   },
   "outputs": [],
   "source": []
  },
  {
   "cell_type": "code",
   "execution_count": null,
   "metadata": {
    "cell_id": "00038-40b5b2b1-9d05-4d12-8f33-7f099c7529c1",
    "deepnote_cell_type": "code",
    "tags": []
   },
   "outputs": [],
   "source": []
  }
 ],
 "metadata": {
  "deepnote_execution_queue": [],
  "deepnote_notebook_id": "e9069410-8d8d-4357-b5fe-9d658c38b0fc",
  "kernelspec": {
   "display_name": "Python 3",
   "language": "python",
   "name": "python3"
  },
  "language_info": {
   "codemirror_mode": {
    "name": "ipython",
    "version": 3
   },
   "file_extension": ".py",
   "mimetype": "text/x-python",
   "name": "python",
   "nbconvert_exporter": "python",
   "pygments_lexer": "ipython3",
   "version": "3.8.5"
  }
 },
 "nbformat": 4,
 "nbformat_minor": 4
}
