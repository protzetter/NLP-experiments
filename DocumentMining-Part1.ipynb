{
 "cells": [
  {
   "cell_type": "markdown",
   "metadata": {},
   "source": [
    "Created on December 20th 2020 by Patrick Rotzetter\n",
    "\n",
    "https://www.linkedin.com/in/rotzetter/\n",
    "\n",
    "# Small experiment of document mining with various techniques Part 1"
   ]
  },
  {
   "cell_type": "code",
   "execution_count": 1,
   "metadata": {},
   "outputs": [],
   "source": [
    "#check python version and path\n",
    "import sys\n",
    "sys.executable"
   ]
  },
  {
   "cell_type": "code",
   "execution_count": 2,
   "metadata": {},
   "outputs": [],
   "source": [
    "#import main libraries\n",
    "import numpy as np\n",
    "import PyPDF2\n",
    "import spacy\n",
    "import pandas as pd\n",
    "import re\n",
    "from pptx import Presentation\n",
    "import pdftotext\n",
    "import texthero as hero"
   ]
  },
  {
   "cell_type": "code",
   "execution_count": 3,
   "metadata": {},
   "outputs": [
    {
     "name": "stdout",
     "output_type": "stream",
     "text": [
      "/System/Library/Frameworks/Python.framework/Versions/2.7/Resources/Python.app/Contents/MacOS/Python: No module named spacy\r\n"
     ]
    }
   ],
   "source": [
    "#  validate spacy language models just in case, this command does not work on Mac ARM systems unless you have installed the brew workaround and reinstalled python\n",
    "!python -m spacy validate"
   ]
  },
  {
   "cell_type": "code",
   "execution_count": 4,
   "metadata": {},
   "outputs": [],
   "source": [
    "# function to read PDF files using PYPdf2\n",
    "def readPdfFilePY(filename):\n",
    "    text=\"\"\n",
    "    read_pdf = PyPDF2.PdfFileReader(filename,'rb')   \n",
    "    for i in range(read_pdf.getNumPages()):\n",
    "        page = read_pdf.getPage(i)\n",
    "        txt=page.extractText()\n",
    "        text=text+txt\n",
    "    return text\n"
   ]
  },
  {
   "cell_type": "code",
   "execution_count": 5,
   "metadata": {},
   "outputs": [],
   "source": [
    "# function to read PDF files using pdftotext\n",
    "def readPdfFile(filename):\n",
    "    text=\"\"\n",
    "    with open(filename, \"rb\") as f:\n",
    "        pdf = pdftotext.PDF(f)\n",
    "        for page in pdf:\n",
    "            text=text+page\n",
    "    return text"
   ]
  },
  {
   "cell_type": "code",
   "execution_count": 6,
   "metadata": {},
   "outputs": [],
   "source": [
    "# function to read PPT files\n",
    "def readPPTFile(filename):\n",
    "    text=\"\"  \n",
    "    prs = Presentation(filename)\n",
    "    for slide in prs.slides:\n",
    "        for shape in slide.shapes:\n",
    "            if hasattr(shape, \"text\"):\n",
    "                text=text+shape.text\n",
    "    text=remove_special_characters(text)\n",
    "    return text"
   ]
  },
  {
   "cell_type": "code",
   "execution_count": 7,
   "metadata": {},
   "outputs": [],
   "source": [
    "#path of first input test file\n",
    "path='/users/patrickrotzetter/OneDrive/Documents/samplesdocs/'\n",
    "docFile = path+'Technology-and-innovation-in-the-insurance-sector.pdf' "
   ]
  },
  {
   "cell_type": "code",
   "execution_count": 8,
   "metadata": {},
   "outputs": [
    {
     "data": {
      "text/plain": [
       "127312"
      ]
     },
     "execution_count": 8,
     "metadata": {},
     "output_type": "execute_result"
    }
   ],
   "source": [
    "#read the PDF File\n",
    " \n",
    "textFromPdf=readPdfFile(docFile)\n",
    "len(textFromPdf)"
   ]
  },
  {
   "cell_type": "code",
   "execution_count": 9,
   "metadata": {},
   "outputs": [
    {
     "name": "stdout",
     "output_type": "stream",
     "text": [
      "Technology and\n",
      "innovation in the\n",
      "insurance sector\n",
      "\f",
      "\f",
      "TECHNOLOGY AND INNOVATION\n",
      "  IN THE INSURANCE SEC\n"
     ]
    }
   ],
   "source": [
    "# print the start of file to check we have read it correctly\n",
    "print(textFromPdf[0:100])"
   ]
  },
  {
   "cell_type": "code",
   "execution_count": 10,
   "metadata": {},
   "outputs": [],
   "source": [
    "#path of second input file\n",
    "docFile = path+'Digital-disruption-in-Insurance.pdf' "
   ]
  },
  {
   "cell_type": "code",
   "execution_count": 11,
   "metadata": {},
   "outputs": [
    {
     "data": {
      "text/plain": [
       "464271"
      ]
     },
     "execution_count": 11,
     "metadata": {},
     "output_type": "execute_result"
    }
   ],
   "source": [
    "#read the second PDF file   \n",
    "textFromPdf2=readPdfFile(docFile)\n",
    "len(textFromPdf2)"
   ]
  },
  {
   "cell_type": "code",
   "execution_count": 12,
   "metadata": {},
   "outputs": [
    {
     "name": "stdout",
     "output_type": "stream",
     "text": [
      "Digital disruption\n",
      "in insurance:\n",
      "Cutting through\n",
      "the noise\n",
      "\f",
      "     Contents\n",
      "      Preface\t\t\t\t\t\t\t\t     \n"
     ]
    }
   ],
   "source": [
    "# print the file to check we have read it correctly\n",
    "print(textFromPdf2[0:100])"
   ]
  },
  {
   "cell_type": "markdown",
   "metadata": {},
   "source": [
    "## Process files with spacy and calculate their similarity"
   ]
  },
  {
   "cell_type": "code",
   "execution_count": 13,
   "metadata": {},
   "outputs": [],
   "source": [
    "# load spacy with large English model\n",
    "# nlp = spacy.load(\"en-core-web-lg\") -- was working on Windows, but now on a Mac\n",
    "import en_core_web_lg\n",
    "nlp = en_core_web_lg.load()"
   ]
  },
  {
   "cell_type": "code",
   "execution_count": 14,
   "metadata": {},
   "outputs": [],
   "source": [
    "# let us process the 2 files using spacy pipeline\n",
    "docpdf1=nlp(textFromPdf)\n",
    "docpdf2=nlp(textFromPdf2)"
   ]
  },
  {
   "cell_type": "code",
   "execution_count": 15,
   "metadata": {},
   "outputs": [
    {
     "data": {
      "text/plain": [
       "(300,)"
      ]
     },
     "execution_count": 15,
     "metadata": {},
     "output_type": "execute_result"
    }
   ],
   "source": [
    "# let us check the document vector shape\n",
    "docpdf1.vector.shape"
   ]
  },
  {
   "cell_type": "code",
   "execution_count": 16,
   "metadata": {},
   "outputs": [
    {
     "data": {
      "text/plain": [
       "0.9921302780761528"
      ]
     },
     "execution_count": 16,
     "metadata": {},
     "output_type": "execute_result"
    }
   ],
   "source": [
    "# calculate document similarity with spacy function\n",
    "docpdf1.similarity(docpdf2)"
   ]
  },
  {
   "cell_type": "code",
   "execution_count": 17,
   "metadata": {},
   "outputs": [
    {
     "data": {
      "text/plain": [
       "6.7858405"
      ]
     },
     "execution_count": 17,
     "metadata": {},
     "output_type": "execute_result"
    }
   ],
   "source": [
    "# document similarity can also be calculated by multiplying the document vectors. we will use this later on\n",
    "np.dot(docpdf1.vector,docpdf2.vector)"
   ]
  },
  {
   "cell_type": "markdown",
   "metadata": {},
   "source": [
    "## Process all directory files with spacy"
   ]
  },
  {
   "cell_type": "code",
   "execution_count": 18,
   "metadata": {},
   "outputs": [],
   "source": [
    "# helper function to process documents in an apply function and return the nlp object\n",
    "def processDoc(doc):\n",
    "    return nlp(doc)"
   ]
  },
  {
   "cell_type": "code",
   "execution_count": 19,
   "metadata": {},
   "outputs": [],
   "source": [
    "# let us scan the full directory, read PDF and PPT documents, clean them and process them with spacy\n",
    "\n",
    "docName=[]\n",
    "docType=[]\n",
    "docText=[]\n",
    "docNLP=[]\n",
    "import glob\n",
    "list_of_files = glob.glob(path+'*.pdf')           # create the list of file\n",
    "fileNames=[]\n",
    "for file_name in list_of_files:\n",
    "    fileText=readPdfFile(file_name)\n",
    "    docName.append(file_name)\n",
    "    docType.append('pdf')\n",
    "    docText.append(fileText)\n",
    "list_of_files = glob.glob(path+'*.pptx')           # create the list of file\n",
    "for file_name in list_of_files:\n",
    "    fileText=readPPTFile(file_name)\n",
    "    docName.append(file_name)\n",
    "    docType.append('ppt')\n",
    "    docText.append(fileText)\n",
    "fullDocs = pd.DataFrame({'Name':docName,'Type':docType,'Text':docText})\n",
    "fullDocs['cleanText']=hero.clean(fullDocs['Text'])\n",
    "fullDocs['NLP']=fullDocs['cleanText'].apply(processDoc)"
   ]
  },
  {
   "cell_type": "code",
   "execution_count": 20,
   "metadata": {},
   "outputs": [
    {
     "name": "stdout",
     "output_type": "stream",
     "text": [
      "Average length of text:197501.375\n",
      "Min length of text:17987\n",
      "Max length of text:464271\n"
     ]
    }
   ],
   "source": [
    " print (\"Average length of text:\" + str((np.mean(fullDocs['Text'].str.len()))))\n",
    " print (\"Min length of text:\" + str((np.min(fullDocs['Text'].str.len()))))\n",
    " print (\"Max length of text:\" + str((np.max(fullDocs['Text'].str.len()))))"
   ]
  },
  {
   "cell_type": "code",
   "execution_count": 21,
   "metadata": {},
   "outputs": [
    {
     "data": {
      "text/html": [
       "<div>\n",
       "<style scoped>\n",
       "    .dataframe tbody tr th:only-of-type {\n",
       "        vertical-align: middle;\n",
       "    }\n",
       "\n",
       "    .dataframe tbody tr th {\n",
       "        vertical-align: top;\n",
       "    }\n",
       "\n",
       "    .dataframe thead th {\n",
       "        text-align: right;\n",
       "    }\n",
       "</style>\n",
       "<table border=\"1\" class=\"dataframe\">\n",
       "  <thead>\n",
       "    <tr style=\"text-align: right;\">\n",
       "      <th></th>\n",
       "      <th>Name</th>\n",
       "      <th>Type</th>\n",
       "      <th>Text</th>\n",
       "      <th>cleanText</th>\n",
       "      <th>NLP</th>\n",
       "      <th>text_word_count</th>\n",
       "      <th>text_unique_words</th>\n",
       "    </tr>\n",
       "  </thead>\n",
       "  <tbody>\n",
       "    <tr>\n",
       "      <th>0</th>\n",
       "      <td>/users/patrickrotzetter/OneDrive/Documents/sam...</td>\n",
       "      <td>pdf</td>\n",
       "      <td>Application of AI, Insurtech and Real Estate\\n...</td>\n",
       "      <td>application ai insurtech real estate technolog...</td>\n",
       "      <td>(application, ai, insurtech, real, estate, tec...</td>\n",
       "      <td>3732</td>\n",
       "      <td>1509</td>\n",
       "    </tr>\n",
       "    <tr>\n",
       "      <th>1</th>\n",
       "      <td>/users/patrickrotzetter/OneDrive/Documents/sam...</td>\n",
       "      <td>pdf</td>\n",
       "      <td>Technology and\\ninnovation in the\\ninsurance s...</td>\n",
       "      <td>technology innovation insurance sector technol...</td>\n",
       "      <td>(technology, innovation, insurance, sector, te...</td>\n",
       "      <td>16763</td>\n",
       "      <td>4237</td>\n",
       "    </tr>\n",
       "    <tr>\n",
       "      <th>2</th>\n",
       "      <td>/users/patrickrotzetter/OneDrive/Documents/sam...</td>\n",
       "      <td>pdf</td>\n",
       "      <td>No 5 /2020\\n\\n\\n\\n\\n...</td>\n",
       "      <td>machine intelligence executive summary machine...</td>\n",
       "      <td>(machine, intelligence, executive, summary, ma...</td>\n",
       "      <td>14512</td>\n",
       "      <td>4342</td>\n",
       "    </tr>\n",
       "    <tr>\n",
       "      <th>3</th>\n",
       "      <td>/users/patrickrotzetter/OneDrive/Documents/sam...</td>\n",
       "      <td>pdf</td>\n",
       "      <td>Issues Paper on Increasing Digitalisatio...</td>\n",
       "      <td>issues paper increasing digitalisation insuran...</td>\n",
       "      <td>(issues, paper, increasing, digitalisation, in...</td>\n",
       "      <td>15390</td>\n",
       "      <td>3685</td>\n",
       "    </tr>\n",
       "    <tr>\n",
       "      <th>4</th>\n",
       "      <td>/users/patrickrotzetter/OneDrive/Documents/sam...</td>\n",
       "      <td>pdf</td>\n",
       "      <td>Digital disruption\\nin insurance:\\nCutting thr...</td>\n",
       "      <td>digital disruption insurance cutting noise con...</td>\n",
       "      <td>(digital, disruption, insurance, cutting, nois...</td>\n",
       "      <td>34531</td>\n",
       "      <td>7067</td>\n",
       "    </tr>\n",
       "  </tbody>\n",
       "</table>\n",
       "</div>"
      ],
      "text/plain": [
       "                                                Name Type  \\\n",
       "0  /users/patrickrotzetter/OneDrive/Documents/sam...  pdf   \n",
       "1  /users/patrickrotzetter/OneDrive/Documents/sam...  pdf   \n",
       "2  /users/patrickrotzetter/OneDrive/Documents/sam...  pdf   \n",
       "3  /users/patrickrotzetter/OneDrive/Documents/sam...  pdf   \n",
       "4  /users/patrickrotzetter/OneDrive/Documents/sam...  pdf   \n",
       "\n",
       "                                                Text  \\\n",
       "0  Application of AI, Insurtech and Real Estate\\n...   \n",
       "1  Technology and\\ninnovation in the\\ninsurance s...   \n",
       "2                            No 5 /2020\\n\\n\\n\\n\\n...   \n",
       "3        Issues Paper on Increasing Digitalisatio...   \n",
       "4  Digital disruption\\nin insurance:\\nCutting thr...   \n",
       "\n",
       "                                           cleanText  \\\n",
       "0  application ai insurtech real estate technolog...   \n",
       "1  technology innovation insurance sector technol...   \n",
       "2  machine intelligence executive summary machine...   \n",
       "3  issues paper increasing digitalisation insuran...   \n",
       "4  digital disruption insurance cutting noise con...   \n",
       "\n",
       "                                                 NLP  text_word_count  \\\n",
       "0  (application, ai, insurtech, real, estate, tec...             3732   \n",
       "1  (technology, innovation, insurance, sector, te...            16763   \n",
       "2  (machine, intelligence, executive, summary, ma...            14512   \n",
       "3  (issues, paper, increasing, digitalisation, in...            15390   \n",
       "4  (digital, disruption, insurance, cutting, nois...            34531   \n",
       "\n",
       "   text_unique_words  \n",
       "0               1509  \n",
       "1               4237  \n",
       "2               4342  \n",
       "3               3685  \n",
       "4               7067  "
      ]
     },
     "execution_count": 21,
     "metadata": {},
     "output_type": "execute_result"
    }
   ],
   "source": [
    "fullDocs['text_word_count'] = fullDocs['Text'].apply(lambda x: len(x.strip().split()))  # word count\n",
    "fullDocs['text_unique_words']=fullDocs['Text'].apply(lambda x:len(set(str(x).split())))  # number of unique words\n",
    "fullDocs.head()"
   ]
  },
  {
   "cell_type": "code",
   "execution_count": 22,
   "metadata": {},
   "outputs": [
    {
     "name": "stdout",
     "output_type": "stream",
     "text": [
      "<class 'pandas.core.frame.DataFrame'>\n",
      "RangeIndex: 8 entries, 0 to 7\n",
      "Data columns (total 7 columns):\n",
      " #   Column             Non-Null Count  Dtype \n",
      "---  ------             --------------  ----- \n",
      " 0   Name               8 non-null      object\n",
      " 1   Type               8 non-null      object\n",
      " 2   Text               8 non-null      object\n",
      " 3   cleanText          8 non-null      object\n",
      " 4   NLP                8 non-null      object\n",
      " 5   text_word_count    8 non-null      int64 \n",
      " 6   text_unique_words  8 non-null      int64 \n",
      "dtypes: int64(2), object(5)\n",
      "memory usage: 576.0+ bytes\n"
     ]
    }
   ],
   "source": [
    "fullDocs.info()"
   ]
  },
  {
   "cell_type": "code",
   "execution_count": 23,
   "metadata": {},
   "outputs": [
    {
     "data": {
      "text/html": [
       "<div>\n",
       "<style scoped>\n",
       "    .dataframe tbody tr th:only-of-type {\n",
       "        vertical-align: middle;\n",
       "    }\n",
       "\n",
       "    .dataframe tbody tr th {\n",
       "        vertical-align: top;\n",
       "    }\n",
       "\n",
       "    .dataframe thead th {\n",
       "        text-align: right;\n",
       "    }\n",
       "</style>\n",
       "<table border=\"1\" class=\"dataframe\">\n",
       "  <thead>\n",
       "    <tr style=\"text-align: right;\">\n",
       "      <th></th>\n",
       "      <th>text_word_count</th>\n",
       "      <th>text_unique_words</th>\n",
       "    </tr>\n",
       "  </thead>\n",
       "  <tbody>\n",
       "    <tr>\n",
       "      <th>count</th>\n",
       "      <td>8.000000</td>\n",
       "      <td>8.00000</td>\n",
       "    </tr>\n",
       "    <tr>\n",
       "      <th>mean</th>\n",
       "      <td>19507.500000</td>\n",
       "      <td>4453.50000</td>\n",
       "    </tr>\n",
       "    <tr>\n",
       "      <th>std</th>\n",
       "      <td>15720.754226</td>\n",
       "      <td>2531.36073</td>\n",
       "    </tr>\n",
       "    <tr>\n",
       "      <th>min</th>\n",
       "      <td>2502.000000</td>\n",
       "      <td>1006.00000</td>\n",
       "    </tr>\n",
       "    <tr>\n",
       "      <th>25%</th>\n",
       "      <td>11817.000000</td>\n",
       "      <td>3141.00000</td>\n",
       "    </tr>\n",
       "    <tr>\n",
       "      <th>50%</th>\n",
       "      <td>16076.500000</td>\n",
       "      <td>4289.50000</td>\n",
       "    </tr>\n",
       "    <tr>\n",
       "      <th>75%</th>\n",
       "      <td>22771.000000</td>\n",
       "      <td>5756.75000</td>\n",
       "    </tr>\n",
       "    <tr>\n",
       "      <th>max</th>\n",
       "      <td>49779.000000</td>\n",
       "      <td>8462.00000</td>\n",
       "    </tr>\n",
       "  </tbody>\n",
       "</table>\n",
       "</div>"
      ],
      "text/plain": [
       "       text_word_count  text_unique_words\n",
       "count         8.000000            8.00000\n",
       "mean      19507.500000         4453.50000\n",
       "std       15720.754226         2531.36073\n",
       "min        2502.000000         1006.00000\n",
       "25%       11817.000000         3141.00000\n",
       "50%       16076.500000         4289.50000\n",
       "75%       22771.000000         5756.75000\n",
       "max       49779.000000         8462.00000"
      ]
     },
     "execution_count": 23,
     "metadata": {},
     "output_type": "execute_result"
    }
   ],
   "source": [
    "fullDocs.describe()"
   ]
  },
  {
   "cell_type": "markdown",
   "metadata": {},
   "source": [
    "## Word count and most common words and nouns"
   ]
  },
  {
   "cell_type": "code",
   "execution_count": 24,
   "metadata": {},
   "outputs": [
    {
     "name": "stdout",
     "output_type": "stream",
     "text": [
      "ADJ 546 digital\n",
      "ADP 134 across\n",
      "ADV 421 also\n",
      "AUX 14 get\n",
      "CCONJ 33 yet\n",
      "DET 72 another\n",
      "INTJ 20 ai\n",
      "NOUN 1375 data\n",
      "NUM 208 one\n",
      "PART 471 '\n",
      "PRON 36 us\n",
      "PROPN 533 ai\n",
      "PUNCT 867 \"\n",
      "SCONJ 73 whether\n",
      "SYM 3 x\n",
      "VERB 376 based\n",
      "X 30 ml\n"
     ]
    }
   ],
   "source": [
    "# let us look most used words for each part of speech\n",
    "from collections import defaultdict, Counter\n",
    "\n",
    "posCounts = defaultdict(Counter)\n",
    "\n",
    "for doc in fullDocs.NLP:\n",
    "    for token in doc:\n",
    "        posCounts[token.pos][token.orth] += 1\n",
    "\n",
    "for pos_id, counts in sorted(posCounts.items()):\n",
    "    pos = doc.vocab.strings[pos_id]\n",
    "    for orth_id, count in counts.most_common(1):\n",
    "        print(pos, count, doc.vocab.strings[orth_id])"
   ]
  },
  {
   "cell_type": "code",
   "execution_count": 25,
   "metadata": {},
   "outputs": [],
   "source": [
    "# add some common words to stop wordds that may not add much context\n",
    "from spacy.lang.en.stop_words import STOP_WORDS\n",
    "customStopWords = [\n",
    "    'insurance','insurer','customer','technology','datum']\n",
    "\n",
    "for w in customStopWords:\n",
    "    if w not in STOP_WORDS:\n",
    "        STOP_WORDS.add(w)"
   ]
  },
  {
   "cell_type": "code",
   "execution_count": 26,
   "metadata": {},
   "outputs": [
    {
     "name": "stdout",
     "output_type": "stream",
     "text": [
      "[('risk', 503), ('right', 492), ('system', 485), ('business', 432), ('product', 399), ('example', 390), ('company', 366), ('use', 343), ('consumer', 343), ('data', 335), ('model', 331), ('service', 330), ('information', 310), ('case', 290), ('decision', 289), ('process', 281), ('protection', 269), ('value', 259), ('impact', 259), ('claim', 250)]\n"
     ]
    }
   ],
   "source": [
    "# get most common nouns\n",
    "from collections import defaultdict, Counter\n",
    "from spacy.symbols import nsubj, VERB, dobj, NOUN, root, xcomp, PROPN, NUM,SYM\n",
    "# all tokens that arent stop words or punctuations\n",
    "words=[]\n",
    "for doc in fullDocs.NLP:\n",
    "    words += [token.lemma_ for token in doc if token.pos==NOUN and (not token.lemma_ in STOP_WORDS)] \n",
    "# five most common tokens\n",
    "wordFreq = Counter(words)\n",
    "commonWords = wordFreq.most_common(20)\n",
    "print(commonWords)"
   ]
  },
  {
   "cell_type": "code",
   "execution_count": 27,
   "metadata": {},
   "outputs": [
    {
     "data": {
      "text/plain": [
       "<AxesSubplot:>"
      ]
     },
     "execution_count": 27,
     "metadata": {},
     "output_type": "execute_result"
    },
    {
     "data": {
      "image/png": "[encoded data removed]",
      "text/plain": [
       "<Figure size 432x288 with 1 Axes>"
      ]
     },
     "metadata": {
      "needs_background": "light"
     },
     "output_type": "display_data"
    }
   ],
   "source": [
    "import seaborn as sns\n",
    "\n",
    "\n",
    "x, y= [], []\n",
    "for word,count in commonWords[:20]:\n",
    "        x.append(word)\n",
    "        y.append(count)\n",
    "        \n",
    "sns.barplot(x=y,y=x)"
   ]
  },
  {
   "cell_type": "code",
   "execution_count": 28,
   "metadata": {},
   "outputs": [
    {
     "name": "stdout",
     "output_type": "stream",
     "text": [
      "[('ai', 533), ('eu', 267), ('insurtech', 172), ('european', 164), ('mi', 163), ('data', 162), ('swiss', 148), ('digital', 103), ('sigma', 98), ('institute', 91), ('committee', 74), ('council', 74), ('fra', 68), ('gdpr', 67), ('mckinsey', 67), ('protection', 66), ('commission', 62), ('iais', 61), ('com', 59), ('iot', 58)]\n"
     ]
    }
   ],
   "source": [
    "# get most common proper nouns\n",
    "from collections import defaultdict, Counter\n",
    "from spacy.symbols import nsubj, VERB, dobj, NOUN, root, xcomp, PROPN, NUM,SYM\n",
    "# all tokens that arent stop words or punctuations\n",
    "words=[]\n",
    "for doc in fullDocs.NLP:\n",
    "    \n",
    "    words += [token.lemma_ for token in doc if token.pos==PROPN and (not token.lemma_ in STOP_WORDS)\\\n",
    "             and (len(token)>1)] \n",
    "\n",
    "\n",
    "# five most common tokens\n",
    "wordFreq = Counter(words)\n",
    "commonWords = wordFreq.most_common(20)\n",
    "print(commonWords)"
   ]
  },
  {
   "cell_type": "code",
   "execution_count": 29,
   "metadata": {},
   "outputs": [
    {
     "data": {
      "text/plain": [
       "<AxesSubplot:>"
      ]
     },
     "execution_count": 29,
     "metadata": {},
     "output_type": "execute_result"
    },
    {
     "data": {
      "image/png": "[encoded data removed]",
      "text/plain": [
       "<Figure size 432x288 with 1 Axes>"
      ]
     },
     "metadata": {
      "needs_background": "light"
     },
     "output_type": "display_data"
    }
   ],
   "source": [
    "import seaborn as sns\n",
    "\n",
    "\n",
    "x, y= [], []\n",
    "for word,count in commonWords[:20]:\n",
    "        x.append(word)\n",
    "        y.append(count)\n",
    "        \n",
    "sns.barplot(x=y,y=x)"
   ]
  },
  {
   "cell_type": "code",
   "execution_count": 30,
   "metadata": {},
   "outputs": [
    {
     "name": "stdout",
     "output_type": "stream",
     "text": [
      "[('eu', 205), ('insurtech', 76), ('iais executive committee', 36), ('oecd', 27), ('mckinsey', 26), ('fra', 25), ('gdpr', 22), ('digital', 21), ('ec', 19), ('fca', 17), ('regtech', 13), ('luxembourg publications office', 13), ('dlt', 11), ('european commission', 11), ('allianz', 10), ('alibaba', 10), ('accenture', 9), ('q4', 9), ('cb', 9), ('rpa', 9), ('capgemini world', 8), ('facebook', 8), ('coe', 8), ('adobe', 8), ('aviva', 7), ('cdo', 7), ('google', 7), ('swiss sigma', 7), ('amazon', 7), ('bima', 6), ('european union', 6), ('mi', 6), ('roi', 6), ('european council', 6), ('mvp', 6), ('echr', 6), ('fintech', 5), ('g20', 5), ('axa', 5), ('ftc', 5)]\n"
     ]
    }
   ],
   "source": [
    "# most frequest ORG entities\n",
    "entities=[]\n",
    "for doc in fullDocs.NLP:\n",
    "    # all entities\n",
    "    for ent in doc.ents:\n",
    "        #print(ent.text)\n",
    "        if ent.label_ == 'ORG':\n",
    "            if ent.text not in STOP_WORDS:\n",
    "                entities += [ent.text]\n",
    "entityFreq = Counter(entities)\n",
    "commonEntities = entityFreq.most_common(40)\n",
    "print(commonEntities)"
   ]
  },
  {
   "cell_type": "code",
   "execution_count": 31,
   "metadata": {},
   "outputs": [
    {
     "data": {
      "text/plain": [
       "<AxesSubplot:>"
      ]
     },
     "execution_count": 31,
     "metadata": {},
     "output_type": "execute_result"
    },
    {
     "data": {
      "image/png": "[encoded data removed]",
      "text/plain": [
       "<Figure size 432x288 with 1 Axes>"
      ]
     },
     "metadata": {
      "needs_background": "light"
     },
     "output_type": "display_data"
    }
   ],
   "source": [
    "import seaborn as sns\n",
    "\n",
    "\n",
    "x, y= [], []\n",
    "for word,count in commonEntities[:20]:\n",
    "        x.append(word)\n",
    "        y.append(count)\n",
    "        \n",
    "sns.barplot(x=y,y=x)"
   ]
  },
  {
   "cell_type": "code",
   "execution_count": 32,
   "metadata": {},
   "outputs": [
    {
     "name": "stdout",
     "output_type": "stream",
     "text": [
      "[('leslie willcocks', 10), ('fra', 10), ('dpia', 8), ('bima', 6), ('tanguy catlin', 6), ('andrew brem', 6), ('emr ehr', 5), ('christopher geczy', 4), ('bafin', 4), ('holger wilms', 4), ('eurobarometer', 4), ('christopher morrison', 3), ('johannes tobias lorenz', 3), ('bjorn munstermann', 3), ('tobias lorenz', 3), ('scott simony', 3), ('sartor giovanni', 3), ('christopher geczy phd', 2), ('tina rosenberg', 2), ('com bima', 2), ('dan ariely', 2), ('acord', 2), ('iais', 2), ('moore', 2), ('willis towers', 2), ('robo', 2), ('evia', 2), ('sandeep bakshi', 2), ('matthew donaldson', 2), ('ido segev', 2), ('mendel', 2), ('nauto', 2), ('parker shi', 2), ('oliver bate', 2), ('david stachon', 2), ('christopher', 2), ('markus loffler', 2), ('leslie willcocks rpa', 2), ('clara shih', 2), ('marcus ryu co', 2)]\n"
     ]
    }
   ],
   "source": [
    "# most frequest PERSON entities\n",
    "entities=[]\n",
    "for doc in fullDocs.NLP:\n",
    "    # all entities\n",
    "    for ent in doc.ents:\n",
    "        #print(ent.text)\n",
    "        if ent.label_ == 'PERSON':\n",
    "            if ent.text not in STOP_WORDS:\n",
    "                entities += [ent.text]\n",
    "entityFreq = Counter(entities)\n",
    "commonEntities = entityFreq.most_common(40)\n",
    "print(commonEntities)"
   ]
  },
  {
   "cell_type": "code",
   "execution_count": 33,
   "metadata": {},
   "outputs": [
    {
     "data": {
      "text/plain": [
       "<AxesSubplot:>"
      ]
     },
     "execution_count": 33,
     "metadata": {},
     "output_type": "execute_result"
    },
    {
     "data": {
      "image/png": "[encoded data removed]",
      "text/plain": [
       "<Figure size 432x288 with 1 Axes>"
      ]
     },
     "metadata": {
      "needs_background": "light"
     },
     "output_type": "display_data"
    }
   ],
   "source": [
    "import seaborn as sns\n",
    "\n",
    "\n",
    "x, y= [], []\n",
    "for word,count in commonEntities[:20]:\n",
    "        x.append(word)\n",
    "        y.append(count)\n",
    "        \n",
    "sns.barplot(x=y,y=x)"
   ]
  }
 ],
 "metadata": {
  "kernelspec": {
   "display_name": "Python 3",
   "language": "python",
   "name": "python3"
  },
  "language_info": {
   "codemirror_mode": {
    "name": "ipython",
    "version": 3
   },
   "file_extension": ".py",
   "mimetype": "text/x-python",
   "name": "python",
   "nbconvert_exporter": "python",
   "pygments_lexer": "ipython3",
   "version": "3.8.5"
  }
 },
 "nbformat": 4,
 "nbformat_minor": 4
}
