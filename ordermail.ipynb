{
 "cells": [
  {
   "cell_type": "markdown",
   "metadata": {
    "id": "U_P9Vs_7pLmh"
   },
   "source": [
    "Created on March 21st 2020 by Patrick Rotzetter\n",
    "Last update on Feb 28th 2021\n",
    "\n",
    "protzetter@bluewin.ch\n",
    "https://www.linkedin.com/in/rotzetter/\n",
    "\n",
    "**Small experiment for order mail processing**\n",
    "\n",
    "\n"
   ]
  },
  {
   "cell_type": "code",
   "execution_count": 1,
   "metadata": {
    "id": "qPF1dXXBpLm4"
   },
   "outputs": [],
   "source": [
    "# Import libraries\n",
    "import spacy\n",
    "from spacy.pipeline import EntityRuler\n",
    "from spacy.matcher import Matcher,PhraseMatcher\n",
    "from spacy.symbols import nsubj, VERB, dobj, NOUN, root, xcomp\n",
    "from spacy import displacy\n",
    "from spacy.matcher import Matcher\n",
    "from pathlib import Path\n",
    "import random  "
   ]
  },
  {
   "cell_type": "code",
   "execution_count": 2,
   "metadata": {
    "id": "GixaCyvwaHTZ"
   },
   "outputs": [],
   "source": [
    "# load spacy model latets modle based on pre-trained transformer model Roberta\n",
    "# check spacy documentation for installation instructions\n",
    "\n",
    "from spacy.lang.en import English\n",
    "import en_core_web_trf\n",
    "nlp = en_core_web_trf.load()"
   ]
  },
  {
   "cell_type": "code",
   "execution_count": 3,
   "metadata": {
    "colab": {
     "base_uri": "https://localhost:8080/"
    },
    "id": "mlh4tq5ppLnD",
    "outputId": "1be2524a-1438-4453-de6f-801e27860255"
   },
   "outputs": [
    {
     "name": "stdout",
     "output_type": "stream",
     "text": [
      "Hello,  I would like to order a notebook with 16GB and 256 GB disk, I would like to spend less than 1000 Francs, what would be the options  Thanks a lot  Patrick\n"
     ]
    }
   ],
   "source": [
    "#read order dialog file\n",
    "\n",
    "text = 'Hello,  I would like to order a notebook with 16GB and 256 GB disk, I would like to spend less than 1000 Francs, what would be the options  Thanks a lot  Patrick'\n",
    "\n",
    "print(text)\n"
   ]
  },
  {
   "cell_type": "code",
   "execution_count": 4,
   "metadata": {
    "id": "MM2JLVdDpLnP"
   },
   "outputs": [],
   "source": [
    "#process the mail trough standard spacy pipeline\n",
    "doc=nlp(text)\n"
   ]
  },
  {
   "cell_type": "code",
   "execution_count": 5,
   "metadata": {
    "colab": {
     "base_uri": "https://localhost:8080/"
    },
    "id": "VfqjYwm-pLnY",
    "outputId": "0c0d80a5-c28a-4d64-9ee0-813346ff8b83"
   },
   "outputs": [
    {
     "name": "stdout",
     "output_type": "stream",
     "text": [
      "16GB QUANTITY\n",
      "256 GB QUANTITY\n",
      "less than 1000 Francs MONEY\n",
      "Patrick PERSON\n"
     ]
    }
   ],
   "source": [
    "# print text entities detected\n",
    "for ent in doc.ents :\n",
    "    print(ent.text, ent.label_,)\n"
   ]
  },
  {
   "cell_type": "code",
   "execution_count": 6,
   "metadata": {},
   "outputs": [
    {
     "data": {
      "text/html": [
       "<span class=\"tex2jax_ignore\"><div class=\"entities\" style=\"line-height: 2.5; direction: ltr\">Hello,  I would like to order a notebook with <mark class=\"entity\" style=\"background: #e4e7d2; padding: 0.45em 0.6em; margin: 0 0.25em; line-height: 1; border-radius: 0.35em;\">16GB<span style=\"font-size: 0.8em; font-weight: bold; line-height: 1; border-radius: 0.35em; vertical-align: middle; margin-left: 0.5rem\">QUANTITY</span></mark> and <mark class=\"entity\" style=\"background: #e4e7d2; padding: 0.45em 0.6em; margin: 0 0.25em; line-height: 1; border-radius: 0.35em;\">256 GB<span style=\"font-size: 0.8em; font-weight: bold; line-height: 1; border-radius: 0.35em; vertical-align: middle; margin-left: 0.5rem\">QUANTITY</span></mark> disk, I would like to spend <mark class=\"entity\" style=\"background: #e4e7d2; padding: 0.45em 0.6em; margin: 0 0.25em; line-height: 1; border-radius: 0.35em;\">less than 1000 Francs<span style=\"font-size: 0.8em; font-weight: bold; line-height: 1; border-radius: 0.35em; vertical-align: middle; margin-left: 0.5rem\">MONEY</span></mark>, what would be the options  Thanks a lot  <mark class=\"entity\" style=\"background: #aa9cfc; padding: 0.45em 0.6em; margin: 0 0.25em; line-height: 1; border-radius: 0.35em;\">Patrick<span style=\"font-size: 0.8em; font-weight: bold; line-height: 1; border-radius: 0.35em; vertical-align: middle; margin-left: 0.5rem\">PERSON</span></mark></div></span>"
      ],
      "text/plain": [
       "<IPython.core.display.HTML object>"
      ]
     },
     "metadata": {},
     "output_type": "display_data"
    }
   ],
   "source": [
    "#Let us visualize the result directly in the text\n",
    "displacy.render(doc, style='ent', minify=True)"
   ]
  },
  {
   "cell_type": "markdown",
   "metadata": {},
   "source": [
    "The default model does not seem to detect notebook and disk as entities, but identifies the sender as a person and identifies the RAM and disk size as quantities. This is a good start, but still far away from a practical solution. So, let us add some domain specific entities that will help us later on."
   ]
  },
  {
   "cell_type": "code",
   "execution_count": 7,
   "metadata": {
    "id": "ktTxXUv6pLnm"
   },
   "outputs": [],
   "source": [
    "# add domain specific entities and add to the pipeline\n",
    "patterns = [{\"label\": \"CURRENCY\", \"pattern\":  [{\"lower\": \"francs\"}]},\n",
    "            {\"label\": \"PART\", \"pattern\":  [{\"lower\": \"disk\"}]}]\n",
    "\n",
    "\n",
    "config = {\n",
    "   \"phrase_matcher_attr\": None,\n",
    "   \"validate\": True,\n",
    "   \"overwrite_ents\": True,\n",
    "   \"ent_id_sep\": \"||\",\n",
    "}\n",
    "ruler=nlp.add_pipe('entity_ruler',config=config)\n"
   ]
  },
  {
   "cell_type": "code",
   "execution_count": 8,
   "metadata": {},
   "outputs": [],
   "source": [
    "ruler.add_patterns(patterns)"
   ]
  },
  {
   "cell_type": "code",
   "execution_count": 9,
   "metadata": {
    "colab": {
     "base_uri": "https://localhost:8080/"
    },
    "id": "yGXjca-QpLnw",
    "outputId": "ce015e62-7de1-49e2-ee0f-5dc729a5162e"
   },
   "outputs": [
    {
     "name": "stdout",
     "output_type": "stream",
     "text": [
      "16GB QUANTITY\n",
      "256 GB QUANTITY\n",
      "disk PART\n",
      "Francs CURRENCY\n",
      "Patrick PERSON\n"
     ]
    }
   ],
   "source": [
    "#process the mail again with added entities\n",
    "doc=nlp(text)\n",
    "for ents in doc.ents:\n",
    "    # Print the entity text and its label\n",
    "    print(ents.text, ents.label_,)\n",
    "\n"
   ]
  },
  {
   "cell_type": "code",
   "execution_count": 10,
   "metadata": {
    "colab": {
     "base_uri": "https://localhost:8080/",
     "height": 109
    },
    "id": "PneiF9bEeN6Y",
    "outputId": "6742ffa1-a9e0-48fc-cc7d-970042baad12"
   },
   "outputs": [
    {
     "data": {
      "text/html": [
       "<span class=\"tex2jax_ignore\"><div class=\"entities\" style=\"line-height: 2.5; direction: ltr\">Hello,  I would like to order a notebook with <mark class=\"entity\" style=\"background: #e4e7d2; padding: 0.45em 0.6em; margin: 0 0.25em; line-height: 1; border-radius: 0.35em;\">16GB<span style=\"font-size: 0.8em; font-weight: bold; line-height: 1; border-radius: 0.35em; vertical-align: middle; margin-left: 0.5rem\">QUANTITY</span></mark> and <mark class=\"entity\" style=\"background: #e4e7d2; padding: 0.45em 0.6em; margin: 0 0.25em; line-height: 1; border-radius: 0.35em;\">256 GB<span style=\"font-size: 0.8em; font-weight: bold; line-height: 1; border-radius: 0.35em; vertical-align: middle; margin-left: 0.5rem\">QUANTITY</span></mark> <mark class=\"entity\" style=\"background: #ddd; padding: 0.45em 0.6em; margin: 0 0.25em; line-height: 1; border-radius: 0.35em;\">disk<span style=\"font-size: 0.8em; font-weight: bold; line-height: 1; border-radius: 0.35em; vertical-align: middle; margin-left: 0.5rem\">PART</span></mark>, I would like to spend less than 1000 <mark class=\"entity\" style=\"background: #ddd; padding: 0.45em 0.6em; margin: 0 0.25em; line-height: 1; border-radius: 0.35em;\">Francs<span style=\"font-size: 0.8em; font-weight: bold; line-height: 1; border-radius: 0.35em; vertical-align: middle; margin-left: 0.5rem\">CURRENCY</span></mark>, what would be the options  Thanks a lot  <mark class=\"entity\" style=\"background: #aa9cfc; padding: 0.45em 0.6em; margin: 0 0.25em; line-height: 1; border-radius: 0.35em;\">Patrick<span style=\"font-size: 0.8em; font-weight: bold; line-height: 1; border-radius: 0.35em; vertical-align: middle; margin-left: 0.5rem\">PERSON</span></mark></div></span>"
      ],
      "text/plain": [
       "<IPython.core.display.HTML object>"
      ]
     },
     "metadata": {},
     "output_type": "display_data"
    }
   ],
   "source": [
    "#Let us visualize the result directly in the text\n",
    "displacy.render(doc, style='ent', minify=True)"
   ]
  },
  {
   "cell_type": "code",
   "execution_count": 11,
   "metadata": {
    "colab": {
     "base_uri": "https://localhost:8080/"
    },
    "id": "KIMIRSvfpLn4",
    "outputId": "7d2b1736-124b-435b-fd4b-bcd2589bf0d6"
   },
   "outputs": [
    {
     "name": "stdout",
     "output_type": "stream",
     "text": [
      "16GB\n",
      "256 GB\n"
     ]
    }
   ],
   "source": [
    "# Let us try to identify specific phrases or sequence of words, for example to detect the memory size\n",
    "matcher = PhraseMatcher(nlp.vocab)\n",
    "terms = [\"16 GB\",\"256 GB\"]\n",
    "# Only run nlp.make_doc to speed things up\n",
    "patterns = [nlp.make_doc(t) for t in terms]\n",
    "matcher.add(\"MEMORY\", None, *patterns)\n",
    "\n",
    "doc = nlp(text)\n",
    "matches = matcher(doc)\n",
    "for match_id, start, end in matches:\n",
    "    span = doc[start:end]\n",
    "    print(span.text)"
   ]
  },
  {
   "cell_type": "code",
   "execution_count": 12,
   "metadata": {
    "colab": {
     "base_uri": "https://localhost:8080/"
    },
    "id": "S6f_65tpdU5B",
    "outputId": "aaa2c503-1cbc-4010-8b5e-220aa3241c7c"
   },
   "outputs": [
    {
     "name": "stdout",
     "output_type": "stream",
     "text": [
      "Hello intj be AUX [,,  ]\n",
      ", punct Hello INTJ []\n",
      "  dep Hello INTJ []\n",
      "I nsubj like VERB []\n",
      "would aux like VERB []\n",
      "like ccomp be AUX [I, would, order]\n",
      "to aux order VERB []\n",
      "order xcomp like VERB [to, notebook]\n",
      "a det notebook NOUN []\n",
      "notebook dobj order VERB [a, with]\n",
      "with prep notebook NOUN [GB, disk]\n",
      "16 nummod GB NOUN []\n",
      "GB pobj with ADP [16, and, GB]\n",
      "and cc GB NOUN []\n",
      "256 nummod GB NOUN []\n",
      "GB conj GB NOUN [256]\n",
      "disk pobj with ADP []\n",
      ", punct be AUX []\n",
      "I nsubj like VERB []\n",
      "would aux like VERB []\n",
      "like ccomp be AUX [I, would, spend]\n",
      "to aux spend VERB []\n",
      "spend xcomp like VERB [to, Francs]\n",
      "less amod 1000 NUM []\n",
      "than quantmod 1000 NUM []\n",
      "1000 nummod Francs NOUN [less, than]\n",
      "Francs dobj spend VERB [1000]\n",
      ", punct be AUX []\n",
      "what attr be AUX []\n",
      "would aux be AUX []\n",
      "be ROOT be AUX [Hello, like, ,, like, ,, what, would, options,  , Thanks]\n",
      "the det options NOUN []\n",
      "options attr be AUX [the]\n",
      "  dep be AUX []\n",
      "Thanks dep be AUX [lot]\n",
      "a det lot NOUN []\n",
      "lot npadvmod Thanks NOUN [a]\n",
      "  dep   SPACE [Patrick]\n",
      "Patrick npadvmod   SPACE []\n"
     ]
    }
   ],
   "source": [
    "# Part of speech tagging\n",
    "# This is where the trained pipeline and its statistical models come in, \n",
    "# which enable spaCy to make predictions of which tag or label most likely applies in this context\n",
    "for token in doc:\n",
    "  print(token.text, token.dep_, token.head.text, token.head.pos_,\n",
    "            [child for child in token.children])"
   ]
  },
  {
   "cell_type": "code",
   "execution_count": 13,
   "metadata": {
    "colab": {
     "base_uri": "https://localhost:8080/",
     "height": 528
    },
    "id": "7GVukhKHpLoC",
    "outputId": "3c774548-0595-4c42-b9a1-786b90a97226"
   },
   "outputs": [
    {
     "data": {
      "text/html": [
       "<span class=\"tex2jax_ignore\"><svg xmlns=\"http://www.w3.org/2000/svg\" xmlns:xlink=\"http://www.w3.org/1999/xlink\" xml:lang=\"en\" id=\"61c8d20d82b940eab93dfbcc31255478-0\" class=\"displacy\" width=\"6350\" height=\"837.0\" direction=\"ltr\" style=\"max-width: none; height: 837.0px; color: #000000; background: #ffffff; font-family: Arial; direction: ltr\"><text class=\"displacy-token\" fill=\"currentColor\" text-anchor=\"middle\" y=\"747.0\"><tspan class=\"displacy-word\" fill=\"currentColor\" x=\"50\">Hello,</tspan><tspan class=\"displacy-tag\" dy=\"2em\" fill=\"currentColor\" x=\"50\">INTJ</tspan></text><text class=\"displacy-token\" fill=\"currentColor\" text-anchor=\"middle\" y=\"747.0\"><tspan class=\"displacy-word\" fill=\"currentColor\" x=\"225\"> </tspan><tspan class=\"displacy-tag\" dy=\"2em\" fill=\"currentColor\" x=\"225\">SPACE</tspan></text><text class=\"displacy-token\" fill=\"currentColor\" text-anchor=\"middle\" y=\"747.0\"><tspan class=\"displacy-word\" fill=\"currentColor\" x=\"400\">I</tspan><tspan class=\"displacy-tag\" dy=\"2em\" fill=\"currentColor\" x=\"400\">PRON</tspan></text><text class=\"displacy-token\" fill=\"currentColor\" text-anchor=\"middle\" y=\"747.0\"><tspan class=\"displacy-word\" fill=\"currentColor\" x=\"575\">would</tspan><tspan class=\"displacy-tag\" dy=\"2em\" fill=\"currentColor\" x=\"575\">AUX</tspan></text><text class=\"displacy-token\" fill=\"currentColor\" text-anchor=\"middle\" y=\"747.0\"><tspan class=\"displacy-word\" fill=\"currentColor\" x=\"750\">like</tspan><tspan class=\"displacy-tag\" dy=\"2em\" fill=\"currentColor\" x=\"750\">VERB</tspan></text><text class=\"displacy-token\" fill=\"currentColor\" text-anchor=\"middle\" y=\"747.0\"><tspan class=\"displacy-word\" fill=\"currentColor\" x=\"925\">to</tspan><tspan class=\"displacy-tag\" dy=\"2em\" fill=\"currentColor\" x=\"925\">PART</tspan></text><text class=\"displacy-token\" fill=\"currentColor\" text-anchor=\"middle\" y=\"747.0\"><tspan class=\"displacy-word\" fill=\"currentColor\" x=\"1100\">order</tspan><tspan class=\"displacy-tag\" dy=\"2em\" fill=\"currentColor\" x=\"1100\">VERB</tspan></text><text class=\"displacy-token\" fill=\"currentColor\" text-anchor=\"middle\" y=\"747.0\"><tspan class=\"displacy-word\" fill=\"currentColor\" x=\"1275\">a</tspan><tspan class=\"displacy-tag\" dy=\"2em\" fill=\"currentColor\" x=\"1275\">DET</tspan></text><text class=\"displacy-token\" fill=\"currentColor\" text-anchor=\"middle\" y=\"747.0\"><tspan class=\"displacy-word\" fill=\"currentColor\" x=\"1450\">notebook</tspan><tspan class=\"displacy-tag\" dy=\"2em\" fill=\"currentColor\" x=\"1450\">NOUN</tspan></text><text class=\"displacy-token\" fill=\"currentColor\" text-anchor=\"middle\" y=\"747.0\"><tspan class=\"displacy-word\" fill=\"currentColor\" x=\"1625\">with</tspan><tspan class=\"displacy-tag\" dy=\"2em\" fill=\"currentColor\" x=\"1625\">ADP</tspan></text><text class=\"displacy-token\" fill=\"currentColor\" text-anchor=\"middle\" y=\"747.0\"><tspan class=\"displacy-word\" fill=\"currentColor\" x=\"1800\">16</tspan><tspan class=\"displacy-tag\" dy=\"2em\" fill=\"currentColor\" x=\"1800\">NUM</tspan></text><text class=\"displacy-token\" fill=\"currentColor\" text-anchor=\"middle\" y=\"747.0\"><tspan class=\"displacy-word\" fill=\"currentColor\" x=\"1975\">GB</tspan><tspan class=\"displacy-tag\" dy=\"2em\" fill=\"currentColor\" x=\"1975\">NOUN</tspan></text><text class=\"displacy-token\" fill=\"currentColor\" text-anchor=\"middle\" y=\"747.0\"><tspan class=\"displacy-word\" fill=\"currentColor\" x=\"2150\">and</tspan><tspan class=\"displacy-tag\" dy=\"2em\" fill=\"currentColor\" x=\"2150\">CCONJ</tspan></text><text class=\"displacy-token\" fill=\"currentColor\" text-anchor=\"middle\" y=\"747.0\"><tspan class=\"displacy-word\" fill=\"currentColor\" x=\"2325\">256</tspan><tspan class=\"displacy-tag\" dy=\"2em\" fill=\"currentColor\" x=\"2325\">NUM</tspan></text><text class=\"displacy-token\" fill=\"currentColor\" text-anchor=\"middle\" y=\"747.0\"><tspan class=\"displacy-word\" fill=\"currentColor\" x=\"2500\">GB</tspan><tspan class=\"displacy-tag\" dy=\"2em\" fill=\"currentColor\" x=\"2500\">NOUN</tspan></text><text class=\"displacy-token\" fill=\"currentColor\" text-anchor=\"middle\" y=\"747.0\"><tspan class=\"displacy-word\" fill=\"currentColor\" x=\"2675\">disk,</tspan><tspan class=\"displacy-tag\" dy=\"2em\" fill=\"currentColor\" x=\"2675\">NOUN</tspan></text><text class=\"displacy-token\" fill=\"currentColor\" text-anchor=\"middle\" y=\"747.0\"><tspan class=\"displacy-word\" fill=\"currentColor\" x=\"2850\">I</tspan><tspan class=\"displacy-tag\" dy=\"2em\" fill=\"currentColor\" x=\"2850\">PRON</tspan></text><text class=\"displacy-token\" fill=\"currentColor\" text-anchor=\"middle\" y=\"747.0\"><tspan class=\"displacy-word\" fill=\"currentColor\" x=\"3025\">would</tspan><tspan class=\"displacy-tag\" dy=\"2em\" fill=\"currentColor\" x=\"3025\">AUX</tspan></text><text class=\"displacy-token\" fill=\"currentColor\" text-anchor=\"middle\" y=\"747.0\"><tspan class=\"displacy-word\" fill=\"currentColor\" x=\"3200\">like</tspan><tspan class=\"displacy-tag\" dy=\"2em\" fill=\"currentColor\" x=\"3200\">VERB</tspan></text><text class=\"displacy-token\" fill=\"currentColor\" text-anchor=\"middle\" y=\"747.0\"><tspan class=\"displacy-word\" fill=\"currentColor\" x=\"3375\">to</tspan><tspan class=\"displacy-tag\" dy=\"2em\" fill=\"currentColor\" x=\"3375\">PART</tspan></text><text class=\"displacy-token\" fill=\"currentColor\" text-anchor=\"middle\" y=\"747.0\"><tspan class=\"displacy-word\" fill=\"currentColor\" x=\"3550\">spend</tspan><tspan class=\"displacy-tag\" dy=\"2em\" fill=\"currentColor\" x=\"3550\">VERB</tspan></text><text class=\"displacy-token\" fill=\"currentColor\" text-anchor=\"middle\" y=\"747.0\"><tspan class=\"displacy-word\" fill=\"currentColor\" x=\"3725\">less</tspan><tspan class=\"displacy-tag\" dy=\"2em\" fill=\"currentColor\" x=\"3725\">ADJ</tspan></text><text class=\"displacy-token\" fill=\"currentColor\" text-anchor=\"middle\" y=\"747.0\"><tspan class=\"displacy-word\" fill=\"currentColor\" x=\"3900\">than</tspan><tspan class=\"displacy-tag\" dy=\"2em\" fill=\"currentColor\" x=\"3900\">ADP</tspan></text><text class=\"displacy-token\" fill=\"currentColor\" text-anchor=\"middle\" y=\"747.0\"><tspan class=\"displacy-word\" fill=\"currentColor\" x=\"4075\">1000</tspan><tspan class=\"displacy-tag\" dy=\"2em\" fill=\"currentColor\" x=\"4075\">NUM</tspan></text><text class=\"displacy-token\" fill=\"currentColor\" text-anchor=\"middle\" y=\"747.0\"><tspan class=\"displacy-word\" fill=\"currentColor\" x=\"4250\">Francs,</tspan><tspan class=\"displacy-tag\" dy=\"2em\" fill=\"currentColor\" x=\"4250\">NOUN</tspan></text><text class=\"displacy-token\" fill=\"currentColor\" text-anchor=\"middle\" y=\"747.0\"><tspan class=\"displacy-word\" fill=\"currentColor\" x=\"4425\">what</tspan><tspan class=\"displacy-tag\" dy=\"2em\" fill=\"currentColor\" x=\"4425\">PRON</tspan></text><text class=\"displacy-token\" fill=\"currentColor\" text-anchor=\"middle\" y=\"747.0\"><tspan class=\"displacy-word\" fill=\"currentColor\" x=\"4600\">would</tspan><tspan class=\"displacy-tag\" dy=\"2em\" fill=\"currentColor\" x=\"4600\">AUX</tspan></text><text class=\"displacy-token\" fill=\"currentColor\" text-anchor=\"middle\" y=\"747.0\"><tspan class=\"displacy-word\" fill=\"currentColor\" x=\"4775\">be</tspan><tspan class=\"displacy-tag\" dy=\"2em\" fill=\"currentColor\" x=\"4775\">AUX</tspan></text><text class=\"displacy-token\" fill=\"currentColor\" text-anchor=\"middle\" y=\"747.0\"><tspan class=\"displacy-word\" fill=\"currentColor\" x=\"4950\">the</tspan><tspan class=\"displacy-tag\" dy=\"2em\" fill=\"currentColor\" x=\"4950\">DET</tspan></text><text class=\"displacy-token\" fill=\"currentColor\" text-anchor=\"middle\" y=\"747.0\"><tspan class=\"displacy-word\" fill=\"currentColor\" x=\"5125\">options</tspan><tspan class=\"displacy-tag\" dy=\"2em\" fill=\"currentColor\" x=\"5125\">NOUN</tspan></text><text class=\"displacy-token\" fill=\"currentColor\" text-anchor=\"middle\" y=\"747.0\"><tspan class=\"displacy-word\" fill=\"currentColor\" x=\"5300\"> </tspan><tspan class=\"displacy-tag\" dy=\"2em\" fill=\"currentColor\" x=\"5300\">SPACE</tspan></text><text class=\"displacy-token\" fill=\"currentColor\" text-anchor=\"middle\" y=\"747.0\"><tspan class=\"displacy-word\" fill=\"currentColor\" x=\"5475\">Thanks</tspan><tspan class=\"displacy-tag\" dy=\"2em\" fill=\"currentColor\" x=\"5475\">NOUN</tspan></text><text class=\"displacy-token\" fill=\"currentColor\" text-anchor=\"middle\" y=\"747.0\"><tspan class=\"displacy-word\" fill=\"currentColor\" x=\"5650\">a</tspan><tspan class=\"displacy-tag\" dy=\"2em\" fill=\"currentColor\" x=\"5650\">DET</tspan></text><text class=\"displacy-token\" fill=\"currentColor\" text-anchor=\"middle\" y=\"747.0\"><tspan class=\"displacy-word\" fill=\"currentColor\" x=\"5825\">lot</tspan><tspan class=\"displacy-tag\" dy=\"2em\" fill=\"currentColor\" x=\"5825\">NOUN</tspan></text><text class=\"displacy-token\" fill=\"currentColor\" text-anchor=\"middle\" y=\"747.0\"><tspan class=\"displacy-word\" fill=\"currentColor\" x=\"6000\"> </tspan><tspan class=\"displacy-tag\" dy=\"2em\" fill=\"currentColor\" x=\"6000\">SPACE</tspan></text><text class=\"displacy-token\" fill=\"currentColor\" text-anchor=\"middle\" y=\"747.0\"><tspan class=\"displacy-word\" fill=\"currentColor\" x=\"6175\">Patrick</tspan><tspan class=\"displacy-tag\" dy=\"2em\" fill=\"currentColor\" x=\"6175\">PROPN</tspan></text><g class=\"displacy-arrow\"><path class=\"displacy-arc\" id=\"arrow-61c8d20d82b940eab93dfbcc31255478-0-0\" stroke-width=\"2px\" d=\"M70,702.0 C70,2.0 4775.0,2.0 4775.0,702.0\" fill=\"none\" stroke=\"currentColor\"/><text dy=\"1.25em\" style=\"font-size: 0.8em; letter-spacing: 1px\"><textPath xlink:href=\"#arrow-61c8d20d82b940eab93dfbcc31255478-0-0\" class=\"displacy-label\" startOffset=\"50%\" side=\"left\" fill=\"currentColor\" text-anchor=\"middle\">intj</textPath></text><path class=\"displacy-arrowhead\" d=\"M70,704.0 L62,692.0 78,692.0\" fill=\"currentColor\"/></g><g class=\"displacy-arrow\"><path class=\"displacy-arc\" id=\"arrow-61c8d20d82b940eab93dfbcc31255478-0-1\" stroke-width=\"2px\" d=\"M70,702.0 C70,614.5 190.0,614.5 190.0,702.0\" fill=\"none\" stroke=\"currentColor\"/><text dy=\"1.25em\" style=\"font-size: 0.8em; letter-spacing: 1px\"><textPath xlink:href=\"#arrow-61c8d20d82b940eab93dfbcc31255478-0-1\" class=\"displacy-label\" startOffset=\"50%\" side=\"left\" fill=\"currentColor\" text-anchor=\"middle\">dep</textPath></text><path class=\"displacy-arrowhead\" d=\"M190.0,704.0 L198.0,692.0 182.0,692.0\" fill=\"currentColor\"/></g><g class=\"displacy-arrow\"><path class=\"displacy-arc\" id=\"arrow-61c8d20d82b940eab93dfbcc31255478-0-2\" stroke-width=\"2px\" d=\"M420,702.0 C420,527.0 720.0,527.0 720.0,702.0\" fill=\"none\" stroke=\"currentColor\"/><text dy=\"1.25em\" style=\"font-size: 0.8em; letter-spacing: 1px\"><textPath xlink:href=\"#arrow-61c8d20d82b940eab93dfbcc31255478-0-2\" class=\"displacy-label\" startOffset=\"50%\" side=\"left\" fill=\"currentColor\" text-anchor=\"middle\">nsubj</textPath></text><path class=\"displacy-arrowhead\" d=\"M420,704.0 L412,692.0 428,692.0\" fill=\"currentColor\"/></g><g class=\"displacy-arrow\"><path class=\"displacy-arc\" id=\"arrow-61c8d20d82b940eab93dfbcc31255478-0-3\" stroke-width=\"2px\" d=\"M595,702.0 C595,614.5 715.0,614.5 715.0,702.0\" fill=\"none\" stroke=\"currentColor\"/><text dy=\"1.25em\" style=\"font-size: 0.8em; letter-spacing: 1px\"><textPath xlink:href=\"#arrow-61c8d20d82b940eab93dfbcc31255478-0-3\" class=\"displacy-label\" startOffset=\"50%\" side=\"left\" fill=\"currentColor\" text-anchor=\"middle\">aux</textPath></text><path class=\"displacy-arrowhead\" d=\"M595,704.0 L587,692.0 603,692.0\" fill=\"currentColor\"/></g><g class=\"displacy-arrow\"><path class=\"displacy-arc\" id=\"arrow-61c8d20d82b940eab93dfbcc31255478-0-4\" stroke-width=\"2px\" d=\"M770,702.0 C770,89.5 4770.0,89.5 4770.0,702.0\" fill=\"none\" stroke=\"currentColor\"/><text dy=\"1.25em\" style=\"font-size: 0.8em; letter-spacing: 1px\"><textPath xlink:href=\"#arrow-61c8d20d82b940eab93dfbcc31255478-0-4\" class=\"displacy-label\" startOffset=\"50%\" side=\"left\" fill=\"currentColor\" text-anchor=\"middle\">ccomp</textPath></text><path class=\"displacy-arrowhead\" d=\"M770,704.0 L762,692.0 778,692.0\" fill=\"currentColor\"/></g><g class=\"displacy-arrow\"><path class=\"displacy-arc\" id=\"arrow-61c8d20d82b940eab93dfbcc31255478-0-5\" stroke-width=\"2px\" d=\"M945,702.0 C945,614.5 1065.0,614.5 1065.0,702.0\" fill=\"none\" stroke=\"currentColor\"/><text dy=\"1.25em\" style=\"font-size: 0.8em; letter-spacing: 1px\"><textPath xlink:href=\"#arrow-61c8d20d82b940eab93dfbcc31255478-0-5\" class=\"displacy-label\" startOffset=\"50%\" side=\"left\" fill=\"currentColor\" text-anchor=\"middle\">aux</textPath></text><path class=\"displacy-arrowhead\" d=\"M945,704.0 L937,692.0 953,692.0\" fill=\"currentColor\"/></g><g class=\"displacy-arrow\"><path class=\"displacy-arc\" id=\"arrow-61c8d20d82b940eab93dfbcc31255478-0-6\" stroke-width=\"2px\" d=\"M770,702.0 C770,527.0 1070.0,527.0 1070.0,702.0\" fill=\"none\" stroke=\"currentColor\"/><text dy=\"1.25em\" style=\"font-size: 0.8em; letter-spacing: 1px\"><textPath xlink:href=\"#arrow-61c8d20d82b940eab93dfbcc31255478-0-6\" class=\"displacy-label\" startOffset=\"50%\" side=\"left\" fill=\"currentColor\" text-anchor=\"middle\">xcomp</textPath></text><path class=\"displacy-arrowhead\" d=\"M1070.0,704.0 L1078.0,692.0 1062.0,692.0\" fill=\"currentColor\"/></g><g class=\"displacy-arrow\"><path class=\"displacy-arc\" id=\"arrow-61c8d20d82b940eab93dfbcc31255478-0-7\" stroke-width=\"2px\" d=\"M1295,702.0 C1295,614.5 1415.0,614.5 1415.0,702.0\" fill=\"none\" stroke=\"currentColor\"/><text dy=\"1.25em\" style=\"font-size: 0.8em; letter-spacing: 1px\"><textPath xlink:href=\"#arrow-61c8d20d82b940eab93dfbcc31255478-0-7\" class=\"displacy-label\" startOffset=\"50%\" side=\"left\" fill=\"currentColor\" text-anchor=\"middle\">det</textPath></text><path class=\"displacy-arrowhead\" d=\"M1295,704.0 L1287,692.0 1303,692.0\" fill=\"currentColor\"/></g><g class=\"displacy-arrow\"><path class=\"displacy-arc\" id=\"arrow-61c8d20d82b940eab93dfbcc31255478-0-8\" stroke-width=\"2px\" d=\"M1120,702.0 C1120,527.0 1420.0,527.0 1420.0,702.0\" fill=\"none\" stroke=\"currentColor\"/><text dy=\"1.25em\" style=\"font-size: 0.8em; letter-spacing: 1px\"><textPath xlink:href=\"#arrow-61c8d20d82b940eab93dfbcc31255478-0-8\" class=\"displacy-label\" startOffset=\"50%\" side=\"left\" fill=\"currentColor\" text-anchor=\"middle\">dobj</textPath></text><path class=\"displacy-arrowhead\" d=\"M1420.0,704.0 L1428.0,692.0 1412.0,692.0\" fill=\"currentColor\"/></g><g class=\"displacy-arrow\"><path class=\"displacy-arc\" id=\"arrow-61c8d20d82b940eab93dfbcc31255478-0-9\" stroke-width=\"2px\" d=\"M1470,702.0 C1470,614.5 1590.0,614.5 1590.0,702.0\" fill=\"none\" stroke=\"currentColor\"/><text dy=\"1.25em\" style=\"font-size: 0.8em; letter-spacing: 1px\"><textPath xlink:href=\"#arrow-61c8d20d82b940eab93dfbcc31255478-0-9\" class=\"displacy-label\" startOffset=\"50%\" side=\"left\" fill=\"currentColor\" text-anchor=\"middle\">prep</textPath></text><path class=\"displacy-arrowhead\" d=\"M1590.0,704.0 L1598.0,692.0 1582.0,692.0\" fill=\"currentColor\"/></g><g class=\"displacy-arrow\"><path class=\"displacy-arc\" id=\"arrow-61c8d20d82b940eab93dfbcc31255478-0-10\" stroke-width=\"2px\" d=\"M1820,702.0 C1820,614.5 1940.0,614.5 1940.0,702.0\" fill=\"none\" stroke=\"currentColor\"/><text dy=\"1.25em\" style=\"font-size: 0.8em; letter-spacing: 1px\"><textPath xlink:href=\"#arrow-61c8d20d82b940eab93dfbcc31255478-0-10\" class=\"displacy-label\" startOffset=\"50%\" side=\"left\" fill=\"currentColor\" text-anchor=\"middle\">nummod</textPath></text><path class=\"displacy-arrowhead\" d=\"M1820,704.0 L1812,692.0 1828,692.0\" fill=\"currentColor\"/></g><g class=\"displacy-arrow\"><path class=\"displacy-arc\" id=\"arrow-61c8d20d82b940eab93dfbcc31255478-0-11\" stroke-width=\"2px\" d=\"M1645,702.0 C1645,527.0 1945.0,527.0 1945.0,702.0\" fill=\"none\" stroke=\"currentColor\"/><text dy=\"1.25em\" style=\"font-size: 0.8em; letter-spacing: 1px\"><textPath xlink:href=\"#arrow-61c8d20d82b940eab93dfbcc31255478-0-11\" class=\"displacy-label\" startOffset=\"50%\" side=\"left\" fill=\"currentColor\" text-anchor=\"middle\">pobj</textPath></text><path class=\"displacy-arrowhead\" d=\"M1945.0,704.0 L1953.0,692.0 1937.0,692.0\" fill=\"currentColor\"/></g><g class=\"displacy-arrow\"><path class=\"displacy-arc\" id=\"arrow-61c8d20d82b940eab93dfbcc31255478-0-12\" stroke-width=\"2px\" d=\"M1995,702.0 C1995,614.5 2115.0,614.5 2115.0,702.0\" fill=\"none\" stroke=\"currentColor\"/><text dy=\"1.25em\" style=\"font-size: 0.8em; letter-spacing: 1px\"><textPath xlink:href=\"#arrow-61c8d20d82b940eab93dfbcc31255478-0-12\" class=\"displacy-label\" startOffset=\"50%\" side=\"left\" fill=\"currentColor\" text-anchor=\"middle\">cc</textPath></text><path class=\"displacy-arrowhead\" d=\"M2115.0,704.0 L2123.0,692.0 2107.0,692.0\" fill=\"currentColor\"/></g><g class=\"displacy-arrow\"><path class=\"displacy-arc\" id=\"arrow-61c8d20d82b940eab93dfbcc31255478-0-13\" stroke-width=\"2px\" d=\"M2345,702.0 C2345,614.5 2465.0,614.5 2465.0,702.0\" fill=\"none\" stroke=\"currentColor\"/><text dy=\"1.25em\" style=\"font-size: 0.8em; letter-spacing: 1px\"><textPath xlink:href=\"#arrow-61c8d20d82b940eab93dfbcc31255478-0-13\" class=\"displacy-label\" startOffset=\"50%\" side=\"left\" fill=\"currentColor\" text-anchor=\"middle\">nummod</textPath></text><path class=\"displacy-arrowhead\" d=\"M2345,704.0 L2337,692.0 2353,692.0\" fill=\"currentColor\"/></g><g class=\"displacy-arrow\"><path class=\"displacy-arc\" id=\"arrow-61c8d20d82b940eab93dfbcc31255478-0-14\" stroke-width=\"2px\" d=\"M1995,702.0 C1995,439.5 2475.0,439.5 2475.0,702.0\" fill=\"none\" stroke=\"currentColor\"/><text dy=\"1.25em\" style=\"font-size: 0.8em; letter-spacing: 1px\"><textPath xlink:href=\"#arrow-61c8d20d82b940eab93dfbcc31255478-0-14\" class=\"displacy-label\" startOffset=\"50%\" side=\"left\" fill=\"currentColor\" text-anchor=\"middle\">conj</textPath></text><path class=\"displacy-arrowhead\" d=\"M2475.0,704.0 L2483.0,692.0 2467.0,692.0\" fill=\"currentColor\"/></g><g class=\"displacy-arrow\"><path class=\"displacy-arc\" id=\"arrow-61c8d20d82b940eab93dfbcc31255478-0-15\" stroke-width=\"2px\" d=\"M1645,702.0 C1645,264.5 2660.0,264.5 2660.0,702.0\" fill=\"none\" stroke=\"currentColor\"/><text dy=\"1.25em\" style=\"font-size: 0.8em; letter-spacing: 1px\"><textPath xlink:href=\"#arrow-61c8d20d82b940eab93dfbcc31255478-0-15\" class=\"displacy-label\" startOffset=\"50%\" side=\"left\" fill=\"currentColor\" text-anchor=\"middle\">pobj</textPath></text><path class=\"displacy-arrowhead\" d=\"M2660.0,704.0 L2668.0,692.0 2652.0,692.0\" fill=\"currentColor\"/></g><g class=\"displacy-arrow\"><path class=\"displacy-arc\" id=\"arrow-61c8d20d82b940eab93dfbcc31255478-0-16\" stroke-width=\"2px\" d=\"M2870,702.0 C2870,527.0 3170.0,527.0 3170.0,702.0\" fill=\"none\" stroke=\"currentColor\"/><text dy=\"1.25em\" style=\"font-size: 0.8em; letter-spacing: 1px\"><textPath xlink:href=\"#arrow-61c8d20d82b940eab93dfbcc31255478-0-16\" class=\"displacy-label\" startOffset=\"50%\" side=\"left\" fill=\"currentColor\" text-anchor=\"middle\">nsubj</textPath></text><path class=\"displacy-arrowhead\" d=\"M2870,704.0 L2862,692.0 2878,692.0\" fill=\"currentColor\"/></g><g class=\"displacy-arrow\"><path class=\"displacy-arc\" id=\"arrow-61c8d20d82b940eab93dfbcc31255478-0-17\" stroke-width=\"2px\" d=\"M3045,702.0 C3045,614.5 3165.0,614.5 3165.0,702.0\" fill=\"none\" stroke=\"currentColor\"/><text dy=\"1.25em\" style=\"font-size: 0.8em; letter-spacing: 1px\"><textPath xlink:href=\"#arrow-61c8d20d82b940eab93dfbcc31255478-0-17\" class=\"displacy-label\" startOffset=\"50%\" side=\"left\" fill=\"currentColor\" text-anchor=\"middle\">aux</textPath></text><path class=\"displacy-arrowhead\" d=\"M3045,704.0 L3037,692.0 3053,692.0\" fill=\"currentColor\"/></g><g class=\"displacy-arrow\"><path class=\"displacy-arc\" id=\"arrow-61c8d20d82b940eab93dfbcc31255478-0-18\" stroke-width=\"2px\" d=\"M3220,702.0 C3220,177.0 4765.0,177.0 4765.0,702.0\" fill=\"none\" stroke=\"currentColor\"/><text dy=\"1.25em\" style=\"font-size: 0.8em; letter-spacing: 1px\"><textPath xlink:href=\"#arrow-61c8d20d82b940eab93dfbcc31255478-0-18\" class=\"displacy-label\" startOffset=\"50%\" side=\"left\" fill=\"currentColor\" text-anchor=\"middle\">ccomp</textPath></text><path class=\"displacy-arrowhead\" d=\"M3220,704.0 L3212,692.0 3228,692.0\" fill=\"currentColor\"/></g><g class=\"displacy-arrow\"><path class=\"displacy-arc\" id=\"arrow-61c8d20d82b940eab93dfbcc31255478-0-19\" stroke-width=\"2px\" d=\"M3395,702.0 C3395,614.5 3515.0,614.5 3515.0,702.0\" fill=\"none\" stroke=\"currentColor\"/><text dy=\"1.25em\" style=\"font-size: 0.8em; letter-spacing: 1px\"><textPath xlink:href=\"#arrow-61c8d20d82b940eab93dfbcc31255478-0-19\" class=\"displacy-label\" startOffset=\"50%\" side=\"left\" fill=\"currentColor\" text-anchor=\"middle\">aux</textPath></text><path class=\"displacy-arrowhead\" d=\"M3395,704.0 L3387,692.0 3403,692.0\" fill=\"currentColor\"/></g><g class=\"displacy-arrow\"><path class=\"displacy-arc\" id=\"arrow-61c8d20d82b940eab93dfbcc31255478-0-20\" stroke-width=\"2px\" d=\"M3220,702.0 C3220,527.0 3520.0,527.0 3520.0,702.0\" fill=\"none\" stroke=\"currentColor\"/><text dy=\"1.25em\" style=\"font-size: 0.8em; letter-spacing: 1px\"><textPath xlink:href=\"#arrow-61c8d20d82b940eab93dfbcc31255478-0-20\" class=\"displacy-label\" startOffset=\"50%\" side=\"left\" fill=\"currentColor\" text-anchor=\"middle\">xcomp</textPath></text><path class=\"displacy-arrowhead\" d=\"M3520.0,704.0 L3528.0,692.0 3512.0,692.0\" fill=\"currentColor\"/></g><g class=\"displacy-arrow\"><path class=\"displacy-arc\" id=\"arrow-61c8d20d82b940eab93dfbcc31255478-0-21\" stroke-width=\"2px\" d=\"M3745,702.0 C3745,527.0 4045.0,527.0 4045.0,702.0\" fill=\"none\" stroke=\"currentColor\"/><text dy=\"1.25em\" style=\"font-size: 0.8em; letter-spacing: 1px\"><textPath xlink:href=\"#arrow-61c8d20d82b940eab93dfbcc31255478-0-21\" class=\"displacy-label\" startOffset=\"50%\" side=\"left\" fill=\"currentColor\" text-anchor=\"middle\">amod</textPath></text><path class=\"displacy-arrowhead\" d=\"M3745,704.0 L3737,692.0 3753,692.0\" fill=\"currentColor\"/></g><g class=\"displacy-arrow\"><path class=\"displacy-arc\" id=\"arrow-61c8d20d82b940eab93dfbcc31255478-0-22\" stroke-width=\"2px\" d=\"M3920,702.0 C3920,614.5 4040.0,614.5 4040.0,702.0\" fill=\"none\" stroke=\"currentColor\"/><text dy=\"1.25em\" style=\"font-size: 0.8em; letter-spacing: 1px\"><textPath xlink:href=\"#arrow-61c8d20d82b940eab93dfbcc31255478-0-22\" class=\"displacy-label\" startOffset=\"50%\" side=\"left\" fill=\"currentColor\" text-anchor=\"middle\">quantmod</textPath></text><path class=\"displacy-arrowhead\" d=\"M3920,704.0 L3912,692.0 3928,692.0\" fill=\"currentColor\"/></g><g class=\"displacy-arrow\"><path class=\"displacy-arc\" id=\"arrow-61c8d20d82b940eab93dfbcc31255478-0-23\" stroke-width=\"2px\" d=\"M4095,702.0 C4095,614.5 4215.0,614.5 4215.0,702.0\" fill=\"none\" stroke=\"currentColor\"/><text dy=\"1.25em\" style=\"font-size: 0.8em; letter-spacing: 1px\"><textPath xlink:href=\"#arrow-61c8d20d82b940eab93dfbcc31255478-0-23\" class=\"displacy-label\" startOffset=\"50%\" side=\"left\" fill=\"currentColor\" text-anchor=\"middle\">nummod</textPath></text><path class=\"displacy-arrowhead\" d=\"M4095,704.0 L4087,692.0 4103,692.0\" fill=\"currentColor\"/></g><g class=\"displacy-arrow\"><path class=\"displacy-arc\" id=\"arrow-61c8d20d82b940eab93dfbcc31255478-0-24\" stroke-width=\"2px\" d=\"M3570,702.0 C3570,352.0 4230.0,352.0 4230.0,702.0\" fill=\"none\" stroke=\"currentColor\"/><text dy=\"1.25em\" style=\"font-size: 0.8em; letter-spacing: 1px\"><textPath xlink:href=\"#arrow-61c8d20d82b940eab93dfbcc31255478-0-24\" class=\"displacy-label\" startOffset=\"50%\" side=\"left\" fill=\"currentColor\" text-anchor=\"middle\">dobj</textPath></text><path class=\"displacy-arrowhead\" d=\"M4230.0,704.0 L4238.0,692.0 4222.0,692.0\" fill=\"currentColor\"/></g><g class=\"displacy-arrow\"><path class=\"displacy-arc\" id=\"arrow-61c8d20d82b940eab93dfbcc31255478-0-25\" stroke-width=\"2px\" d=\"M4445,702.0 C4445,527.0 4745.0,527.0 4745.0,702.0\" fill=\"none\" stroke=\"currentColor\"/><text dy=\"1.25em\" style=\"font-size: 0.8em; letter-spacing: 1px\"><textPath xlink:href=\"#arrow-61c8d20d82b940eab93dfbcc31255478-0-25\" class=\"displacy-label\" startOffset=\"50%\" side=\"left\" fill=\"currentColor\" text-anchor=\"middle\">attr</textPath></text><path class=\"displacy-arrowhead\" d=\"M4445,704.0 L4437,692.0 4453,692.0\" fill=\"currentColor\"/></g><g class=\"displacy-arrow\"><path class=\"displacy-arc\" id=\"arrow-61c8d20d82b940eab93dfbcc31255478-0-26\" stroke-width=\"2px\" d=\"M4620,702.0 C4620,614.5 4740.0,614.5 4740.0,702.0\" fill=\"none\" stroke=\"currentColor\"/><text dy=\"1.25em\" style=\"font-size: 0.8em; letter-spacing: 1px\"><textPath xlink:href=\"#arrow-61c8d20d82b940eab93dfbcc31255478-0-26\" class=\"displacy-label\" startOffset=\"50%\" side=\"left\" fill=\"currentColor\" text-anchor=\"middle\">aux</textPath></text><path class=\"displacy-arrowhead\" d=\"M4620,704.0 L4612,692.0 4628,692.0\" fill=\"currentColor\"/></g><g class=\"displacy-arrow\"><path class=\"displacy-arc\" id=\"arrow-61c8d20d82b940eab93dfbcc31255478-0-27\" stroke-width=\"2px\" d=\"M4970,702.0 C4970,614.5 5090.0,614.5 5090.0,702.0\" fill=\"none\" stroke=\"currentColor\"/><text dy=\"1.25em\" style=\"font-size: 0.8em; letter-spacing: 1px\"><textPath xlink:href=\"#arrow-61c8d20d82b940eab93dfbcc31255478-0-27\" class=\"displacy-label\" startOffset=\"50%\" side=\"left\" fill=\"currentColor\" text-anchor=\"middle\">det</textPath></text><path class=\"displacy-arrowhead\" d=\"M4970,704.0 L4962,692.0 4978,692.0\" fill=\"currentColor\"/></g><g class=\"displacy-arrow\"><path class=\"displacy-arc\" id=\"arrow-61c8d20d82b940eab93dfbcc31255478-0-28\" stroke-width=\"2px\" d=\"M4795,702.0 C4795,527.0 5095.0,527.0 5095.0,702.0\" fill=\"none\" stroke=\"currentColor\"/><text dy=\"1.25em\" style=\"font-size: 0.8em; letter-spacing: 1px\"><textPath xlink:href=\"#arrow-61c8d20d82b940eab93dfbcc31255478-0-28\" class=\"displacy-label\" startOffset=\"50%\" side=\"left\" fill=\"currentColor\" text-anchor=\"middle\">attr</textPath></text><path class=\"displacy-arrowhead\" d=\"M5095.0,704.0 L5103.0,692.0 5087.0,692.0\" fill=\"currentColor\"/></g><g class=\"displacy-arrow\"><path class=\"displacy-arc\" id=\"arrow-61c8d20d82b940eab93dfbcc31255478-0-29\" stroke-width=\"2px\" d=\"M4795,702.0 C4795,439.5 5275.0,439.5 5275.0,702.0\" fill=\"none\" stroke=\"currentColor\"/><text dy=\"1.25em\" style=\"font-size: 0.8em; letter-spacing: 1px\"><textPath xlink:href=\"#arrow-61c8d20d82b940eab93dfbcc31255478-0-29\" class=\"displacy-label\" startOffset=\"50%\" side=\"left\" fill=\"currentColor\" text-anchor=\"middle\">dep</textPath></text><path class=\"displacy-arrowhead\" d=\"M5275.0,704.0 L5283.0,692.0 5267.0,692.0\" fill=\"currentColor\"/></g><g class=\"displacy-arrow\"><path class=\"displacy-arc\" id=\"arrow-61c8d20d82b940eab93dfbcc31255478-0-30\" stroke-width=\"2px\" d=\"M4795,702.0 C4795,352.0 5455.0,352.0 5455.0,702.0\" fill=\"none\" stroke=\"currentColor\"/><text dy=\"1.25em\" style=\"font-size: 0.8em; letter-spacing: 1px\"><textPath xlink:href=\"#arrow-61c8d20d82b940eab93dfbcc31255478-0-30\" class=\"displacy-label\" startOffset=\"50%\" side=\"left\" fill=\"currentColor\" text-anchor=\"middle\">dep</textPath></text><path class=\"displacy-arrowhead\" d=\"M5455.0,704.0 L5463.0,692.0 5447.0,692.0\" fill=\"currentColor\"/></g><g class=\"displacy-arrow\"><path class=\"displacy-arc\" id=\"arrow-61c8d20d82b940eab93dfbcc31255478-0-31\" stroke-width=\"2px\" d=\"M5670,702.0 C5670,614.5 5790.0,614.5 5790.0,702.0\" fill=\"none\" stroke=\"currentColor\"/><text dy=\"1.25em\" style=\"font-size: 0.8em; letter-spacing: 1px\"><textPath xlink:href=\"#arrow-61c8d20d82b940eab93dfbcc31255478-0-31\" class=\"displacy-label\" startOffset=\"50%\" side=\"left\" fill=\"currentColor\" text-anchor=\"middle\">det</textPath></text><path class=\"displacy-arrowhead\" d=\"M5670,704.0 L5662,692.0 5678,692.0\" fill=\"currentColor\"/></g><g class=\"displacy-arrow\"><path class=\"displacy-arc\" id=\"arrow-61c8d20d82b940eab93dfbcc31255478-0-32\" stroke-width=\"2px\" d=\"M5495,702.0 C5495,527.0 5795.0,527.0 5795.0,702.0\" fill=\"none\" stroke=\"currentColor\"/><text dy=\"1.25em\" style=\"font-size: 0.8em; letter-spacing: 1px\"><textPath xlink:href=\"#arrow-61c8d20d82b940eab93dfbcc31255478-0-32\" class=\"displacy-label\" startOffset=\"50%\" side=\"left\" fill=\"currentColor\" text-anchor=\"middle\">npadvmod</textPath></text><path class=\"displacy-arrowhead\" d=\"M5795.0,704.0 L5803.0,692.0 5787.0,692.0\" fill=\"currentColor\"/></g><g class=\"displacy-arrow\"><path class=\"displacy-arc\" id=\"arrow-61c8d20d82b940eab93dfbcc31255478-0-33\" stroke-width=\"2px\" d=\"M6020,702.0 C6020,614.5 6140.0,614.5 6140.0,702.0\" fill=\"none\" stroke=\"currentColor\"/><text dy=\"1.25em\" style=\"font-size: 0.8em; letter-spacing: 1px\"><textPath xlink:href=\"#arrow-61c8d20d82b940eab93dfbcc31255478-0-33\" class=\"displacy-label\" startOffset=\"50%\" side=\"left\" fill=\"currentColor\" text-anchor=\"middle\">npadvmod</textPath></text><path class=\"displacy-arrowhead\" d=\"M6140.0,704.0 L6148.0,692.0 6132.0,692.0\" fill=\"currentColor\"/></g></svg></span>"
      ],
      "text/plain": [
       "<IPython.core.display.HTML object>"
      ]
     },
     "metadata": {},
     "output_type": "display_data"
    }
   ],
   "source": [
    "# visualize the dependency graph\n",
    "displacy.render(doc, style=\"dep\", minify=True, jupyter=True)"
   ]
  },
  {
   "cell_type": "markdown",
   "metadata": {},
   "source": [
    "Spacy provides all the required tagging to find the action verbs, we want to know if the customer wants to order something or is just interested by some information for example. Let us iterate through all tokens in the text and search for an open clausal complement ( refer to for all possible dependency tags https://spacy.io/api/annotation#pos-tagging )"
   ]
  },
  {
   "cell_type": "code",
   "execution_count": 14,
   "metadata": {
    "colab": {
     "base_uri": "https://localhost:8080/"
    },
    "id": "5YKyxgGupLop",
    "outputId": "7b852884-67d7-4224-f230-d318cf4aa5b0"
   },
   "outputs": [
    {
     "name": "stdout",
     "output_type": "stream",
     "text": [
      "{spend, order}\n"
     ]
    }
   ],
   "source": [
    "# Identify action verbs\n",
    "verbs = set()\n",
    "for possible_verbs in doc:\n",
    "    if possible_verbs.dep == xcomp and possible_verbs.head.pos == VERB :\n",
    "        verbs.add(possible_verbs)\n",
    "print(verbs)"
   ]
  },
  {
   "cell_type": "markdown",
   "metadata": {},
   "source": [
    "Let us find possible items in the text using the dependency tag ‘dobj’ for direct objects of a verb."
   ]
  },
  {
   "cell_type": "code",
   "execution_count": 15,
   "metadata": {
    "colab": {
     "base_uri": "https://localhost:8080/"
    },
    "id": "Zgv8UTPGiZZy",
    "outputId": "7f804d85-4e50-482f-d710-72e17d9a114f"
   },
   "outputs": [
    {
     "name": "stdout",
     "output_type": "stream",
     "text": [
      "{notebook, Francs}\n"
     ]
    }
   ],
   "source": [
    "# Let us find possible items in the text using the dependency tag ‘dobj’ for direct objects of a verb.\n",
    "items = set()\n",
    "for possible_subject in doc:\n",
    "    if possible_subject.dep == dobj and possible_subject.head.pos == VERB:\n",
    "        items.add(possible_subject)\n",
    "print(items)"
   ]
  },
  {
   "cell_type": "code",
   "execution_count": 17,
   "metadata": {
    "colab": {
     "base_uri": "https://localhost:8080/"
    },
    "id": "qFTh6iJapLog",
    "outputId": "de0a83f7-ca26-4df1-d479-0ff1b717ed01"
   },
   "outputs": [
    {
     "name": "stdout",
     "output_type": "stream",
     "text": [
      "notebook 0.8021939740910023\n",
      "Francs 0.0015887125151089767\n"
     ]
    }
   ],
   "source": [
    "# We will compare similarities between identified objects and the word ‘laptop’. \n",
    "# The word ‘notebook’ is much closer to ‘laptop’ than Francs.\n",
    "import en_core_web_lg\n",
    "nlp = en_core_web_lg.load()\n",
    "orderobject=nlp(\"laptop\")\n",
    "for  sub in items:\n",
    "  print(sub.text,nlp(sub.text).similarity(orderobject))\n"
   ]
  },
  {
   "cell_type": "code",
   "execution_count": 18,
   "metadata": {
    "colab": {
     "base_uri": "https://localhost:8080/"
    },
    "id": "oHNG7j5ApLou",
    "outputId": "22c29c19-bf3b-4e3a-a3a8-264462f052d4"
   },
   "outputs": [
    {
     "name": "stdout",
     "output_type": "stream",
     "text": [
      "notebook\n"
     ]
    }
   ],
   "source": [
    "# We will compare similarities between identified verbs and the verb ‘order’. \n",
    "# Then based on this we will identiofy the direct object of the verb\n",
    "orderword=nlp(\"order\") \n",
    "for  verb in verbs:\n",
    "  if (nlp(verb.text).similarity(orderword)) >=0.8:\n",
    "    for v in verb.children:\n",
    "      if v.dep==dobj:\n",
    "        print(v.text)\n"
   ]
  },
  {
   "cell_type": "code",
   "execution_count": 19,
   "metadata": {
    "colab": {
     "base_uri": "https://localhost:8080/"
    },
    "id": "Y1nDnp2adwjE",
    "outputId": "37afdd92-1e7f-4705-b83e-5309fd2d7a00"
   },
   "outputs": [
    {
     "name": "stdout",
     "output_type": "stream",
     "text": [
      "Numerical modifier: 16 --> object: GB\n",
      "Numerical modifier: 256 --> object: GB\n",
      "Numerical modifier: 1000 --> object: Francs\n"
     ]
    }
   ],
   "source": [
    "# we can also identify specific slots using numeric modifiers for example to understand the desired quantities\n",
    "# with corresponding modified objects\n",
    "for token in doc:  \n",
    "    if token.dep_ == 'nummod':    \n",
    "      print(f\"Numerical modifier: {token.text} --> object: {token.head}\")"
   ]
  },
  {
   "cell_type": "code",
   "execution_count": null,
   "metadata": {
    "id": "nXtNM5rdvUOH"
   },
   "outputs": [],
   "source": []
  },
  {
   "cell_type": "code",
   "execution_count": null,
   "metadata": {},
   "outputs": [],
   "source": []
  }
 ],
 "metadata": {
  "colab": {
   "name": "ordermail.ipynb",
   "provenance": []
  },
  "kernelspec": {
   "display_name": "Python 3",
   "language": "python",
   "name": "python3"
  },
  "language_info": {
   "codemirror_mode": {
    "name": "ipython",
    "version": 3
   },
   "file_extension": ".py",
   "mimetype": "text/x-python",
   "name": "python",
   "nbconvert_exporter": "python",
   "pygments_lexer": "ipython3",
   "version": "3.8.11"
  }
 },
 "nbformat": 4,
 "nbformat_minor": 1
}
