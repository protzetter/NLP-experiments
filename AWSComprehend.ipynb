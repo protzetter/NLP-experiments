{
 "cells": [
  {
   "cell_type": "markdown",
   "id": "6f08ce42",
   "metadata": {},
   "source": [
    "Created on October 31st 2021 by Patrick Rotzetter\n",
    "\n",
    "https://www.linkedin.com/in/rotzetter/\n",
    "\n",
    "## Small experiment of document mining with various techniques Part 8\n",
    "\n",
    "Let us use AWS Comprehend topic modeling for our sample documents"
   ]
  },
  {
   "cell_type": "markdown",
   "id": "711e051e",
   "metadata": {},
   "source": [
    "### This notebook is supposed to be run on AWS Sagemaker"
   ]
  },
  {
   "cell_type": "code",
   "execution_count": 61,
   "id": "aefc609a",
   "metadata": {},
   "outputs": [
    {
     "name": "stdout",
     "output_type": "stream",
     "text": [
      "Traceback (most recent call last):\n",
      "  File \"/home/ec2-user/anaconda3/envs/python3/bin/pip\", line 7, in <module>\n",
      "    from pip._internal.cli.main import main\n",
      "  File \"/home/ec2-user/anaconda3/envs/python3/lib/python3.6/site-packages/pip/_internal/cli/main.py\", line 10, in <module>\n",
      "    from pip._internal.cli.autocompletion import autocomplete\n",
      "  File \"/home/ec2-user/anaconda3/envs/python3/lib/python3.6/site-packages/pip/_internal/cli/autocompletion.py\", line 9, in <module>\n",
      "    from pip._internal.cli.main_parser import create_main_parser\n",
      "  File \"/home/ec2-user/anaconda3/envs/python3/lib/python3.6/site-packages/pip/_internal/cli/main_parser.py\", line 7, in <module>\n",
      "    from pip._internal.cli import cmdoptions\n",
      "  File \"/home/ec2-user/anaconda3/envs/python3/lib/python3.6/site-packages/pip/_internal/cli/cmdoptions.py\", line 23, in <module>\n",
      "    from pip._internal.cli.progress_bars import BAR_TYPES\n",
      "  File \"/home/ec2-user/anaconda3/envs/python3/lib/python3.6/site-packages/pip/_internal/cli/progress_bars.py\", line 12, in <module>\n",
      "    from pip._internal.utils.logging import get_indentation\n",
      "  File \"/home/ec2-user/anaconda3/envs/python3/lib/python3.6/site-packages/pip/_internal/utils/logging.py\", line 18, in <module>\n",
      "    from pip._internal.utils.misc import ensure_dir\n",
      "  File \"/home/ec2-user/anaconda3/envs/python3/lib/python3.6/site-packages/pip/_internal/utils/misc.py\", line 33, in <module>\n",
      "    from pip._internal.locations import (\n",
      "  File \"/home/ec2-user/anaconda3/envs/python3/lib/python3.6/site-packages/pip/_internal/locations/__init__.py\", line 14, in <module>\n",
      "    from . import _distutils, _sysconfig\n",
      "  File \"/home/ec2-user/anaconda3/envs/python3/lib/python3.6/site-packages/pip/_internal/locations/_sysconfig.py\", line 8, in <module>\n",
      "    from pip._internal.exceptions import InvalidSchemeCombination, UserInstallationInvalid\n",
      "ImportError: cannot import name 'InvalidSchemeCombination'\n"
     ]
    }
   ],
   "source": [
    "\n",
    "!pip uninstall -y pymongo"
   ]
  },
  {
   "cell_type": "code",
   "execution_count": null,
   "id": "8239eced",
   "metadata": {},
   "outputs": [
    {
     "name": "stdout",
     "output_type": "stream",
     "text": [
      "Collecting package metadata (current_repodata.json): done\n",
      "Solving environment: failed with initial frozen solve. Retrying with flexible solve.\n",
      "Collecting package metadata (repodata.json): / "
     ]
    }
   ],
   "source": [
    "conda install -c anaconda pymongo "
   ]
  },
  {
   "cell_type": "code",
   "execution_count": 3,
   "id": "c49c458b",
   "metadata": {},
   "outputs": [],
   "source": [
    "import boto3\n",
    "from bson.json_util import loads, dumps, default\n",
    "\n",
    " \n",
    "comprehend = boto3.client(service_name='comprehend', region_name='us-east-2')\n"
   ]
  },
  {
   "cell_type": "code",
   "execution_count": 4,
   "id": "93198294",
   "metadata": {},
   "outputs": [
    {
     "name": "stdout",
     "output_type": "stream",
     "text": [
      "AI-bank-of-the-future-Can-banks-meet-the-AI-challenge-1.pdf.txt\n",
      "Artificial Financial Intelligence.pdf.txt\n",
      "Data machine the insurers using AI to reshape the industry Financial Times.pdf.txt\n",
      "Digital-disruption-in-Insurance.pdf.txt\n",
      "EPAM_Streamlining_the_Auto_Claims_Process_via_Integrated_IA.pdf.txt\n",
      "Insurance-2030-The-impact-of-AI-on-the-future-of-insurance-F.pdf.txt\n",
      "Issues_Paper_on_Increasing_Digitalisation_in_Insurance_and_its_Potential_Impact_on_Consumer_Outcomes.pdf.txt\n",
      "Kaggle State of Machine Learning and Data Science 2020.pdf.txt\n",
      "Module-1-Lecture-Slides.pdf.txt\n",
      "Technology-and-innovation-in-the-insurance-sector.pdf.txt\n",
      "WEF_Governance_of_Chatbots_in_Healthcare_2020.pdf.txt\n",
      "_content_dam_Deloitte_de_Documents_Innovation_Artificial-Intelligence-in-Insurance-Whitepaper-deloitte-digital.pdf.txt\n",
      "ai-360-research.pdf.txt\n",
      "ai-insurance.pdf.txt\n",
      "fra-2020-artificial-intelligence_en.pdf.txt\n",
      "merged.txt\n",
      "sigma-5-2020-en.pdf.txt\n",
      "sigma1_2020_en.pdf.txt\n"
     ]
    }
   ],
   "source": [
    "\n",
    "conn = boto3.client('s3')\n",
    "bucket='mlsamplesdocs'\n",
    "subfolder=''\n",
    "contents = conn.list_objects(Bucket=bucket, Prefix=subfolder)['Contents']\n",
    "for f in contents:\n",
    "    print(f['Key'])\n",
    "    conn.download_file(bucket,f['Key'], f['Key'])"
   ]
  },
  {
   "cell_type": "code",
   "execution_count": 36,
   "id": "e7f997a5",
   "metadata": {},
   "outputs": [],
   "source": [
    "input_s3_url = \"s3://mlsamplesdocs/\"\n",
    "input_doc_format = \"ONE_DOC_PER_FILE\"\n",
    "output_s3_url = \"s3://mycomprehendoutputbucket2203\"\n",
    "data_access_role_arn = \"arn:aws:iam::012086180905:role/ComprehendS3Access\"\n",
    "number_of_topics = 10"
   ]
  },
  {
   "cell_type": "code",
   "execution_count": 42,
   "id": "08a0f686",
   "metadata": {},
   "outputs": [
    {
     "name": "stdout",
     "output_type": "stream",
     "text": [
      "start_topics_detection_job_result: {\"JobId\": \"e630999942f1d3def8fad0177be01823\", \"JobArn\": \"arn:aws:comprehend:us-east-2:012086180905:topics-detection-job/e630999942f1d3def8fad0177be01823\", \"JobStatus\": \"SUBMITTED\", \"ResponseMetadata\": {\"RequestId\": \"b48a54bb-58dc-4567-9f57-bfad578dc1e2\", \"HTTPStatusCode\": 200, \"HTTPHeaders\": {\"x-amzn-requestid\": \"b48a54bb-58dc-4567-9f57-bfad578dc1e2\", \"content-type\": \"application/x-amz-json-1.1\", \"content-length\": \"175\", \"date\": \"Sat, 30 Oct 2021 14:10:19 GMT\"}, \"RetryAttempts\": 0}}\n",
      "job_id: e630999942f1d3def8fad0177be01823\n"
     ]
    }
   ],
   "source": [
    "input_data_config = {\"S3Uri\": input_s3_url, \"InputFormat\": input_doc_format}\n",
    "output_data_config = {\"S3Uri\": output_s3_url}\n",
    " \n",
    "start_topics_detection_job_result = comprehend.start_topics_detection_job(NumberOfTopics=number_of_topics,\n",
    "                                                                              InputDataConfig=input_data_config,\n",
    "                                                                              OutputDataConfig=output_data_config,\n",
    "                                                                              DataAccessRoleArn=data_access_role_arn)\n",
    " \n",
    "print('start_topics_detection_job_result: ' + dumps(start_topics_detection_job_result))\n",
    " \n",
    "job_id = start_topics_detection_job_result[\"JobId\"]\n",
    " \n",
    "print('job_id: ' + job_id)"
   ]
  },
  {
   "cell_type": "code",
   "execution_count": 59,
   "id": "3a6c7380",
   "metadata": {},
   "outputs": [
    {
     "name": "stdout",
     "output_type": "stream",
     "text": [
      "describe_topics_detection_job_result: {\"TopicsDetectionJobProperties\": {\"JobId\": \"e630999942f1d3def8fad0177be01823\", \"JobArn\": \"arn:aws:comprehend:us-east-2:012086180905:topics-detection-job/e630999942f1d3def8fad0177be01823\", \"JobStatus\": \"COMPLETED\", \"SubmitTime\": {\"$date\": 1635603020046}, \"EndTime\": {\"$date\": 1635604233911}, \"InputDataConfig\": {\"S3Uri\": \"s3://mlsamplesdocs/\", \"InputFormat\": \"ONE_DOC_PER_FILE\"}, \"OutputDataConfig\": {\"S3Uri\": \"s3://mycomprehendoutputbucket2203/012086180905-TOPICS-e630999942f1d3def8fad0177be01823/output/output.tar.gz\"}, \"NumberOfTopics\": 10, \"DataAccessRoleArn\": \"arn:aws:iam::012086180905:role/ComprehendS3Access\"}, \"ResponseMetadata\": {\"RequestId\": \"69dbd217-7e34-405b-83d7-0c0df565f425\", \"HTTPStatusCode\": 200, \"HTTPHeaders\": {\"x-amzn-requestid\": \"69dbd217-7e34-405b-83d7-0c0df565f425\", \"content-type\": \"application/x-amz-json-1.1\", \"content-length\": \"579\", \"date\": \"Sat, 30 Oct 2021 14:32:19 GMT\"}, \"RetryAttempts\": 0}}\n"
     ]
    }
   ],
   "source": [
    "\n",
    "describe_topics_detection_job_result = comprehend.describe_topics_detection_job(JobId=job_id)\n",
    " \n",
    "print('describe_topics_detection_job_result: ' + dumps(describe_topics_detection_job_result, default=default))\n",
    " \n",
    "#list_topics_detection_jobs_result = comprehend.list_topics_detection_jobs()\n",
    " \n",
    "#print('list_topics_detection_jobs_result: ' + dumps(list_topics_detection_jobs_result, default=default))"
   ]
  },
  {
   "cell_type": "code",
   "execution_count": 60,
   "id": "6269d7e4",
   "metadata": {},
   "outputs": [
    {
     "name": "stdout",
     "output_type": "stream",
     "text": [
      "On branch main\r\n",
      "Your branch is up to date with 'origin/main'.\r\n",
      "\r\n",
      "Untracked files:\r\n",
      "  (use \"git add <file>...\" to include in what will be committed)\r\n",
      "\r\n",
      "\t\u001b[31mAI-bank-of-the-future-Can-banks-meet-the-AI-challenge-1.pdf.txt\u001b[m\r\n",
      "\t\u001b[31mAWSComprehend.ipynb\u001b[m\r\n",
      "\t\u001b[31mArtificial Financial Intelligence.pdf.txt\u001b[m\r\n",
      "\t\u001b[31mData machine the insurers using AI to reshape the industry Financial Times.pdf.txt\u001b[m\r\n",
      "\t\u001b[31mDigital-disruption-in-Insurance.pdf.txt\u001b[m\r\n",
      "\t\u001b[31mEPAM_Streamlining_the_Auto_Claims_Process_via_Integrated_IA.pdf.txt\u001b[m\r\n",
      "\t\u001b[31mInsurance-2030-The-impact-of-AI-on-the-future-of-insurance-F.pdf.txt\u001b[m\r\n",
      "\t\u001b[31mIssues_Paper_on_Increasing_Digitalisation_in_Insurance_and_its_Potential_Impact_on_Consumer_Outcomes.pdf.txt\u001b[m\r\n",
      "\t\u001b[31mKaggle State of Machine Learning and Data Science 2020.pdf.txt\u001b[m\r\n",
      "\t\u001b[31mModule-1-Lecture-Slides.pdf.txt\u001b[m\r\n",
      "\t\u001b[31mTechnology-and-innovation-in-the-insurance-sector.pdf.txt\u001b[m\r\n",
      "\t\u001b[31mUntitled.ipynb\u001b[m\r\n",
      "\t\u001b[31mWEF_Governance_of_Chatbots_in_Healthcare_2020.pdf.txt\u001b[m\r\n",
      "\t\u001b[31m_content_dam_Deloitte_de_Documents_Innovation_Artificial-Intelligence-in-Insurance-Whitepaper-deloitte-digital.pdf.txt\u001b[m\r\n",
      "\t\u001b[31mai-360-research.pdf.txt\u001b[m\r\n",
      "\t\u001b[31mai-insurance.pdf.txt\u001b[m\r\n",
      "\t\u001b[31mfra-2020-artificial-intelligence_en.pdf.txt\u001b[m\r\n",
      "\t\u001b[31mmerged.txt\u001b[m\r\n",
      "\t\u001b[31msigma-5-2020-en.pdf.txt\u001b[m\r\n",
      "\t\u001b[31msigma1_2020_en.pdf.txt\u001b[m\r\n",
      "\r\n",
      "nothing added to commit but untracked files present (use \"git add\" to track)\r\n"
     ]
    }
   ],
   "source": [
    "!git status"
   ]
  },
  {
   "cell_type": "code",
   "execution_count": null,
   "id": "8ed8b61a",
   "metadata": {},
   "outputs": [],
   "source": [
    "!git "
   ]
  }
 ],
 "metadata": {
  "kernelspec": {
   "display_name": "conda_python3",
   "language": "python",
   "name": "conda_python3"
  },
  "language_info": {
   "codemirror_mode": {
    "name": "ipython",
    "version": 3
   },
   "file_extension": ".py",
   "mimetype": "text/x-python",
   "name": "python",
   "nbconvert_exporter": "python",
   "pygments_lexer": "ipython3",
   "version": "3.6.13"
  }
 },
 "nbformat": 4,
 "nbformat_minor": 5
}
