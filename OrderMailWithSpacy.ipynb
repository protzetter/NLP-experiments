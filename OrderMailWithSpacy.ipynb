{
  "nbformat": 4,
  "nbformat_minor": 0,
  "metadata": {
    "kernelspec": {
      "display_name": "Python 3",
      "language": "python",
      "name": "python3"
    },
    "language_info": {
      "codemirror_mode": {
        "name": "ipython",
        "version": 3
      },
      "file_extension": ".py",
      "mimetype": "text/x-python",
      "name": "python",
      "nbconvert_exporter": "python",
      "pygments_lexer": "ipython3",
      "version": "3.7.4"
    },
    "colab": {
      "name": "Copy of ordermail.ipynb",
      "provenance": []
    }
  },
  "cells": [
    {
      "cell_type": "markdown",
      "metadata": {
        "id": "U_P9Vs_7pLmh"
      },
      "source": [
        "Created on March 21st 2020 by Patrick Rotzetter\n",
        "protzetter@bluewin.ch\n",
        "https://www.linkedin.com/in/rotzetter/\n",
        "\n",
        "**Small experiment for order mail processing**\n",
        "\n",
        "\n"
      ]
    },
    {
      "cell_type": "code",
      "metadata": {
        "id": "qPF1dXXBpLm4"
      },
      "source": [
        "# Import libraries\n",
        "import spacy\n",
        "from spacy.pipeline import EntityRuler\n",
        "from spacy.matcher import Matcher,PhraseMatcher\n",
        "from spacy.symbols import nsubj, VERB, dobj, NOUN, root, xcomp\n",
        "from spacy import displacy\n",
        "from spacy.matcher import Matcher\n",
        "from pathlib import Path\n",
        "import random  "
      ],
      "execution_count": null,
      "outputs": []
    },
    {
      "cell_type": "code",
      "metadata": {
        "id": "vFSOtLgPlvXh",
        "colab": {
          "base_uri": "https://localhost:8080/"
        },
        "outputId": "3a5e9c8c-e10a-4a64-e096-cdd02578ce39"
      },
      "source": [
        "!python -m spacy download en_core_web_lg"
      ],
      "execution_count": null,
      "outputs": [
        {
          "output_type": "stream",
          "text": [
            "Collecting en_core_web_lg==2.2.5\n",
            "\u001b[?25l  Downloading https://github.com/explosion/spacy-models/releases/download/en_core_web_lg-2.2.5/en_core_web_lg-2.2.5.tar.gz (827.9MB)\n",
            "\u001b[K     |████████████████████████████████| 827.9MB 1.2MB/s \n",
            "\u001b[?25hRequirement already satisfied: spacy>=2.2.2 in /usr/local/lib/python3.6/dist-packages (from en_core_web_lg==2.2.5) (2.2.4)\n",
            "Requirement already satisfied: preshed<3.1.0,>=3.0.2 in /usr/local/lib/python3.6/dist-packages (from spacy>=2.2.2->en_core_web_lg==2.2.5) (3.0.4)\n",
            "Requirement already satisfied: setuptools in /usr/local/lib/python3.6/dist-packages (from spacy>=2.2.2->en_core_web_lg==2.2.5) (50.3.2)\n",
            "Requirement already satisfied: plac<1.2.0,>=0.9.6 in /usr/local/lib/python3.6/dist-packages (from spacy>=2.2.2->en_core_web_lg==2.2.5) (1.1.3)\n",
            "Requirement already satisfied: catalogue<1.1.0,>=0.0.7 in /usr/local/lib/python3.6/dist-packages (from spacy>=2.2.2->en_core_web_lg==2.2.5) (1.0.0)\n",
            "Requirement already satisfied: murmurhash<1.1.0,>=0.28.0 in /usr/local/lib/python3.6/dist-packages (from spacy>=2.2.2->en_core_web_lg==2.2.5) (1.0.4)\n",
            "Requirement already satisfied: cymem<2.1.0,>=2.0.2 in /usr/local/lib/python3.6/dist-packages (from spacy>=2.2.2->en_core_web_lg==2.2.5) (2.0.4)\n",
            "Requirement already satisfied: requests<3.0.0,>=2.13.0 in /usr/local/lib/python3.6/dist-packages (from spacy>=2.2.2->en_core_web_lg==2.2.5) (2.23.0)\n",
            "Requirement already satisfied: thinc==7.4.0 in /usr/local/lib/python3.6/dist-packages (from spacy>=2.2.2->en_core_web_lg==2.2.5) (7.4.0)\n",
            "Requirement already satisfied: srsly<1.1.0,>=1.0.2 in /usr/local/lib/python3.6/dist-packages (from spacy>=2.2.2->en_core_web_lg==2.2.5) (1.0.4)\n",
            "Requirement already satisfied: wasabi<1.1.0,>=0.4.0 in /usr/local/lib/python3.6/dist-packages (from spacy>=2.2.2->en_core_web_lg==2.2.5) (0.8.0)\n",
            "Requirement already satisfied: numpy>=1.15.0 in /usr/local/lib/python3.6/dist-packages (from spacy>=2.2.2->en_core_web_lg==2.2.5) (1.18.5)\n",
            "Requirement already satisfied: tqdm<5.0.0,>=4.38.0 in /usr/local/lib/python3.6/dist-packages (from spacy>=2.2.2->en_core_web_lg==2.2.5) (4.41.1)\n",
            "Requirement already satisfied: blis<0.5.0,>=0.4.0 in /usr/local/lib/python3.6/dist-packages (from spacy>=2.2.2->en_core_web_lg==2.2.5) (0.4.1)\n",
            "Requirement already satisfied: importlib-metadata>=0.20; python_version < \"3.8\" in /usr/local/lib/python3.6/dist-packages (from catalogue<1.1.0,>=0.0.7->spacy>=2.2.2->en_core_web_lg==2.2.5) (2.0.0)\n",
            "Requirement already satisfied: urllib3!=1.25.0,!=1.25.1,<1.26,>=1.21.1 in /usr/local/lib/python3.6/dist-packages (from requests<3.0.0,>=2.13.0->spacy>=2.2.2->en_core_web_lg==2.2.5) (1.24.3)\n",
            "Requirement already satisfied: chardet<4,>=3.0.2 in /usr/local/lib/python3.6/dist-packages (from requests<3.0.0,>=2.13.0->spacy>=2.2.2->en_core_web_lg==2.2.5) (3.0.4)\n",
            "Requirement already satisfied: idna<3,>=2.5 in /usr/local/lib/python3.6/dist-packages (from requests<3.0.0,>=2.13.0->spacy>=2.2.2->en_core_web_lg==2.2.5) (2.10)\n",
            "Requirement already satisfied: certifi>=2017.4.17 in /usr/local/lib/python3.6/dist-packages (from requests<3.0.0,>=2.13.0->spacy>=2.2.2->en_core_web_lg==2.2.5) (2020.11.8)\n",
            "Requirement already satisfied: zipp>=0.5 in /usr/local/lib/python3.6/dist-packages (from importlib-metadata>=0.20; python_version < \"3.8\"->catalogue<1.1.0,>=0.0.7->spacy>=2.2.2->en_core_web_lg==2.2.5) (3.4.0)\n",
            "Building wheels for collected packages: en-core-web-lg\n",
            "  Building wheel for en-core-web-lg (setup.py) ... \u001b[?25l\u001b[?25hdone\n",
            "  Created wheel for en-core-web-lg: filename=en_core_web_lg-2.2.5-cp36-none-any.whl size=829180944 sha256=4fe7dfc7abe659dbaadef98f6e7a1a93f56930adf45401055494fd0b4d1dd0a3\n",
            "  Stored in directory: /tmp/pip-ephem-wheel-cache-oo7jei6a/wheels/2a/c1/a6/fc7a877b1efca9bc6a089d6f506f16d3868408f9ff89f8dbfc\n",
            "Successfully built en-core-web-lg\n",
            "Installing collected packages: en-core-web-lg\n",
            "Successfully installed en-core-web-lg-2.2.5\n",
            "\u001b[38;5;2m✔ Download and installation successful\u001b[0m\n",
            "You can now load the model via spacy.load('en_core_web_lg')\n"
          ],
          "name": "stdout"
        }
      ]
    },
    {
      "cell_type": "code",
      "metadata": {
        "id": "G0kIIbSlRigk",
        "colab": {
          "base_uri": "https://localhost:8080/"
        },
        "outputId": "19fce0d5-9c4b-4854-cd35-0938ef946e7f"
      },
      "source": [
        "from platform import python_version\n",
        "print(python_version())\n",
        "!pip show spacy"
      ],
      "execution_count": null,
      "outputs": [
        {
          "output_type": "stream",
          "text": [
            "3.6.9\n",
            "Name: spacy\n",
            "Version: 2.2.4\n",
            "Summary: Industrial-strength Natural Language Processing (NLP) in Python\n",
            "Home-page: https://spacy.io\n",
            "Author: Explosion\n",
            "Author-email: contact@explosion.ai\n",
            "License: MIT\n",
            "Location: /usr/local/lib/python3.6/dist-packages\n",
            "Requires: wasabi, tqdm, requests, numpy, setuptools, murmurhash, catalogue, preshed, blis, thinc, srsly, cymem, plac\n",
            "Required-by: fastai, en-core-web-sm, en-core-web-lg\n"
          ],
          "name": "stdout"
        }
      ]
    },
    {
      "cell_type": "code",
      "metadata": {
        "id": "GixaCyvwaHTZ"
      },
      "source": [
        "# load spacy model\n",
        "\n",
        "from spacy.lang.en import English\n",
        "import en_core_web_lg\n",
        "nlp = en_core_web_lg.load()"
      ],
      "execution_count": null,
      "outputs": []
    },
    {
      "cell_type": "code",
      "metadata": {
        "id": "32omJ4nMqyYD",
        "colab": {
          "base_uri": "https://localhost:8080/"
        },
        "outputId": "d5973132-3214-4783-d978-352737984bc9"
      },
      "source": [
        "# connect to google drive\n",
        "from google.colab import drive\n",
        "drive.mount('/content/drive')"
      ],
      "execution_count": null,
      "outputs": [
        {
          "output_type": "stream",
          "text": [
            "Mounted at /content/drive\n"
          ],
          "name": "stdout"
        }
      ]
    },
    {
      "cell_type": "code",
      "metadata": {
        "id": "mlh4tq5ppLnD",
        "colab": {
          "base_uri": "https://localhost:8080/"
        },
        "outputId": "1be2524a-1438-4453-de6f-801e27860255"
      },
      "source": [
        "#read mail file\n",
        "\n",
        "text = open('/content/drive/My Drive/Colab Notebooks/ordermail.txt').read().replace('\\n', ' ')\n",
        "\n",
        "print(text)\n"
      ],
      "execution_count": null,
      "outputs": [
        {
          "output_type": "stream",
          "text": [
            "Hello,  I would like to order a notebook with 16GB and 256 GB disk, I would like to spend less than 1000 Francs, what would be the options  Thanks a lot  Patrick\n"
          ],
          "name": "stdout"
        }
      ]
    },
    {
      "cell_type": "code",
      "metadata": {
        "id": "MM2JLVdDpLnP"
      },
      "source": [
        "#process the mail trough standard spacy pipeline\n",
        "docMail=nlp(text)\n"
      ],
      "execution_count": null,
      "outputs": []
    },
    {
      "cell_type": "code",
      "metadata": {
        "id": "VfqjYwm-pLnY",
        "colab": {
          "base_uri": "https://localhost:8080/"
        },
        "outputId": "0c0d80a5-c28a-4d64-9ee0-813346ff8b83"
      },
      "source": [
        "# print text entities detected\n",
        "for ent in docMail.ents :\n",
        "    print(ent.text, ent.label_,)\n"
      ],
      "execution_count": null,
      "outputs": [
        {
          "output_type": "stream",
          "text": [
            "16GB QUANTITY\n",
            "256 GB QUANTITY\n",
            "less than 1000 Francs MONEY\n",
            "Patrick PERSON\n"
          ],
          "name": "stdout"
        }
      ]
    },
    {
      "cell_type": "code",
      "metadata": {
        "id": "ktTxXUv6pLnm"
      },
      "source": [
        "# add domain specific entities and add to the pipeline\n",
        "patterns = [{\"label\": \"OBJECT\", \"pattern\":  [{\"lower\": \"real estate\"}]},\n",
        "             {\"label\": \"CURRENCY\", \"pattern\":  [{\"lower\": \"francs\"}]},\n",
        "            {\"label\": \"PART\", \"pattern\":  [{\"lower\": \"disk\"}]}]\n",
        "\n",
        "ruler = EntityRuler(nlp, patterns=patterns,overwrite_ents=True)\n",
        "nlp.add_pipe(ruler)\n"
      ],
      "execution_count": null,
      "outputs": []
    },
    {
      "cell_type": "code",
      "metadata": {
        "id": "yGXjca-QpLnw",
        "colab": {
          "base_uri": "https://localhost:8080/"
        },
        "outputId": "ce015e62-7de1-49e2-ee0f-5dc729a5162e"
      },
      "source": [
        "#process the mail again with added entities\n",
        "docMail=nlp(text)\n",
        "for ents in docMail.ents:\n",
        "    # Print the entity text and its label\n",
        "    print(ents.text, ents.label_,)\n",
        "\n"
      ],
      "execution_count": null,
      "outputs": [
        {
          "output_type": "stream",
          "text": [
            "16GB QUANTITY\n",
            "256 GB QUANTITY\n",
            "disk PART\n",
            "Francs CURRENCY\n",
            "Patrick PERSON\n"
          ],
          "name": "stdout"
        }
      ]
    },
    {
      "cell_type": "code",
      "metadata": {
        "id": "KIMIRSvfpLn4",
        "colab": {
          "base_uri": "https://localhost:8080/"
        },
        "outputId": "7d2b1736-124b-435b-fd4b-bcd2589bf0d6"
      },
      "source": [
        "matcher = PhraseMatcher(nlp.vocab)\n",
        "terms = [\"16 GB\",\"256 GB\"]\n",
        "# Only run nlp.make_doc to speed things up\n",
        "patterns = [nlp.make_doc(t) for t in terms]\n",
        "matcher.add(\"MEMORY\", None, *patterns)\n",
        "\n",
        "doc = nlp(text)\n",
        "matches = matcher(doc)\n",
        "for match_id, start, end in matches:\n",
        "    span = doc[start:end]\n",
        "    print(span.text)"
      ],
      "execution_count": null,
      "outputs": [
        {
          "output_type": "stream",
          "text": [
            "16GB\n",
            "256 GB\n"
          ],
          "name": "stdout"
        }
      ]
    },
    {
      "cell_type": "code",
      "metadata": {
        "id": "S6f_65tpdU5B",
        "colab": {
          "base_uri": "https://localhost:8080/"
        },
        "outputId": "aaa2c503-1cbc-4010-8b5e-220aa3241c7c"
      },
      "source": [
        "for token in docMail:\n",
        "  print(token.text, token.dep_, token.head.text, token.head.pos_,\n",
        "            [child for child in token.children])"
      ],
      "execution_count": null,
      "outputs": [
        {
          "output_type": "stream",
          "text": [
            "Hello intj like VERB []\n",
            ", punct like VERB [ ]\n",
            "   , PUNCT []\n",
            "I nsubj like VERB []\n",
            "would aux like VERB []\n",
            "like ccomp like VERB [Hello, ,, I, would, order]\n",
            "to aux order VERB []\n",
            "order xcomp like VERB [to, notebook]\n",
            "a det notebook NOUN []\n",
            "notebook dobj order VERB [a, with]\n",
            "with prep notebook NOUN [GB]\n",
            "16 nummod GB PROPN []\n",
            "GB pobj with ADP [16, and, disk]\n",
            "and cc GB PROPN []\n",
            "256 nummod disk NOUN []\n",
            "GB compound disk NOUN []\n",
            "disk conj GB PROPN [256, GB]\n",
            ", punct like VERB []\n",
            "I nsubj like VERB []\n",
            "would aux like VERB []\n",
            "like ROOT like VERB [like, ,, I, would, spend]\n",
            "to aux spend VERB []\n",
            "spend xcomp like VERB [to, Francs]\n",
            "less amod 1000 NUM []\n",
            "than quantmod 1000 NUM []\n",
            "1000 nummod Francs NOUN [less, than]\n",
            "Francs dobj spend VERB [1000]\n",
            ", punct be AUX []\n",
            "what nsubj be AUX []\n",
            "would aux be AUX []\n",
            "be ROOT be AUX [,, what, would, options]\n",
            "the det options NOUN []\n",
            "options attr be AUX [the,  ]\n",
            "   options NOUN []\n",
            "Thanks ROOT Thanks NOUN [lot, Patrick]\n",
            "a det lot NOUN []\n",
            "lot npadvmod Thanks NOUN [a,  ]\n",
            "   lot NOUN []\n",
            "Patrick npadvmod Thanks NOUN []\n"
          ],
          "name": "stdout"
        }
      ]
    },
    {
      "cell_type": "code",
      "metadata": {
        "id": "7GVukhKHpLoC",
        "colab": {
          "base_uri": "https://localhost:8080/",
          "height": 528
        },
        "outputId": "3c774548-0595-4c42-b9a1-786b90a97226"
      },
      "source": [
        "displacy.render(docMail, style=\"dep\", minify=True, jupyter=True)"
      ],
      "execution_count": null,
      "outputs": [
        {
          "output_type": "display_data",
          "data": {
            "text/html": [
              "<span class=\"tex2jax_ignore\"><svg xmlns=\"http://www.w3.org/2000/svg\" xmlns:xlink=\"http://www.w3.org/1999/xlink\" xml:lang=\"en\" id=\"224335cb2334431389687ce619f0d7dc-0\" class=\"displacy\" width=\"6350\" height=\"487.0\" direction=\"ltr\" style=\"max-width: none; height: 487.0px; color: #000000; background: #ffffff; font-family: Arial; direction: ltr\"><text class=\"displacy-token\" fill=\"currentColor\" text-anchor=\"middle\" y=\"397.0\"><tspan class=\"displacy-word\" fill=\"currentColor\" x=\"50\">Hello,</tspan><tspan class=\"displacy-tag\" dy=\"2em\" fill=\"currentColor\" x=\"50\">INTJ</tspan></text><text class=\"displacy-token\" fill=\"currentColor\" text-anchor=\"middle\" y=\"397.0\"><tspan class=\"displacy-word\" fill=\"currentColor\" x=\"225\"> </tspan><tspan class=\"displacy-tag\" dy=\"2em\" fill=\"currentColor\" x=\"225\">SPACE</tspan></text><text class=\"displacy-token\" fill=\"currentColor\" text-anchor=\"middle\" y=\"397.0\"><tspan class=\"displacy-word\" fill=\"currentColor\" x=\"400\">I</tspan><tspan class=\"displacy-tag\" dy=\"2em\" fill=\"currentColor\" x=\"400\">PRON</tspan></text><text class=\"displacy-token\" fill=\"currentColor\" text-anchor=\"middle\" y=\"397.0\"><tspan class=\"displacy-word\" fill=\"currentColor\" x=\"575\">would</tspan><tspan class=\"displacy-tag\" dy=\"2em\" fill=\"currentColor\" x=\"575\">VERB</tspan></text><text class=\"displacy-token\" fill=\"currentColor\" text-anchor=\"middle\" y=\"397.0\"><tspan class=\"displacy-word\" fill=\"currentColor\" x=\"750\">like</tspan><tspan class=\"displacy-tag\" dy=\"2em\" fill=\"currentColor\" x=\"750\">VERB</tspan></text><text class=\"displacy-token\" fill=\"currentColor\" text-anchor=\"middle\" y=\"397.0\"><tspan class=\"displacy-word\" fill=\"currentColor\" x=\"925\">to</tspan><tspan class=\"displacy-tag\" dy=\"2em\" fill=\"currentColor\" x=\"925\">PART</tspan></text><text class=\"displacy-token\" fill=\"currentColor\" text-anchor=\"middle\" y=\"397.0\"><tspan class=\"displacy-word\" fill=\"currentColor\" x=\"1100\">order</tspan><tspan class=\"displacy-tag\" dy=\"2em\" fill=\"currentColor\" x=\"1100\">VERB</tspan></text><text class=\"displacy-token\" fill=\"currentColor\" text-anchor=\"middle\" y=\"397.0\"><tspan class=\"displacy-word\" fill=\"currentColor\" x=\"1275\">a</tspan><tspan class=\"displacy-tag\" dy=\"2em\" fill=\"currentColor\" x=\"1275\">DET</tspan></text><text class=\"displacy-token\" fill=\"currentColor\" text-anchor=\"middle\" y=\"397.0\"><tspan class=\"displacy-word\" fill=\"currentColor\" x=\"1450\">notebook</tspan><tspan class=\"displacy-tag\" dy=\"2em\" fill=\"currentColor\" x=\"1450\">NOUN</tspan></text><text class=\"displacy-token\" fill=\"currentColor\" text-anchor=\"middle\" y=\"397.0\"><tspan class=\"displacy-word\" fill=\"currentColor\" x=\"1625\">with</tspan><tspan class=\"displacy-tag\" dy=\"2em\" fill=\"currentColor\" x=\"1625\">ADP</tspan></text><text class=\"displacy-token\" fill=\"currentColor\" text-anchor=\"middle\" y=\"397.0\"><tspan class=\"displacy-word\" fill=\"currentColor\" x=\"1800\">16</tspan><tspan class=\"displacy-tag\" dy=\"2em\" fill=\"currentColor\" x=\"1800\">NUM</tspan></text><text class=\"displacy-token\" fill=\"currentColor\" text-anchor=\"middle\" y=\"397.0\"><tspan class=\"displacy-word\" fill=\"currentColor\" x=\"1975\">GB</tspan><tspan class=\"displacy-tag\" dy=\"2em\" fill=\"currentColor\" x=\"1975\">PROPN</tspan></text><text class=\"displacy-token\" fill=\"currentColor\" text-anchor=\"middle\" y=\"397.0\"><tspan class=\"displacy-word\" fill=\"currentColor\" x=\"2150\">and</tspan><tspan class=\"displacy-tag\" dy=\"2em\" fill=\"currentColor\" x=\"2150\">CCONJ</tspan></text><text class=\"displacy-token\" fill=\"currentColor\" text-anchor=\"middle\" y=\"397.0\"><tspan class=\"displacy-word\" fill=\"currentColor\" x=\"2325\">256</tspan><tspan class=\"displacy-tag\" dy=\"2em\" fill=\"currentColor\" x=\"2325\">NUM</tspan></text><text class=\"displacy-token\" fill=\"currentColor\" text-anchor=\"middle\" y=\"397.0\"><tspan class=\"displacy-word\" fill=\"currentColor\" x=\"2500\">GB</tspan><tspan class=\"displacy-tag\" dy=\"2em\" fill=\"currentColor\" x=\"2500\">PROPN</tspan></text><text class=\"displacy-token\" fill=\"currentColor\" text-anchor=\"middle\" y=\"397.0\"><tspan class=\"displacy-word\" fill=\"currentColor\" x=\"2675\">disk,</tspan><tspan class=\"displacy-tag\" dy=\"2em\" fill=\"currentColor\" x=\"2675\">NOUN</tspan></text><text class=\"displacy-token\" fill=\"currentColor\" text-anchor=\"middle\" y=\"397.0\"><tspan class=\"displacy-word\" fill=\"currentColor\" x=\"2850\">I</tspan><tspan class=\"displacy-tag\" dy=\"2em\" fill=\"currentColor\" x=\"2850\">PRON</tspan></text><text class=\"displacy-token\" fill=\"currentColor\" text-anchor=\"middle\" y=\"397.0\"><tspan class=\"displacy-word\" fill=\"currentColor\" x=\"3025\">would</tspan><tspan class=\"displacy-tag\" dy=\"2em\" fill=\"currentColor\" x=\"3025\">VERB</tspan></text><text class=\"displacy-token\" fill=\"currentColor\" text-anchor=\"middle\" y=\"397.0\"><tspan class=\"displacy-word\" fill=\"currentColor\" x=\"3200\">like</tspan><tspan class=\"displacy-tag\" dy=\"2em\" fill=\"currentColor\" x=\"3200\">VERB</tspan></text><text class=\"displacy-token\" fill=\"currentColor\" text-anchor=\"middle\" y=\"397.0\"><tspan class=\"displacy-word\" fill=\"currentColor\" x=\"3375\">to</tspan><tspan class=\"displacy-tag\" dy=\"2em\" fill=\"currentColor\" x=\"3375\">PART</tspan></text><text class=\"displacy-token\" fill=\"currentColor\" text-anchor=\"middle\" y=\"397.0\"><tspan class=\"displacy-word\" fill=\"currentColor\" x=\"3550\">spend</tspan><tspan class=\"displacy-tag\" dy=\"2em\" fill=\"currentColor\" x=\"3550\">VERB</tspan></text><text class=\"displacy-token\" fill=\"currentColor\" text-anchor=\"middle\" y=\"397.0\"><tspan class=\"displacy-word\" fill=\"currentColor\" x=\"3725\">less</tspan><tspan class=\"displacy-tag\" dy=\"2em\" fill=\"currentColor\" x=\"3725\">ADJ</tspan></text><text class=\"displacy-token\" fill=\"currentColor\" text-anchor=\"middle\" y=\"397.0\"><tspan class=\"displacy-word\" fill=\"currentColor\" x=\"3900\">than</tspan><tspan class=\"displacy-tag\" dy=\"2em\" fill=\"currentColor\" x=\"3900\">SCONJ</tspan></text><text class=\"displacy-token\" fill=\"currentColor\" text-anchor=\"middle\" y=\"397.0\"><tspan class=\"displacy-word\" fill=\"currentColor\" x=\"4075\">1000</tspan><tspan class=\"displacy-tag\" dy=\"2em\" fill=\"currentColor\" x=\"4075\">NUM</tspan></text><text class=\"displacy-token\" fill=\"currentColor\" text-anchor=\"middle\" y=\"397.0\"><tspan class=\"displacy-word\" fill=\"currentColor\" x=\"4250\">Francs,</tspan><tspan class=\"displacy-tag\" dy=\"2em\" fill=\"currentColor\" x=\"4250\">NOUN</tspan></text><text class=\"displacy-token\" fill=\"currentColor\" text-anchor=\"middle\" y=\"397.0\"><tspan class=\"displacy-word\" fill=\"currentColor\" x=\"4425\">what</tspan><tspan class=\"displacy-tag\" dy=\"2em\" fill=\"currentColor\" x=\"4425\">PRON</tspan></text><text class=\"displacy-token\" fill=\"currentColor\" text-anchor=\"middle\" y=\"397.0\"><tspan class=\"displacy-word\" fill=\"currentColor\" x=\"4600\">would</tspan><tspan class=\"displacy-tag\" dy=\"2em\" fill=\"currentColor\" x=\"4600\">VERB</tspan></text><text class=\"displacy-token\" fill=\"currentColor\" text-anchor=\"middle\" y=\"397.0\"><tspan class=\"displacy-word\" fill=\"currentColor\" x=\"4775\">be</tspan><tspan class=\"displacy-tag\" dy=\"2em\" fill=\"currentColor\" x=\"4775\">AUX</tspan></text><text class=\"displacy-token\" fill=\"currentColor\" text-anchor=\"middle\" y=\"397.0\"><tspan class=\"displacy-word\" fill=\"currentColor\" x=\"4950\">the</tspan><tspan class=\"displacy-tag\" dy=\"2em\" fill=\"currentColor\" x=\"4950\">DET</tspan></text><text class=\"displacy-token\" fill=\"currentColor\" text-anchor=\"middle\" y=\"397.0\"><tspan class=\"displacy-word\" fill=\"currentColor\" x=\"5125\">options</tspan><tspan class=\"displacy-tag\" dy=\"2em\" fill=\"currentColor\" x=\"5125\">NOUN</tspan></text><text class=\"displacy-token\" fill=\"currentColor\" text-anchor=\"middle\" y=\"397.0\"><tspan class=\"displacy-word\" fill=\"currentColor\" x=\"5300\"> </tspan><tspan class=\"displacy-tag\" dy=\"2em\" fill=\"currentColor\" x=\"5300\">SPACE</tspan></text><text class=\"displacy-token\" fill=\"currentColor\" text-anchor=\"middle\" y=\"397.0\"><tspan class=\"displacy-word\" fill=\"currentColor\" x=\"5475\">Thanks</tspan><tspan class=\"displacy-tag\" dy=\"2em\" fill=\"currentColor\" x=\"5475\">NOUN</tspan></text><text class=\"displacy-token\" fill=\"currentColor\" text-anchor=\"middle\" y=\"397.0\"><tspan class=\"displacy-word\" fill=\"currentColor\" x=\"5650\">a</tspan><tspan class=\"displacy-tag\" dy=\"2em\" fill=\"currentColor\" x=\"5650\">DET</tspan></text><text class=\"displacy-token\" fill=\"currentColor\" text-anchor=\"middle\" y=\"397.0\"><tspan class=\"displacy-word\" fill=\"currentColor\" x=\"5825\">lot</tspan><tspan class=\"displacy-tag\" dy=\"2em\" fill=\"currentColor\" x=\"5825\">NOUN</tspan></text><text class=\"displacy-token\" fill=\"currentColor\" text-anchor=\"middle\" y=\"397.0\"><tspan class=\"displacy-word\" fill=\"currentColor\" x=\"6000\"> </tspan><tspan class=\"displacy-tag\" dy=\"2em\" fill=\"currentColor\" x=\"6000\">SPACE</tspan></text><text class=\"displacy-token\" fill=\"currentColor\" text-anchor=\"middle\" y=\"397.0\"><tspan class=\"displacy-word\" fill=\"currentColor\" x=\"6175\">Patrick</tspan><tspan class=\"displacy-tag\" dy=\"2em\" fill=\"currentColor\" x=\"6175\">PROPN</tspan></text><g class=\"displacy-arrow\"><path class=\"displacy-arc\" id=\"arrow-224335cb2334431389687ce619f0d7dc-0-0\" stroke-width=\"2px\" d=\"M70,352.0 C70,89.5 745.0,89.5 745.0,352.0\" fill=\"none\" stroke=\"currentColor\"/><text dy=\"1.25em\" style=\"font-size: 0.8em; letter-spacing: 1px\"><textPath xlink:href=\"#arrow-224335cb2334431389687ce619f0d7dc-0-0\" class=\"displacy-label\" startOffset=\"50%\" side=\"left\" fill=\"currentColor\" text-anchor=\"middle\">intj</textPath></text><path class=\"displacy-arrowhead\" d=\"M70,354.0 L62,342.0 78,342.0\" fill=\"currentColor\"/></g><g class=\"displacy-arrow\"><path class=\"displacy-arc\" id=\"arrow-224335cb2334431389687ce619f0d7dc-0-1\" stroke-width=\"2px\" d=\"M70,352.0 C70,264.5 210.0,264.5 210.0,352.0\" fill=\"none\" stroke=\"currentColor\"/><text dy=\"1.25em\" style=\"font-size: 0.8em; letter-spacing: 1px\"><textPath xlink:href=\"#arrow-224335cb2334431389687ce619f0d7dc-0-1\" class=\"displacy-label\" startOffset=\"50%\" side=\"left\" fill=\"currentColor\" text-anchor=\"middle\"></textPath></text><path class=\"displacy-arrowhead\" d=\"M210.0,354.0 L218.0,342.0 202.0,342.0\" fill=\"currentColor\"/></g><g class=\"displacy-arrow\"><path class=\"displacy-arc\" id=\"arrow-224335cb2334431389687ce619f0d7dc-0-2\" stroke-width=\"2px\" d=\"M420,352.0 C420,177.0 740.0,177.0 740.0,352.0\" fill=\"none\" stroke=\"currentColor\"/><text dy=\"1.25em\" style=\"font-size: 0.8em; letter-spacing: 1px\"><textPath xlink:href=\"#arrow-224335cb2334431389687ce619f0d7dc-0-2\" class=\"displacy-label\" startOffset=\"50%\" side=\"left\" fill=\"currentColor\" text-anchor=\"middle\">nsubj</textPath></text><path class=\"displacy-arrowhead\" d=\"M420,354.0 L412,342.0 428,342.0\" fill=\"currentColor\"/></g><g class=\"displacy-arrow\"><path class=\"displacy-arc\" id=\"arrow-224335cb2334431389687ce619f0d7dc-0-3\" stroke-width=\"2px\" d=\"M595,352.0 C595,264.5 735.0,264.5 735.0,352.0\" fill=\"none\" stroke=\"currentColor\"/><text dy=\"1.25em\" style=\"font-size: 0.8em; letter-spacing: 1px\"><textPath xlink:href=\"#arrow-224335cb2334431389687ce619f0d7dc-0-3\" class=\"displacy-label\" startOffset=\"50%\" side=\"left\" fill=\"currentColor\" text-anchor=\"middle\">aux</textPath></text><path class=\"displacy-arrowhead\" d=\"M595,354.0 L587,342.0 603,342.0\" fill=\"currentColor\"/></g><g class=\"displacy-arrow\"><path class=\"displacy-arc\" id=\"arrow-224335cb2334431389687ce619f0d7dc-0-4\" stroke-width=\"2px\" d=\"M770,352.0 C770,2.0 3200.0,2.0 3200.0,352.0\" fill=\"none\" stroke=\"currentColor\"/><text dy=\"1.25em\" style=\"font-size: 0.8em; letter-spacing: 1px\"><textPath xlink:href=\"#arrow-224335cb2334431389687ce619f0d7dc-0-4\" class=\"displacy-label\" startOffset=\"50%\" side=\"left\" fill=\"currentColor\" text-anchor=\"middle\">ccomp</textPath></text><path class=\"displacy-arrowhead\" d=\"M770,354.0 L762,342.0 778,342.0\" fill=\"currentColor\"/></g><g class=\"displacy-arrow\"><path class=\"displacy-arc\" id=\"arrow-224335cb2334431389687ce619f0d7dc-0-5\" stroke-width=\"2px\" d=\"M945,352.0 C945,264.5 1085.0,264.5 1085.0,352.0\" fill=\"none\" stroke=\"currentColor\"/><text dy=\"1.25em\" style=\"font-size: 0.8em; letter-spacing: 1px\"><textPath xlink:href=\"#arrow-224335cb2334431389687ce619f0d7dc-0-5\" class=\"displacy-label\" startOffset=\"50%\" side=\"left\" fill=\"currentColor\" text-anchor=\"middle\">aux</textPath></text><path class=\"displacy-arrowhead\" d=\"M945,354.0 L937,342.0 953,342.0\" fill=\"currentColor\"/></g><g class=\"displacy-arrow\"><path class=\"displacy-arc\" id=\"arrow-224335cb2334431389687ce619f0d7dc-0-6\" stroke-width=\"2px\" d=\"M770,352.0 C770,177.0 1090.0,177.0 1090.0,352.0\" fill=\"none\" stroke=\"currentColor\"/><text dy=\"1.25em\" style=\"font-size: 0.8em; letter-spacing: 1px\"><textPath xlink:href=\"#arrow-224335cb2334431389687ce619f0d7dc-0-6\" class=\"displacy-label\" startOffset=\"50%\" side=\"left\" fill=\"currentColor\" text-anchor=\"middle\">xcomp</textPath></text><path class=\"displacy-arrowhead\" d=\"M1090.0,354.0 L1098.0,342.0 1082.0,342.0\" fill=\"currentColor\"/></g><g class=\"displacy-arrow\"><path class=\"displacy-arc\" id=\"arrow-224335cb2334431389687ce619f0d7dc-0-7\" stroke-width=\"2px\" d=\"M1295,352.0 C1295,264.5 1435.0,264.5 1435.0,352.0\" fill=\"none\" stroke=\"currentColor\"/><text dy=\"1.25em\" style=\"font-size: 0.8em; letter-spacing: 1px\"><textPath xlink:href=\"#arrow-224335cb2334431389687ce619f0d7dc-0-7\" class=\"displacy-label\" startOffset=\"50%\" side=\"left\" fill=\"currentColor\" text-anchor=\"middle\">det</textPath></text><path class=\"displacy-arrowhead\" d=\"M1295,354.0 L1287,342.0 1303,342.0\" fill=\"currentColor\"/></g><g class=\"displacy-arrow\"><path class=\"displacy-arc\" id=\"arrow-224335cb2334431389687ce619f0d7dc-0-8\" stroke-width=\"2px\" d=\"M1120,352.0 C1120,177.0 1440.0,177.0 1440.0,352.0\" fill=\"none\" stroke=\"currentColor\"/><text dy=\"1.25em\" style=\"font-size: 0.8em; letter-spacing: 1px\"><textPath xlink:href=\"#arrow-224335cb2334431389687ce619f0d7dc-0-8\" class=\"displacy-label\" startOffset=\"50%\" side=\"left\" fill=\"currentColor\" text-anchor=\"middle\">dobj</textPath></text><path class=\"displacy-arrowhead\" d=\"M1440.0,354.0 L1448.0,342.0 1432.0,342.0\" fill=\"currentColor\"/></g><g class=\"displacy-arrow\"><path class=\"displacy-arc\" id=\"arrow-224335cb2334431389687ce619f0d7dc-0-9\" stroke-width=\"2px\" d=\"M1470,352.0 C1470,264.5 1610.0,264.5 1610.0,352.0\" fill=\"none\" stroke=\"currentColor\"/><text dy=\"1.25em\" style=\"font-size: 0.8em; letter-spacing: 1px\"><textPath xlink:href=\"#arrow-224335cb2334431389687ce619f0d7dc-0-9\" class=\"displacy-label\" startOffset=\"50%\" side=\"left\" fill=\"currentColor\" text-anchor=\"middle\">prep</textPath></text><path class=\"displacy-arrowhead\" d=\"M1610.0,354.0 L1618.0,342.0 1602.0,342.0\" fill=\"currentColor\"/></g><g class=\"displacy-arrow\"><path class=\"displacy-arc\" id=\"arrow-224335cb2334431389687ce619f0d7dc-0-10\" stroke-width=\"2px\" d=\"M1820,352.0 C1820,264.5 1960.0,264.5 1960.0,352.0\" fill=\"none\" stroke=\"currentColor\"/><text dy=\"1.25em\" style=\"font-size: 0.8em; letter-spacing: 1px\"><textPath xlink:href=\"#arrow-224335cb2334431389687ce619f0d7dc-0-10\" class=\"displacy-label\" startOffset=\"50%\" side=\"left\" fill=\"currentColor\" text-anchor=\"middle\">nummod</textPath></text><path class=\"displacy-arrowhead\" d=\"M1820,354.0 L1812,342.0 1828,342.0\" fill=\"currentColor\"/></g><g class=\"displacy-arrow\"><path class=\"displacy-arc\" id=\"arrow-224335cb2334431389687ce619f0d7dc-0-11\" stroke-width=\"2px\" d=\"M1645,352.0 C1645,177.0 1965.0,177.0 1965.0,352.0\" fill=\"none\" stroke=\"currentColor\"/><text dy=\"1.25em\" style=\"font-size: 0.8em; letter-spacing: 1px\"><textPath xlink:href=\"#arrow-224335cb2334431389687ce619f0d7dc-0-11\" class=\"displacy-label\" startOffset=\"50%\" side=\"left\" fill=\"currentColor\" text-anchor=\"middle\">pobj</textPath></text><path class=\"displacy-arrowhead\" d=\"M1965.0,354.0 L1973.0,342.0 1957.0,342.0\" fill=\"currentColor\"/></g><g class=\"displacy-arrow\"><path class=\"displacy-arc\" id=\"arrow-224335cb2334431389687ce619f0d7dc-0-12\" stroke-width=\"2px\" d=\"M1995,352.0 C1995,264.5 2135.0,264.5 2135.0,352.0\" fill=\"none\" stroke=\"currentColor\"/><text dy=\"1.25em\" style=\"font-size: 0.8em; letter-spacing: 1px\"><textPath xlink:href=\"#arrow-224335cb2334431389687ce619f0d7dc-0-12\" class=\"displacy-label\" startOffset=\"50%\" side=\"left\" fill=\"currentColor\" text-anchor=\"middle\">cc</textPath></text><path class=\"displacy-arrowhead\" d=\"M2135.0,354.0 L2143.0,342.0 2127.0,342.0\" fill=\"currentColor\"/></g><g class=\"displacy-arrow\"><path class=\"displacy-arc\" id=\"arrow-224335cb2334431389687ce619f0d7dc-0-13\" stroke-width=\"2px\" d=\"M2345,352.0 C2345,177.0 2665.0,177.0 2665.0,352.0\" fill=\"none\" stroke=\"currentColor\"/><text dy=\"1.25em\" style=\"font-size: 0.8em; letter-spacing: 1px\"><textPath xlink:href=\"#arrow-224335cb2334431389687ce619f0d7dc-0-13\" class=\"displacy-label\" startOffset=\"50%\" side=\"left\" fill=\"currentColor\" text-anchor=\"middle\">nummod</textPath></text><path class=\"displacy-arrowhead\" d=\"M2345,354.0 L2337,342.0 2353,342.0\" fill=\"currentColor\"/></g><g class=\"displacy-arrow\"><path class=\"displacy-arc\" id=\"arrow-224335cb2334431389687ce619f0d7dc-0-14\" stroke-width=\"2px\" d=\"M2520,352.0 C2520,264.5 2660.0,264.5 2660.0,352.0\" fill=\"none\" stroke=\"currentColor\"/><text dy=\"1.25em\" style=\"font-size: 0.8em; letter-spacing: 1px\"><textPath xlink:href=\"#arrow-224335cb2334431389687ce619f0d7dc-0-14\" class=\"displacy-label\" startOffset=\"50%\" side=\"left\" fill=\"currentColor\" text-anchor=\"middle\">compound</textPath></text><path class=\"displacy-arrowhead\" d=\"M2520,354.0 L2512,342.0 2528,342.0\" fill=\"currentColor\"/></g><g class=\"displacy-arrow\"><path class=\"displacy-arc\" id=\"arrow-224335cb2334431389687ce619f0d7dc-0-15\" stroke-width=\"2px\" d=\"M1995,352.0 C1995,89.5 2670.0,89.5 2670.0,352.0\" fill=\"none\" stroke=\"currentColor\"/><text dy=\"1.25em\" style=\"font-size: 0.8em; letter-spacing: 1px\"><textPath xlink:href=\"#arrow-224335cb2334431389687ce619f0d7dc-0-15\" class=\"displacy-label\" startOffset=\"50%\" side=\"left\" fill=\"currentColor\" text-anchor=\"middle\">conj</textPath></text><path class=\"displacy-arrowhead\" d=\"M2670.0,354.0 L2678.0,342.0 2662.0,342.0\" fill=\"currentColor\"/></g><g class=\"displacy-arrow\"><path class=\"displacy-arc\" id=\"arrow-224335cb2334431389687ce619f0d7dc-0-16\" stroke-width=\"2px\" d=\"M2870,352.0 C2870,177.0 3190.0,177.0 3190.0,352.0\" fill=\"none\" stroke=\"currentColor\"/><text dy=\"1.25em\" style=\"font-size: 0.8em; letter-spacing: 1px\"><textPath xlink:href=\"#arrow-224335cb2334431389687ce619f0d7dc-0-16\" class=\"displacy-label\" startOffset=\"50%\" side=\"left\" fill=\"currentColor\" text-anchor=\"middle\">nsubj</textPath></text><path class=\"displacy-arrowhead\" d=\"M2870,354.0 L2862,342.0 2878,342.0\" fill=\"currentColor\"/></g><g class=\"displacy-arrow\"><path class=\"displacy-arc\" id=\"arrow-224335cb2334431389687ce619f0d7dc-0-17\" stroke-width=\"2px\" d=\"M3045,352.0 C3045,264.5 3185.0,264.5 3185.0,352.0\" fill=\"none\" stroke=\"currentColor\"/><text dy=\"1.25em\" style=\"font-size: 0.8em; letter-spacing: 1px\"><textPath xlink:href=\"#arrow-224335cb2334431389687ce619f0d7dc-0-17\" class=\"displacy-label\" startOffset=\"50%\" side=\"left\" fill=\"currentColor\" text-anchor=\"middle\">aux</textPath></text><path class=\"displacy-arrowhead\" d=\"M3045,354.0 L3037,342.0 3053,342.0\" fill=\"currentColor\"/></g><g class=\"displacy-arrow\"><path class=\"displacy-arc\" id=\"arrow-224335cb2334431389687ce619f0d7dc-0-18\" stroke-width=\"2px\" d=\"M3395,352.0 C3395,264.5 3535.0,264.5 3535.0,352.0\" fill=\"none\" stroke=\"currentColor\"/><text dy=\"1.25em\" style=\"font-size: 0.8em; letter-spacing: 1px\"><textPath xlink:href=\"#arrow-224335cb2334431389687ce619f0d7dc-0-18\" class=\"displacy-label\" startOffset=\"50%\" side=\"left\" fill=\"currentColor\" text-anchor=\"middle\">aux</textPath></text><path class=\"displacy-arrowhead\" d=\"M3395,354.0 L3387,342.0 3403,342.0\" fill=\"currentColor\"/></g><g class=\"displacy-arrow\"><path class=\"displacy-arc\" id=\"arrow-224335cb2334431389687ce619f0d7dc-0-19\" stroke-width=\"2px\" d=\"M3220,352.0 C3220,177.0 3540.0,177.0 3540.0,352.0\" fill=\"none\" stroke=\"currentColor\"/><text dy=\"1.25em\" style=\"font-size: 0.8em; letter-spacing: 1px\"><textPath xlink:href=\"#arrow-224335cb2334431389687ce619f0d7dc-0-19\" class=\"displacy-label\" startOffset=\"50%\" side=\"left\" fill=\"currentColor\" text-anchor=\"middle\">xcomp</textPath></text><path class=\"displacy-arrowhead\" d=\"M3540.0,354.0 L3548.0,342.0 3532.0,342.0\" fill=\"currentColor\"/></g><g class=\"displacy-arrow\"><path class=\"displacy-arc\" id=\"arrow-224335cb2334431389687ce619f0d7dc-0-20\" stroke-width=\"2px\" d=\"M3745,352.0 C3745,177.0 4065.0,177.0 4065.0,352.0\" fill=\"none\" stroke=\"currentColor\"/><text dy=\"1.25em\" style=\"font-size: 0.8em; letter-spacing: 1px\"><textPath xlink:href=\"#arrow-224335cb2334431389687ce619f0d7dc-0-20\" class=\"displacy-label\" startOffset=\"50%\" side=\"left\" fill=\"currentColor\" text-anchor=\"middle\">amod</textPath></text><path class=\"displacy-arrowhead\" d=\"M3745,354.0 L3737,342.0 3753,342.0\" fill=\"currentColor\"/></g><g class=\"displacy-arrow\"><path class=\"displacy-arc\" id=\"arrow-224335cb2334431389687ce619f0d7dc-0-21\" stroke-width=\"2px\" d=\"M3920,352.0 C3920,264.5 4060.0,264.5 4060.0,352.0\" fill=\"none\" stroke=\"currentColor\"/><text dy=\"1.25em\" style=\"font-size: 0.8em; letter-spacing: 1px\"><textPath xlink:href=\"#arrow-224335cb2334431389687ce619f0d7dc-0-21\" class=\"displacy-label\" startOffset=\"50%\" side=\"left\" fill=\"currentColor\" text-anchor=\"middle\">quantmod</textPath></text><path class=\"displacy-arrowhead\" d=\"M3920,354.0 L3912,342.0 3928,342.0\" fill=\"currentColor\"/></g><g class=\"displacy-arrow\"><path class=\"displacy-arc\" id=\"arrow-224335cb2334431389687ce619f0d7dc-0-22\" stroke-width=\"2px\" d=\"M4095,352.0 C4095,264.5 4235.0,264.5 4235.0,352.0\" fill=\"none\" stroke=\"currentColor\"/><text dy=\"1.25em\" style=\"font-size: 0.8em; letter-spacing: 1px\"><textPath xlink:href=\"#arrow-224335cb2334431389687ce619f0d7dc-0-22\" class=\"displacy-label\" startOffset=\"50%\" side=\"left\" fill=\"currentColor\" text-anchor=\"middle\">nummod</textPath></text><path class=\"displacy-arrowhead\" d=\"M4095,354.0 L4087,342.0 4103,342.0\" fill=\"currentColor\"/></g><g class=\"displacy-arrow\"><path class=\"displacy-arc\" id=\"arrow-224335cb2334431389687ce619f0d7dc-0-23\" stroke-width=\"2px\" d=\"M3570,352.0 C3570,89.5 4245.0,89.5 4245.0,352.0\" fill=\"none\" stroke=\"currentColor\"/><text dy=\"1.25em\" style=\"font-size: 0.8em; letter-spacing: 1px\"><textPath xlink:href=\"#arrow-224335cb2334431389687ce619f0d7dc-0-23\" class=\"displacy-label\" startOffset=\"50%\" side=\"left\" fill=\"currentColor\" text-anchor=\"middle\">dobj</textPath></text><path class=\"displacy-arrowhead\" d=\"M4245.0,354.0 L4253.0,342.0 4237.0,342.0\" fill=\"currentColor\"/></g><g class=\"displacy-arrow\"><path class=\"displacy-arc\" id=\"arrow-224335cb2334431389687ce619f0d7dc-0-24\" stroke-width=\"2px\" d=\"M4445,352.0 C4445,177.0 4765.0,177.0 4765.0,352.0\" fill=\"none\" stroke=\"currentColor\"/><text dy=\"1.25em\" style=\"font-size: 0.8em; letter-spacing: 1px\"><textPath xlink:href=\"#arrow-224335cb2334431389687ce619f0d7dc-0-24\" class=\"displacy-label\" startOffset=\"50%\" side=\"left\" fill=\"currentColor\" text-anchor=\"middle\">nsubj</textPath></text><path class=\"displacy-arrowhead\" d=\"M4445,354.0 L4437,342.0 4453,342.0\" fill=\"currentColor\"/></g><g class=\"displacy-arrow\"><path class=\"displacy-arc\" id=\"arrow-224335cb2334431389687ce619f0d7dc-0-25\" stroke-width=\"2px\" d=\"M4620,352.0 C4620,264.5 4760.0,264.5 4760.0,352.0\" fill=\"none\" stroke=\"currentColor\"/><text dy=\"1.25em\" style=\"font-size: 0.8em; letter-spacing: 1px\"><textPath xlink:href=\"#arrow-224335cb2334431389687ce619f0d7dc-0-25\" class=\"displacy-label\" startOffset=\"50%\" side=\"left\" fill=\"currentColor\" text-anchor=\"middle\">aux</textPath></text><path class=\"displacy-arrowhead\" d=\"M4620,354.0 L4612,342.0 4628,342.0\" fill=\"currentColor\"/></g><g class=\"displacy-arrow\"><path class=\"displacy-arc\" id=\"arrow-224335cb2334431389687ce619f0d7dc-0-26\" stroke-width=\"2px\" d=\"M4970,352.0 C4970,264.5 5110.0,264.5 5110.0,352.0\" fill=\"none\" stroke=\"currentColor\"/><text dy=\"1.25em\" style=\"font-size: 0.8em; letter-spacing: 1px\"><textPath xlink:href=\"#arrow-224335cb2334431389687ce619f0d7dc-0-26\" class=\"displacy-label\" startOffset=\"50%\" side=\"left\" fill=\"currentColor\" text-anchor=\"middle\">det</textPath></text><path class=\"displacy-arrowhead\" d=\"M4970,354.0 L4962,342.0 4978,342.0\" fill=\"currentColor\"/></g><g class=\"displacy-arrow\"><path class=\"displacy-arc\" id=\"arrow-224335cb2334431389687ce619f0d7dc-0-27\" stroke-width=\"2px\" d=\"M4795,352.0 C4795,177.0 5115.0,177.0 5115.0,352.0\" fill=\"none\" stroke=\"currentColor\"/><text dy=\"1.25em\" style=\"font-size: 0.8em; letter-spacing: 1px\"><textPath xlink:href=\"#arrow-224335cb2334431389687ce619f0d7dc-0-27\" class=\"displacy-label\" startOffset=\"50%\" side=\"left\" fill=\"currentColor\" text-anchor=\"middle\">attr</textPath></text><path class=\"displacy-arrowhead\" d=\"M5115.0,354.0 L5123.0,342.0 5107.0,342.0\" fill=\"currentColor\"/></g><g class=\"displacy-arrow\"><path class=\"displacy-arc\" id=\"arrow-224335cb2334431389687ce619f0d7dc-0-28\" stroke-width=\"2px\" d=\"M5145,352.0 C5145,264.5 5285.0,264.5 5285.0,352.0\" fill=\"none\" stroke=\"currentColor\"/><text dy=\"1.25em\" style=\"font-size: 0.8em; letter-spacing: 1px\"><textPath xlink:href=\"#arrow-224335cb2334431389687ce619f0d7dc-0-28\" class=\"displacy-label\" startOffset=\"50%\" side=\"left\" fill=\"currentColor\" text-anchor=\"middle\"></textPath></text><path class=\"displacy-arrowhead\" d=\"M5285.0,354.0 L5293.0,342.0 5277.0,342.0\" fill=\"currentColor\"/></g><g class=\"displacy-arrow\"><path class=\"displacy-arc\" id=\"arrow-224335cb2334431389687ce619f0d7dc-0-29\" stroke-width=\"2px\" d=\"M5670,352.0 C5670,264.5 5810.0,264.5 5810.0,352.0\" fill=\"none\" stroke=\"currentColor\"/><text dy=\"1.25em\" style=\"font-size: 0.8em; letter-spacing: 1px\"><textPath xlink:href=\"#arrow-224335cb2334431389687ce619f0d7dc-0-29\" class=\"displacy-label\" startOffset=\"50%\" side=\"left\" fill=\"currentColor\" text-anchor=\"middle\">det</textPath></text><path class=\"displacy-arrowhead\" d=\"M5670,354.0 L5662,342.0 5678,342.0\" fill=\"currentColor\"/></g><g class=\"displacy-arrow\"><path class=\"displacy-arc\" id=\"arrow-224335cb2334431389687ce619f0d7dc-0-30\" stroke-width=\"2px\" d=\"M5495,352.0 C5495,177.0 5815.0,177.0 5815.0,352.0\" fill=\"none\" stroke=\"currentColor\"/><text dy=\"1.25em\" style=\"font-size: 0.8em; letter-spacing: 1px\"><textPath xlink:href=\"#arrow-224335cb2334431389687ce619f0d7dc-0-30\" class=\"displacy-label\" startOffset=\"50%\" side=\"left\" fill=\"currentColor\" text-anchor=\"middle\">npadvmod</textPath></text><path class=\"displacy-arrowhead\" d=\"M5815.0,354.0 L5823.0,342.0 5807.0,342.0\" fill=\"currentColor\"/></g><g class=\"displacy-arrow\"><path class=\"displacy-arc\" id=\"arrow-224335cb2334431389687ce619f0d7dc-0-31\" stroke-width=\"2px\" d=\"M5845,352.0 C5845,264.5 5985.0,264.5 5985.0,352.0\" fill=\"none\" stroke=\"currentColor\"/><text dy=\"1.25em\" style=\"font-size: 0.8em; letter-spacing: 1px\"><textPath xlink:href=\"#arrow-224335cb2334431389687ce619f0d7dc-0-31\" class=\"displacy-label\" startOffset=\"50%\" side=\"left\" fill=\"currentColor\" text-anchor=\"middle\"></textPath></text><path class=\"displacy-arrowhead\" d=\"M5985.0,354.0 L5993.0,342.0 5977.0,342.0\" fill=\"currentColor\"/></g><g class=\"displacy-arrow\"><path class=\"displacy-arc\" id=\"arrow-224335cb2334431389687ce619f0d7dc-0-32\" stroke-width=\"2px\" d=\"M5495,352.0 C5495,89.5 6170.0,89.5 6170.0,352.0\" fill=\"none\" stroke=\"currentColor\"/><text dy=\"1.25em\" style=\"font-size: 0.8em; letter-spacing: 1px\"><textPath xlink:href=\"#arrow-224335cb2334431389687ce619f0d7dc-0-32\" class=\"displacy-label\" startOffset=\"50%\" side=\"left\" fill=\"currentColor\" text-anchor=\"middle\">npadvmod</textPath></text><path class=\"displacy-arrowhead\" d=\"M6170.0,354.0 L6178.0,342.0 6162.0,342.0\" fill=\"currentColor\"/></g></svg></span>"
            ],
            "text/plain": [
              "<IPython.core.display.HTML object>"
            ]
          },
          "metadata": {
            "tags": []
          }
        }
      ]
    },
    {
      "cell_type": "code",
      "metadata": {
        "id": "PneiF9bEeN6Y",
        "colab": {
          "base_uri": "https://localhost:8080/",
          "height": 109
        },
        "outputId": "6742ffa1-a9e0-48fc-cc7d-970042baad12"
      },
      "source": [
        "displacy.render(docMail, style='ent', minify=True)"
      ],
      "execution_count": null,
      "outputs": [
        {
          "output_type": "execute_result",
          "data": {
            "application/vnd.google.colaboratory.intrinsic+json": {
              "type": "string"
            },
            "text/plain": [
              "'<div class=\"entities\" style=\"line-height: 2.5; direction: ltr\">Hello,  I would like to order a notebook with <mark class=\"entity\" style=\"background: #e4e7d2; padding: 0.45em 0.6em; margin: 0 0.25em; line-height: 1; border-radius: 0.35em;\">16GB<span style=\"font-size: 0.8em; font-weight: bold; line-height: 1; border-radius: 0.35em; text-transform: uppercase; vertical-align: middle; margin-left: 0.5rem\">QUANTITY</span></mark> and <mark class=\"entity\" style=\"background: #e4e7d2; padding: 0.45em 0.6em; margin: 0 0.25em; line-height: 1; border-radius: 0.35em;\">256 GB<span style=\"font-size: 0.8em; font-weight: bold; line-height: 1; border-radius: 0.35em; text-transform: uppercase; vertical-align: middle; margin-left: 0.5rem\">QUANTITY</span></mark> <mark class=\"entity\" style=\"background: #ddd; padding: 0.45em 0.6em; margin: 0 0.25em; line-height: 1; border-radius: 0.35em;\">disk<span style=\"font-size: 0.8em; font-weight: bold; line-height: 1; border-radius: 0.35em; text-transform: uppercase; vertical-align: middle; margin-left: 0.5rem\">PART</span></mark>, I would like to spend less than 1000 <mark class=\"entity\" style=\"background: #ddd; padding: 0.45em 0.6em; margin: 0 0.25em; line-height: 1; border-radius: 0.35em;\">Francs<span style=\"font-size: 0.8em; font-weight: bold; line-height: 1; border-radius: 0.35em; text-transform: uppercase; vertical-align: middle; margin-left: 0.5rem\">CURRENCY</span></mark>, what would be the options  Thanks a lot  <mark class=\"entity\" style=\"background: #aa9cfc; padding: 0.45em 0.6em; margin: 0 0.25em; line-height: 1; border-radius: 0.35em;\">Patrick<span style=\"font-size: 0.8em; font-weight: bold; line-height: 1; border-radius: 0.35em; text-transform: uppercase; vertical-align: middle; margin-left: 0.5rem\">PERSON</span></mark></div>'"
            ]
          },
          "metadata": {
            "tags": []
          },
          "execution_count": 15
        }
      ]
    },
    {
      "cell_type": "code",
      "metadata": {
        "id": "Y1nDnp2adwjE",
        "colab": {
          "base_uri": "https://localhost:8080/"
        },
        "outputId": "37afdd92-1e7f-4705-b83e-5309fd2d7a00"
      },
      "source": [
        "for token in docMail:  \n",
        "    if token.dep_ == 'nummod':    \n",
        "      print(f\"Numerical modifier: {token.text} --> object: {token.head}\")"
      ],
      "execution_count": null,
      "outputs": [
        {
          "output_type": "stream",
          "text": [
            "Numerical modifier: 16 --> object: GB\n",
            "Numerical modifier: 256 --> object: disk\n",
            "Numerical modifier: 1000 --> object: Francs\n"
          ],
          "name": "stdout"
        }
      ]
    },
    {
      "cell_type": "code",
      "metadata": {
        "id": "Zgv8UTPGiZZy",
        "colab": {
          "base_uri": "https://localhost:8080/"
        },
        "outputId": "7f804d85-4e50-482f-d710-72e17d9a114f"
      },
      "source": [
        "verbs = set()\n",
        "for possible_subject in docMail:\n",
        "    if possible_subject.dep == dobj and possible_subject.head.pos == VERB:\n",
        "        verbs.add(possible_subject)\n",
        "print(verbs)"
      ],
      "execution_count": null,
      "outputs": [
        {
          "output_type": "stream",
          "text": [
            "{notebook, Francs}\n"
          ],
          "name": "stdout"
        }
      ]
    },
    {
      "cell_type": "code",
      "metadata": {
        "id": "z8pxTgW-pLoS",
        "colab": {
          "base_uri": "https://localhost:8080/"
        },
        "outputId": "690b8f7e-377c-48be-b0f0-a455e8a9ae64"
      },
      "source": [
        "for token in docMail:\n",
        "    print(token.text, token.dep_, token.head.text, token.head.pos_,\n",
        "            [child for child in token.children])    \n"
      ],
      "execution_count": null,
      "outputs": [
        {
          "output_type": "stream",
          "text": [
            "Hello intj like VERB []\n",
            ", punct like VERB [ ]\n",
            "   , PUNCT []\n",
            "I nsubj like VERB []\n",
            "would aux like VERB []\n",
            "like ccomp like VERB [Hello, ,, I, would, order]\n",
            "to aux order VERB []\n",
            "order xcomp like VERB [to, notebook]\n",
            "a det notebook NOUN []\n",
            "notebook dobj order VERB [a, with]\n",
            "with prep notebook NOUN [GB]\n",
            "16 nummod GB PROPN []\n",
            "GB pobj with ADP [16, and, disk]\n",
            "and cc GB PROPN []\n",
            "256 nummod disk NOUN []\n",
            "GB compound disk NOUN []\n",
            "disk conj GB PROPN [256, GB]\n",
            ", punct like VERB []\n",
            "I nsubj like VERB []\n",
            "would aux like VERB []\n",
            "like ROOT like VERB [like, ,, I, would, spend]\n",
            "to aux spend VERB []\n",
            "spend xcomp like VERB [to, Francs]\n",
            "less amod 1000 NUM []\n",
            "than quantmod 1000 NUM []\n",
            "1000 nummod Francs NOUN [less, than]\n",
            "Francs dobj spend VERB [1000]\n",
            ", punct be AUX []\n",
            "what nsubj be AUX []\n",
            "would aux be AUX []\n",
            "be ROOT be AUX [,, what, would, options]\n",
            "the det options NOUN []\n",
            "options attr be AUX [the,  ]\n",
            "   options NOUN []\n",
            "Thanks ROOT Thanks NOUN [lot, Patrick]\n",
            "a det lot NOUN []\n",
            "lot npadvmod Thanks NOUN [a,  ]\n",
            "   lot NOUN []\n",
            "Patrick npadvmod Thanks NOUN []\n"
          ],
          "name": "stdout"
        }
      ]
    },
    {
      "cell_type": "code",
      "metadata": {
        "id": "x7tD0PhWpLoZ",
        "colab": {
          "base_uri": "https://localhost:8080/"
        },
        "outputId": "83f5b979-a5de-425b-991d-e3ac82e231c9"
      },
      "source": [
        "items = set()\n",
        "for possible_item in docMail:\n",
        "    if possible_item.dep == dobj and possible_item.head.pos == VERB:\n",
        "        items.add(possible_item)\n",
        "print(items)"
      ],
      "execution_count": null,
      "outputs": [
        {
          "output_type": "stream",
          "text": [
            "{notebook, Francs}\n"
          ],
          "name": "stdout"
        }
      ]
    },
    {
      "cell_type": "code",
      "metadata": {
        "id": "qFTh6iJapLog",
        "colab": {
          "base_uri": "https://localhost:8080/"
        },
        "outputId": "de0a83f7-ca26-4df1-d479-0ff1b717ed01"
      },
      "source": [
        "orderobject=nlp(\"laptop\")\n",
        "for  sub in items:\n",
        "  print(sub.similarity(orderobject))\n"
      ],
      "execution_count": null,
      "outputs": [
        {
          "output_type": "stream",
          "text": [
            "0.8021939809276627\n",
            "0.0015887124852857469\n"
          ],
          "name": "stdout"
        }
      ]
    },
    {
      "cell_type": "code",
      "metadata": {
        "id": "5YKyxgGupLop",
        "colab": {
          "base_uri": "https://localhost:8080/"
        },
        "outputId": "7b852884-67d7-4224-f230-d318cf4aa5b0"
      },
      "source": [
        "verbs = set()\n",
        "for possible_verbs in docMail:\n",
        "    if possible_verbs.dep == xcomp and possible_verbs.head.pos == VERB :\n",
        "        verbs.add(possible_verbs)\n",
        "print(verbs)"
      ],
      "execution_count": null,
      "outputs": [
        {
          "output_type": "stream",
          "text": [
            "{spend, order}\n"
          ],
          "name": "stdout"
        }
      ]
    },
    {
      "cell_type": "code",
      "metadata": {
        "id": "oHNG7j5ApLou",
        "colab": {
          "base_uri": "https://localhost:8080/"
        },
        "outputId": "22c29c19-bf3b-4e3a-a3a8-264462f052d4"
      },
      "source": [
        "orderword=nlp(\"order\")\n",
        "for  verb in verbs:\n",
        "  if (verb.similarity(orderword)) >=0.8:\n",
        "    for v in verb.children:\n",
        "      if v.dep==dobj:\n",
        "        print(v.text)\n"
      ],
      "execution_count": null,
      "outputs": [
        {
          "output_type": "stream",
          "text": [
            "notebook\n"
          ],
          "name": "stdout"
        }
      ]
    },
    {
      "cell_type": "code",
      "metadata": {
        "id": "vLmh0x6fpLox"
      },
      "source": [
        "text='I am passing an order for a laptop with 16GB RAM and 256 Disk'"
      ],
      "execution_count": null,
      "outputs": []
    },
    {
      "cell_type": "code",
      "metadata": {
        "id": "oAL5nGSWvGm7"
      },
      "source": [
        "doc=nlp(text)"
      ],
      "execution_count": null,
      "outputs": []
    },
    {
      "cell_type": "code",
      "metadata": {
        "id": "usiOVFehvKzA",
        "colab": {
          "base_uri": "https://localhost:8080/"
        },
        "outputId": "cd1f682e-4e4b-4ca5-be51-5707377549cd"
      },
      "source": [
        "for token in doc:\n",
        "    print(token.text, token.dep_, token.head.text, token.head.pos_,\n",
        "            [child for child in token.children])    \n"
      ],
      "execution_count": null,
      "outputs": [
        {
          "output_type": "stream",
          "text": [
            "I nsubj passing VERB []\n",
            "am aux passing VERB []\n",
            "passing ROOT passing VERB [I, am, order]\n",
            "an det order NOUN []\n",
            "order dobj passing VERB [an, for]\n",
            "for prep order NOUN [laptop]\n",
            "a det laptop NOUN []\n",
            "laptop pobj for ADP [a, with]\n",
            "with prep laptop NOUN [RAM]\n",
            "16 nummod RAM PROPN []\n",
            "GB compound RAM PROPN []\n",
            "RAM pobj with ADP [16, GB, and, Disk]\n",
            "and cc RAM PROPN []\n",
            "256 nummod Disk NOUN []\n",
            "Disk conj RAM PROPN [256]\n"
          ],
          "name": "stdout"
        }
      ]
    },
    {
      "cell_type": "code",
      "metadata": {
        "id": "crTvHtsmvOkY",
        "colab": {
          "base_uri": "https://localhost:8080/"
        },
        "outputId": "304408a6-ce3c-4ae4-b94b-87e63ff4b16c"
      },
      "source": [
        "items = set()\n",
        "for possible_item in doc:\n",
        "    if possible_item.dep == dobj and possible_item.head.pos == VERB:\n",
        "        items.add(possible_item)\n",
        "print(items)"
      ],
      "execution_count": null,
      "outputs": [
        {
          "output_type": "stream",
          "text": [
            "{order}\n"
          ],
          "name": "stdout"
        }
      ]
    },
    {
      "cell_type": "code",
      "metadata": {
        "id": "nXtNM5rdvUOH"
      },
      "source": [
        ""
      ],
      "execution_count": null,
      "outputs": []
    }
  ]
}