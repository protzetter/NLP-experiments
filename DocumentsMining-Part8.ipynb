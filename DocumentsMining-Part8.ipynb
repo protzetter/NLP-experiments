{
 "cells": [
  {
   "cell_type": "markdown",
   "id": "c5393b59",
   "metadata": {},
   "source": [
    "Created on October 31st 2021 by Patrick Rotzetter\n",
    "\n",
    "https://www.linkedin.com/in/rotzetter/\n",
    "\n",
    "## Small experiment of document mining with various techniques Part 8\n",
    "\n",
    "Let us use AWS Comprehend topic modeling for our sample documents"
   ]
  },
  {
   "cell_type": "code",
   "execution_count": 3,
   "id": "4a19d552",
   "metadata": {},
   "outputs": [],
   "source": [
    "#initialize some parameters depending where you are running the experiment, adapt the parameters to your AWS environment\n",
    "#bucket='mlsamplesdocs'\n",
    "bucket='mynlpexperimentbucketforsagemaker'\n",
    "#input_s3_url = \"s3://mlsamplesdocs/\"\n",
    "#output_s3_url = \"s3://mycomprehendoutputbucket2203\"\n",
    "input_s3_url = \"s3://mynlpexperimentbucketforsagemaker/\"\n",
    "output_s3_url = \"s3://mycomprehendoutputbucket3110\"\n",
    "#data_access_role_arn = \"arn:aws:iam::012086180905:role/ComprehendS3Access\"\n",
    "data_access_role_arn = \"arn:aws:iam::783491625988:role/ComprehendAccess\"\n"
   ]
  },
  {
   "cell_type": "code",
   "execution_count": 4,
   "id": "aff18d77",
   "metadata": {},
   "outputs": [],
   "source": [
    "#import boto and connect to Comprehend service\n",
    "\n",
    "import boto3\n",
    "from bson.json_util import loads, dumps, default\n",
    "\n",
    " \n",
    "comprehend = boto3.client(service_name='comprehend', region_name='us-east-1')\n"
   ]
  },
  {
   "cell_type": "code",
   "execution_count": 5,
   "id": "d17a5648",
   "metadata": {},
   "outputs": [
    {
     "name": "stdout",
     "output_type": "stream",
     "text": [
      "AI-bank-of-the-future-Can-banks-meet-the-AI-challenge-1.txt\n",
      "Artificial Financial Intelligence.txt\n",
      "Data machine the insurers using AI to reshape the industry Financial Times.txt\n",
      "Digital-disruption-in-Insurance.txt\n",
      "Impact-Big-Data-AI-in-the-Insurance-Sector.txt\n",
      "Innovation_Artificial-Intelligence-in-Insurance-Whitepaper-deloitte-digital.txt\n",
      "Insurance-2030-The-impact-of-AI-on-the-future-of-insurance-F.txt\n",
      "Issues_Paper_on_Increasing_Digitalisation_in_Insurance_and_its_Potential_Impact_on_Consumer_Outcomes.txt\n",
      "Kaggle State of Machine Learning and Data Science 2020.txt\n",
      "Module-1-Lecture-Slides.txt\n",
      "Technology-and-innovation-in-the-insurance-sector.txt\n",
      "WEF_Governance_of_Chatbots_in_Healthcare_2020.txt\n",
      "ai-360-research.txt\n",
      "ai-insurance.txt\n",
      "ai_in_insurance_web_0.txt\n",
      "fra-2020-artificial-intelligence_en.txt\n",
      "sigma-5-2020-en.txt\n",
      "sigma1_2020_en.txt\n"
     ]
    }
   ],
   "source": [
    "# let us list the files available for analysis in the S3 bucket\n",
    "s3 = boto3.client('s3')\n",
    "subfolder=''\n",
    "contents = s3.list_objects(Bucket=bucket, Prefix=subfolder)['Contents']\n",
    "number_of_docs=0\n",
    "filenames=[]\n",
    "for f in contents:\n",
    "    number_of_docs=number_of_docs+1\n",
    "    print(f['Key'])\n",
    "    filenames.append(f['Key'])\n"
   ]
  },
  {
   "cell_type": "code",
   "execution_count": 6,
   "id": "ffde8aaa",
   "metadata": {},
   "outputs": [],
   "source": [
    "# define the parameters for the topic detection job, input and output, detection mode and number of topics. We also need to pass a roel for teh job to be able to read the S3 bucket\n",
    "input_doc_format = \"ONE_DOC_PER_FILE\"\n",
    "number_of_topics = 10"
   ]
  },
  {
   "cell_type": "code",
   "execution_count": 5,
   "id": "34077e73",
   "metadata": {},
   "outputs": [
    {
     "name": "stdout",
     "output_type": "stream",
     "text": [
      "start_topics_detection_job_result: {\"JobId\": \"7ab05ed172c1cb88e92f30ccf9267332\", \"JobArn\": \"arn:aws:comprehend:us-east-1:783491625988:topics-detection-job/7ab05ed172c1cb88e92f30ccf9267332\", \"JobStatus\": \"SUBMITTED\", \"ResponseMetadata\": {\"RequestId\": \"5314c1f5-f330-4071-ac1c-b9c861255dab\", \"HTTPStatusCode\": 200, \"HTTPHeaders\": {\"x-amzn-requestid\": \"5314c1f5-f330-4071-ac1c-b9c861255dab\", \"content-type\": \"application/x-amz-json-1.1\", \"content-length\": \"175\", \"date\": \"Sun, 14 Nov 2021 08:26:13 GMT\"}, \"RetryAttempts\": 0}}\n",
      "job_id: 7ab05ed172c1cb88e92f30ccf9267332\n"
     ]
    }
   ],
   "source": [
    "input_data_config = {\"S3Uri\": input_s3_url, \"InputFormat\": input_doc_format}\n",
    "output_data_config = {\"S3Uri\": output_s3_url}\n",
    " \n",
    "start_topics_detection_job_result = comprehend.start_topics_detection_job(NumberOfTopics=number_of_topics,\n",
    "                                                                              InputDataConfig=input_data_config,\n",
    "                                                                              OutputDataConfig=output_data_config,\n",
    "                                                                              DataAccessRoleArn=data_access_role_arn)\n",
    " \n",
    "print('start_topics_detection_job_result: ' + dumps(start_topics_detection_job_result))\n",
    " \n",
    "job_id = start_topics_detection_job_result[\"JobId\"]\n",
    " \n",
    "print('job_id: ' + job_id)"
   ]
  },
  {
   "cell_type": "code",
   "execution_count": 87,
   "id": "a71512eb",
   "metadata": {},
   "outputs": [
    {
     "name": "stdout",
     "output_type": "stream",
     "text": [
      "describe_topics_detection_job_result: {\"TopicsDetectionJobProperties\": {\"JobId\": \"7ab05ed172c1cb88e92f30ccf9267332\", \"JobArn\": \"arn:aws:comprehend:us-east-1:783491625988:topics-detection-job/7ab05ed172c1cb88e92f30ccf9267332\", \"JobStatus\": \"COMPLETED\", \"SubmitTime\": {\"$date\": 1636878374518}, \"EndTime\": {\"$date\": 1636879587287}, \"InputDataConfig\": {\"S3Uri\": \"s3://mynlpexperimentbucketforsagemaker/\", \"InputFormat\": \"ONE_DOC_PER_FILE\"}, \"OutputDataConfig\": {\"S3Uri\": \"s3://mycomprehendoutputbucket3110/783491625988-TOPICS-7ab05ed172c1cb88e92f30ccf9267332/output/output.tar.gz\"}, \"NumberOfTopics\": 10, \"DataAccessRoleArn\": \"arn:aws:iam::783491625988:role/ComprehendAccess\"}, \"ResponseMetadata\": {\"RequestId\": \"33647dd6-6050-47a9-b6cc-70acb99f1a88\", \"HTTPStatusCode\": 200, \"HTTPHeaders\": {\"x-amzn-requestid\": \"33647dd6-6050-47a9-b6cc-70acb99f1a88\", \"content-type\": \"application/x-amz-json-1.1\", \"content-length\": \"597\", \"date\": \"Sun, 14 Nov 2021 10:09:07 GMT\"}, \"RetryAttempts\": 0}}\n"
     ]
    }
   ],
   "source": [
    "\n",
    "describe_topics_detection_job_result = comprehend.describe_topics_detection_job(JobId=job_id)\n",
    " \n",
    "print('describe_topics_detection_job_result: ' + dumps(describe_topics_detection_job_result, default=default))\n",
    " "
   ]
  },
  {
   "cell_type": "code",
   "execution_count": 88,
   "id": "b208b7e5",
   "metadata": {},
   "outputs": [],
   "source": [
    "outputfilename=describe_topics_detection_job_result['TopicsDetectionJobProperties']['OutputDataConfig']['S3Uri']"
   ]
  },
  {
   "cell_type": "code",
   "execution_count": 89,
   "id": "dfaa2a45",
   "metadata": {},
   "outputs": [
    {
     "name": "stdout",
     "output_type": "stream",
     "text": [
      "s3://mycomprehendoutputbucket3110/783491625988-TOPICS-7ab05ed172c1cb88e92f30ccf9267332/output/output.tar.gz\n"
     ]
    }
   ],
   "source": [
    "#outputfilename=\"s3://mycomprehendoutputbucket3110/783491625988-TOPICS-f91078fa9bcbed3c507d4bc8800ab733/output/output.tar.gz\"\n",
    "print(outputfilename)"
   ]
  },
  {
   "cell_type": "code",
   "execution_count": 90,
   "id": "7b3568d3",
   "metadata": {},
   "outputs": [],
   "source": [
    "def split_s3_path(s3_path):\n",
    "    path_parts=s3_path.replace(\"s3://\",\"\").split(\"/\")\n",
    "    bucket=path_parts.pop(0)\n",
    "    key=\"/\".join(path_parts)\n",
    "    return bucket, key"
   ]
  },
  {
   "cell_type": "code",
   "execution_count": 91,
   "id": "d3c8e702",
   "metadata": {},
   "outputs": [],
   "source": [
    "bucket, key = split_s3_path(outputfilename)"
   ]
  },
  {
   "cell_type": "code",
   "execution_count": 92,
   "id": "2cff95e0",
   "metadata": {},
   "outputs": [
    {
     "name": "stdout",
     "output_type": "stream",
     "text": [
      "mycomprehendoutputbucket3110\n"
     ]
    }
   ],
   "source": [
    "print(bucket)"
   ]
  },
  {
   "cell_type": "code",
   "execution_count": 93,
   "id": "fc0de327",
   "metadata": {},
   "outputs": [
    {
     "name": "stdout",
     "output_type": "stream",
     "text": [
      "783491625988-TOPICS-7ab05ed172c1cb88e92f30ccf9267332/output/output.tar.gz\n"
     ]
    }
   ],
   "source": [
    "print(key)"
   ]
  },
  {
   "cell_type": "code",
   "execution_count": 94,
   "id": "42f9c501",
   "metadata": {},
   "outputs": [],
   "source": [
    "s3.download_file(bucket,key,'./output.tar.gz')"
   ]
  },
  {
   "cell_type": "code",
   "execution_count": 96,
   "id": "f68805ad",
   "metadata": {},
   "outputs": [
    {
     "name": "stdout",
     "output_type": "stream",
     "text": [
      "x doc-topics.csv\r\n",
      "x topic-terms.csv\r\n"
     ]
    }
   ],
   "source": [
    "!gunzip < output.tar.gz | tar -xv"
   ]
  },
  {
   "cell_type": "code",
   "execution_count": 7,
   "id": "1e89ce29",
   "metadata": {},
   "outputs": [],
   "source": [
    "import pandas as pd"
   ]
  },
  {
   "cell_type": "code",
   "execution_count": 8,
   "id": "b1bc86e1",
   "metadata": {},
   "outputs": [],
   "source": [
    "import seaborn as sea\n",
    "import matplotlib as plt"
   ]
  },
  {
   "cell_type": "code",
   "execution_count": 118,
   "id": "86146cca",
   "metadata": {},
   "outputs": [],
   "source": [
    "doc_topics=pd.read_csv('doc-topics.csv',lineterminator='\\n')"
   ]
  },
  {
   "cell_type": "code",
   "execution_count": 119,
   "id": "962d06c8",
   "metadata": {},
   "outputs": [],
   "source": [
    "topic_terms=pd.read_csv('topic-terms.csv',lineterminator='\\n')"
   ]
  },
  {
   "cell_type": "code",
   "execution_count": 120,
   "id": "2ebbbfcd",
   "metadata": {},
   "outputs": [
    {
     "data": {
      "text/html": [
       "<div>\n",
       "<style scoped>\n",
       "    .dataframe tbody tr th:only-of-type {\n",
       "        vertical-align: middle;\n",
       "    }\n",
       "\n",
       "    .dataframe tbody tr th {\n",
       "        vertical-align: top;\n",
       "    }\n",
       "\n",
       "    .dataframe thead th {\n",
       "        text-align: right;\n",
       "    }\n",
       "</style>\n",
       "<table border=\"1\" class=\"dataframe\">\n",
       "  <thead>\n",
       "    <tr style=\"text-align: right;\">\n",
       "      <th></th>\n",
       "      <th>topic</th>\n",
       "      <th>term</th>\n",
       "      <th>weight</th>\n",
       "    </tr>\n",
       "  </thead>\n",
       "  <tbody>\n",
       "    <tr>\n",
       "      <th>0</th>\n",
       "      <td>0</td>\n",
       "      <td>digital</td>\n",
       "      <td>0.013117</td>\n",
       "    </tr>\n",
       "    <tr>\n",
       "      <th>1</th>\n",
       "      <td>0</td>\n",
       "      <td>carrier</td>\n",
       "      <td>0.008877</td>\n",
       "    </tr>\n",
       "    <tr>\n",
       "      <th>2</th>\n",
       "      <td>0</td>\n",
       "      <td>insurance</td>\n",
       "      <td>0.024313</td>\n",
       "    </tr>\n",
       "    <tr>\n",
       "      <th>3</th>\n",
       "      <td>0</td>\n",
       "      <td>future</td>\n",
       "      <td>0.006721</td>\n",
       "    </tr>\n",
       "    <tr>\n",
       "      <th>4</th>\n",
       "      <td>0</td>\n",
       "      <td>claim</td>\n",
       "      <td>0.009707</td>\n",
       "    </tr>\n",
       "    <tr>\n",
       "      <th>...</th>\n",
       "      <td>...</td>\n",
       "      <td>...</td>\n",
       "      <td>...</td>\n",
       "    </tr>\n",
       "    <tr>\n",
       "      <th>95</th>\n",
       "      <td>9</td>\n",
       "      <td>european</td>\n",
       "      <td>0.010629</td>\n",
       "    </tr>\n",
       "    <tr>\n",
       "      <th>96</th>\n",
       "      <td>9</td>\n",
       "      <td>public</td>\n",
       "      <td>0.009611</td>\n",
       "    </tr>\n",
       "    <tr>\n",
       "      <th>97</th>\n",
       "      <td>9</td>\n",
       "      <td>interviewee</td>\n",
       "      <td>0.009182</td>\n",
       "    </tr>\n",
       "    <tr>\n",
       "      <th>98</th>\n",
       "      <td>9</td>\n",
       "      <td>decision</td>\n",
       "      <td>0.011236</td>\n",
       "    </tr>\n",
       "    <tr>\n",
       "      <th>99</th>\n",
       "      <td>9</td>\n",
       "      <td>human</td>\n",
       "      <td>0.009857</td>\n",
       "    </tr>\n",
       "  </tbody>\n",
       "</table>\n",
       "<p>100 rows × 3 columns</p>\n",
       "</div>"
      ],
      "text/plain": [
       "    topic         term    weight\n",
       "0       0      digital  0.013117\n",
       "1       0      carrier  0.008877\n",
       "2       0    insurance  0.024313\n",
       "3       0       future  0.006721\n",
       "4       0        claim  0.009707\n",
       "..    ...          ...       ...\n",
       "95      9     european  0.010629\n",
       "96      9       public  0.009611\n",
       "97      9  interviewee  0.009182\n",
       "98      9     decision  0.011236\n",
       "99      9        human  0.009857\n",
       "\n",
       "[100 rows x 3 columns]"
      ]
     },
     "metadata": {},
     "output_type": "display_data"
    }
   ],
   "source": [
    "display(topic_terms)"
   ]
  },
  {
   "cell_type": "code",
   "execution_count": 98,
   "id": "3386cce8",
   "metadata": {},
   "outputs": [
    {
     "data": {
      "text/plain": [
       "[Text(0, 0, 'insurance'),\n",
       " Text(1, 0, 'digital'),\n",
       " Text(2, 0, 'claim'),\n",
       " Text(3, 0, 'carrier'),\n",
       " Text(4, 0, 'product'),\n",
       " Text(5, 0, 'future'),\n",
       " Text(6, 0, 'enable'),\n",
       " Text(7, 0, 'underwrite'),\n",
       " Text(8, 0, 'change'),\n",
       " Text(9, 0, 'partner')]"
      ]
     },
     "execution_count": 98,
     "metadata": {},
     "output_type": "execute_result"
    },
    {
     "data": {
      "image/png": "[encoded data removed]",
      "text/plain": [
       "<Figure size 432x288 with 1 Axes>"
      ]
     },
     "metadata": {
      "needs_background": "light"
     },
     "output_type": "display_data"
    }
   ],
   "source": [
    "topic0_df=topic_terms[topic_terms['topic']==0]\n",
    "plot=sea.barplot(x=topic0_df.term,y=topic0_df.weight,order=topic0_df.sort_values(by=['weight'], ascending=False).set_index('term').index)\n",
    "plot.set_xticklabels(plot.get_xticklabels(),rotation=60)"
   ]
  },
  {
   "cell_type": "code",
   "execution_count": 99,
   "id": "b89ec865",
   "metadata": {},
   "outputs": [
    {
     "data": {
      "image/png": "[encoded data removed]",
      "text/plain": [
       "<Figure size 648x864 with 10 Axes>"
      ]
     },
     "metadata": {
      "needs_background": "light"
     },
     "output_type": "display_data"
    }
   ],
   "source": [
    "final_df = topic_terms.sort_values(by=['topic','weight'], ascending=False)\n",
    "grid = sea.FacetGrid(final_df, col=\"topic\", col_wrap=3,hue=\"topic\",margin_titles=True, sharex=False)\n",
    "grid_map=grid.map(sea.barplot,\"term\",\"weight\",order=None);\n",
    "for ax in grid_map.axes.flatten():\n",
    "    ax.set_xticklabels(ax.get_xticklabels(),rotation=60)\n",
    "grid_map.tight_layout()"
   ]
  },
  {
   "cell_type": "code",
   "execution_count": 104,
   "id": "cd187abf",
   "metadata": {},
   "outputs": [],
   "source": [
    "topic_keywords = []\n",
    "for i in range(number_of_topics):\n",
    "    keywords = []\n",
    "    df_sub= topic_terms[topic_terms['topic']==i].sort_values(by=['weight'], ascending=False)\n",
    "    keywords = \", \".join(df_sub['term'])\n",
    "    i=i+1\n",
    "    topic_keywords.append(keywords)\n",
    "topic_keywords_df= pd.DataFrame(topic_keywords)"
   ]
  },
  {
   "cell_type": "code",
   "execution_count": 105,
   "id": "a3c5cede",
   "metadata": {},
   "outputs": [
    {
     "data": {
      "text/html": [
       "<div>\n",
       "<style scoped>\n",
       "    .dataframe tbody tr th:only-of-type {\n",
       "        vertical-align: middle;\n",
       "    }\n",
       "\n",
       "    .dataframe tbody tr th {\n",
       "        vertical-align: top;\n",
       "    }\n",
       "\n",
       "    .dataframe thead th {\n",
       "        text-align: right;\n",
       "    }\n",
       "</style>\n",
       "<table border=\"1\" class=\"dataframe\">\n",
       "  <thead>\n",
       "    <tr style=\"text-align: right;\">\n",
       "      <th></th>\n",
       "      <th>docname</th>\n",
       "      <th>topic</th>\n",
       "      <th>proportion</th>\n",
       "    </tr>\n",
       "  </thead>\n",
       "  <tbody>\n",
       "    <tr>\n",
       "      <th>0</th>\n",
       "      <td>sigma1_2020_en.txt</td>\n",
       "      <td>0</td>\n",
       "      <td>0.708084</td>\n",
       "    </tr>\n",
       "    <tr>\n",
       "      <th>1</th>\n",
       "      <td>sigma1_2020_en.txt</td>\n",
       "      <td>3</td>\n",
       "      <td>0.161774</td>\n",
       "    </tr>\n",
       "    <tr>\n",
       "      <th>2</th>\n",
       "      <td>sigma1_2020_en.txt</td>\n",
       "      <td>2</td>\n",
       "      <td>0.031526</td>\n",
       "    </tr>\n",
       "    <tr>\n",
       "      <th>3</th>\n",
       "      <td>sigma1_2020_en.txt</td>\n",
       "      <td>8</td>\n",
       "      <td>0.028101</td>\n",
       "    </tr>\n",
       "    <tr>\n",
       "      <th>4</th>\n",
       "      <td>sigma1_2020_en.txt</td>\n",
       "      <td>7</td>\n",
       "      <td>0.022640</td>\n",
       "    </tr>\n",
       "    <tr>\n",
       "      <th>...</th>\n",
       "      <td>...</td>\n",
       "      <td>...</td>\n",
       "      <td>...</td>\n",
       "    </tr>\n",
       "    <tr>\n",
       "      <th>123</th>\n",
       "      <td>WEF_Governance_of_Chatbots_in_Healthcare_2020.txt</td>\n",
       "      <td>3</td>\n",
       "      <td>0.072151</td>\n",
       "    </tr>\n",
       "    <tr>\n",
       "      <th>124</th>\n",
       "      <td>WEF_Governance_of_Chatbots_in_Healthcare_2020.txt</td>\n",
       "      <td>6</td>\n",
       "      <td>0.032376</td>\n",
       "    </tr>\n",
       "    <tr>\n",
       "      <th>125</th>\n",
       "      <td>WEF_Governance_of_Chatbots_in_Healthcare_2020.txt</td>\n",
       "      <td>8</td>\n",
       "      <td>0.021235</td>\n",
       "    </tr>\n",
       "    <tr>\n",
       "      <th>126</th>\n",
       "      <td>WEF_Governance_of_Chatbots_in_Healthcare_2020.txt</td>\n",
       "      <td>7</td>\n",
       "      <td>0.016096</td>\n",
       "    </tr>\n",
       "    <tr>\n",
       "      <th>127</th>\n",
       "      <td>WEF_Governance_of_Chatbots_in_Healthcare_2020.txt</td>\n",
       "      <td>1</td>\n",
       "      <td>0.012292</td>\n",
       "    </tr>\n",
       "  </tbody>\n",
       "</table>\n",
       "<p>128 rows × 3 columns</p>\n",
       "</div>"
      ],
      "text/plain": [
       "                                               docname  topic  proportion\n",
       "0                                   sigma1_2020_en.txt      0    0.708084\n",
       "1                                   sigma1_2020_en.txt      3    0.161774\n",
       "2                                   sigma1_2020_en.txt      2    0.031526\n",
       "3                                   sigma1_2020_en.txt      8    0.028101\n",
       "4                                   sigma1_2020_en.txt      7    0.022640\n",
       "..                                                 ...    ...         ...\n",
       "123  WEF_Governance_of_Chatbots_in_Healthcare_2020.txt      3    0.072151\n",
       "124  WEF_Governance_of_Chatbots_in_Healthcare_2020.txt      6    0.032376\n",
       "125  WEF_Governance_of_Chatbots_in_Healthcare_2020.txt      8    0.021235\n",
       "126  WEF_Governance_of_Chatbots_in_Healthcare_2020.txt      7    0.016096\n",
       "127  WEF_Governance_of_Chatbots_in_Healthcare_2020.txt      1    0.012292\n",
       "\n",
       "[128 rows x 3 columns]"
      ]
     },
     "metadata": {},
     "output_type": "display_data"
    }
   ],
   "source": [
    "display(doc_topics)"
   ]
  },
  {
   "cell_type": "code",
   "execution_count": 106,
   "id": "cf488f19",
   "metadata": {},
   "outputs": [
    {
     "data": {
      "text/html": [
       "<div>\n",
       "<style scoped>\n",
       "    .dataframe tbody tr th:only-of-type {\n",
       "        vertical-align: middle;\n",
       "    }\n",
       "\n",
       "    .dataframe tbody tr th {\n",
       "        vertical-align: top;\n",
       "    }\n",
       "\n",
       "    .dataframe thead th {\n",
       "        text-align: right;\n",
       "    }\n",
       "</style>\n",
       "<table border=\"1\" class=\"dataframe\">\n",
       "  <thead>\n",
       "    <tr style=\"text-align: right;\">\n",
       "      <th></th>\n",
       "      <th>Document name</th>\n",
       "      <th>Topic</th>\n",
       "      <th>Contribution</th>\n",
       "    </tr>\n",
       "  </thead>\n",
       "  <tbody>\n",
       "    <tr>\n",
       "      <th>0</th>\n",
       "      <td>AI-bank-of-the-future-Can-banks-meet-the-AI-ch...</td>\n",
       "      <td>0.0</td>\n",
       "      <td>0.4028</td>\n",
       "    </tr>\n",
       "    <tr>\n",
       "      <th>1</th>\n",
       "      <td>Artificial Financial Intelligence.txt</td>\n",
       "      <td>6.0</td>\n",
       "      <td>0.8739</td>\n",
       "    </tr>\n",
       "    <tr>\n",
       "      <th>2</th>\n",
       "      <td>Data machine the insurers using AI to reshape ...</td>\n",
       "      <td>8.0</td>\n",
       "      <td>0.9783</td>\n",
       "    </tr>\n",
       "    <tr>\n",
       "      <th>3</th>\n",
       "      <td>Digital-disruption-in-Insurance.txt</td>\n",
       "      <td>0.0</td>\n",
       "      <td>0.7077</td>\n",
       "    </tr>\n",
       "    <tr>\n",
       "      <th>4</th>\n",
       "      <td>Impact-Big-Data-AI-in-the-Insurance-Sector.txt</td>\n",
       "      <td>1.0</td>\n",
       "      <td>0.8947</td>\n",
       "    </tr>\n",
       "    <tr>\n",
       "      <th>5</th>\n",
       "      <td>Innovation_Artificial-Intelligence-in-Insuranc...</td>\n",
       "      <td>4.0</td>\n",
       "      <td>0.3705</td>\n",
       "    </tr>\n",
       "    <tr>\n",
       "      <th>6</th>\n",
       "      <td>Insurance-2030-The-impact-of-AI-on-the-future-...</td>\n",
       "      <td>0.0</td>\n",
       "      <td>0.9648</td>\n",
       "    </tr>\n",
       "    <tr>\n",
       "      <th>7</th>\n",
       "      <td>Issues_Paper_on_Increasing_Digitalisation_in_I...</td>\n",
       "      <td>3.0</td>\n",
       "      <td>0.9071</td>\n",
       "    </tr>\n",
       "    <tr>\n",
       "      <th>8</th>\n",
       "      <td>Kaggle State of Machine Learning and Data Scie...</td>\n",
       "      <td>3.0</td>\n",
       "      <td>0.3374</td>\n",
       "    </tr>\n",
       "    <tr>\n",
       "      <th>9</th>\n",
       "      <td>Module-1-Lecture-Slides.txt</td>\n",
       "      <td>7.0</td>\n",
       "      <td>0.9267</td>\n",
       "    </tr>\n",
       "    <tr>\n",
       "      <th>10</th>\n",
       "      <td>Technology-and-innovation-in-the-insurance-sec...</td>\n",
       "      <td>1.0</td>\n",
       "      <td>0.6889</td>\n",
       "    </tr>\n",
       "    <tr>\n",
       "      <th>11</th>\n",
       "      <td>WEF_Governance_of_Chatbots_in_Healthcare_2020.txt</td>\n",
       "      <td>2.0</td>\n",
       "      <td>0.3204</td>\n",
       "    </tr>\n",
       "    <tr>\n",
       "      <th>12</th>\n",
       "      <td>ai-360-research.txt</td>\n",
       "      <td>5.0</td>\n",
       "      <td>0.9281</td>\n",
       "    </tr>\n",
       "    <tr>\n",
       "      <th>13</th>\n",
       "      <td>ai-insurance.txt</td>\n",
       "      <td>4.0</td>\n",
       "      <td>0.9446</td>\n",
       "    </tr>\n",
       "    <tr>\n",
       "      <th>14</th>\n",
       "      <td>ai_in_insurance_web_0.txt</td>\n",
       "      <td>2.0</td>\n",
       "      <td>0.9228</td>\n",
       "    </tr>\n",
       "    <tr>\n",
       "      <th>15</th>\n",
       "      <td>fra-2020-artificial-intelligence_en.txt</td>\n",
       "      <td>9.0</td>\n",
       "      <td>0.8319</td>\n",
       "    </tr>\n",
       "    <tr>\n",
       "      <th>16</th>\n",
       "      <td>sigma-5-2020-en.txt</td>\n",
       "      <td>2.0</td>\n",
       "      <td>0.3734</td>\n",
       "    </tr>\n",
       "    <tr>\n",
       "      <th>17</th>\n",
       "      <td>sigma1_2020_en.txt</td>\n",
       "      <td>0.0</td>\n",
       "      <td>0.7081</td>\n",
       "    </tr>\n",
       "  </tbody>\n",
       "</table>\n",
       "</div>"
      ],
      "text/plain": [
       "                                        Document name  Topic  Contribution\n",
       "0   AI-bank-of-the-future-Can-banks-meet-the-AI-ch...    0.0        0.4028\n",
       "1               Artificial Financial Intelligence.txt    6.0        0.8739\n",
       "2   Data machine the insurers using AI to reshape ...    8.0        0.9783\n",
       "3                 Digital-disruption-in-Insurance.txt    0.0        0.7077\n",
       "4      Impact-Big-Data-AI-in-the-Insurance-Sector.txt    1.0        0.8947\n",
       "5   Innovation_Artificial-Intelligence-in-Insuranc...    4.0        0.3705\n",
       "6   Insurance-2030-The-impact-of-AI-on-the-future-...    0.0        0.9648\n",
       "7   Issues_Paper_on_Increasing_Digitalisation_in_I...    3.0        0.9071\n",
       "8   Kaggle State of Machine Learning and Data Scie...    3.0        0.3374\n",
       "9                         Module-1-Lecture-Slides.txt    7.0        0.9267\n",
       "10  Technology-and-innovation-in-the-insurance-sec...    1.0        0.6889\n",
       "11  WEF_Governance_of_Chatbots_in_Healthcare_2020.txt    2.0        0.3204\n",
       "12                                ai-360-research.txt    5.0        0.9281\n",
       "13                                   ai-insurance.txt    4.0        0.9446\n",
       "14                          ai_in_insurance_web_0.txt    2.0        0.9228\n",
       "15            fra-2020-artificial-intelligence_en.txt    9.0        0.8319\n",
       "16                                sigma-5-2020-en.txt    2.0        0.3734\n",
       "17                                 sigma1_2020_en.txt    0.0        0.7081"
      ]
     },
     "execution_count": 106,
     "metadata": {},
     "output_type": "execute_result"
    }
   ],
   "source": [
    "topics_df = pd.DataFrame()\n",
    "for filename in filenames:\n",
    "    sub_topics_df=doc_topics[doc_topics['docname']==filename].sort_values(by=['proportion'], ascending=False)\n",
    "    row=sub_topics_df.iloc[0]\n",
    "    topics_df = topics_df.append(pd.Series([row['docname'],int(row['topic']), round(row['proportion'],4)]), ignore_index=True)\n",
    "topics_df.columns = ['Document name', 'Topic', 'Contribution']\n",
    "topics_df"
   ]
  },
  {
   "cell_type": "code",
   "execution_count": 107,
   "id": "1218a2f7",
   "metadata": {},
   "outputs": [
    {
     "name": "stdout",
     "output_type": "stream",
     "text": [
      "[(0, 'insurance'), (0, ' digital'), (0, ' claim'), (1, 'insurance'), (1, ' datum'), (1, ' big'), (2, 'datum'), (2, ' risk'), (2, ' system'), (3, 'insurance'), (3, ' customer'), (3, ' consumer'), (4, 'datum'), (4, ' dataiku'), (4, ' model'), (5, 'company'), (5, ' executive'), (5, ' business'), (6, 'artificial'), (6, ' intelligence'), (6, ' financial'), (7, 'insurtech'), (7, ' insurance'), (7, ' q4'), (8, 'insurer'), (8, ' datum'), (8, ' customer'), (9, 'right'), (9, ' fundamental'), (9, ' system')]\n"
     ]
    },
    {
     "data": {
      "text/html": [
       "<div>\n",
       "<style scoped>\n",
       "    .dataframe tbody tr th:only-of-type {\n",
       "        vertical-align: middle;\n",
       "    }\n",
       "\n",
       "    .dataframe tbody tr th {\n",
       "        vertical-align: top;\n",
       "    }\n",
       "\n",
       "    .dataframe thead th {\n",
       "        text-align: right;\n",
       "    }\n",
       "</style>\n",
       "<table border=\"1\" class=\"dataframe\">\n",
       "  <thead>\n",
       "    <tr style=\"text-align: right;\">\n",
       "      <th></th>\n",
       "      <th>topic_id</th>\n",
       "      <th>words</th>\n",
       "    </tr>\n",
       "  </thead>\n",
       "  <tbody>\n",
       "    <tr>\n",
       "      <th>0</th>\n",
       "      <td>0</td>\n",
       "      <td>insurance, \\n digital, \\n claim</td>\n",
       "    </tr>\n",
       "    <tr>\n",
       "      <th>1</th>\n",
       "      <td>1</td>\n",
       "      <td>insurance, \\n datum, \\n big</td>\n",
       "    </tr>\n",
       "    <tr>\n",
       "      <th>2</th>\n",
       "      <td>2</td>\n",
       "      <td>datum, \\n risk, \\n system</td>\n",
       "    </tr>\n",
       "    <tr>\n",
       "      <th>3</th>\n",
       "      <td>3</td>\n",
       "      <td>insurance, \\n customer, \\n consumer</td>\n",
       "    </tr>\n",
       "    <tr>\n",
       "      <th>4</th>\n",
       "      <td>4</td>\n",
       "      <td>datum, \\n dataiku, \\n model</td>\n",
       "    </tr>\n",
       "    <tr>\n",
       "      <th>5</th>\n",
       "      <td>5</td>\n",
       "      <td>company, \\n executive, \\n business</td>\n",
       "    </tr>\n",
       "    <tr>\n",
       "      <th>6</th>\n",
       "      <td>6</td>\n",
       "      <td>artificial, \\n intelligence, \\n financial</td>\n",
       "    </tr>\n",
       "    <tr>\n",
       "      <th>7</th>\n",
       "      <td>7</td>\n",
       "      <td>insurtech, \\n insurance, \\n q4</td>\n",
       "    </tr>\n",
       "    <tr>\n",
       "      <th>8</th>\n",
       "      <td>8</td>\n",
       "      <td>insurer, \\n datum, \\n customer</td>\n",
       "    </tr>\n",
       "    <tr>\n",
       "      <th>9</th>\n",
       "      <td>9</td>\n",
       "      <td>right, \\n fundamental, \\n system</td>\n",
       "    </tr>\n",
       "  </tbody>\n",
       "</table>\n",
       "</div>"
      ],
      "text/plain": [
       "   topic_id                                      words\n",
       "0         0            insurance, \\n digital, \\n claim\n",
       "1         1                insurance, \\n datum, \\n big\n",
       "2         2                  datum, \\n risk, \\n system\n",
       "3         3        insurance, \\n customer, \\n consumer\n",
       "4         4                datum, \\n dataiku, \\n model\n",
       "5         5         company, \\n executive, \\n business\n",
       "6         6  artificial, \\n intelligence, \\n financial\n",
       "7         7             insurtech, \\n insurance, \\n q4\n",
       "8         8             insurer, \\n datum, \\n customer\n",
       "9         9           right, \\n fundamental, \\n system"
      ]
     },
     "execution_count": 107,
     "metadata": {},
     "output_type": "execute_result"
    }
   ],
   "source": [
    "#Top 3 Keywords for each Topic\n",
    "\n",
    "topic_top3words = [(i,topic) for i, topics in enumerate(topic_keywords) for (j, topic) in enumerate(topics.split(',')) if j<3]\n",
    "print(topic_top3words)\n",
    "\n",
    "df_top3words_stacked = pd.DataFrame(topic_top3words, columns=['topic_id', 'words'])\n",
    "df_top3words = df_top3words_stacked.groupby('topic_id').agg(', \\n'.join)\n",
    "df_top3words.reset_index(level=0,inplace=True)\n",
    "df_top3words"
   ]
  },
  {
   "cell_type": "code",
   "execution_count": 143,
   "id": "9371d79d",
   "metadata": {},
   "outputs": [
    {
     "data": {
      "text/plain": [
       "(0.0, 7.0)"
      ]
     },
     "execution_count": 143,
     "metadata": {},
     "output_type": "execute_result"
    },
    {
     "data": {
      "image/png": "[encoded data removed]",
      "text/plain": [
       "<Figure size 1080x720 with 1 Axes>"
      ]
     },
     "metadata": {
      "needs_background": "light"
     },
     "output_type": "display_data"
    }
   ],
   "source": [
    "# Plot\n",
    "import matplotlib.pyplot as plt\n",
    "from matplotlib.ticker import FuncFormatter\n",
    "\n",
    "#fig, (ax1, ax2) = plt.subplots(1, 2, figsize=(10, 4), dpi=120, sharey=True)\n",
    "\n",
    "plt.figure(figsize=(15,10))\n",
    "# Topic Distribution by Dominant Topics\n",
    "ax=sea.histplot(data=topics_df,x=topics_df.Topic)\n",
    "ax.set_xticks(range(topics_df.Topic.unique().__len__()))\n",
    "tick_formatter = FuncFormatter(lambda x, pos: 'Topic ' + str(x)+ '\\n' + df_top3words.loc[df_top3words.topic_id==x, 'words'].values[0])\n",
    "ax.xaxis.set_major_formatter(tick_formatter)\n",
    "#ax.set_xticklabels(ax.get_xticklabels(),rotation=60)\n",
    "ax.set_title('Number of Documents by Dominant Topic', fontdict=dict(size=10))\n",
    "ax.set_ylabel('Number of Documents')\n",
    "ax.set_ylim(0, 7)"
   ]
  },
  {
   "cell_type": "code",
   "execution_count": null,
   "id": "2d794381",
   "metadata": {},
   "outputs": [],
   "source": []
  }
 ],
 "metadata": {
  "kernelspec": {
   "display_name": "Python 3",
   "language": "python",
   "name": "python3"
  },
  "language_info": {
   "codemirror_mode": {
    "name": "ipython",
    "version": 3
   },
   "file_extension": ".py",
   "mimetype": "text/x-python",
   "name": "python",
   "nbconvert_exporter": "python",
   "pygments_lexer": "ipython3",
   "version": "3.8.8"
  }
 },
 "nbformat": 4,
 "nbformat_minor": 5
}
