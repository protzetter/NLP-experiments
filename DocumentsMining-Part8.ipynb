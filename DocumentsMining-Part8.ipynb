{
 "cells": [
  {
   "cell_type": "markdown",
   "id": "c5393b59",
   "metadata": {},
   "source": [
    "Created on October 31st 2021 by Patrick Rotzetter\n",
    "\n",
    "https://www.linkedin.com/in/rotzetter/\n",
    "\n",
    "## Small experiment of document mining with various techniques Part 8\n",
    "\n",
    "Let us use AWS Comprehend topic modeling for our sample documents"
   ]
  },
  {
   "cell_type": "markdown",
   "id": "56ef308c",
   "metadata": {},
   "source": [
    "### This notebook is supposed to be run on AWS Sagemaker"
   ]
  },
  {
   "cell_type": "code",
   "execution_count": null,
   "id": "4a19d552",
   "metadata": {},
   "outputs": [],
   "source": [
    "#install pymongo package to get access to json.util\n",
    "conda install -c anaconda pymongo "
   ]
  },
  {
   "cell_type": "code",
   "execution_count": 2,
   "id": "aff18d77",
   "metadata": {},
   "outputs": [],
   "source": [
    "#import boto and connect to Comprehend service\n",
    "\n",
    "import boto3\n",
    "from bson.json_util import loads, dumps, default\n",
    "\n",
    " \n",
    "comprehend = boto3.client(service_name='comprehend', region_name='us-east-2')\n"
   ]
  },
  {
   "cell_type": "code",
   "execution_count": 22,
   "id": "d17a5648",
   "metadata": {},
   "outputs": [
    {
     "name": "stdout",
     "output_type": "stream",
     "text": [
      "AI-bank-of-the-future-Can-banks-meet-the-AI-challenge-1.pdf.txt\n",
      "Artificial Financial Intelligence.pdf.txt\n",
      "Data machine the insurers using AI to reshape the industry Financial Times.pdf.txt\n",
      "Digital-disruption-in-Insurance.pdf.txt\n",
      "EPAM_Streamlining_the_Auto_Claims_Process_via_Integrated_IA.pdf.txt\n",
      "Insurance-2030-The-impact-of-AI-on-the-future-of-insurance-F.pdf.txt\n",
      "Issues_Paper_on_Increasing_Digitalisation_in_Insurance_and_its_Potential_Impact_on_Consumer_Outcomes.pdf.txt\n",
      "Kaggle State of Machine Learning and Data Science 2020.pdf.txt\n",
      "Module-1-Lecture-Slides.pdf.txt\n",
      "Technology-and-innovation-in-the-insurance-sector.pdf.txt\n",
      "WEF_Governance_of_Chatbots_in_Healthcare_2020.pdf.txt\n",
      "ai-360-research.pdf.txt\n",
      "ai-insurance.pdf.txt\n",
      "fra-2020-artificial-intelligence_en.pdf.txt\n",
      "sigma-5-2020-en.pdf.txt\n",
      "sigma1_2020_en.pdf.txt\n"
     ]
    }
   ],
   "source": [
    "# let us list the files available for analysis in the S3 bucket\n",
    "s3 = boto3.client('s3')\n",
    "bucket='mlsamplesdocs'\n",
    "subfolder=''\n",
    "contents = s3.list_objects(Bucket=bucket, Prefix=subfolder)['Contents']\n",
    "for f in contents:\n",
    "    print(f['Key'])\n",
    "    conn.download_file(bucket,f['Key'], f['Key'])"
   ]
  },
  {
   "cell_type": "code",
   "execution_count": 4,
   "id": "ffde8aaa",
   "metadata": {},
   "outputs": [],
   "source": [
    "# define the parameters for the topic detection job, input and output, detection mode and number of topics. We also need to pass a roel for teh job to be able to read the S3 bucket\n",
    "\n",
    "input_s3_url = \"s3://mlsamplesdocs/\"\n",
    "input_doc_format = \"ONE_DOC_PER_FILE\"\n",
    "output_s3_url = \"s3://mycomprehendoutputbucket2203\"\n",
    "data_access_role_arn = \"arn:aws:iam::012086180905:role/ComprehendS3Access\"\n",
    "number_of_topics = 10"
   ]
  },
  {
   "cell_type": "code",
   "execution_count": 5,
   "id": "34077e73",
   "metadata": {},
   "outputs": [
    {
     "name": "stdout",
     "output_type": "stream",
     "text": [
      "start_topics_detection_job_result: {\"JobId\": \"b713e353ab76ebbe4958359733b760e7\", \"JobArn\": \"arn:aws:comprehend:us-east-2:012086180905:topics-detection-job/b713e353ab76ebbe4958359733b760e7\", \"JobStatus\": \"SUBMITTED\", \"ResponseMetadata\": {\"RequestId\": \"f4d5c207-bc3c-40e5-82cf-935221dd48e6\", \"HTTPStatusCode\": 200, \"HTTPHeaders\": {\"x-amzn-requestid\": \"f4d5c207-bc3c-40e5-82cf-935221dd48e6\", \"content-type\": \"application/x-amz-json-1.1\", \"content-length\": \"175\", \"date\": \"Sun, 31 Oct 2021 07:49:11 GMT\"}, \"RetryAttempts\": 0}}\n",
      "job_id: b713e353ab76ebbe4958359733b760e7\n"
     ]
    }
   ],
   "source": [
    "input_data_config = {\"S3Uri\": input_s3_url, \"InputFormat\": input_doc_format}\n",
    "output_data_config = {\"S3Uri\": output_s3_url}\n",
    " \n",
    "start_topics_detection_job_result = comprehend.start_topics_detection_job(NumberOfTopics=number_of_topics,\n",
    "                                                                              InputDataConfig=input_data_config,\n",
    "                                                                              OutputDataConfig=output_data_config,\n",
    "                                                                              DataAccessRoleArn=data_access_role_arn)\n",
    " \n",
    "print('start_topics_detection_job_result: ' + dumps(start_topics_detection_job_result))\n",
    " \n",
    "job_id = start_topics_detection_job_result[\"JobId\"]\n",
    " \n",
    "print('job_id: ' + job_id)"
   ]
  },
  {
   "cell_type": "code",
   "execution_count": 33,
   "id": "a71512eb",
   "metadata": {},
   "outputs": [
    {
     "name": "stdout",
     "output_type": "stream",
     "text": [
      "describe_topics_detection_job_result: {\"TopicsDetectionJobProperties\": {\"JobId\": \"b713e353ab76ebbe4958359733b760e7\", \"JobArn\": \"arn:aws:comprehend:us-east-2:012086180905:topics-detection-job/b713e353ab76ebbe4958359733b760e7\", \"JobStatus\": \"COMPLETED\", \"SubmitTime\": {\"$date\": 1635666551316}, \"EndTime\": {\"$date\": 1635667766827}, \"InputDataConfig\": {\"S3Uri\": \"s3://mlsamplesdocs/\", \"InputFormat\": \"ONE_DOC_PER_FILE\"}, \"OutputDataConfig\": {\"S3Uri\": \"s3://mycomprehendoutputbucket2203/012086180905-TOPICS-b713e353ab76ebbe4958359733b760e7/output/output.tar.gz\"}, \"NumberOfTopics\": 10, \"DataAccessRoleArn\": \"arn:aws:iam::012086180905:role/ComprehendS3Access\"}, \"ResponseMetadata\": {\"RequestId\": \"b72f21f4-ac0c-4273-a91a-0fa0c22077fe\", \"HTTPStatusCode\": 200, \"HTTPHeaders\": {\"x-amzn-requestid\": \"b72f21f4-ac0c-4273-a91a-0fa0c22077fe\", \"content-type\": \"application/x-amz-json-1.1\", \"content-length\": \"579\", \"date\": \"Sun, 31 Oct 2021 08:13:35 GMT\"}, \"RetryAttempts\": 0}}\n"
     ]
    }
   ],
   "source": [
    "\n",
    "describe_topics_detection_job_result = comprehend.describe_topics_detection_job(JobId=job_id)\n",
    " \n",
    "print('describe_topics_detection_job_result: ' + dumps(describe_topics_detection_job_result, default=default))\n",
    " "
   ]
  },
  {
   "cell_type": "code",
   "execution_count": 34,
   "id": "b208b7e5",
   "metadata": {},
   "outputs": [],
   "source": [
    "outputfilename=describe_topics_detection_job_result['TopicsDetectionJobProperties']['OutputDataConfig']['S3Uri']"
   ]
  },
  {
   "cell_type": "code",
   "execution_count": 35,
   "id": "dfaa2a45",
   "metadata": {},
   "outputs": [
    {
     "data": {
      "text/plain": [
       "'s3://mycomprehendoutputbucket2203/012086180905-TOPICS-b713e353ab76ebbe4958359733b760e7/output/output.tar.gz'"
      ]
     },
     "execution_count": 35,
     "metadata": {},
     "output_type": "execute_result"
    }
   ],
   "source": [
    "outputfilename"
   ]
  },
  {
   "cell_type": "code",
   "execution_count": 36,
   "id": "7b3568d3",
   "metadata": {},
   "outputs": [],
   "source": [
    "def split_s3_path(s3_path):\n",
    "    path_parts=s3_path.replace(\"s3://\",\"\").split(\"/\")\n",
    "    bucket=path_parts.pop(0)\n",
    "    key=\"/\".join(path_parts)\n",
    "    return bucket, key"
   ]
  },
  {
   "cell_type": "code",
   "execution_count": 37,
   "id": "d3c8e702",
   "metadata": {},
   "outputs": [],
   "source": [
    "bucket, key = split_s3_path(outputfilename)"
   ]
  },
  {
   "cell_type": "code",
   "execution_count": 38,
   "id": "2cff95e0",
   "metadata": {},
   "outputs": [
    {
     "data": {
      "text/plain": [
       "'mycomprehendoutputbucket2203'"
      ]
     },
     "execution_count": 38,
     "metadata": {},
     "output_type": "execute_result"
    }
   ],
   "source": [
    "bucket"
   ]
  },
  {
   "cell_type": "code",
   "execution_count": 39,
   "id": "fc0de327",
   "metadata": {},
   "outputs": [
    {
     "data": {
      "text/plain": [
       "'012086180905-TOPICS-b713e353ab76ebbe4958359733b760e7/output/output.tar.gz'"
      ]
     },
     "execution_count": 39,
     "metadata": {},
     "output_type": "execute_result"
    }
   ],
   "source": [
    "key"
   ]
  },
  {
   "cell_type": "code",
   "execution_count": 49,
   "id": "42f9c501",
   "metadata": {},
   "outputs": [],
   "source": [
    "s3.download_file(bucket,key,'./output.tar.gz')"
   ]
  },
  {
   "cell_type": "code",
   "execution_count": 51,
   "id": "f68805ad",
   "metadata": {},
   "outputs": [
    {
     "name": "stdout",
     "output_type": "stream",
     "text": [
      "doc-topics.csv\n",
      "topic-terms.csv\n"
     ]
    }
   ],
   "source": [
    "!gunzip < output.tar.gz | tar -xv"
   ]
  },
  {
   "cell_type": "code",
   "execution_count": 52,
   "id": "1e89ce29",
   "metadata": {},
   "outputs": [],
   "source": [
    "import pandas as pd"
   ]
  },
  {
   "cell_type": "code",
   "execution_count": 53,
   "id": "b1bc86e1",
   "metadata": {},
   "outputs": [],
   "source": [
    "import seaborn as sea"
   ]
  },
  {
   "cell_type": "code",
   "execution_count": 56,
   "id": "86146cca",
   "metadata": {},
   "outputs": [],
   "source": [
    "doc_topics=pd.read_csv('doc-topics.csv')"
   ]
  },
  {
   "cell_type": "code",
   "execution_count": null,
   "id": "962d06c8",
   "metadata": {},
   "outputs": [],
   "source": []
  }
 ],
 "metadata": {
  "kernelspec": {
   "display_name": "conda_python3",
   "language": "python",
   "name": "conda_python3"
  },
  "language_info": {
   "codemirror_mode": {
    "name": "ipython",
    "version": 3
   },
   "file_extension": ".py",
   "mimetype": "text/x-python",
   "name": "python",
   "nbconvert_exporter": "python",
   "pygments_lexer": "ipython3",
   "version": "3.6.13"
  }
 },
 "nbformat": 4,
 "nbformat_minor": 5
}
