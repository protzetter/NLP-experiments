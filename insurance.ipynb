{
 "cells": [
  {
   "cell_type": "markdown",
   "metadata": {
    "id": "U_P9Vs_7pLmh"
   },
   "source": [
    "Created on March 21st 2020 by Patrick Rotzetter\n",
    "Last update on Feb 28th 2021\n",
    "\n",
    "protzetter@bluewin.ch\n",
    "https://www.linkedin.com/in/rotzetter/\n",
    "\n",
    "**Small experiment for insurance claim processing**\n",
    "\n",
    "\n"
   ]
  },
  {
   "cell_type": "code",
   "execution_count": 113,
   "metadata": {
    "id": "qPF1dXXBpLm4"
   },
   "outputs": [],
   "source": [
    "# Import libraries\n",
    "import spacy\n",
    "from spacy.pipeline import EntityRuler\n",
    "from spacy.matcher import Matcher,PhraseMatcher\n",
    "from spacy.symbols import nsubj, VERB, dobj, NOUN, root, xcomp\n",
    "from spacy import displacy\n",
    "from spacy.matcher import Matcher\n",
    "from pathlib import Path\n",
    "import random  "
   ]
  },
  {
   "cell_type": "code",
   "execution_count": 114,
   "metadata": {
    "colab": {
     "base_uri": "https://localhost:8080/"
    },
    "id": "vFSOtLgPlvXh",
    "outputId": "3a5e9c8c-e10a-4a64-e096-cdd02578ce39"
   },
   "outputs": [
    {
     "name": "stdout",
     "output_type": "stream",
     "text": [
      "\u001b[2K\u001b[38;5;2m✔ Loaded compatibility table\u001b[0m\n",
      "\u001b[1m\n",
      "================= Installed pipeline packages (spaCy v3.0.1) =================\u001b[0m\n",
      "\u001b[38;5;4mℹ spaCy installation:\n",
      "/opt/anaconda3/envs/spacy30/lib/python3.8/site-packages/spacy\u001b[0m\n",
      "\n",
      "NAME              SPACY            VERSION                            \n",
      "en_core_web_lg    >=3.0.0,<3.1.0   \u001b[38;5;2m3.0.0\u001b[0m   \u001b[38;5;2m✔\u001b[0m\n",
      "en_core_web_sm    >=3.0.0,<3.1.0   \u001b[38;5;2m3.0.0\u001b[0m   \u001b[38;5;2m✔\u001b[0m\n",
      "en_core_web_trf   >=3.0.0,<3.1.0   \u001b[38;5;2m3.0.0\u001b[0m   \u001b[38;5;2m✔\u001b[0m\n",
      "\n"
     ]
    }
   ],
   "source": [
    "!python -m spacy validate"
   ]
  },
  {
   "cell_type": "code",
   "execution_count": 115,
   "metadata": {
    "colab": {
     "base_uri": "https://localhost:8080/"
    },
    "id": "G0kIIbSlRigk",
    "outputId": "19fce0d5-9c4b-4854-cd35-0938ef946e7f"
   },
   "outputs": [
    {
     "name": "stdout",
     "output_type": "stream",
     "text": [
      "3.8.5\n",
      "Name: spacy\n",
      "Version: 3.0.1\n",
      "Summary: Industrial-strength Natural Language Processing (NLP) in Python\n",
      "Home-page: https://spacy.io\n",
      "Author: Explosion\n",
      "Author-email: contact@explosion.ai\n",
      "License: MIT\n",
      "Location: /opt/anaconda3/envs/spacy30/lib/python3.8/site-packages\n",
      "Requires: spacy-legacy, requests, typer, wasabi, jinja2, cymem, numpy, blis, setuptools, tqdm, preshed, pydantic, pathy, packaging, catalogue, murmurhash, thinc, srsly\n",
      "Required-by: texthero, en-core-web-trf, en-core-web-sm, en-core-web-lg\n"
     ]
    }
   ],
   "source": [
    "from platform import python_version\n",
    "print(python_version())\n",
    "!pip show spacy"
   ]
  },
  {
   "cell_type": "code",
   "execution_count": 116,
   "metadata": {
    "id": "GixaCyvwaHTZ"
   },
   "outputs": [],
   "source": [
    "# load spacy model latets modle based on pre-trained transformer model Roberta\n",
    "\n",
    "from spacy.lang.en import English\n",
    "import en_core_web_trf\n",
    "nlp = en_core_web_trf.load()"
   ]
  },
  {
   "cell_type": "code",
   "execution_count": 117,
   "metadata": {
    "colab": {
     "base_uri": "https://localhost:8080/"
    },
    "id": "mlh4tq5ppLnD",
    "outputId": "1be2524a-1438-4453-de6f-801e27860255"
   },
   "outputs": [
    {
     "name": "stdout",
     "output_type": "stream",
     "text": [
      "Hello,  I would like to submit 1 claim for my car accident and send you a picture, how should I proceed.  Thanks a lot  Patrick\n"
     ]
    }
   ],
   "source": [
    "#read order dialog file\n",
    "\n",
    "text = open('claimsmail.txt').read().replace('\\n', ' ')\n",
    "\n",
    "print(text)\n"
   ]
  },
  {
   "cell_type": "code",
   "execution_count": 118,
   "metadata": {
    "id": "MM2JLVdDpLnP"
   },
   "outputs": [],
   "source": [
    "#process the mail trough standard spacy pipeline\n",
    "doc=nlp(text)\n"
   ]
  },
  {
   "cell_type": "code",
   "execution_count": 119,
   "metadata": {
    "colab": {
     "base_uri": "https://localhost:8080/"
    },
    "id": "VfqjYwm-pLnY",
    "outputId": "0c0d80a5-c28a-4d64-9ee0-813346ff8b83"
   },
   "outputs": [
    {
     "name": "stdout",
     "output_type": "stream",
     "text": [
      "Patrick PERSON\n"
     ]
    }
   ],
   "source": [
    "# print text entities detected\n",
    "for ent in doc.ents :\n",
    "    print(ent.text, ent.label_,)\n"
   ]
  },
  {
   "cell_type": "code",
   "execution_count": 120,
   "metadata": {},
   "outputs": [
    {
     "data": {
      "text/html": [
       "<span class=\"tex2jax_ignore\"><div class=\"entities\" style=\"line-height: 2.5; direction: ltr\">Hello,  I would like to submit 1 claim for my car accident and send you a picture, how should I proceed.  Thanks a lot  <mark class=\"entity\" style=\"background: #aa9cfc; padding: 0.45em 0.6em; margin: 0 0.25em; line-height: 1; border-radius: 0.35em;\">Patrick<span style=\"font-size: 0.8em; font-weight: bold; line-height: 1; border-radius: 0.35em; vertical-align: middle; margin-left: 0.5rem\">PERSON</span></mark></div></span>"
      ],
      "text/plain": [
       "<IPython.core.display.HTML object>"
      ]
     },
     "metadata": {},
     "output_type": "display_data"
    }
   ],
   "source": [
    "#Let us visualize the result directly in the text\n",
    "displacy.render(doc, style='ent', minify=True)"
   ]
  },
  {
   "cell_type": "markdown",
   "metadata": {},
   "source": [
    "The default model does not seem to detect notebook and disk as entities, but identifies the sender as a person and identifies the RAM and disk size as quantities. This is a good start, but still far away from a practical solution. So, let us add some domain specific entities that will help us later on."
   ]
  },
  {
   "cell_type": "code",
   "execution_count": 121,
   "metadata": {
    "id": "ktTxXUv6pLnm"
   },
   "outputs": [],
   "source": [
    "# add domain specific entities and add to the pipeline\n",
    "# add domain specific entities and add to the pipeline\n",
    "patterns = [{\"label\": \"INSURE\", \"pattern\":  [{\"lower\": \"claim\"}]},\n",
    "             {\"label\": \"DAMAGE\", \"pattern\":  [{\"lower\": \"accident\"}]},\n",
    "{\"label\": \"OBJECT\", \"pattern\": [{\"LOWER\": \"car\"}]},\n",
    "{\"label\": \"INSURANCE\", \"pattern\": [{\"LOWER\": \"hm\"}, {\"LOWER\": \"insurance\"}, {\"LOWER\":\"group\"}]}]\n",
    "\n",
    "\n",
    "config = {\n",
    "   \"phrase_matcher_attr\": None,\n",
    "   \"validate\": True,\n",
    "   \"overwrite_ents\": True,\n",
    "   \"ent_id_sep\": \"||\",\n",
    "}\n",
    "ruler=nlp.add_pipe('entity_ruler',config=config)\n"
   ]
  },
  {
   "cell_type": "code",
   "execution_count": 122,
   "metadata": {},
   "outputs": [],
   "source": [
    "ruler.add_patterns(patterns)"
   ]
  },
  {
   "cell_type": "code",
   "execution_count": 123,
   "metadata": {
    "colab": {
     "base_uri": "https://localhost:8080/"
    },
    "id": "yGXjca-QpLnw",
    "outputId": "ce015e62-7de1-49e2-ee0f-5dc729a5162e"
   },
   "outputs": [
    {
     "name": "stdout",
     "output_type": "stream",
     "text": [
      "claim INSURE\n",
      "car OBJECT\n",
      "accident DAMAGE\n",
      "Patrick PERSON\n"
     ]
    }
   ],
   "source": [
    "#process the mail again with added entities\n",
    "doc=nlp(text)\n",
    "for ents in doc.ents:\n",
    "    # Print the entity text and its label\n",
    "    print(ents.text, ents.label_,)\n",
    "\n"
   ]
  },
  {
   "cell_type": "code",
   "execution_count": 103,
   "metadata": {
    "colab": {
     "base_uri": "https://localhost:8080/",
     "height": 109
    },
    "id": "PneiF9bEeN6Y",
    "outputId": "6742ffa1-a9e0-48fc-cc7d-970042baad12"
   },
   "outputs": [
    {
     "data": {
      "text/html": [
       "<span class=\"tex2jax_ignore\"><div class=\"entities\" style=\"line-height: 2.5; direction: ltr\">Hello,  I would like to submit <mark class=\"entity\" style=\"background: #e4e7d2; padding: 0.45em 0.6em; margin: 0 0.25em; line-height: 1; border-radius: 0.35em;\">1<span style=\"font-size: 0.8em; font-weight: bold; line-height: 1; border-radius: 0.35em; vertical-align: middle; margin-left: 0.5rem\">CARDINAL</span></mark> <mark class=\"entity\" style=\"background: #ddd; padding: 0.45em 0.6em; margin: 0 0.25em; line-height: 1; border-radius: 0.35em;\">claim<span style=\"font-size: 0.8em; font-weight: bold; line-height: 1; border-radius: 0.35em; vertical-align: middle; margin-left: 0.5rem\">INSURE</span></mark> for my <mark class=\"entity\" style=\"background: #ddd; padding: 0.45em 0.6em; margin: 0 0.25em; line-height: 1; border-radius: 0.35em;\">car<span style=\"font-size: 0.8em; font-weight: bold; line-height: 1; border-radius: 0.35em; vertical-align: middle; margin-left: 0.5rem\">OBJECT</span></mark> <mark class=\"entity\" style=\"background: #ddd; padding: 0.45em 0.6em; margin: 0 0.25em; line-height: 1; border-radius: 0.35em;\">accident<span style=\"font-size: 0.8em; font-weight: bold; line-height: 1; border-radius: 0.35em; vertical-align: middle; margin-left: 0.5rem\">DAMAGE</span></mark> and send you a picture, how should I proceed.  Thanks a lot  Patrick</div></span>"
      ],
      "text/plain": [
       "<IPython.core.display.HTML object>"
      ]
     },
     "metadata": {},
     "output_type": "display_data"
    }
   ],
   "source": [
    "#Let us visualize the result directly in the text\n",
    "displacy.render(doc, style='ent', minify=True)"
   ]
  },
  {
   "cell_type": "code",
   "execution_count": 124,
   "metadata": {
    "colab": {
     "base_uri": "https://localhost:8080/"
    },
    "id": "KIMIRSvfpLn4",
    "outputId": "7d2b1736-124b-435b-fd4b-bcd2589bf0d6"
   },
   "outputs": [
    {
     "name": "stdout",
     "output_type": "stream",
     "text": [
      "car accident\n"
     ]
    }
   ],
   "source": [
    "# Let us try to identify specific phrases or sequence of words, for example to detect an event\n",
    "matcher = PhraseMatcher(nlp.vocab)\n",
    "terms = [\"car accident\"]\n",
    "# Only run nlp.make_doc to speed things up\n",
    "patterns = [nlp.make_doc(t) for t in terms]\n",
    "matcher.add(\"INCIDENT\", None, *patterns)\n",
    "\n",
    "doc = nlp(text)\n",
    "matches = matcher(doc)\n",
    "for match_id, start, end in matches:\n",
    "    span = doc[start:end]\n",
    "    print(span.text)"
   ]
  },
  {
   "cell_type": "code",
   "execution_count": 125,
   "metadata": {
    "colab": {
     "base_uri": "https://localhost:8080/"
    },
    "id": "S6f_65tpdU5B",
    "outputId": "aaa2c503-1cbc-4010-8b5e-220aa3241c7c"
   },
   "outputs": [
    {
     "name": "stdout",
     "output_type": "stream",
     "text": [
      "Hello intj   SPACE []\n",
      ", punct   SPACE []\n",
      "  ccomp proceed VERB [Hello, ,]\n",
      "I nsubj like VERB []\n",
      "would aux like VERB []\n",
      "like ccomp proceed VERB [I, would, submit]\n",
      "to aux submit VERB []\n",
      "submit xcomp like VERB [to, claim, and, send]\n",
      "1 nummod claim NOUN []\n",
      "claim dobj submit VERB [1, for]\n",
      "for prep claim NOUN [accident]\n",
      "my poss accident NOUN []\n",
      "car compound accident NOUN []\n",
      "accident pobj for ADP [my, car]\n",
      "and cc submit VERB []\n",
      "send conj submit VERB [you, picture]\n",
      "you dative send VERB []\n",
      "a det picture NOUN []\n",
      "picture dobj send VERB [a]\n",
      ", punct proceed VERB []\n",
      "how advmod proceed VERB []\n",
      "should aux proceed VERB []\n",
      "I nsubj proceed VERB []\n",
      "proceed ROOT proceed VERB [ , like, ,, how, should, I, .]\n",
      ". punct proceed VERB []\n",
      "  ROOT   SPACE []\n",
      "Thanks ROOT Thanks NOUN [lot,  , Patrick]\n",
      "a det lot NOUN []\n",
      "lot npadvmod Thanks NOUN [a]\n",
      "  punct Thanks NOUN []\n",
      "Patrick npadvmod Thanks NOUN []\n"
     ]
    }
   ],
   "source": [
    "## Part of speech tagging\n",
    "# This is where the trained pipeline and its statistical models come in, \n",
    "# which enable spaCy to make predictions of which tag or label most likely applies in this context\n",
    "for token in doc:\n",
    "  print(token.text, token.dep_, token.head.text, token.head.pos_,\n",
    "            [child for child in token.children])"
   ]
  },
  {
   "cell_type": "code",
   "execution_count": 126,
   "metadata": {
    "colab": {
     "base_uri": "https://localhost:8080/",
     "height": 528
    },
    "id": "7GVukhKHpLoC",
    "outputId": "3c774548-0595-4c42-b9a1-786b90a97226"
   },
   "outputs": [
    {
     "data": {
      "text/html": [
       "<span class=\"tex2jax_ignore\"><svg xmlns=\"http://www.w3.org/2000/svg\" xmlns:xlink=\"http://www.w3.org/1999/xlink\" xml:lang=\"en\" id=\"a3ff922c86104c62bb0e5960517a030e-0\" class=\"displacy\" width=\"4950\" height=\"837.0\" direction=\"ltr\" style=\"max-width: none; height: 837.0px; color: #000000; background: #ffffff; font-family: Arial; direction: ltr\"><text class=\"displacy-token\" fill=\"currentColor\" text-anchor=\"middle\" y=\"747.0\"><tspan class=\"displacy-word\" fill=\"currentColor\" x=\"50\">Hello,</tspan><tspan class=\"displacy-tag\" dy=\"2em\" fill=\"currentColor\" x=\"50\">INTJ</tspan></text><text class=\"displacy-token\" fill=\"currentColor\" text-anchor=\"middle\" y=\"747.0\"><tspan class=\"displacy-word\" fill=\"currentColor\" x=\"225\"> </tspan><tspan class=\"displacy-tag\" dy=\"2em\" fill=\"currentColor\" x=\"225\">SPACE</tspan></text><text class=\"displacy-token\" fill=\"currentColor\" text-anchor=\"middle\" y=\"747.0\"><tspan class=\"displacy-word\" fill=\"currentColor\" x=\"400\">I</tspan><tspan class=\"displacy-tag\" dy=\"2em\" fill=\"currentColor\" x=\"400\">PRON</tspan></text><text class=\"displacy-token\" fill=\"currentColor\" text-anchor=\"middle\" y=\"747.0\"><tspan class=\"displacy-word\" fill=\"currentColor\" x=\"575\">would</tspan><tspan class=\"displacy-tag\" dy=\"2em\" fill=\"currentColor\" x=\"575\">AUX</tspan></text><text class=\"displacy-token\" fill=\"currentColor\" text-anchor=\"middle\" y=\"747.0\"><tspan class=\"displacy-word\" fill=\"currentColor\" x=\"750\">like</tspan><tspan class=\"displacy-tag\" dy=\"2em\" fill=\"currentColor\" x=\"750\">VERB</tspan></text><text class=\"displacy-token\" fill=\"currentColor\" text-anchor=\"middle\" y=\"747.0\"><tspan class=\"displacy-word\" fill=\"currentColor\" x=\"925\">to</tspan><tspan class=\"displacy-tag\" dy=\"2em\" fill=\"currentColor\" x=\"925\">PART</tspan></text><text class=\"displacy-token\" fill=\"currentColor\" text-anchor=\"middle\" y=\"747.0\"><tspan class=\"displacy-word\" fill=\"currentColor\" x=\"1100\">submit</tspan><tspan class=\"displacy-tag\" dy=\"2em\" fill=\"currentColor\" x=\"1100\">VERB</tspan></text><text class=\"displacy-token\" fill=\"currentColor\" text-anchor=\"middle\" y=\"747.0\"><tspan class=\"displacy-word\" fill=\"currentColor\" x=\"1275\">1</tspan><tspan class=\"displacy-tag\" dy=\"2em\" fill=\"currentColor\" x=\"1275\">NUM</tspan></text><text class=\"displacy-token\" fill=\"currentColor\" text-anchor=\"middle\" y=\"747.0\"><tspan class=\"displacy-word\" fill=\"currentColor\" x=\"1450\">claim</tspan><tspan class=\"displacy-tag\" dy=\"2em\" fill=\"currentColor\" x=\"1450\">NOUN</tspan></text><text class=\"displacy-token\" fill=\"currentColor\" text-anchor=\"middle\" y=\"747.0\"><tspan class=\"displacy-word\" fill=\"currentColor\" x=\"1625\">for</tspan><tspan class=\"displacy-tag\" dy=\"2em\" fill=\"currentColor\" x=\"1625\">ADP</tspan></text><text class=\"displacy-token\" fill=\"currentColor\" text-anchor=\"middle\" y=\"747.0\"><tspan class=\"displacy-word\" fill=\"currentColor\" x=\"1800\">my</tspan><tspan class=\"displacy-tag\" dy=\"2em\" fill=\"currentColor\" x=\"1800\">PRON</tspan></text><text class=\"displacy-token\" fill=\"currentColor\" text-anchor=\"middle\" y=\"747.0\"><tspan class=\"displacy-word\" fill=\"currentColor\" x=\"1975\">car</tspan><tspan class=\"displacy-tag\" dy=\"2em\" fill=\"currentColor\" x=\"1975\">NOUN</tspan></text><text class=\"displacy-token\" fill=\"currentColor\" text-anchor=\"middle\" y=\"747.0\"><tspan class=\"displacy-word\" fill=\"currentColor\" x=\"2150\">accident</tspan><tspan class=\"displacy-tag\" dy=\"2em\" fill=\"currentColor\" x=\"2150\">NOUN</tspan></text><text class=\"displacy-token\" fill=\"currentColor\" text-anchor=\"middle\" y=\"747.0\"><tspan class=\"displacy-word\" fill=\"currentColor\" x=\"2325\">and</tspan><tspan class=\"displacy-tag\" dy=\"2em\" fill=\"currentColor\" x=\"2325\">CCONJ</tspan></text><text class=\"displacy-token\" fill=\"currentColor\" text-anchor=\"middle\" y=\"747.0\"><tspan class=\"displacy-word\" fill=\"currentColor\" x=\"2500\">send</tspan><tspan class=\"displacy-tag\" dy=\"2em\" fill=\"currentColor\" x=\"2500\">VERB</tspan></text><text class=\"displacy-token\" fill=\"currentColor\" text-anchor=\"middle\" y=\"747.0\"><tspan class=\"displacy-word\" fill=\"currentColor\" x=\"2675\">you</tspan><tspan class=\"displacy-tag\" dy=\"2em\" fill=\"currentColor\" x=\"2675\">PRON</tspan></text><text class=\"displacy-token\" fill=\"currentColor\" text-anchor=\"middle\" y=\"747.0\"><tspan class=\"displacy-word\" fill=\"currentColor\" x=\"2850\">a</tspan><tspan class=\"displacy-tag\" dy=\"2em\" fill=\"currentColor\" x=\"2850\">DET</tspan></text><text class=\"displacy-token\" fill=\"currentColor\" text-anchor=\"middle\" y=\"747.0\"><tspan class=\"displacy-word\" fill=\"currentColor\" x=\"3025\">picture,</tspan><tspan class=\"displacy-tag\" dy=\"2em\" fill=\"currentColor\" x=\"3025\">NOUN</tspan></text><text class=\"displacy-token\" fill=\"currentColor\" text-anchor=\"middle\" y=\"747.0\"><tspan class=\"displacy-word\" fill=\"currentColor\" x=\"3200\">how</tspan><tspan class=\"displacy-tag\" dy=\"2em\" fill=\"currentColor\" x=\"3200\">ADV</tspan></text><text class=\"displacy-token\" fill=\"currentColor\" text-anchor=\"middle\" y=\"747.0\"><tspan class=\"displacy-word\" fill=\"currentColor\" x=\"3375\">should</tspan><tspan class=\"displacy-tag\" dy=\"2em\" fill=\"currentColor\" x=\"3375\">AUX</tspan></text><text class=\"displacy-token\" fill=\"currentColor\" text-anchor=\"middle\" y=\"747.0\"><tspan class=\"displacy-word\" fill=\"currentColor\" x=\"3550\">I</tspan><tspan class=\"displacy-tag\" dy=\"2em\" fill=\"currentColor\" x=\"3550\">PRON</tspan></text><text class=\"displacy-token\" fill=\"currentColor\" text-anchor=\"middle\" y=\"747.0\"><tspan class=\"displacy-word\" fill=\"currentColor\" x=\"3725\">proceed.</tspan><tspan class=\"displacy-tag\" dy=\"2em\" fill=\"currentColor\" x=\"3725\">VERB</tspan></text><text class=\"displacy-token\" fill=\"currentColor\" text-anchor=\"middle\" y=\"747.0\"><tspan class=\"displacy-word\" fill=\"currentColor\" x=\"3900\"> </tspan><tspan class=\"displacy-tag\" dy=\"2em\" fill=\"currentColor\" x=\"3900\">SPACE</tspan></text><text class=\"displacy-token\" fill=\"currentColor\" text-anchor=\"middle\" y=\"747.0\"><tspan class=\"displacy-word\" fill=\"currentColor\" x=\"4075\">Thanks</tspan><tspan class=\"displacy-tag\" dy=\"2em\" fill=\"currentColor\" x=\"4075\">NOUN</tspan></text><text class=\"displacy-token\" fill=\"currentColor\" text-anchor=\"middle\" y=\"747.0\"><tspan class=\"displacy-word\" fill=\"currentColor\" x=\"4250\">a</tspan><tspan class=\"displacy-tag\" dy=\"2em\" fill=\"currentColor\" x=\"4250\">DET</tspan></text><text class=\"displacy-token\" fill=\"currentColor\" text-anchor=\"middle\" y=\"747.0\"><tspan class=\"displacy-word\" fill=\"currentColor\" x=\"4425\">lot</tspan><tspan class=\"displacy-tag\" dy=\"2em\" fill=\"currentColor\" x=\"4425\">NOUN</tspan></text><text class=\"displacy-token\" fill=\"currentColor\" text-anchor=\"middle\" y=\"747.0\"><tspan class=\"displacy-word\" fill=\"currentColor\" x=\"4600\"> </tspan><tspan class=\"displacy-tag\" dy=\"2em\" fill=\"currentColor\" x=\"4600\">SPACE</tspan></text><text class=\"displacy-token\" fill=\"currentColor\" text-anchor=\"middle\" y=\"747.0\"><tspan class=\"displacy-word\" fill=\"currentColor\" x=\"4775\">Patrick</tspan><tspan class=\"displacy-tag\" dy=\"2em\" fill=\"currentColor\" x=\"4775\">PROPN</tspan></text><g class=\"displacy-arrow\"><path class=\"displacy-arc\" id=\"arrow-a3ff922c86104c62bb0e5960517a030e-0-0\" stroke-width=\"2px\" d=\"M70,702.0 C70,614.5 190.0,614.5 190.0,702.0\" fill=\"none\" stroke=\"currentColor\"/><text dy=\"1.25em\" style=\"font-size: 0.8em; letter-spacing: 1px\"><textPath xlink:href=\"#arrow-a3ff922c86104c62bb0e5960517a030e-0-0\" class=\"displacy-label\" startOffset=\"50%\" side=\"left\" fill=\"currentColor\" text-anchor=\"middle\">intj</textPath></text><path class=\"displacy-arrowhead\" d=\"M70,704.0 L62,692.0 78,692.0\" fill=\"currentColor\"/></g><g class=\"displacy-arrow\"><path class=\"displacy-arc\" id=\"arrow-a3ff922c86104c62bb0e5960517a030e-0-1\" stroke-width=\"2px\" d=\"M245,702.0 C245,2.0 3725.0,2.0 3725.0,702.0\" fill=\"none\" stroke=\"currentColor\"/><text dy=\"1.25em\" style=\"font-size: 0.8em; letter-spacing: 1px\"><textPath xlink:href=\"#arrow-a3ff922c86104c62bb0e5960517a030e-0-1\" class=\"displacy-label\" startOffset=\"50%\" side=\"left\" fill=\"currentColor\" text-anchor=\"middle\">ccomp</textPath></text><path class=\"displacy-arrowhead\" d=\"M245,704.0 L237,692.0 253,692.0\" fill=\"currentColor\"/></g><g class=\"displacy-arrow\"><path class=\"displacy-arc\" id=\"arrow-a3ff922c86104c62bb0e5960517a030e-0-2\" stroke-width=\"2px\" d=\"M420,702.0 C420,527.0 720.0,527.0 720.0,702.0\" fill=\"none\" stroke=\"currentColor\"/><text dy=\"1.25em\" style=\"font-size: 0.8em; letter-spacing: 1px\"><textPath xlink:href=\"#arrow-a3ff922c86104c62bb0e5960517a030e-0-2\" class=\"displacy-label\" startOffset=\"50%\" side=\"left\" fill=\"currentColor\" text-anchor=\"middle\">nsubj</textPath></text><path class=\"displacy-arrowhead\" d=\"M420,704.0 L412,692.0 428,692.0\" fill=\"currentColor\"/></g><g class=\"displacy-arrow\"><path class=\"displacy-arc\" id=\"arrow-a3ff922c86104c62bb0e5960517a030e-0-3\" stroke-width=\"2px\" d=\"M595,702.0 C595,614.5 715.0,614.5 715.0,702.0\" fill=\"none\" stroke=\"currentColor\"/><text dy=\"1.25em\" style=\"font-size: 0.8em; letter-spacing: 1px\"><textPath xlink:href=\"#arrow-a3ff922c86104c62bb0e5960517a030e-0-3\" class=\"displacy-label\" startOffset=\"50%\" side=\"left\" fill=\"currentColor\" text-anchor=\"middle\">aux</textPath></text><path class=\"displacy-arrowhead\" d=\"M595,704.0 L587,692.0 603,692.0\" fill=\"currentColor\"/></g><g class=\"displacy-arrow\"><path class=\"displacy-arc\" id=\"arrow-a3ff922c86104c62bb0e5960517a030e-0-4\" stroke-width=\"2px\" d=\"M770,702.0 C770,89.5 3720.0,89.5 3720.0,702.0\" fill=\"none\" stroke=\"currentColor\"/><text dy=\"1.25em\" style=\"font-size: 0.8em; letter-spacing: 1px\"><textPath xlink:href=\"#arrow-a3ff922c86104c62bb0e5960517a030e-0-4\" class=\"displacy-label\" startOffset=\"50%\" side=\"left\" fill=\"currentColor\" text-anchor=\"middle\">ccomp</textPath></text><path class=\"displacy-arrowhead\" d=\"M770,704.0 L762,692.0 778,692.0\" fill=\"currentColor\"/></g><g class=\"displacy-arrow\"><path class=\"displacy-arc\" id=\"arrow-a3ff922c86104c62bb0e5960517a030e-0-5\" stroke-width=\"2px\" d=\"M945,702.0 C945,614.5 1065.0,614.5 1065.0,702.0\" fill=\"none\" stroke=\"currentColor\"/><text dy=\"1.25em\" style=\"font-size: 0.8em; letter-spacing: 1px\"><textPath xlink:href=\"#arrow-a3ff922c86104c62bb0e5960517a030e-0-5\" class=\"displacy-label\" startOffset=\"50%\" side=\"left\" fill=\"currentColor\" text-anchor=\"middle\">aux</textPath></text><path class=\"displacy-arrowhead\" d=\"M945,704.0 L937,692.0 953,692.0\" fill=\"currentColor\"/></g><g class=\"displacy-arrow\"><path class=\"displacy-arc\" id=\"arrow-a3ff922c86104c62bb0e5960517a030e-0-6\" stroke-width=\"2px\" d=\"M770,702.0 C770,527.0 1070.0,527.0 1070.0,702.0\" fill=\"none\" stroke=\"currentColor\"/><text dy=\"1.25em\" style=\"font-size: 0.8em; letter-spacing: 1px\"><textPath xlink:href=\"#arrow-a3ff922c86104c62bb0e5960517a030e-0-6\" class=\"displacy-label\" startOffset=\"50%\" side=\"left\" fill=\"currentColor\" text-anchor=\"middle\">xcomp</textPath></text><path class=\"displacy-arrowhead\" d=\"M1070.0,704.0 L1078.0,692.0 1062.0,692.0\" fill=\"currentColor\"/></g><g class=\"displacy-arrow\"><path class=\"displacy-arc\" id=\"arrow-a3ff922c86104c62bb0e5960517a030e-0-7\" stroke-width=\"2px\" d=\"M1295,702.0 C1295,614.5 1415.0,614.5 1415.0,702.0\" fill=\"none\" stroke=\"currentColor\"/><text dy=\"1.25em\" style=\"font-size: 0.8em; letter-spacing: 1px\"><textPath xlink:href=\"#arrow-a3ff922c86104c62bb0e5960517a030e-0-7\" class=\"displacy-label\" startOffset=\"50%\" side=\"left\" fill=\"currentColor\" text-anchor=\"middle\">nummod</textPath></text><path class=\"displacy-arrowhead\" d=\"M1295,704.0 L1287,692.0 1303,692.0\" fill=\"currentColor\"/></g><g class=\"displacy-arrow\"><path class=\"displacy-arc\" id=\"arrow-a3ff922c86104c62bb0e5960517a030e-0-8\" stroke-width=\"2px\" d=\"M1120,702.0 C1120,527.0 1420.0,527.0 1420.0,702.0\" fill=\"none\" stroke=\"currentColor\"/><text dy=\"1.25em\" style=\"font-size: 0.8em; letter-spacing: 1px\"><textPath xlink:href=\"#arrow-a3ff922c86104c62bb0e5960517a030e-0-8\" class=\"displacy-label\" startOffset=\"50%\" side=\"left\" fill=\"currentColor\" text-anchor=\"middle\">dobj</textPath></text><path class=\"displacy-arrowhead\" d=\"M1420.0,704.0 L1428.0,692.0 1412.0,692.0\" fill=\"currentColor\"/></g><g class=\"displacy-arrow\"><path class=\"displacy-arc\" id=\"arrow-a3ff922c86104c62bb0e5960517a030e-0-9\" stroke-width=\"2px\" d=\"M1470,702.0 C1470,614.5 1590.0,614.5 1590.0,702.0\" fill=\"none\" stroke=\"currentColor\"/><text dy=\"1.25em\" style=\"font-size: 0.8em; letter-spacing: 1px\"><textPath xlink:href=\"#arrow-a3ff922c86104c62bb0e5960517a030e-0-9\" class=\"displacy-label\" startOffset=\"50%\" side=\"left\" fill=\"currentColor\" text-anchor=\"middle\">prep</textPath></text><path class=\"displacy-arrowhead\" d=\"M1590.0,704.0 L1598.0,692.0 1582.0,692.0\" fill=\"currentColor\"/></g><g class=\"displacy-arrow\"><path class=\"displacy-arc\" id=\"arrow-a3ff922c86104c62bb0e5960517a030e-0-10\" stroke-width=\"2px\" d=\"M1820,702.0 C1820,527.0 2120.0,527.0 2120.0,702.0\" fill=\"none\" stroke=\"currentColor\"/><text dy=\"1.25em\" style=\"font-size: 0.8em; letter-spacing: 1px\"><textPath xlink:href=\"#arrow-a3ff922c86104c62bb0e5960517a030e-0-10\" class=\"displacy-label\" startOffset=\"50%\" side=\"left\" fill=\"currentColor\" text-anchor=\"middle\">poss</textPath></text><path class=\"displacy-arrowhead\" d=\"M1820,704.0 L1812,692.0 1828,692.0\" fill=\"currentColor\"/></g><g class=\"displacy-arrow\"><path class=\"displacy-arc\" id=\"arrow-a3ff922c86104c62bb0e5960517a030e-0-11\" stroke-width=\"2px\" d=\"M1995,702.0 C1995,614.5 2115.0,614.5 2115.0,702.0\" fill=\"none\" stroke=\"currentColor\"/><text dy=\"1.25em\" style=\"font-size: 0.8em; letter-spacing: 1px\"><textPath xlink:href=\"#arrow-a3ff922c86104c62bb0e5960517a030e-0-11\" class=\"displacy-label\" startOffset=\"50%\" side=\"left\" fill=\"currentColor\" text-anchor=\"middle\">compound</textPath></text><path class=\"displacy-arrowhead\" d=\"M1995,704.0 L1987,692.0 2003,692.0\" fill=\"currentColor\"/></g><g class=\"displacy-arrow\"><path class=\"displacy-arc\" id=\"arrow-a3ff922c86104c62bb0e5960517a030e-0-12\" stroke-width=\"2px\" d=\"M1645,702.0 C1645,439.5 2125.0,439.5 2125.0,702.0\" fill=\"none\" stroke=\"currentColor\"/><text dy=\"1.25em\" style=\"font-size: 0.8em; letter-spacing: 1px\"><textPath xlink:href=\"#arrow-a3ff922c86104c62bb0e5960517a030e-0-12\" class=\"displacy-label\" startOffset=\"50%\" side=\"left\" fill=\"currentColor\" text-anchor=\"middle\">pobj</textPath></text><path class=\"displacy-arrowhead\" d=\"M2125.0,704.0 L2133.0,692.0 2117.0,692.0\" fill=\"currentColor\"/></g><g class=\"displacy-arrow\"><path class=\"displacy-arc\" id=\"arrow-a3ff922c86104c62bb0e5960517a030e-0-13\" stroke-width=\"2px\" d=\"M1120,702.0 C1120,264.5 2310.0,264.5 2310.0,702.0\" fill=\"none\" stroke=\"currentColor\"/><text dy=\"1.25em\" style=\"font-size: 0.8em; letter-spacing: 1px\"><textPath xlink:href=\"#arrow-a3ff922c86104c62bb0e5960517a030e-0-13\" class=\"displacy-label\" startOffset=\"50%\" side=\"left\" fill=\"currentColor\" text-anchor=\"middle\">cc</textPath></text><path class=\"displacy-arrowhead\" d=\"M2310.0,704.0 L2318.0,692.0 2302.0,692.0\" fill=\"currentColor\"/></g><g class=\"displacy-arrow\"><path class=\"displacy-arc\" id=\"arrow-a3ff922c86104c62bb0e5960517a030e-0-14\" stroke-width=\"2px\" d=\"M1120,702.0 C1120,177.0 2490.0,177.0 2490.0,702.0\" fill=\"none\" stroke=\"currentColor\"/><text dy=\"1.25em\" style=\"font-size: 0.8em; letter-spacing: 1px\"><textPath xlink:href=\"#arrow-a3ff922c86104c62bb0e5960517a030e-0-14\" class=\"displacy-label\" startOffset=\"50%\" side=\"left\" fill=\"currentColor\" text-anchor=\"middle\">conj</textPath></text><path class=\"displacy-arrowhead\" d=\"M2490.0,704.0 L2498.0,692.0 2482.0,692.0\" fill=\"currentColor\"/></g><g class=\"displacy-arrow\"><path class=\"displacy-arc\" id=\"arrow-a3ff922c86104c62bb0e5960517a030e-0-15\" stroke-width=\"2px\" d=\"M2520,702.0 C2520,614.5 2640.0,614.5 2640.0,702.0\" fill=\"none\" stroke=\"currentColor\"/><text dy=\"1.25em\" style=\"font-size: 0.8em; letter-spacing: 1px\"><textPath xlink:href=\"#arrow-a3ff922c86104c62bb0e5960517a030e-0-15\" class=\"displacy-label\" startOffset=\"50%\" side=\"left\" fill=\"currentColor\" text-anchor=\"middle\">dative</textPath></text><path class=\"displacy-arrowhead\" d=\"M2640.0,704.0 L2648.0,692.0 2632.0,692.0\" fill=\"currentColor\"/></g><g class=\"displacy-arrow\"><path class=\"displacy-arc\" id=\"arrow-a3ff922c86104c62bb0e5960517a030e-0-16\" stroke-width=\"2px\" d=\"M2870,702.0 C2870,614.5 2990.0,614.5 2990.0,702.0\" fill=\"none\" stroke=\"currentColor\"/><text dy=\"1.25em\" style=\"font-size: 0.8em; letter-spacing: 1px\"><textPath xlink:href=\"#arrow-a3ff922c86104c62bb0e5960517a030e-0-16\" class=\"displacy-label\" startOffset=\"50%\" side=\"left\" fill=\"currentColor\" text-anchor=\"middle\">det</textPath></text><path class=\"displacy-arrowhead\" d=\"M2870,704.0 L2862,692.0 2878,692.0\" fill=\"currentColor\"/></g><g class=\"displacy-arrow\"><path class=\"displacy-arc\" id=\"arrow-a3ff922c86104c62bb0e5960517a030e-0-17\" stroke-width=\"2px\" d=\"M2520,702.0 C2520,439.5 3000.0,439.5 3000.0,702.0\" fill=\"none\" stroke=\"currentColor\"/><text dy=\"1.25em\" style=\"font-size: 0.8em; letter-spacing: 1px\"><textPath xlink:href=\"#arrow-a3ff922c86104c62bb0e5960517a030e-0-17\" class=\"displacy-label\" startOffset=\"50%\" side=\"left\" fill=\"currentColor\" text-anchor=\"middle\">dobj</textPath></text><path class=\"displacy-arrowhead\" d=\"M3000.0,704.0 L3008.0,692.0 2992.0,692.0\" fill=\"currentColor\"/></g><g class=\"displacy-arrow\"><path class=\"displacy-arc\" id=\"arrow-a3ff922c86104c62bb0e5960517a030e-0-18\" stroke-width=\"2px\" d=\"M3220,702.0 C3220,439.5 3700.0,439.5 3700.0,702.0\" fill=\"none\" stroke=\"currentColor\"/><text dy=\"1.25em\" style=\"font-size: 0.8em; letter-spacing: 1px\"><textPath xlink:href=\"#arrow-a3ff922c86104c62bb0e5960517a030e-0-18\" class=\"displacy-label\" startOffset=\"50%\" side=\"left\" fill=\"currentColor\" text-anchor=\"middle\">advmod</textPath></text><path class=\"displacy-arrowhead\" d=\"M3220,704.0 L3212,692.0 3228,692.0\" fill=\"currentColor\"/></g><g class=\"displacy-arrow\"><path class=\"displacy-arc\" id=\"arrow-a3ff922c86104c62bb0e5960517a030e-0-19\" stroke-width=\"2px\" d=\"M3395,702.0 C3395,527.0 3695.0,527.0 3695.0,702.0\" fill=\"none\" stroke=\"currentColor\"/><text dy=\"1.25em\" style=\"font-size: 0.8em; letter-spacing: 1px\"><textPath xlink:href=\"#arrow-a3ff922c86104c62bb0e5960517a030e-0-19\" class=\"displacy-label\" startOffset=\"50%\" side=\"left\" fill=\"currentColor\" text-anchor=\"middle\">aux</textPath></text><path class=\"displacy-arrowhead\" d=\"M3395,704.0 L3387,692.0 3403,692.0\" fill=\"currentColor\"/></g><g class=\"displacy-arrow\"><path class=\"displacy-arc\" id=\"arrow-a3ff922c86104c62bb0e5960517a030e-0-20\" stroke-width=\"2px\" d=\"M3570,702.0 C3570,614.5 3690.0,614.5 3690.0,702.0\" fill=\"none\" stroke=\"currentColor\"/><text dy=\"1.25em\" style=\"font-size: 0.8em; letter-spacing: 1px\"><textPath xlink:href=\"#arrow-a3ff922c86104c62bb0e5960517a030e-0-20\" class=\"displacy-label\" startOffset=\"50%\" side=\"left\" fill=\"currentColor\" text-anchor=\"middle\">nsubj</textPath></text><path class=\"displacy-arrowhead\" d=\"M3570,704.0 L3562,692.0 3578,692.0\" fill=\"currentColor\"/></g><g class=\"displacy-arrow\"><path class=\"displacy-arc\" id=\"arrow-a3ff922c86104c62bb0e5960517a030e-0-21\" stroke-width=\"2px\" d=\"M4270,702.0 C4270,614.5 4390.0,614.5 4390.0,702.0\" fill=\"none\" stroke=\"currentColor\"/><text dy=\"1.25em\" style=\"font-size: 0.8em; letter-spacing: 1px\"><textPath xlink:href=\"#arrow-a3ff922c86104c62bb0e5960517a030e-0-21\" class=\"displacy-label\" startOffset=\"50%\" side=\"left\" fill=\"currentColor\" text-anchor=\"middle\">det</textPath></text><path class=\"displacy-arrowhead\" d=\"M4270,704.0 L4262,692.0 4278,692.0\" fill=\"currentColor\"/></g><g class=\"displacy-arrow\"><path class=\"displacy-arc\" id=\"arrow-a3ff922c86104c62bb0e5960517a030e-0-22\" stroke-width=\"2px\" d=\"M4095,702.0 C4095,527.0 4395.0,527.0 4395.0,702.0\" fill=\"none\" stroke=\"currentColor\"/><text dy=\"1.25em\" style=\"font-size: 0.8em; letter-spacing: 1px\"><textPath xlink:href=\"#arrow-a3ff922c86104c62bb0e5960517a030e-0-22\" class=\"displacy-label\" startOffset=\"50%\" side=\"left\" fill=\"currentColor\" text-anchor=\"middle\">npadvmod</textPath></text><path class=\"displacy-arrowhead\" d=\"M4395.0,704.0 L4403.0,692.0 4387.0,692.0\" fill=\"currentColor\"/></g><g class=\"displacy-arrow\"><path class=\"displacy-arc\" id=\"arrow-a3ff922c86104c62bb0e5960517a030e-0-23\" stroke-width=\"2px\" d=\"M4095,702.0 C4095,439.5 4575.0,439.5 4575.0,702.0\" fill=\"none\" stroke=\"currentColor\"/><text dy=\"1.25em\" style=\"font-size: 0.8em; letter-spacing: 1px\"><textPath xlink:href=\"#arrow-a3ff922c86104c62bb0e5960517a030e-0-23\" class=\"displacy-label\" startOffset=\"50%\" side=\"left\" fill=\"currentColor\" text-anchor=\"middle\">punct</textPath></text><path class=\"displacy-arrowhead\" d=\"M4575.0,704.0 L4583.0,692.0 4567.0,692.0\" fill=\"currentColor\"/></g><g class=\"displacy-arrow\"><path class=\"displacy-arc\" id=\"arrow-a3ff922c86104c62bb0e5960517a030e-0-24\" stroke-width=\"2px\" d=\"M4095,702.0 C4095,352.0 4755.0,352.0 4755.0,702.0\" fill=\"none\" stroke=\"currentColor\"/><text dy=\"1.25em\" style=\"font-size: 0.8em; letter-spacing: 1px\"><textPath xlink:href=\"#arrow-a3ff922c86104c62bb0e5960517a030e-0-24\" class=\"displacy-label\" startOffset=\"50%\" side=\"left\" fill=\"currentColor\" text-anchor=\"middle\">npadvmod</textPath></text><path class=\"displacy-arrowhead\" d=\"M4755.0,704.0 L4763.0,692.0 4747.0,692.0\" fill=\"currentColor\"/></g></svg></span>"
      ],
      "text/plain": [
       "<IPython.core.display.HTML object>"
      ]
     },
     "metadata": {},
     "output_type": "display_data"
    }
   ],
   "source": [
    "# visualize the dependency graph\n",
    "displacy.render(doc, style=\"dep\", minify=True, jupyter=True)"
   ]
  },
  {
   "cell_type": "markdown",
   "metadata": {},
   "source": [
    "Spacy provides all the required tagging to find the action verbs, we want to know if the customer wants to order something or is just interested by some information for example. Let us iterate through all tokens in the text and search for an open clausal complement ( refer to for all possible dependency tags https://spacy.io/api/annotation#pos-tagging )"
   ]
  },
  {
   "cell_type": "code",
   "execution_count": 127,
   "metadata": {
    "colab": {
     "base_uri": "https://localhost:8080/"
    },
    "id": "5YKyxgGupLop",
    "outputId": "7b852884-67d7-4224-f230-d318cf4aa5b0"
   },
   "outputs": [
    {
     "name": "stdout",
     "output_type": "stream",
     "text": [
      "{submit, send, like, proceed}\n"
     ]
    }
   ],
   "source": [
    "# Identify action verbs\n",
    "verbs = set()\n",
    "for possible_verbs in doc:\n",
    "    if possible_verbs.pos == VERB :\n",
    "        verbs.add(possible_verbs)\n",
    "print(verbs)"
   ]
  },
  {
   "cell_type": "code",
   "execution_count": 128,
   "metadata": {},
   "outputs": [
    {
     "name": "stdout",
     "output_type": "stream",
     "text": [
      "Similarity of submit to notify: 0.5794420418542369\n",
      "Similarity of submit cancel: 0.4386734820003478\n"
     ]
    }
   ],
   "source": [
    "# we can imagine comparing the action verb with a pre-defined set of actions that we understand and this way know what the customer wants to do\n",
    "# let us assume we have defined an action notify and another cancel\n",
    "import en_core_web_lg\n",
    "nlp = en_core_web_lg.load()\n",
    "notifyNlp=nlp(\"notify\")\n",
    "cancelNlp=nlp(\"cancel\")\n",
    "\n",
    "verb=verbs.pop().text\n",
    "verbNlp=nlp(verb)\n",
    "\n",
    "print(\"Similarity of {} to notify: {}\".format(verb, notifyNlp.similarity(verbNlp)))\n",
    "print(\"Similarity of {} cancel: {}\".format(verb, cancelNlp.similarity(verbNlp)))"
   ]
  },
  {
   "cell_type": "markdown",
   "metadata": {},
   "source": [
    "Let us find possible items in the text using the dependency tag ‘dobj’ for direct objects of a verb."
   ]
  },
  {
   "cell_type": "code",
   "execution_count": 129,
   "metadata": {
    "colab": {
     "base_uri": "https://localhost:8080/"
    },
    "id": "Zgv8UTPGiZZy",
    "outputId": "7f804d85-4e50-482f-d710-72e17d9a114f"
   },
   "outputs": [
    {
     "name": "stdout",
     "output_type": "stream",
     "text": [
      "{picture, claim}\n"
     ]
    }
   ],
   "source": [
    "# Let us find possible items in the text using the dependency tag ‘dobj’ for direct objects of a verb.\n",
    "items = set()\n",
    "for possible_subject in doc:\n",
    "    if possible_subject.dep == dobj and possible_subject.head.pos == VERB:\n",
    "        items.add(possible_subject)\n",
    "print(items)"
   ]
  },
  {
   "cell_type": "code",
   "execution_count": 110,
   "metadata": {
    "colab": {
     "base_uri": "https://localhost:8080/"
    },
    "id": "qFTh6iJapLog",
    "outputId": "de0a83f7-ca26-4df1-d479-0ff1b717ed01"
   },
   "outputs": [
    {
     "name": "stdout",
     "output_type": "stream",
     "text": [
      "claim 0.2714922100856048\n",
      "picture 0.13987488498232845\n"
     ]
    }
   ],
   "source": [
    "# We will compare similarities between identified objects and the word ‘notification’. \n",
    "# The word ‘claim’ is much closer to ‘notification’ than 'picture'.\n",
    "import en_core_web_lg\n",
    "nlp = en_core_web_lg.load()\n",
    "notification=nlp(\"notification\")\n",
    "for  sub in items:\n",
    "  print(sub.text,nlp(sub.text).similarity(notification))\n"
   ]
  },
  {
   "cell_type": "code",
   "execution_count": 111,
   "metadata": {
    "colab": {
     "base_uri": "https://localhost:8080/"
    },
    "id": "oHNG7j5ApLou",
    "outputId": "22c29c19-bf3b-4e3a-a3a8-264462f052d4"
   },
   "outputs": [
    {
     "name": "stdout",
     "output_type": "stream",
     "text": [
      "claim\n"
     ]
    }
   ],
   "source": [
    "# We will compare similarities between identified verbs and the verb ‘notify’. \n",
    "# Then based on this we will identiofy the direct object of the verb\n",
    "claimword=nlp(\"notify\") \n",
    "for  verb in verbs:\n",
    "  if (nlp(verb.text).similarity(claimword)) >=0.5:\n",
    "    for v in verb.children:\n",
    "      if v.dep==dobj:\n",
    "        print(v.text)\n"
   ]
  },
  {
   "cell_type": "code",
   "execution_count": 112,
   "metadata": {
    "colab": {
     "base_uri": "https://localhost:8080/"
    },
    "id": "Y1nDnp2adwjE",
    "outputId": "37afdd92-1e7f-4705-b83e-5309fd2d7a00"
   },
   "outputs": [
    {
     "name": "stdout",
     "output_type": "stream",
     "text": [
      "Numerical modifier: 1 --> object: claim\n"
     ]
    }
   ],
   "source": [
    "# we can also identify specific slots using numeric modifiers for example to understand the desired quantities\n",
    "# with corresponding modified objects\n",
    "for token in doc:  \n",
    "    if token.dep_ == 'nummod':    \n",
    "      print(f\"Numerical modifier: {token.text} --> object: {token.head}\")"
   ]
  },
  {
   "cell_type": "code",
   "execution_count": null,
   "metadata": {
    "id": "nXtNM5rdvUOH"
   },
   "outputs": [],
   "source": []
  },
  {
   "cell_type": "code",
   "execution_count": null,
   "metadata": {},
   "outputs": [],
   "source": []
  }
 ],
 "metadata": {
  "colab": {
   "name": "ordermail.ipynb",
   "provenance": []
  },
  "kernelspec": {
   "display_name": "Python 3",
   "language": "python",
   "name": "python3"
  },
  "language_info": {
   "codemirror_mode": {
    "name": "ipython",
    "version": 3
   },
   "file_extension": ".py",
   "mimetype": "text/x-python",
   "name": "python",
   "nbconvert_exporter": "python",
   "pygments_lexer": "ipython3",
   "version": "3.8.5"
  }
 },
 "nbformat": 4,
 "nbformat_minor": 1
}
