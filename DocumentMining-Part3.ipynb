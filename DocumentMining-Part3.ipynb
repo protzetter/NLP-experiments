{
 "cells": [
  {
   "cell_type": "markdown",
   "metadata": {},
   "source": [
    "Created on December 30th 2020 by Patrick Rotzetter\n",
    "\n",
    "https://www.linkedin.com/in/rotzetter/\n",
    "\n",
    "# Small experiment of document mining with various techniques Part 3"
   ]
  },
  {
   "cell_type": "code",
   "execution_count": 1,
   "metadata": {},
   "outputs": [
    {
     "data": {
      "text/plain": [
       "'/opt/anaconda3/envs/base38/bin/python'"
      ]
     },
     "execution_count": 1,
     "metadata": {},
     "output_type": "execute_result"
    }
   ],
   "source": [
    "#check python version and path\n",
    "import sys\n",
    "sys.executable"
   ]
  },
  {
   "cell_type": "code",
   "execution_count": 2,
   "metadata": {},
   "outputs": [],
   "source": [
    "#import main libraries\n",
    "import numpy as np\n",
    "import PyPDF2\n",
    "import spacy\n",
    "import pandas as pd\n",
    "import re\n",
    "from pptx import Presentation\n",
    "import pdftotext\n",
    "import texthero as hero"
   ]
  },
  {
   "cell_type": "code",
   "execution_count": 3,
   "metadata": {},
   "outputs": [
    {
     "name": "stdout",
     "output_type": "stream",
     "text": [
      "/System/Library/Frameworks/Python.framework/Versions/2.7/Resources/Python.app/Contents/MacOS/Python: No module named spacy\r\n"
     ]
    }
   ],
   "source": [
    "# validate spacy language models just in case, this command does not work on Mac ARM systems unless you have installed the brew workaround and reinstalled python\n",
    "!python -m spacy validate"
   ]
  },
  {
   "cell_type": "code",
   "execution_count": 4,
   "metadata": {},
   "outputs": [],
   "source": [
    "# function to read PDF files using PYPdf2\n",
    "def readPdfFilePY(filename):\n",
    "    text=\"\"\n",
    "    read_pdf = PyPDF2.PdfFileReader(filename,'rb')   \n",
    "    for i in range(read_pdf.getNumPages()):\n",
    "        page = read_pdf.getPage(i)\n",
    "        txt=page.extractText()\n",
    "        text=text+txt\n",
    "    return text\n"
   ]
  },
  {
   "cell_type": "code",
   "execution_count": 5,
   "metadata": {},
   "outputs": [],
   "source": [
    "# function to read PDF files using pdftotext\n",
    "def readPdfFile(filename):\n",
    "    text=\"\"\n",
    "    with open(filename, \"rb\") as f:\n",
    "        pdf = pdftotext.PDF(f)\n",
    "        for page in pdf:\n",
    "            text=text+page\n",
    "    return text"
   ]
  },
  {
   "cell_type": "code",
   "execution_count": 6,
   "metadata": {},
   "outputs": [],
   "source": [
    "# function to read PPT files\n",
    "def readPPTFile(filename):\n",
    "    text=\"\"  \n",
    "    prs = Presentation(filename)\n",
    "    for slide in prs.slides:\n",
    "        for shape in slide.shapes:\n",
    "            if hasattr(shape, \"text\"):\n",
    "                text=text+shape.text\n",
    "    text=remove_special_characters(text)\n",
    "    return text"
   ]
  },
  {
   "cell_type": "code",
   "execution_count": 7,
   "metadata": {},
   "outputs": [],
   "source": [
    "#path of input folder\n",
    "path='./samplesdocs/' "
   ]
  },
  {
   "cell_type": "markdown",
   "metadata": {},
   "source": [
    "## Process all directory files with spacy"
   ]
  },
  {
   "cell_type": "code",
   "execution_count": 8,
   "metadata": {},
   "outputs": [],
   "source": [
    "# helper function to process documents in an apply function and return the nlp object\n",
    "def processDoc(doc):\n",
    "    return nlp(doc)"
   ]
  },
  {
   "cell_type": "code",
   "execution_count": 9,
   "metadata": {},
   "outputs": [],
   "source": [
    "# load spacy with large English model\n",
    "# nlp = spacy.load(\"en-core-web-lg\") -- was working on Windows, but now on a Mac\n",
    "import en_core_web_lg\n",
    "nlp = en_core_web_lg.load()"
   ]
  },
  {
   "cell_type": "markdown",
   "metadata": {},
   "source": [
    "## Let us scan the full directory, read PDF and PPT documents, clean them and process them with spacy"
   ]
  },
  {
   "cell_type": "code",
   "execution_count": 10,
   "metadata": {},
   "outputs": [
    {
     "name": "stdout",
     "output_type": "stream",
     "text": [
      "Number of read files: 8\n"
     ]
    }
   ],
   "source": [
    "# go through the folder and read all pdf and pptx files\n",
    "docName=[]\n",
    "docType=[]\n",
    "docText=[]\n",
    "docNLP=[]\n",
    "import glob\n",
    "list_of_files = glob.glob(path+'*.pdf')           # create the list of file\n",
    "fileNames=[]\n",
    "for file_name in list_of_files:\n",
    "    fileText=readPdfFile(file_name)\n",
    "    docName.append(file_name)\n",
    "    docType.append('pdf')\n",
    "    docText.append(fileText)\n",
    "list_of_files = glob.glob(path+'*.pptx')           # create the list of file\n",
    "for file_name in list_of_files:\n",
    "    fileText=readPPTFile(file_name)\n",
    "    docName.append(file_name)\n",
    "    docType.append('ppt')\n",
    "    docText.append(fileText)\n",
    "fullDocs = pd.DataFrame({'Name':docName,'Type':docType,'Text':docText})\n",
    "fullDocs['cleanText']=hero.clean(fullDocs['Text'])\n",
    "fullDocs['NLP']=fullDocs['cleanText'].apply(processDoc)\n",
    "print('Number of read files:',fullDocs.shape[0])"
   ]
  },
  {
   "cell_type": "code",
   "execution_count": 11,
   "metadata": {},
   "outputs": [
    {
     "name": "stdout",
     "output_type": "stream",
     "text": [
      "Average length of text:197501.375\n",
      "Min length of text:17987\n",
      "Max length of text:464271\n"
     ]
    }
   ],
   "source": [
    " print (\"Average length of text:\" + str((np.mean(fullDocs['Text'].str.len()))))\n",
    " print (\"Min length of text:\" + str((np.min(fullDocs['Text'].str.len()))))\n",
    " print (\"Max length of text:\" + str((np.max(fullDocs['Text'].str.len()))))"
   ]
  },
  {
   "cell_type": "code",
   "execution_count": 12,
   "metadata": {},
   "outputs": [
    {
     "data": {
      "text/html": [
       "<div>\n",
       "<style scoped>\n",
       "    .dataframe tbody tr th:only-of-type {\n",
       "        vertical-align: middle;\n",
       "    }\n",
       "\n",
       "    .dataframe tbody tr th {\n",
       "        vertical-align: top;\n",
       "    }\n",
       "\n",
       "    .dataframe thead th {\n",
       "        text-align: right;\n",
       "    }\n",
       "</style>\n",
       "<table border=\"1\" class=\"dataframe\">\n",
       "  <thead>\n",
       "    <tr style=\"text-align: right;\">\n",
       "      <th></th>\n",
       "      <th>Name</th>\n",
       "      <th>Type</th>\n",
       "      <th>Text</th>\n",
       "      <th>cleanText</th>\n",
       "      <th>NLP</th>\n",
       "      <th>text_word_count</th>\n",
       "      <th>text_unique_words</th>\n",
       "    </tr>\n",
       "  </thead>\n",
       "  <tbody>\n",
       "    <tr>\n",
       "      <th>0</th>\n",
       "      <td>./samplesdocs/Module-1-Lecture-Slides.pdf</td>\n",
       "      <td>pdf</td>\n",
       "      <td>Application of AI, Insurtech and Real Estate\\n...</td>\n",
       "      <td>application ai insurtech real estate technolog...</td>\n",
       "      <td>(application, ai, insurtech, real, estate, tec...</td>\n",
       "      <td>3732</td>\n",
       "      <td>1509</td>\n",
       "    </tr>\n",
       "    <tr>\n",
       "      <th>1</th>\n",
       "      <td>./samplesdocs/Technology-and-innovation-in-the...</td>\n",
       "      <td>pdf</td>\n",
       "      <td>Technology and\\ninnovation in the\\ninsurance s...</td>\n",
       "      <td>technology innovation insurance sector technol...</td>\n",
       "      <td>(technology, innovation, insurance, sector, te...</td>\n",
       "      <td>16763</td>\n",
       "      <td>4237</td>\n",
       "    </tr>\n",
       "    <tr>\n",
       "      <th>2</th>\n",
       "      <td>./samplesdocs/sigma-5-2020-en.pdf</td>\n",
       "      <td>pdf</td>\n",
       "      <td>No 5 /2020\\n\\n\\n\\n\\n...</td>\n",
       "      <td>machine intelligence executive summary machine...</td>\n",
       "      <td>(machine, intelligence, executive, summary, ma...</td>\n",
       "      <td>14512</td>\n",
       "      <td>4342</td>\n",
       "    </tr>\n",
       "    <tr>\n",
       "      <th>3</th>\n",
       "      <td>./samplesdocs/Issues_Paper_on_Increasing_Digit...</td>\n",
       "      <td>pdf</td>\n",
       "      <td>Issues Paper on Increasing Digitalisatio...</td>\n",
       "      <td>issues paper increasing digitalisation insuran...</td>\n",
       "      <td>(issues, paper, increasing, digitalisation, in...</td>\n",
       "      <td>15390</td>\n",
       "      <td>3685</td>\n",
       "    </tr>\n",
       "    <tr>\n",
       "      <th>4</th>\n",
       "      <td>./samplesdocs/Digital-disruption-in-Insurance.pdf</td>\n",
       "      <td>pdf</td>\n",
       "      <td>Digital disruption\\nin insurance:\\nCutting thr...</td>\n",
       "      <td>digital disruption insurance cutting noise con...</td>\n",
       "      <td>(digital, disruption, insurance, cutting, nois...</td>\n",
       "      <td>34531</td>\n",
       "      <td>7067</td>\n",
       "    </tr>\n",
       "  </tbody>\n",
       "</table>\n",
       "</div>"
      ],
      "text/plain": [
       "                                                Name Type  \\\n",
       "0          ./samplesdocs/Module-1-Lecture-Slides.pdf  pdf   \n",
       "1  ./samplesdocs/Technology-and-innovation-in-the...  pdf   \n",
       "2                  ./samplesdocs/sigma-5-2020-en.pdf  pdf   \n",
       "3  ./samplesdocs/Issues_Paper_on_Increasing_Digit...  pdf   \n",
       "4  ./samplesdocs/Digital-disruption-in-Insurance.pdf  pdf   \n",
       "\n",
       "                                                Text  \\\n",
       "0  Application of AI, Insurtech and Real Estate\\n...   \n",
       "1  Technology and\\ninnovation in the\\ninsurance s...   \n",
       "2                            No 5 /2020\\n\\n\\n\\n\\n...   \n",
       "3        Issues Paper on Increasing Digitalisatio...   \n",
       "4  Digital disruption\\nin insurance:\\nCutting thr...   \n",
       "\n",
       "                                           cleanText  \\\n",
       "0  application ai insurtech real estate technolog...   \n",
       "1  technology innovation insurance sector technol...   \n",
       "2  machine intelligence executive summary machine...   \n",
       "3  issues paper increasing digitalisation insuran...   \n",
       "4  digital disruption insurance cutting noise con...   \n",
       "\n",
       "                                                 NLP  text_word_count  \\\n",
       "0  (application, ai, insurtech, real, estate, tec...             3732   \n",
       "1  (technology, innovation, insurance, sector, te...            16763   \n",
       "2  (machine, intelligence, executive, summary, ma...            14512   \n",
       "3  (issues, paper, increasing, digitalisation, in...            15390   \n",
       "4  (digital, disruption, insurance, cutting, nois...            34531   \n",
       "\n",
       "   text_unique_words  \n",
       "0               1509  \n",
       "1               4237  \n",
       "2               4342  \n",
       "3               3685  \n",
       "4               7067  "
      ]
     },
     "execution_count": 12,
     "metadata": {},
     "output_type": "execute_result"
    }
   ],
   "source": [
    "fullDocs['text_word_count'] = fullDocs['Text'].apply(lambda x: len(x.strip().split()))  # word count\n",
    "fullDocs['text_unique_words']=fullDocs['Text'].apply(lambda x:len(set(str(x).split())))  # number of unique words\n",
    "fullDocs.head()"
   ]
  },
  {
   "cell_type": "code",
   "execution_count": 22,
   "metadata": {},
   "outputs": [],
   "source": [
    "# import additional spacy symbols and stop words\n",
    "from spacy.symbols import nsubj, VERB, dobj, NOUN, root, xcomp, PROPN, NUM,SYM\n",
    "from spacy.lang.en.stop_words import STOP_WORDS"
   ]
  },
  {
   "cell_type": "code",
   "execution_count": 24,
   "metadata": {},
   "outputs": [
    {
     "data": {
      "text/html": [
       "<div>\n",
       "<style scoped>\n",
       "    .dataframe tbody tr th:only-of-type {\n",
       "        vertical-align: middle;\n",
       "    }\n",
       "\n",
       "    .dataframe tbody tr th {\n",
       "        vertical-align: top;\n",
       "    }\n",
       "\n",
       "    .dataframe thead th {\n",
       "        text-align: right;\n",
       "    }\n",
       "</style>\n",
       "<table border=\"1\" class=\"dataframe\">\n",
       "  <thead>\n",
       "    <tr style=\"text-align: right;\">\n",
       "      <th></th>\n",
       "      <th>0</th>\n",
       "    </tr>\n",
       "  </thead>\n",
       "  <tbody>\n",
       "    <tr>\n",
       "      <th>0</th>\n",
       "      <td>application ai insurtech real estate technolog...</td>\n",
       "    </tr>\n",
       "    <tr>\n",
       "      <th>1</th>\n",
       "      <td>technology innovation insurance sector technol...</td>\n",
       "    </tr>\n",
       "    <tr>\n",
       "      <th>2</th>\n",
       "      <td>machine intelligence executive summary machine...</td>\n",
       "    </tr>\n",
       "    <tr>\n",
       "      <th>3</th>\n",
       "      <td>issue paper increase digitalisation insurance ...</td>\n",
       "    </tr>\n",
       "    <tr>\n",
       "      <th>4</th>\n",
       "      <td>digital disruption insurance cut noise content...</td>\n",
       "    </tr>\n",
       "  </tbody>\n",
       "</table>\n",
       "</div>"
      ],
      "text/plain": [
       "                                                   0\n",
       "0  application ai insurtech real estate technolog...\n",
       "1  technology innovation insurance sector technol...\n",
       "2  machine intelligence executive summary machine...\n",
       "3  issue paper increase digitalisation insurance ...\n",
       "4  digital disruption insurance cut noise content..."
      ]
     },
     "execution_count": 24,
     "metadata": {},
     "output_type": "execute_result"
    }
   ],
   "source": [
    "ents=[]\n",
    "for doc in fullDocs.NLP:\n",
    "    # all entities\n",
    "    words=[]\n",
    "    words += [token.lemma_ for token in doc if token.is_stop != True and token.is_punct != True \\\n",
    "              and token.is_space != True and token.pos != NUM and token.pos != SYM \\\n",
    "              and token.text != '©' and (not token.text in STOP_WORDS)and (not token.lemma_ in STOP_WORDS)]\n",
    "    ents.append(' '.join(words))\n",
    "entitiesdf=pd.DataFrame(ents)\n",
    "entitiesdf.head()"
   ]
  },
  {
   "cell_type": "markdown",
   "metadata": {},
   "source": [
    "# Let us compare documents similarities using spacy similarity"
   ]
  },
  {
   "cell_type": "code",
   "execution_count": 13,
   "metadata": {},
   "outputs": [],
   "source": [
    "similarityList=[]\n",
    "for doc in fullDocs.NLP:\n",
    "    docSimilarity=[]\n",
    "    for compDoc in fullDocs.NLP:\n",
    "        docSimilarity.append(doc.similarity(compDoc))\n",
    "    similarityList.append(docSimilarity)"
   ]
  },
  {
   "cell_type": "code",
   "execution_count": 14,
   "metadata": {},
   "outputs": [],
   "source": [
    "similarityDF= pd.DataFrame(data=similarityList)"
   ]
  },
  {
   "cell_type": "code",
   "execution_count": 15,
   "metadata": {},
   "outputs": [
    {
     "data": {
      "text/html": [
       "<div>\n",
       "<style scoped>\n",
       "    .dataframe tbody tr th:only-of-type {\n",
       "        vertical-align: middle;\n",
       "    }\n",
       "\n",
       "    .dataframe tbody tr th {\n",
       "        vertical-align: top;\n",
       "    }\n",
       "\n",
       "    .dataframe thead th {\n",
       "        text-align: right;\n",
       "    }\n",
       "</style>\n",
       "<table border=\"1\" class=\"dataframe\">\n",
       "  <thead>\n",
       "    <tr style=\"text-align: right;\">\n",
       "      <th></th>\n",
       "      <th>0</th>\n",
       "      <th>1</th>\n",
       "      <th>2</th>\n",
       "      <th>3</th>\n",
       "      <th>4</th>\n",
       "      <th>5</th>\n",
       "      <th>6</th>\n",
       "      <th>7</th>\n",
       "    </tr>\n",
       "  </thead>\n",
       "  <tbody>\n",
       "    <tr>\n",
       "      <th>0</th>\n",
       "      <td>1.000000</td>\n",
       "      <td>0.966452</td>\n",
       "      <td>0.942421</td>\n",
       "      <td>0.960628</td>\n",
       "      <td>0.956143</td>\n",
       "      <td>0.959908</td>\n",
       "      <td>0.925205</td>\n",
       "      <td>0.971377</td>\n",
       "    </tr>\n",
       "    <tr>\n",
       "      <th>1</th>\n",
       "      <td>0.966452</td>\n",
       "      <td>1.000000</td>\n",
       "      <td>0.968809</td>\n",
       "      <td>0.991848</td>\n",
       "      <td>0.980943</td>\n",
       "      <td>0.970273</td>\n",
       "      <td>0.968357</td>\n",
       "      <td>0.987504</td>\n",
       "    </tr>\n",
       "    <tr>\n",
       "      <th>2</th>\n",
       "      <td>0.942421</td>\n",
       "      <td>0.968809</td>\n",
       "      <td>1.000000</td>\n",
       "      <td>0.972139</td>\n",
       "      <td>0.976786</td>\n",
       "      <td>0.964634</td>\n",
       "      <td>0.965845</td>\n",
       "      <td>0.977554</td>\n",
       "    </tr>\n",
       "    <tr>\n",
       "      <th>3</th>\n",
       "      <td>0.960628</td>\n",
       "      <td>0.991848</td>\n",
       "      <td>0.972139</td>\n",
       "      <td>1.000000</td>\n",
       "      <td>0.982518</td>\n",
       "      <td>0.973535</td>\n",
       "      <td>0.970810</td>\n",
       "      <td>0.990891</td>\n",
       "    </tr>\n",
       "    <tr>\n",
       "      <th>4</th>\n",
       "      <td>0.956143</td>\n",
       "      <td>0.980943</td>\n",
       "      <td>0.976786</td>\n",
       "      <td>0.982518</td>\n",
       "      <td>1.000000</td>\n",
       "      <td>0.965047</td>\n",
       "      <td>0.958326</td>\n",
       "      <td>0.989613</td>\n",
       "    </tr>\n",
       "  </tbody>\n",
       "</table>\n",
       "</div>"
      ],
      "text/plain": [
       "          0         1         2         3         4         5         6  \\\n",
       "0  1.000000  0.966452  0.942421  0.960628  0.956143  0.959908  0.925205   \n",
       "1  0.966452  1.000000  0.968809  0.991848  0.980943  0.970273  0.968357   \n",
       "2  0.942421  0.968809  1.000000  0.972139  0.976786  0.964634  0.965845   \n",
       "3  0.960628  0.991848  0.972139  1.000000  0.982518  0.973535  0.970810   \n",
       "4  0.956143  0.980943  0.976786  0.982518  1.000000  0.965047  0.958326   \n",
       "\n",
       "          7  \n",
       "0  0.971377  \n",
       "1  0.987504  \n",
       "2  0.977554  \n",
       "3  0.990891  \n",
       "4  0.989613  "
      ]
     },
     "execution_count": 15,
     "metadata": {},
     "output_type": "execute_result"
    }
   ],
   "source": [
    "similarityDF.head()"
   ]
  },
  {
   "cell_type": "code",
   "execution_count": 16,
   "metadata": {},
   "outputs": [
    {
     "data": {
      "image/png": "[encoded data removed]",
      "text/plain": [
       "<Figure size 432x288 with 1 Axes>"
      ]
     },
     "metadata": {
      "needs_background": "light"
     },
     "output_type": "display_data"
    }
   ],
   "source": [
    "import matplotlib.pyplot as plt\n",
    "plt.pcolor(similarityDF)\n",
    "plt.yticks(np.arange(0.5, len(similarityDF.index), 1), similarityDF.index)\n",
    "plt.xticks(np.arange(0.5, len(similarityDF.columns), 1), similarityDF.columns)\n",
    "plt.show()"
   ]
  },
  {
   "cell_type": "markdown",
   "metadata": {},
   "source": [
    "It seems document 0 and document 6 have the lowest similarity amongst all document"
   ]
  },
  {
   "cell_type": "code",
   "execution_count": 18,
   "metadata": {},
   "outputs": [
    {
     "data": {
      "image/png": "[encoded data removed]",
      "text/plain": [
       "<Figure size 432x288 with 2 Axes>"
      ]
     },
     "metadata": {},
     "output_type": "display_data"
    }
   ],
   "source": [
    "import seaborn as sns\n",
    "sns.set()\n",
    "\n",
    "ax = sns.heatmap(similarityDF,linewidths=.5,center=.5)"
   ]
  },
  {
   "cell_type": "markdown",
   "metadata": {},
   "source": [
    "# Let us use vector norm to calculate their distance"
   ]
  },
  {
   "cell_type": "code",
   "execution_count": 23,
   "metadata": {},
   "outputs": [],
   "source": [
    "# calculate the norm of the distance of the vectors\n",
    "similarityList=[]\n",
    "for doc in fullDocs.NLP:\n",
    "    docSimilarity=[]\n",
    "    for compDoc in fullDocs.NLP:\n",
    "        docSimilarity.append(np.linalg.norm(doc.vector-compDoc.vector))\n",
    "    similarityList.append(docSimilarity)"
   ]
  },
  {
   "cell_type": "code",
   "execution_count": 24,
   "metadata": {},
   "outputs": [],
   "source": [
    "similarityDFVec= pd.DataFrame(data=similarityList)"
   ]
  },
  {
   "cell_type": "code",
   "execution_count": 25,
   "metadata": {},
   "outputs": [
    {
     "data": {
      "text/html": [
       "<div>\n",
       "<style scoped>\n",
       "    .dataframe tbody tr th:only-of-type {\n",
       "        vertical-align: middle;\n",
       "    }\n",
       "\n",
       "    .dataframe tbody tr th {\n",
       "        vertical-align: top;\n",
       "    }\n",
       "\n",
       "    .dataframe thead th {\n",
       "        text-align: right;\n",
       "    }\n",
       "</style>\n",
       "<table border=\"1\" class=\"dataframe\">\n",
       "  <thead>\n",
       "    <tr style=\"text-align: right;\">\n",
       "      <th></th>\n",
       "      <th>0</th>\n",
       "      <th>1</th>\n",
       "      <th>2</th>\n",
       "      <th>3</th>\n",
       "      <th>4</th>\n",
       "      <th>5</th>\n",
       "      <th>6</th>\n",
       "      <th>7</th>\n",
       "    </tr>\n",
       "  </thead>\n",
       "  <tbody>\n",
       "    <tr>\n",
       "      <th>0</th>\n",
       "      <td>0.000000</td>\n",
       "      <td>0.813616</td>\n",
       "      <td>1.005958</td>\n",
       "      <td>0.909846</td>\n",
       "      <td>0.927239</td>\n",
       "      <td>0.864066</td>\n",
       "      <td>1.147514</td>\n",
       "      <td>0.802749</td>\n",
       "    </tr>\n",
       "    <tr>\n",
       "      <th>1</th>\n",
       "      <td>0.813616</td>\n",
       "      <td>0.000000</td>\n",
       "      <td>0.727521</td>\n",
       "      <td>0.383655</td>\n",
       "      <td>0.574516</td>\n",
       "      <td>0.708983</td>\n",
       "      <td>0.739546</td>\n",
       "      <td>0.467494</td>\n",
       "    </tr>\n",
       "    <tr>\n",
       "      <th>2</th>\n",
       "      <td>1.005958</td>\n",
       "      <td>0.727521</td>\n",
       "      <td>0.000000</td>\n",
       "      <td>0.699998</td>\n",
       "      <td>0.633790</td>\n",
       "      <td>0.773400</td>\n",
       "      <td>0.768292</td>\n",
       "      <td>0.624837</td>\n",
       "    </tr>\n",
       "    <tr>\n",
       "      <th>3</th>\n",
       "      <td>0.909846</td>\n",
       "      <td>0.383655</td>\n",
       "      <td>0.699998</td>\n",
       "      <td>0.000000</td>\n",
       "      <td>0.556338</td>\n",
       "      <td>0.682422</td>\n",
       "      <td>0.718512</td>\n",
       "      <td>0.402149</td>\n",
       "    </tr>\n",
       "    <tr>\n",
       "      <th>4</th>\n",
       "      <td>0.927239</td>\n",
       "      <td>0.574516</td>\n",
       "      <td>0.633790</td>\n",
       "      <td>0.556338</td>\n",
       "      <td>0.000000</td>\n",
       "      <td>0.776320</td>\n",
       "      <td>0.853526</td>\n",
       "      <td>0.426797</td>\n",
       "    </tr>\n",
       "  </tbody>\n",
       "</table>\n",
       "</div>"
      ],
      "text/plain": [
       "          0         1         2         3         4         5         6  \\\n",
       "0  0.000000  0.813616  1.005958  0.909846  0.927239  0.864066  1.147514   \n",
       "1  0.813616  0.000000  0.727521  0.383655  0.574516  0.708983  0.739546   \n",
       "2  1.005958  0.727521  0.000000  0.699998  0.633790  0.773400  0.768292   \n",
       "3  0.909846  0.383655  0.699998  0.000000  0.556338  0.682422  0.718512   \n",
       "4  0.927239  0.574516  0.633790  0.556338  0.000000  0.776320  0.853526   \n",
       "\n",
       "          7  \n",
       "0  0.802749  \n",
       "1  0.467494  \n",
       "2  0.624837  \n",
       "3  0.402149  \n",
       "4  0.426797  "
      ]
     },
     "execution_count": 25,
     "metadata": {},
     "output_type": "execute_result"
    }
   ],
   "source": [
    "similarityDFVec.head()"
   ]
  },
  {
   "cell_type": "code",
   "execution_count": 26,
   "metadata": {},
   "outputs": [
    {
     "data": {
      "image/png": "[encoded data removed]",
      "text/plain": [
       "<Figure size 432x288 with 2 Axes>"
      ]
     },
     "metadata": {},
     "output_type": "display_data"
    }
   ],
   "source": [
    "sns.set()\n",
    "\n",
    "ax = sns.heatmap(similarityDFVec,linewidths=.5)"
   ]
  },
  {
   "cell_type": "markdown",
   "metadata": {},
   "source": [
    "Again documents 0 and 6 seem to have the longest distance to each other"
   ]
  },
  {
   "cell_type": "markdown",
   "metadata": {},
   "source": [
    "# Let us use entity vector average  to calculate similarities"
   ]
  },
  {
   "cell_type": "code",
   "execution_count": 30,
   "metadata": {},
   "outputs": [
    {
     "name": "stdout",
     "output_type": "stream",
     "text": [
      "[('eu', 205), ('insurtech', 79), ('european', 60), ('iais executive committee', 36), ('oecd', 27), ('mckinsey', 26), ('fra', 25), ('swiss', 23), ('gdpr', 22), ('digital', 21), ('ec', 19), ('fca', 17), ('europe', 17), ('mi', 15), ('chinese', 14), ('regtech', 13), ('luxembourg publications office', 13), ('dlt', 11), ('european commission', 11), ('allianz', 10), ('german', 10), ('alibaba', 10), ('accenture', 9), ('q4', 9), ('cb', 9), ('rpa', 9), ('capgemini world', 8), ('facebook', 8), ('amazon', 8), ('swiss sigma', 8), ('sigma', 8), ('dutch', 8), ('coe', 8), ('adobe', 8), ('fintech', 7), ('aviva', 7), ('cdo', 7), ('google', 7), ('bima', 6), ('european union', 6)]\n"
     ]
    }
   ],
   "source": [
    "# most frequestentities\n",
    "from spacy.lang.en.stop_words import STOP_WORDS\n",
    "from collections import Counter\n",
    "entities=[]\n",
    "for doc in fullDocs.NLP:\n",
    "    # all entities\n",
    "    for ent in doc.ents:\n",
    "            if ent.label_!= 'MONEY' and ent.label_!= 'CARDINAL' and ent.label_!= 'QUANTITY' \\\n",
    "            and ent.label_!= 'PERCENT' and ent.label_!= 'TIME' and ent.label_!= 'ORDINAL' \\\n",
    "            and ent.label_!= 'DATE' and ent.label_!= 'PERSON' and ent.label_!= 'GPE':\n",
    "                if ent.text not in STOP_WORDS:\n",
    "                    entities += [ent.text]\n",
    "entityFreq = Counter(entities)\n",
    "commonEntities = entityFreq.most_common(40)\n",
    "print(commonEntities)"
   ]
  },
  {
   "cell_type": "code",
   "execution_count": 31,
   "metadata": {},
   "outputs": [],
   "source": [
    "def getAverageEntityVector(doc):\n",
    "    vectorAvg = 0\n",
    "    i=0\n",
    "    for ent in doc.ents:\n",
    "        if ent.label_!= 'MONEY' and ent.label_!= 'CARDINAL' and ent.label_!= 'QUANTITY' \\\n",
    "        and ent.label_!= 'PERCENT' and ent.label_!= 'TIME' and ent.label_!= 'ORDINAL' \\\n",
    "        and ent.label_!= 'DATE' and ent.label_!= 'PERSON' and ent.label_!= 'GPE':\n",
    "            if ent.text not in STOP_WORDS:\n",
    "                vectorAvg += ent.vector\n",
    "                i+=1\n",
    "    if i>0:\n",
    "        vectorAvg=vectorAvg/i\n",
    "    else:\n",
    "        vectotAvg=float('Inf')\n",
    "    return vectorAvg"
   ]
  },
  {
   "cell_type": "code",
   "execution_count": 32,
   "metadata": {},
   "outputs": [],
   "source": [
    "# calculate average entity vector for documents\n",
    "entitiesVec=[]\n",
    "for doc in fullDocs.NLP:\n",
    "    # all entities\n",
    "    vectorAvg=getAverageEntityVector(doc)\n",
    "    entitiesVec.append(vectorAvg)    \n"
   ]
  },
  {
   "cell_type": "code",
   "execution_count": 33,
   "metadata": {},
   "outputs": [],
   "source": [
    "# compare all documents using entityt similarity vectors\n",
    "similarityList=[]\n",
    "for ents in entitiesVec:\n",
    "    docSimilarity=[]\n",
    "    for entComp in entitiesVec:\n",
    "        #docSimilarity.append(np.dot(doc.vector,compDoc.vector))\n",
    "        docSimilarity.append(np.linalg.norm(ents-entComp))\n",
    "    similarityList.append(docSimilarity)"
   ]
  },
  {
   "cell_type": "code",
   "execution_count": 34,
   "metadata": {},
   "outputs": [],
   "source": [
    "similarityDFVecAvg= pd.DataFrame(data=similarityList)"
   ]
  },
  {
   "cell_type": "code",
   "execution_count": 35,
   "metadata": {},
   "outputs": [
    {
     "data": {
      "image/png": "[encoded data removed]",
      "text/plain": [
       "<Figure size 432x288 with 2 Axes>"
      ]
     },
     "metadata": {},
     "output_type": "display_data"
    }
   ],
   "source": [
    "sns.set()\n",
    "mask = np.zeros_like(similarityDF, dtype=np.bool)\n",
    "mask[np.triu_indices_from(mask)] = True\n",
    "ax = sns.heatmap(similarityDFVecAvg,linewidths=.5, mask=mask)"
   ]
  },
  {
   "cell_type": "code",
   "execution_count": 36,
   "metadata": {},
   "outputs": [],
   "source": [
    "def searchClosestDocumentDocLevel(text):\n",
    "    searchQueryNLP=nlp(text)\n",
    "    simQuery=[]\n",
    "    for i,doc in fullDocs.iterrows():\n",
    "        simQuery.append((np.linalg.norm(doc.NLP.vector-searchQueryNLP.vector),i))\n",
    "    simQuery.sort()\n",
    "    idMin=simQuery[0][1]\n",
    "    return idMin"
   ]
  },
  {
   "cell_type": "code",
   "execution_count": 37,
   "metadata": {},
   "outputs": [],
   "source": [
    "def searchClosestDocumentEntLevel(text):\n",
    "    searchQueryNLP=nlp(text)\n",
    "    simQuery=[]\n",
    "    for i,doc in fullDocs.iterrows():\n",
    "        simQuery.append((np.linalg.norm(getAverageEntityVector(doc.NLP)-getAverageEntityVector(searchQueryNLP)),i))\n",
    "    simQuery.sort()\n",
    "    idMin=simQuery[0][1]\n",
    "    return idMin"
   ]
  },
  {
   "cell_type": "code",
   "execution_count": 45,
   "metadata": {},
   "outputs": [
    {
     "data": {
      "text/plain": [
       "'./samplesdocs/Digital-disruption-in-Insurance.pdf'"
      ]
     },
     "execution_count": 45,
     "metadata": {},
     "output_type": "execute_result"
    }
   ],
   "source": [
    "text='LOOKING FOR INNOVATION IN CLAIMS PROCESSING'\n",
    "id= searchClosestDocumentDocLevel(text)\n",
    "fullDocs.iloc[id].Name"
   ]
  },
  {
   "cell_type": "code",
   "execution_count": 40,
   "metadata": {},
   "outputs": [
    {
     "data": {
      "text/plain": [
       "'./samplesdocs/fra-2020-artificial-intelligence_en.pdf'"
      ]
     },
     "execution_count": 40,
     "metadata": {},
     "output_type": "execute_result"
    }
   ],
   "source": [
    "text='ai ethics in the european right'\n",
    "id= searchClosestDocumentDocLevel(text)\n",
    "fullDocs.iloc[id].Name"
   ]
  },
  {
   "cell_type": "code",
   "execution_count": 42,
   "metadata": {},
   "outputs": [
    {
     "data": {
      "text/plain": [
       "'./samplesdocs/Module-1-Lecture-Slides.pdf'"
      ]
     },
     "execution_count": 42,
     "metadata": {},
     "output_type": "execute_result"
    }
   ],
   "source": [
    "text='latest innovation in underwiting ad how to use artificial intelligence'\n",
    "id= searchClosestDocumentEntLevel(text)\n",
    "fullDocs.iloc[id].Name"
   ]
  },
  {
   "cell_type": "code",
   "execution_count": 44,
   "metadata": {},
   "outputs": [
    {
     "data": {
      "text/plain": [
       "'./samplesdocs/Module-1-Lecture-Slides.pdf'"
      ]
     },
     "execution_count": 44,
     "metadata": {},
     "output_type": "execute_result"
    }
   ],
   "source": [
    "text='what are the main digital innovations in insurance'\n",
    "id= searchClosestDocumentEntLevel(text)\n",
    "fullDocs.iloc[id].Name"
   ]
  },
  {
   "cell_type": "markdown",
   "metadata": {},
   "source": [
    "# Let us use sentences vector  to calculate similarities"
   ]
  },
  {
   "cell_type": "code",
   "execution_count": 46,
   "metadata": {},
   "outputs": [],
   "source": [
    "def getAverageSentenceVector(doc):\n",
    "    vectorAvg = 0\n",
    "    i=0\n",
    "    for sent in doc.sents:\n",
    "        vectorAvg += sent.vector\n",
    "        i+=1\n",
    "    if i>0:\n",
    "        vectorAvg=vectorAvg/i\n",
    "    else:\n",
    "        vectorAvg=float('Inf')\n",
    "    return vectorAvg"
   ]
  },
  {
   "cell_type": "code",
   "execution_count": 47,
   "metadata": {},
   "outputs": [],
   "source": [
    "# calculate average entity vector for documents\n",
    "entitiesVec=[]\n",
    "for doc in fullDocs.NLP:\n",
    "    # all entities\n",
    "    vectorAvg=getAverageSentenceVector(doc)\n",
    "    entitiesVec.append(vectorAvg)  "
   ]
  },
  {
   "cell_type": "code",
   "execution_count": 48,
   "metadata": {},
   "outputs": [],
   "source": [
    "# compare all documents using sentence similarity vectors\n",
    "similarityList=[]\n",
    "for ents in entitiesVec:\n",
    "    docSimilarity=[]\n",
    "    for entComp in entitiesVec:\n",
    "        #docSimilarity.append(np.dot(doc.vector,compDoc.vector))\n",
    "        docSimilarity.append(np.linalg.norm(ents-entComp))\n",
    "    similarityList.append(docSimilarity)"
   ]
  },
  {
   "cell_type": "code",
   "execution_count": 49,
   "metadata": {},
   "outputs": [],
   "source": [
    "similarityDFVecAvg= pd.DataFrame(data=similarityList)"
   ]
  },
  {
   "cell_type": "code",
   "execution_count": 50,
   "metadata": {},
   "outputs": [
    {
     "data": {
      "image/png": "[encoded data removed]",
      "text/plain": [
       "<Figure size 432x288 with 2 Axes>"
      ]
     },
     "metadata": {},
     "output_type": "display_data"
    }
   ],
   "source": [
    "sns.set()\n",
    "mask = np.zeros_like(similarityDF, dtype=np.bool)\n",
    "mask[np.triu_indices_from(mask)] = True\n",
    "ax = sns.heatmap(similarityDFVecAvg,linewidths=.5, mask=mask)"
   ]
  },
  {
   "cell_type": "code",
   "execution_count": 51,
   "metadata": {},
   "outputs": [],
   "source": [
    "def searchClosestDocumentSentLevel(text):\n",
    "    searchQueryNLP=nlp(text)\n",
    "    simQuery=[]\n",
    "    for i,doc in fullDocs.iterrows():\n",
    "        simQuery.append((np.linalg.norm(getAverageSentenceVector(doc.NLP)-getAverageSentenceVector(searchQueryNLP)),i))\n",
    "    simQuery.sort()\n",
    "    idMin=simQuery[0][1]\n",
    "    return idMin"
   ]
  },
  {
   "cell_type": "code",
   "execution_count": 52,
   "metadata": {},
   "outputs": [
    {
     "data": {
      "text/plain": [
       "'./samplesdocs/Digital-disruption-in-Insurance.pdf'"
      ]
     },
     "execution_count": 52,
     "metadata": {},
     "output_type": "execute_result"
    }
   ],
   "source": [
    "text='What are innovations in underwriting ?'\n",
    "id= searchClosestDocumentSentLevel(text)\n",
    "fullDocs.iloc[id].Name"
   ]
  },
  {
   "cell_type": "code",
   "execution_count": 53,
   "metadata": {},
   "outputs": [
    {
     "data": {
      "text/plain": [
       "'./samplesdocs/fra-2020-artificial-intelligence_en.pdf'"
      ]
     },
     "execution_count": 53,
     "metadata": {},
     "output_type": "execute_result"
    }
   ],
   "source": [
    "text='What about claim notification.'\n",
    "id= searchClosestDocumentSentLevel(text)\n",
    "fullDocs.iloc[id].Name"
   ]
  },
  {
   "cell_type": "code",
   "execution_count": null,
   "metadata": {},
   "outputs": [],
   "source": []
  }
 ],
 "metadata": {
  "kernelspec": {
   "display_name": "Python 3",
   "language": "python",
   "name": "python3"
  },
  "language_info": {
   "codemirror_mode": {
    "name": "ipython",
    "version": 3
   },
   "file_extension": ".py",
   "mimetype": "text/x-python",
   "name": "python",
   "nbconvert_exporter": "python",
   "pygments_lexer": "ipython3",
   "version": "3.8.5"
  }
 },
 "nbformat": 4,
 "nbformat_minor": 4
}
