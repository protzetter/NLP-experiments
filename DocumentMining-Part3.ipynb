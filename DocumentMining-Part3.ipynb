{
 "cells": [
  {
   "cell_type": "markdown",
   "metadata": {
    "cell_id": "00000-5f4efeb8-6c53-4d18-815b-4bcba194b44b",
    "deepnote_cell_type": "markdown"
   },
   "source": [
    "Created on December 30th 2020 by Patrick Rotzetter\n",
    "\n",
    "https://www.linkedin.com/in/rotzetter/\n",
    "\n",
    "# A few notebooks with various text mining and natural language processing experiments: Part 3"
   ]
  },
  {
   "cell_type": "code",
   "execution_count": 1,
   "metadata": {
    "cell_id": "00001-66dd1f59-fb03-42b8-bb84-34f458b3d9df",
    "deepnote_cell_type": "code"
   },
   "outputs": [
    {
     "data": {
      "text/plain": [
       "'/Users/patrickrotzetter/opt/anaconda3/envs/spacy3x/bin/python'"
      ]
     },
     "execution_count": 1,
     "metadata": {},
     "output_type": "execute_result"
    }
   ],
   "source": [
    "#check python version and path\n",
    "import sys\n",
    "sys.executable"
   ]
  },
  {
   "cell_type": "code",
   "execution_count": 2,
   "metadata": {
    "cell_id": "00002-843e16a8-57a7-42ba-add6-9fb63242dc6a",
    "deepnote_cell_type": "code"
   },
   "outputs": [],
   "source": [
    "#import main libraries\n",
    "import numpy as np\n",
    "import PyPDF2\n",
    "import spacy\n",
    "import pandas as pd\n",
    "import re\n",
    "from pptx import Presentation\n",
    "import pdftotext\n",
    "import texthero as hero"
   ]
  },
  {
   "cell_type": "code",
   "execution_count": 3,
   "metadata": {
    "cell_id": "00003-487551df-e0ea-466f-b0bf-05dd6ad6cf16",
    "deepnote_cell_type": "code"
   },
   "outputs": [
    {
     "name": "stdout",
     "output_type": "stream",
     "text": [
      "/System/Library/Frameworks/Python.framework/Versions/2.7/Resources/Python.app/Contents/MacOS/Python: No module named spacy\r\n"
     ]
    }
   ],
   "source": [
    "# validate spacy language models just in case, this command does not work on Mac ARM systems unless you have installed the brew workaround and reinstalled python\n",
    "!python -m spacy validate"
   ]
  },
  {
   "cell_type": "code",
   "execution_count": 4,
   "metadata": {
    "cell_id": "00004-8f30f956-f23c-4075-a8b1-f900f523cf31",
    "deepnote_cell_type": "code"
   },
   "outputs": [],
   "source": [
    "# function to read PDF files using PYPdf2\n",
    "def readPdfFilePY(filename):\n",
    "    text=\"\"\n",
    "    read_pdf = PyPDF2.PdfFileReader(filename,'rb')   \n",
    "    for i in range(read_pdf.getNumPages()):\n",
    "        page = read_pdf.getPage(i)\n",
    "        txt=page.extractText()\n",
    "        text=text+txt\n",
    "    return text\n"
   ]
  },
  {
   "cell_type": "code",
   "execution_count": 5,
   "metadata": {
    "cell_id": "00005-be0ea685-7191-48fe-b652-ff3155d4a8bb",
    "deepnote_cell_type": "code"
   },
   "outputs": [],
   "source": [
    "# function to read PDF files using pdftotext\n",
    "def readPdfFile(filename):\n",
    "    text=\"\"\n",
    "    with open(filename, \"rb\") as f:\n",
    "        pdf = pdftotext.PDF(f)\n",
    "        for page in pdf:\n",
    "            text=text+page\n",
    "    return text"
   ]
  },
  {
   "cell_type": "code",
   "execution_count": 6,
   "metadata": {
    "cell_id": "00006-082f0c33-7736-49a4-af4e-c326f33051fc",
    "deepnote_cell_type": "code"
   },
   "outputs": [],
   "source": [
    "# function to read PPT files\n",
    "def readPPTFile(filename):\n",
    "    text=\"\"  \n",
    "    prs = Presentation(filename)\n",
    "    for slide in prs.slides:\n",
    "        for shape in slide.shapes:\n",
    "            if hasattr(shape, \"text\"):\n",
    "                text=text+shape.text\n",
    "    text=remove_special_characters(text)\n",
    "    return text"
   ]
  },
  {
   "cell_type": "code",
   "execution_count": 14,
   "metadata": {
    "cell_id": "00007-bda35003-aabf-4d42-9028-d52137e08c9d",
    "deepnote_cell_type": "code"
   },
   "outputs": [],
   "source": [
    "#path of input folder\n",
    "path='./sampledocs/pdf/' "
   ]
  },
  {
   "cell_type": "markdown",
   "metadata": {
    "cell_id": "00008-4d0af9ef-20bc-448f-82ef-5ef95f20235d",
    "deepnote_cell_type": "markdown"
   },
   "source": [
    "## Process all directory files with spacy"
   ]
  },
  {
   "cell_type": "code",
   "execution_count": 15,
   "metadata": {
    "cell_id": "00009-61276b9b-0d30-4ef2-86bc-1b52a962753d",
    "deepnote_cell_type": "code"
   },
   "outputs": [],
   "source": [
    "# helper function to process documents in an apply function and return the nlp object\n",
    "def processDoc(doc):\n",
    "    return nlp(doc)"
   ]
  },
  {
   "cell_type": "code",
   "execution_count": 16,
   "metadata": {
    "cell_id": "00010-b608f409-41fc-4633-894e-8db787b6b781",
    "deepnote_cell_type": "code"
   },
   "outputs": [],
   "source": [
    "# load spacy with large English model\n",
    "# nlp = spacy.load(\"en-core-web-lg\") -- was working on Windows, but now on a Mac\n",
    "import en_core_web_lg\n",
    "nlp = en_core_web_lg.load()"
   ]
  },
  {
   "cell_type": "markdown",
   "metadata": {
    "cell_id": "00011-8989dd43-1ef2-462b-9d31-f9a5a9b1e365",
    "deepnote_cell_type": "markdown"
   },
   "source": [
    "## Let us scan the full directory, read PDF and PPT documents, clean them and process them with spacy"
   ]
  },
  {
   "cell_type": "code",
   "execution_count": 17,
   "metadata": {
    "cell_id": "00012-68b45f53-5c6d-40df-a967-62c8ad2e95ab",
    "deepnote_cell_type": "code"
   },
   "outputs": [
    {
     "name": "stdout",
     "output_type": "stream",
     "text": [
      "Number of read files: 21\n"
     ]
    }
   ],
   "source": [
    "# go through the folder and read all pdf and pptx files\n",
    "docName=[]\n",
    "docType=[]\n",
    "docText=[]\n",
    "docNLP=[]\n",
    "import glob\n",
    "list_of_files = glob.glob(path+'*.pdf')           # create the list of file\n",
    "fileNames=[]\n",
    "for file_name in list_of_files:\n",
    "    fileText=readPdfFile(file_name)\n",
    "    docName.append(file_name)\n",
    "    docType.append('pdf')\n",
    "    docText.append(fileText)\n",
    "list_of_files = glob.glob(path+'*.pptx')           # create the list of file\n",
    "for file_name in list_of_files:\n",
    "    fileText=readPPTFile(file_name)\n",
    "    docName.append(file_name)\n",
    "    docType.append('ppt')\n",
    "    docText.append(fileText)\n",
    "fullDocs = pd.DataFrame({'Name':docName,'Type':docType,'Text':docText})\n",
    "fullDocs['cleanText']=hero.clean(fullDocs['Text'])\n",
    "fullDocs['NLP']=fullDocs['cleanText'].apply(processDoc)\n",
    "print('Number of read files:',fullDocs.shape[0])"
   ]
  },
  {
   "cell_type": "code",
   "execution_count": 18,
   "metadata": {
    "cell_id": "00013-ddb556ec-691e-4404-b171-46c516e65c2c",
    "deepnote_cell_type": "code"
   },
   "outputs": [
    {
     "name": "stdout",
     "output_type": "stream",
     "text": [
      "Average length of text:87030.23809523809\n",
      "Min length of text:9170\n",
      "Max length of text:328295\n"
     ]
    }
   ],
   "source": [
    " print (\"Average length of text:\" + str((np.mean(fullDocs['Text'].str.len()))))\n",
    " print (\"Min length of text:\" + str((np.min(fullDocs['Text'].str.len()))))\n",
    " print (\"Max length of text:\" + str((np.max(fullDocs['Text'].str.len()))))"
   ]
  },
  {
   "cell_type": "code",
   "execution_count": 19,
   "metadata": {
    "cell_id": "00014-3df6ba43-61ee-4206-be6f-57df61140a63",
    "deepnote_cell_type": "code"
   },
   "outputs": [
    {
     "data": {
      "text/html": [
       "<div>\n",
       "<style scoped>\n",
       "    .dataframe tbody tr th:only-of-type {\n",
       "        vertical-align: middle;\n",
       "    }\n",
       "\n",
       "    .dataframe tbody tr th {\n",
       "        vertical-align: top;\n",
       "    }\n",
       "\n",
       "    .dataframe thead th {\n",
       "        text-align: right;\n",
       "    }\n",
       "</style>\n",
       "<table border=\"1\" class=\"dataframe\">\n",
       "  <thead>\n",
       "    <tr style=\"text-align: right;\">\n",
       "      <th></th>\n",
       "      <th>Name</th>\n",
       "      <th>Type</th>\n",
       "      <th>Text</th>\n",
       "      <th>cleanText</th>\n",
       "      <th>NLP</th>\n",
       "      <th>text_word_count</th>\n",
       "      <th>text_unique_words</th>\n",
       "    </tr>\n",
       "  </thead>\n",
       "  <tbody>\n",
       "    <tr>\n",
       "      <th>0</th>\n",
       "      <td>./sampledocs/pdf/ai_in_insurance_web_0.pdf</td>\n",
       "      <td>pdf</td>\n",
       "      <td>Promoting Responsible\\nArtificial Intelligence...</td>\n",
       "      <td>promoting responsible artificial intelligence ...</td>\n",
       "      <td>(promoting, responsible, artificial, intellige...</td>\n",
       "      <td>9087</td>\n",
       "      <td>2706</td>\n",
       "    </tr>\n",
       "    <tr>\n",
       "      <th>1</th>\n",
       "      <td>./sampledocs/pdf/NIST.IR.8312.pdf</td>\n",
       "      <td>pdf</td>\n",
       "      <td>NISTIR 8312\\n\\nFour Principles of Explainable ...</td>\n",
       "      <td>nistir four principles explainable artificial ...</td>\n",
       "      <td>(nistir, four, principles, explainable, artifi...</td>\n",
       "      <td>16792</td>\n",
       "      <td>5026</td>\n",
       "    </tr>\n",
       "    <tr>\n",
       "      <th>2</th>\n",
       "      <td>./sampledocs/pdf/ai-360-research.pdf</td>\n",
       "      <td>pdf</td>\n",
       "      <td>AI 360: insights from the\\nnext frontier of bu...</td>\n",
       "      <td>ai insights next frontier business corner offi...</td>\n",
       "      <td>(ai, insights, next, frontier, business, corne...</td>\n",
       "      <td>5281</td>\n",
       "      <td>1746</td>\n",
       "    </tr>\n",
       "    <tr>\n",
       "      <th>3</th>\n",
       "      <td>./sampledocs/pdf/Module-1-Lecture-Slides.pdf</td>\n",
       "      <td>pdf</td>\n",
       "      <td>Application of AI, Insurtech and Real Estate\\n...</td>\n",
       "      <td>application ai insurtech real estate technolog...</td>\n",
       "      <td>(application, ai, insurtech, real, estate, tec...</td>\n",
       "      <td>3728</td>\n",
       "      <td>1506</td>\n",
       "    </tr>\n",
       "    <tr>\n",
       "      <th>4</th>\n",
       "      <td>./sampledocs/pdf/Technology-and-innovation-in-...</td>\n",
       "      <td>pdf</td>\n",
       "      <td>Technology and\\ninnovation in the\\ninsurance s...</td>\n",
       "      <td>technology innovation insurance sector technol...</td>\n",
       "      <td>(technology, innovation, insurance, sector, te...</td>\n",
       "      <td>16742</td>\n",
       "      <td>4228</td>\n",
       "    </tr>\n",
       "  </tbody>\n",
       "</table>\n",
       "</div>"
      ],
      "text/plain": [
       "                                                Name Type  \\\n",
       "0         ./sampledocs/pdf/ai_in_insurance_web_0.pdf  pdf   \n",
       "1                  ./sampledocs/pdf/NIST.IR.8312.pdf  pdf   \n",
       "2               ./sampledocs/pdf/ai-360-research.pdf  pdf   \n",
       "3       ./sampledocs/pdf/Module-1-Lecture-Slides.pdf  pdf   \n",
       "4  ./sampledocs/pdf/Technology-and-innovation-in-...  pdf   \n",
       "\n",
       "                                                Text  \\\n",
       "0  Promoting Responsible\\nArtificial Intelligence...   \n",
       "1  NISTIR 8312\\n\\nFour Principles of Explainable ...   \n",
       "2  AI 360: insights from the\\nnext frontier of bu...   \n",
       "3  Application of AI, Insurtech and Real Estate\\n...   \n",
       "4  Technology and\\ninnovation in the\\ninsurance s...   \n",
       "\n",
       "                                           cleanText  \\\n",
       "0  promoting responsible artificial intelligence ...   \n",
       "1  nistir four principles explainable artificial ...   \n",
       "2  ai insights next frontier business corner offi...   \n",
       "3  application ai insurtech real estate technolog...   \n",
       "4  technology innovation insurance sector technol...   \n",
       "\n",
       "                                                 NLP  text_word_count  \\\n",
       "0  (promoting, responsible, artificial, intellige...             9087   \n",
       "1  (nistir, four, principles, explainable, artifi...            16792   \n",
       "2  (ai, insights, next, frontier, business, corne...             5281   \n",
       "3  (application, ai, insurtech, real, estate, tec...             3728   \n",
       "4  (technology, innovation, insurance, sector, te...            16742   \n",
       "\n",
       "   text_unique_words  \n",
       "0               2706  \n",
       "1               5026  \n",
       "2               1746  \n",
       "3               1506  \n",
       "4               4228  "
      ]
     },
     "execution_count": 19,
     "metadata": {},
     "output_type": "execute_result"
    }
   ],
   "source": [
    "fullDocs['text_word_count'] = fullDocs['Text'].apply(lambda x: len(x.strip().split()))  # word count\n",
    "fullDocs['text_unique_words']=fullDocs['Text'].apply(lambda x:len(set(str(x).split())))  # number of unique words\n",
    "fullDocs.head()"
   ]
  },
  {
   "cell_type": "code",
   "execution_count": 20,
   "metadata": {
    "cell_id": "00015-a0b70536-8e30-4e2f-8466-5d1a21589566",
    "deepnote_cell_type": "code"
   },
   "outputs": [],
   "source": [
    "# import additional spacy symbols and stop words\n",
    "from spacy.symbols import nsubj, VERB, dobj, NOUN, root, xcomp, PROPN, NUM,SYM\n",
    "from spacy.lang.en.stop_words import STOP_WORDS"
   ]
  },
  {
   "cell_type": "code",
   "execution_count": 21,
   "metadata": {
    "cell_id": "00016-88af574c-6cdd-4c9f-b3cc-f2a4bcbab298",
    "deepnote_cell_type": "code"
   },
   "outputs": [
    {
     "data": {
      "text/html": [
       "<div>\n",
       "<style scoped>\n",
       "    .dataframe tbody tr th:only-of-type {\n",
       "        vertical-align: middle;\n",
       "    }\n",
       "\n",
       "    .dataframe tbody tr th {\n",
       "        vertical-align: top;\n",
       "    }\n",
       "\n",
       "    .dataframe thead th {\n",
       "        text-align: right;\n",
       "    }\n",
       "</style>\n",
       "<table border=\"1\" class=\"dataframe\">\n",
       "  <thead>\n",
       "    <tr style=\"text-align: right;\">\n",
       "      <th></th>\n",
       "      <th>0</th>\n",
       "    </tr>\n",
       "  </thead>\n",
       "  <tbody>\n",
       "    <tr>\n",
       "      <th>0</th>\n",
       "      <td>promote responsible artificial intelligence in...</td>\n",
       "    </tr>\n",
       "    <tr>\n",
       "      <th>1</th>\n",
       "      <td>nistir principle explainable artificial intell...</td>\n",
       "    </tr>\n",
       "    <tr>\n",
       "      <th>2</th>\n",
       "      <td>ai insight frontier business corner office cor...</td>\n",
       "    </tr>\n",
       "    <tr>\n",
       "      <th>3</th>\n",
       "      <td>application ai insurtech real estate technolog...</td>\n",
       "    </tr>\n",
       "    <tr>\n",
       "      <th>4</th>\n",
       "      <td>technology innovation insurance sector technol...</td>\n",
       "    </tr>\n",
       "  </tbody>\n",
       "</table>\n",
       "</div>"
      ],
      "text/plain": [
       "                                                   0\n",
       "0  promote responsible artificial intelligence in...\n",
       "1  nistir principle explainable artificial intell...\n",
       "2  ai insight frontier business corner office cor...\n",
       "3  application ai insurtech real estate technolog...\n",
       "4  technology innovation insurance sector technol..."
      ]
     },
     "execution_count": 21,
     "metadata": {},
     "output_type": "execute_result"
    }
   ],
   "source": [
    "ents=[]\n",
    "for doc in fullDocs.NLP:\n",
    "    # all entities\n",
    "    words=[]\n",
    "    words += [token.lemma_ for token in doc if token.is_stop != True and token.is_punct != True \\\n",
    "              and token.is_space != True and token.pos != NUM and token.pos != SYM \\\n",
    "              and token.text != '©' and (not token.text in STOP_WORDS)and (not token.lemma_ in STOP_WORDS)]\n",
    "    ents.append(' '.join(words))\n",
    "entitiesdf=pd.DataFrame(ents)\n",
    "entitiesdf.head()"
   ]
  },
  {
   "cell_type": "markdown",
   "metadata": {
    "cell_id": "00017-c6444b20-a26f-43ad-be8a-8eb5b52cb536",
    "deepnote_cell_type": "markdown"
   },
   "source": [
    "# Let us compare documents similarities using spacy similarity"
   ]
  },
  {
   "cell_type": "code",
   "execution_count": 22,
   "metadata": {
    "cell_id": "00018-46bb9240-7b40-4752-8858-e8ba77129939",
    "deepnote_cell_type": "code"
   },
   "outputs": [],
   "source": [
    "similarityList=[]\n",
    "for doc in fullDocs.NLP:\n",
    "    docSimilarity=[]\n",
    "    for compDoc in fullDocs.NLP:\n",
    "        docSimilarity.append(doc.similarity(compDoc))\n",
    "    similarityList.append(docSimilarity)"
   ]
  },
  {
   "cell_type": "code",
   "execution_count": 23,
   "metadata": {
    "cell_id": "00019-d5d4168b-e876-4368-8d0e-02bc4a6d6125",
    "deepnote_cell_type": "code"
   },
   "outputs": [],
   "source": [
    "similarityDF= pd.DataFrame(data=similarityList)"
   ]
  },
  {
   "cell_type": "code",
   "execution_count": 24,
   "metadata": {
    "cell_id": "00020-651cf30d-b670-4a8d-9504-9c6cf4b1b746",
    "deepnote_cell_type": "code"
   },
   "outputs": [
    {
     "data": {
      "text/html": [
       "<div>\n",
       "<style scoped>\n",
       "    .dataframe tbody tr th:only-of-type {\n",
       "        vertical-align: middle;\n",
       "    }\n",
       "\n",
       "    .dataframe tbody tr th {\n",
       "        vertical-align: top;\n",
       "    }\n",
       "\n",
       "    .dataframe thead th {\n",
       "        text-align: right;\n",
       "    }\n",
       "</style>\n",
       "<table border=\"1\" class=\"dataframe\">\n",
       "  <thead>\n",
       "    <tr style=\"text-align: right;\">\n",
       "      <th></th>\n",
       "      <th>0</th>\n",
       "      <th>1</th>\n",
       "      <th>2</th>\n",
       "      <th>3</th>\n",
       "      <th>4</th>\n",
       "      <th>5</th>\n",
       "      <th>6</th>\n",
       "      <th>7</th>\n",
       "      <th>8</th>\n",
       "      <th>9</th>\n",
       "      <th>...</th>\n",
       "      <th>11</th>\n",
       "      <th>12</th>\n",
       "      <th>13</th>\n",
       "      <th>14</th>\n",
       "      <th>15</th>\n",
       "      <th>16</th>\n",
       "      <th>17</th>\n",
       "      <th>18</th>\n",
       "      <th>19</th>\n",
       "      <th>20</th>\n",
       "    </tr>\n",
       "  </thead>\n",
       "  <tbody>\n",
       "    <tr>\n",
       "      <th>0</th>\n",
       "      <td>1.000000</td>\n",
       "      <td>0.995793</td>\n",
       "      <td>0.983796</td>\n",
       "      <td>0.981320</td>\n",
       "      <td>0.997485</td>\n",
       "      <td>0.996505</td>\n",
       "      <td>0.995640</td>\n",
       "      <td>0.994122</td>\n",
       "      <td>0.993733</td>\n",
       "      <td>0.986338</td>\n",
       "      <td>...</td>\n",
       "      <td>0.982823</td>\n",
       "      <td>0.992190</td>\n",
       "      <td>0.997382</td>\n",
       "      <td>0.996601</td>\n",
       "      <td>0.995679</td>\n",
       "      <td>0.980691</td>\n",
       "      <td>0.992334</td>\n",
       "      <td>0.996267</td>\n",
       "      <td>0.995454</td>\n",
       "      <td>0.997276</td>\n",
       "    </tr>\n",
       "    <tr>\n",
       "      <th>1</th>\n",
       "      <td>0.995793</td>\n",
       "      <td>1.000000</td>\n",
       "      <td>0.975495</td>\n",
       "      <td>0.985213</td>\n",
       "      <td>0.994791</td>\n",
       "      <td>0.991940</td>\n",
       "      <td>0.991686</td>\n",
       "      <td>0.995538</td>\n",
       "      <td>0.987521</td>\n",
       "      <td>0.978215</td>\n",
       "      <td>...</td>\n",
       "      <td>0.979649</td>\n",
       "      <td>0.990496</td>\n",
       "      <td>0.992637</td>\n",
       "      <td>0.994294</td>\n",
       "      <td>0.991112</td>\n",
       "      <td>0.980080</td>\n",
       "      <td>0.987021</td>\n",
       "      <td>0.990717</td>\n",
       "      <td>0.988445</td>\n",
       "      <td>0.995421</td>\n",
       "    </tr>\n",
       "    <tr>\n",
       "      <th>2</th>\n",
       "      <td>0.983796</td>\n",
       "      <td>0.975495</td>\n",
       "      <td>1.000000</td>\n",
       "      <td>0.958357</td>\n",
       "      <td>0.978001</td>\n",
       "      <td>0.989156</td>\n",
       "      <td>0.985793</td>\n",
       "      <td>0.970889</td>\n",
       "      <td>0.985141</td>\n",
       "      <td>0.973445</td>\n",
       "      <td>...</td>\n",
       "      <td>0.983412</td>\n",
       "      <td>0.977194</td>\n",
       "      <td>0.981337</td>\n",
       "      <td>0.981539</td>\n",
       "      <td>0.987185</td>\n",
       "      <td>0.958888</td>\n",
       "      <td>0.988184</td>\n",
       "      <td>0.987999</td>\n",
       "      <td>0.988686</td>\n",
       "      <td>0.982299</td>\n",
       "    </tr>\n",
       "    <tr>\n",
       "      <th>3</th>\n",
       "      <td>0.981320</td>\n",
       "      <td>0.985213</td>\n",
       "      <td>0.958357</td>\n",
       "      <td>1.000000</td>\n",
       "      <td>0.977496</td>\n",
       "      <td>0.976623</td>\n",
       "      <td>0.971796</td>\n",
       "      <td>0.984711</td>\n",
       "      <td>0.976397</td>\n",
       "      <td>0.971907</td>\n",
       "      <td>...</td>\n",
       "      <td>0.971848</td>\n",
       "      <td>0.967050</td>\n",
       "      <td>0.978645</td>\n",
       "      <td>0.976001</td>\n",
       "      <td>0.973577</td>\n",
       "      <td>0.978942</td>\n",
       "      <td>0.976332</td>\n",
       "      <td>0.974503</td>\n",
       "      <td>0.971217</td>\n",
       "      <td>0.980075</td>\n",
       "    </tr>\n",
       "    <tr>\n",
       "      <th>4</th>\n",
       "      <td>0.997485</td>\n",
       "      <td>0.994791</td>\n",
       "      <td>0.978001</td>\n",
       "      <td>0.977496</td>\n",
       "      <td>1.000000</td>\n",
       "      <td>0.993636</td>\n",
       "      <td>0.994588</td>\n",
       "      <td>0.993494</td>\n",
       "      <td>0.991166</td>\n",
       "      <td>0.981461</td>\n",
       "      <td>...</td>\n",
       "      <td>0.979471</td>\n",
       "      <td>0.993286</td>\n",
       "      <td>0.996650</td>\n",
       "      <td>0.996755</td>\n",
       "      <td>0.995031</td>\n",
       "      <td>0.975469</td>\n",
       "      <td>0.991093</td>\n",
       "      <td>0.995079</td>\n",
       "      <td>0.993877</td>\n",
       "      <td>0.997014</td>\n",
       "    </tr>\n",
       "  </tbody>\n",
       "</table>\n",
       "<p>5 rows × 21 columns</p>\n",
       "</div>"
      ],
      "text/plain": [
       "         0         1         2         3         4         5         6   \\\n",
       "0  1.000000  0.995793  0.983796  0.981320  0.997485  0.996505  0.995640   \n",
       "1  0.995793  1.000000  0.975495  0.985213  0.994791  0.991940  0.991686   \n",
       "2  0.983796  0.975495  1.000000  0.958357  0.978001  0.989156  0.985793   \n",
       "3  0.981320  0.985213  0.958357  1.000000  0.977496  0.976623  0.971796   \n",
       "4  0.997485  0.994791  0.978001  0.977496  1.000000  0.993636  0.994588   \n",
       "\n",
       "         7         8         9   ...        11        12        13        14  \\\n",
       "0  0.994122  0.993733  0.986338  ...  0.982823  0.992190  0.997382  0.996601   \n",
       "1  0.995538  0.987521  0.978215  ...  0.979649  0.990496  0.992637  0.994294   \n",
       "2  0.970889  0.985141  0.973445  ...  0.983412  0.977194  0.981337  0.981539   \n",
       "3  0.984711  0.976397  0.971907  ...  0.971848  0.967050  0.978645  0.976001   \n",
       "4  0.993494  0.991166  0.981461  ...  0.979471  0.993286  0.996650  0.996755   \n",
       "\n",
       "         15        16        17        18        19        20  \n",
       "0  0.995679  0.980691  0.992334  0.996267  0.995454  0.997276  \n",
       "1  0.991112  0.980080  0.987021  0.990717  0.988445  0.995421  \n",
       "2  0.987185  0.958888  0.988184  0.987999  0.988686  0.982299  \n",
       "3  0.973577  0.978942  0.976332  0.974503  0.971217  0.980075  \n",
       "4  0.995031  0.975469  0.991093  0.995079  0.993877  0.997014  \n",
       "\n",
       "[5 rows x 21 columns]"
      ]
     },
     "execution_count": 24,
     "metadata": {},
     "output_type": "execute_result"
    }
   ],
   "source": [
    "similarityDF.head()"
   ]
  },
  {
   "cell_type": "code",
   "execution_count": 25,
   "metadata": {
    "cell_id": "00021-c6668994-fb09-4710-8ac8-01823bcc2525",
    "deepnote_cell_type": "code"
   },
   "outputs": [
    {
     "data": {
      "image/png": "[encoded data removed]",
      "text/plain": [
       "<Figure size 640x480 with 1 Axes>"
      ]
     },
     "metadata": {},
     "output_type": "display_data"
    }
   ],
   "source": [
    "import matplotlib.pyplot as plt\n",
    "plt.pcolor(similarityDF)\n",
    "plt.yticks(np.arange(0.5, len(similarityDF.index), 1), similarityDF.index)\n",
    "plt.xticks(np.arange(0.5, len(similarityDF.columns), 1), similarityDF.columns)\n",
    "plt.show()"
   ]
  },
  {
   "cell_type": "markdown",
   "metadata": {
    "cell_id": "00022-02e05cef-4404-401d-b49a-38c53e14b15d",
    "deepnote_cell_type": "markdown"
   },
   "source": [
    "It seems document 0 and document 6 have the lowest similarity amongst all document"
   ]
  },
  {
   "cell_type": "code",
   "execution_count": 31,
   "metadata": {
    "cell_id": "00023-da372e67-7355-4d01-86a8-982cb265d272",
    "deepnote_cell_type": "code"
   },
   "outputs": [
    {
     "data": {
      "image/png": "[encoded data removed]",
      "text/plain": [
       "<Figure size 432x288 with 2 Axes>"
      ]
     },
     "metadata": {},
     "output_type": "display_data"
    }
   ],
   "source": [
    "import seaborn as sns\n",
    "%matplotlib inline \n",
    "sns.set()\n",
    "\n",
    "ax = sns.heatmap(similarityDF,linewidths=.5,center=.5)"
   ]
  },
  {
   "cell_type": "markdown",
   "metadata": {
    "cell_id": "00024-e9ba3237-c59f-490c-9745-136c79ff459d",
    "deepnote_cell_type": "markdown"
   },
   "source": [
    "# Let us use vector norm to calculate their distance"
   ]
  },
  {
   "cell_type": "code",
   "execution_count": 32,
   "metadata": {
    "cell_id": "00025-7723b95d-45ae-448f-9d35-d5d4f676a6ba",
    "deepnote_cell_type": "code"
   },
   "outputs": [],
   "source": [
    "# calculate the norm of the distance of the vectors\n",
    "similarityList=[]\n",
    "for doc in fullDocs.NLP:\n",
    "    docSimilarity=[]\n",
    "    for compDoc in fullDocs.NLP:\n",
    "        docSimilarity.append(np.linalg.norm(doc.vector-compDoc.vector))\n",
    "    similarityList.append(docSimilarity)"
   ]
  },
  {
   "cell_type": "code",
   "execution_count": 33,
   "metadata": {
    "cell_id": "00026-3509c843-2e9b-4ccc-ba46-69994e47faf5",
    "deepnote_cell_type": "code"
   },
   "outputs": [],
   "source": [
    "similarityDFVec= pd.DataFrame(data=similarityList)"
   ]
  },
  {
   "cell_type": "code",
   "execution_count": 34,
   "metadata": {
    "cell_id": "00027-71378269-5138-4d65-a827-a401d101d0fe",
    "deepnote_cell_type": "code"
   },
   "outputs": [
    {
     "data": {
      "text/html": [
       "<div>\n",
       "<style scoped>\n",
       "    .dataframe tbody tr th:only-of-type {\n",
       "        vertical-align: middle;\n",
       "    }\n",
       "\n",
       "    .dataframe tbody tr th {\n",
       "        vertical-align: top;\n",
       "    }\n",
       "\n",
       "    .dataframe thead th {\n",
       "        text-align: right;\n",
       "    }\n",
       "</style>\n",
       "<table border=\"1\" class=\"dataframe\">\n",
       "  <thead>\n",
       "    <tr style=\"text-align: right;\">\n",
       "      <th></th>\n",
       "      <th>0</th>\n",
       "      <th>1</th>\n",
       "      <th>2</th>\n",
       "      <th>3</th>\n",
       "      <th>4</th>\n",
       "      <th>5</th>\n",
       "      <th>6</th>\n",
       "      <th>7</th>\n",
       "      <th>8</th>\n",
       "      <th>9</th>\n",
       "      <th>...</th>\n",
       "      <th>11</th>\n",
       "      <th>12</th>\n",
       "      <th>13</th>\n",
       "      <th>14</th>\n",
       "      <th>15</th>\n",
       "      <th>16</th>\n",
       "      <th>17</th>\n",
       "      <th>18</th>\n",
       "      <th>19</th>\n",
       "      <th>20</th>\n",
       "    </tr>\n",
       "  </thead>\n",
       "  <tbody>\n",
       "    <tr>\n",
       "      <th>0</th>\n",
       "      <td>0.000000</td>\n",
       "      <td>0.357000</td>\n",
       "      <td>0.745525</td>\n",
       "      <td>0.747249</td>\n",
       "      <td>0.309499</td>\n",
       "      <td>0.330305</td>\n",
       "      <td>0.359358</td>\n",
       "      <td>0.439294</td>\n",
       "      <td>0.445672</td>\n",
       "      <td>0.629549</td>\n",
       "      <td>...</td>\n",
       "      <td>0.799387</td>\n",
       "      <td>0.476243</td>\n",
       "      <td>0.289502</td>\n",
       "      <td>0.322319</td>\n",
       "      <td>0.355661</td>\n",
       "      <td>0.753191</td>\n",
       "      <td>0.471737</td>\n",
       "      <td>0.353807</td>\n",
       "      <td>0.366034</td>\n",
       "      <td>0.317152</td>\n",
       "    </tr>\n",
       "    <tr>\n",
       "      <th>1</th>\n",
       "      <td>0.357000</td>\n",
       "      <td>0.000000</td>\n",
       "      <td>0.909733</td>\n",
       "      <td>0.695714</td>\n",
       "      <td>0.408446</td>\n",
       "      <td>0.506216</td>\n",
       "      <td>0.498313</td>\n",
       "      <td>0.375869</td>\n",
       "      <td>0.630635</td>\n",
       "      <td>0.805902</td>\n",
       "      <td>...</td>\n",
       "      <td>0.883895</td>\n",
       "      <td>0.536446</td>\n",
       "      <td>0.471666</td>\n",
       "      <td>0.429612</td>\n",
       "      <td>0.515140</td>\n",
       "      <td>0.784367</td>\n",
       "      <td>0.622225</td>\n",
       "      <td>0.551134</td>\n",
       "      <td>0.587086</td>\n",
       "      <td>0.382743</td>\n",
       "    </tr>\n",
       "    <tr>\n",
       "      <th>2</th>\n",
       "      <td>0.745525</td>\n",
       "      <td>0.909733</td>\n",
       "      <td>0.000000</td>\n",
       "      <td>1.029516</td>\n",
       "      <td>0.922456</td>\n",
       "      <td>0.587637</td>\n",
       "      <td>0.728610</td>\n",
       "      <td>1.014376</td>\n",
       "      <td>0.646818</td>\n",
       "      <td>0.870872</td>\n",
       "      <td>...</td>\n",
       "      <td>0.627849</td>\n",
       "      <td>0.832118</td>\n",
       "      <td>0.832022</td>\n",
       "      <td>0.742533</td>\n",
       "      <td>0.691334</td>\n",
       "      <td>1.033534</td>\n",
       "      <td>0.653105</td>\n",
       "      <td>0.592374</td>\n",
       "      <td>0.669599</td>\n",
       "      <td>0.852985</td>\n",
       "    </tr>\n",
       "    <tr>\n",
       "      <th>3</th>\n",
       "      <td>0.747249</td>\n",
       "      <td>0.695714</td>\n",
       "      <td>1.029516</td>\n",
       "      <td>0.000000</td>\n",
       "      <td>0.875059</td>\n",
       "      <td>0.799150</td>\n",
       "      <td>0.917587</td>\n",
       "      <td>0.740746</td>\n",
       "      <td>0.791620</td>\n",
       "      <td>0.877915</td>\n",
       "      <td>...</td>\n",
       "      <td>0.859513</td>\n",
       "      <td>0.960794</td>\n",
       "      <td>0.826208</td>\n",
       "      <td>0.813444</td>\n",
       "      <td>0.883324</td>\n",
       "      <td>0.744250</td>\n",
       "      <td>0.828076</td>\n",
       "      <td>0.824441</td>\n",
       "      <td>0.923908</td>\n",
       "      <td>0.829347</td>\n",
       "    </tr>\n",
       "    <tr>\n",
       "      <th>4</th>\n",
       "      <td>0.309499</td>\n",
       "      <td>0.408446</td>\n",
       "      <td>0.922456</td>\n",
       "      <td>0.875059</td>\n",
       "      <td>0.000000</td>\n",
       "      <td>0.495103</td>\n",
       "      <td>0.420133</td>\n",
       "      <td>0.450766</td>\n",
       "      <td>0.585229</td>\n",
       "      <td>0.773916</td>\n",
       "      <td>...</td>\n",
       "      <td>0.943255</td>\n",
       "      <td>0.484829</td>\n",
       "      <td>0.327454</td>\n",
       "      <td>0.382827</td>\n",
       "      <td>0.408253</td>\n",
       "      <td>0.898282</td>\n",
       "      <td>0.541086</td>\n",
       "      <td>0.473084</td>\n",
       "      <td>0.446455</td>\n",
       "      <td>0.305634</td>\n",
       "    </tr>\n",
       "  </tbody>\n",
       "</table>\n",
       "<p>5 rows × 21 columns</p>\n",
       "</div>"
      ],
      "text/plain": [
       "         0         1         2         3         4         5         6   \\\n",
       "0  0.000000  0.357000  0.745525  0.747249  0.309499  0.330305  0.359358   \n",
       "1  0.357000  0.000000  0.909733  0.695714  0.408446  0.506216  0.498313   \n",
       "2  0.745525  0.909733  0.000000  1.029516  0.922456  0.587637  0.728610   \n",
       "3  0.747249  0.695714  1.029516  0.000000  0.875059  0.799150  0.917587   \n",
       "4  0.309499  0.408446  0.922456  0.875059  0.000000  0.495103  0.420133   \n",
       "\n",
       "         7         8         9   ...        11        12        13        14  \\\n",
       "0  0.439294  0.445672  0.629549  ...  0.799387  0.476243  0.289502  0.322319   \n",
       "1  0.375869  0.630635  0.805902  ...  0.883895  0.536446  0.471666  0.429612   \n",
       "2  1.014376  0.646818  0.870872  ...  0.627849  0.832118  0.832022  0.742533   \n",
       "3  0.740746  0.791620  0.877915  ...  0.859513  0.960794  0.826208  0.813444   \n",
       "4  0.450766  0.585229  0.773916  ...  0.943255  0.484829  0.327454  0.382827   \n",
       "\n",
       "         15        16        17        18        19        20  \n",
       "0  0.355661  0.753191  0.471737  0.353807  0.366034  0.317152  \n",
       "1  0.515140  0.784367  0.622225  0.551134  0.587086  0.382743  \n",
       "2  0.691334  1.033534  0.653105  0.592374  0.669599  0.852985  \n",
       "3  0.883324  0.744250  0.828076  0.824441  0.923908  0.829347  \n",
       "4  0.408253  0.898282  0.541086  0.473084  0.446455  0.305634  \n",
       "\n",
       "[5 rows x 21 columns]"
      ]
     },
     "execution_count": 34,
     "metadata": {},
     "output_type": "execute_result"
    }
   ],
   "source": [
    "similarityDFVec.head()"
   ]
  },
  {
   "cell_type": "code",
   "execution_count": 35,
   "metadata": {
    "cell_id": "00028-4ac89379-b99e-4048-aed0-078bb49c0a13",
    "deepnote_cell_type": "code"
   },
   "outputs": [
    {
     "data": {
      "image/png": "[encoded data removed]",
      "text/plain": [
       "<Figure size 432x288 with 2 Axes>"
      ]
     },
     "metadata": {},
     "output_type": "display_data"
    }
   ],
   "source": [
    "sns.set()\n",
    "\n",
    "ax = sns.heatmap(similarityDFVec,linewidths=.5)"
   ]
  },
  {
   "cell_type": "markdown",
   "metadata": {
    "cell_id": "00029-279b06db-364e-42bb-9e69-455339020d63",
    "deepnote_cell_type": "markdown"
   },
   "source": [
    "Again documents 0 and 6 seem to have the longest distance to each other"
   ]
  },
  {
   "cell_type": "markdown",
   "metadata": {
    "cell_id": "00030-c8470564-fffc-42ef-baa6-3824d8071b11",
    "deepnote_cell_type": "markdown"
   },
   "source": [
    "# Let us use entity vector average  to calculate similarities"
   ]
  },
  {
   "cell_type": "code",
   "execution_count": 36,
   "metadata": {
    "cell_id": "00031-7568ae40-6674-43b3-834a-60e76a19be0b",
    "deepnote_cell_type": "code"
   },
   "outputs": [
    {
     "name": "stdout",
     "output_type": "stream",
     "text": [
      "[('data', 60), ('big data', 58), ('free charge https', 43), ('healthcare', 33), ('business models', 31), ('develop', 31), ('challenge', 25), ('european commission', 20), ('groups', 18), ('intelligence', 18), ('customer data', 17), ('data protection', 17), ('model', 17), ('time', 16), ('general data', 15), ('new data', 15), ('system', 15), ('discrimination', 14), ('models', 13), ('discovery', 13), ('time data', 13), ('machine learning', 12), ('tech', 12), ('december', 12), ('around data', 10), ('european data', 10), ('driven', 9), ('digital', 9), ('q4', 9), ('privacy data', 9), ('media data', 8), ('appropriate', 8), ('black box', 8), ('given', 8), ('tools', 8), ('europe', 8), ('european union', 8), ('allianz', 8), ('reach', 8), ('european parliament council', 8)]\n"
     ]
    }
   ],
   "source": [
    "# most frequestentities\n",
    "from spacy.lang.en.stop_words import STOP_WORDS\n",
    "from collections import Counter\n",
    "entities=[]\n",
    "for doc in fullDocs.NLP:\n",
    "    # all entities\n",
    "    for ent in doc.ents:\n",
    "            if ent.label_!= 'MONEY' and ent.label_!= 'CARDINAL' and ent.label_!= 'QUANTITY' \\\n",
    "            and ent.label_!= 'PERCENT' and ent.label_!= 'TIME' and ent.label_!= 'ORDINAL' \\\n",
    "            and ent.label_!= 'DATE' and ent.label_!= 'PERSON' and ent.label_!= 'GPE':\n",
    "                if ent.text not in STOP_WORDS:\n",
    "                    entities += [ent.text]\n",
    "entityFreq = Counter(entities)\n",
    "commonEntities = entityFreq.most_common(40)\n",
    "print(commonEntities)"
   ]
  },
  {
   "cell_type": "code",
   "execution_count": 37,
   "metadata": {
    "cell_id": "00032-92155d92-4fe0-49fb-89f2-d3db84513777",
    "deepnote_cell_type": "code"
   },
   "outputs": [],
   "source": [
    "def getAverageEntityVector(doc):\n",
    "    vectorAvg = 0\n",
    "    i=0\n",
    "    for ent in doc.ents:\n",
    "        if ent.label_!= 'MONEY' and ent.label_!= 'CARDINAL' and ent.label_!= 'QUANTITY' \\\n",
    "        and ent.label_!= 'PERCENT' and ent.label_!= 'TIME' and ent.label_!= 'ORDINAL' \\\n",
    "        and ent.label_!= 'DATE' and ent.label_!= 'PERSON' and ent.label_!= 'GPE':\n",
    "            if ent.text not in STOP_WORDS:\n",
    "                vectorAvg += ent.vector\n",
    "                i+=1\n",
    "    if i>0:\n",
    "        vectorAvg=vectorAvg/i\n",
    "    else:\n",
    "        vectotAvg=float('Inf')\n",
    "    return vectorAvg"
   ]
  },
  {
   "cell_type": "code",
   "execution_count": 38,
   "metadata": {
    "cell_id": "00033-a99441b5-8730-41a8-99d7-c0007d483485",
    "deepnote_cell_type": "code"
   },
   "outputs": [],
   "source": [
    "# calculate average entity vector for documents\n",
    "entitiesVec=[]\n",
    "for doc in fullDocs.NLP:\n",
    "    # all entities\n",
    "    vectorAvg=getAverageEntityVector(doc)\n",
    "    entitiesVec.append(vectorAvg)    \n"
   ]
  },
  {
   "cell_type": "code",
   "execution_count": 39,
   "metadata": {
    "cell_id": "00034-0e7b9fb2-54dd-4390-872f-24ba9700e528",
    "deepnote_cell_type": "code"
   },
   "outputs": [],
   "source": [
    "# compare all documents using entityt similarity vectors\n",
    "similarityList=[]\n",
    "for ents in entitiesVec:\n",
    "    docSimilarity=[]\n",
    "    for entComp in entitiesVec:\n",
    "        #docSimilarity.append(np.dot(doc.vector,compDoc.vector))\n",
    "        docSimilarity.append(np.linalg.norm(ents-entComp))\n",
    "    similarityList.append(docSimilarity)"
   ]
  },
  {
   "cell_type": "code",
   "execution_count": 40,
   "metadata": {
    "cell_id": "00035-504a0979-7dc0-4a41-9108-c883e4d6ec26",
    "deepnote_cell_type": "code"
   },
   "outputs": [],
   "source": [
    "similarityDFVecAvg= pd.DataFrame(data=similarityList)"
   ]
  },
  {
   "cell_type": "code",
   "execution_count": 41,
   "metadata": {
    "cell_id": "00036-fa3d7c7a-0923-43f3-8e6e-6ef9b2513601",
    "deepnote_cell_type": "code"
   },
   "outputs": [
    {
     "name": "stderr",
     "output_type": "stream",
     "text": [
      "<ipython-input-41-b2cdf32786bf>:2: DeprecationWarning: `np.bool` is a deprecated alias for the builtin `bool`. To silence this warning, use `bool` by itself. Doing this will not modify any behavior and is safe. If you specifically wanted the numpy scalar type, use `np.bool_` here.\n",
      "Deprecated in NumPy 1.20; for more details and guidance: https://numpy.org/devdocs/release/1.20.0-notes.html#deprecations\n",
      "  mask = np.zeros_like(similarityDF, dtype=np.bool)\n"
     ]
    },
    {
     "data": {
      "image/png": "[encoded data removed]",
      "text/plain": [
       "<Figure size 432x288 with 2 Axes>"
      ]
     },
     "metadata": {},
     "output_type": "display_data"
    }
   ],
   "source": [
    "sns.set()\n",
    "mask = np.zeros_like(similarityDF, dtype=np.bool)\n",
    "mask[np.triu_indices_from(mask)] = True\n",
    "ax = sns.heatmap(similarityDFVecAvg,linewidths=.5, mask=mask)"
   ]
  },
  {
   "cell_type": "code",
   "execution_count": 42,
   "metadata": {
    "cell_id": "00037-3052a76d-7816-4c5a-a595-aec57d783d5e",
    "deepnote_cell_type": "code"
   },
   "outputs": [],
   "source": [
    "def searchClosestDocumentDocLevel(text):\n",
    "    searchQueryNLP=nlp(text)\n",
    "    simQuery=[]\n",
    "    for i,doc in fullDocs.iterrows():\n",
    "        simQuery.append((np.linalg.norm(doc.NLP.vector-searchQueryNLP.vector),i))\n",
    "    simQuery.sort()\n",
    "    idMin=simQuery[0][1]\n",
    "    return idMin"
   ]
  },
  {
   "cell_type": "code",
   "execution_count": 43,
   "metadata": {
    "cell_id": "00038-80f12fdc-902c-4e45-91ec-ee0bd8d995ad",
    "deepnote_cell_type": "code"
   },
   "outputs": [],
   "source": [
    "def searchClosestDocumentEntLevel(text):\n",
    "    searchQueryNLP=nlp(text)\n",
    "    simQuery=[]\n",
    "    for i,doc in fullDocs.iterrows():\n",
    "        simQuery.append((np.linalg.norm(getAverageEntityVector(doc.NLP)-getAverageEntityVector(searchQueryNLP)),i))\n",
    "    simQuery.sort()\n",
    "    idMin=simQuery[0][1]\n",
    "    return idMin"
   ]
  },
  {
   "cell_type": "code",
   "execution_count": 44,
   "metadata": {
    "cell_id": "00039-2afeb8cd-5b97-4327-8d69-c9803417e8fb",
    "deepnote_cell_type": "code"
   },
   "outputs": [
    {
     "data": {
      "text/plain": [
       "'./sampledocs/pdf/Data machine the insurers using AI to reshape the industry Financial Times.pdf'"
      ]
     },
     "execution_count": 44,
     "metadata": {},
     "output_type": "execute_result"
    }
   ],
   "source": [
    "text='LOOKING FOR INNOVATION IN CLAIMS PROCESSING'\n",
    "id= searchClosestDocumentDocLevel(text)\n",
    "fullDocs.iloc[id].Name"
   ]
  },
  {
   "cell_type": "code",
   "execution_count": 45,
   "metadata": {
    "cell_id": "00040-e67558fa-cdbc-4778-aedd-c9b8a9145abd",
    "deepnote_cell_type": "code"
   },
   "outputs": [
    {
     "data": {
      "text/plain": [
       "'./sampledocs/pdf/Data machine the insurers using AI to reshape the industry Financial Times.pdf'"
      ]
     },
     "execution_count": 45,
     "metadata": {},
     "output_type": "execute_result"
    }
   ],
   "source": [
    "text='ai ethics in the european right'\n",
    "id= searchClosestDocumentDocLevel(text)\n",
    "fullDocs.iloc[id].Name"
   ]
  },
  {
   "cell_type": "code",
   "execution_count": 46,
   "metadata": {
    "cell_id": "00041-dd2f82c5-85e3-4557-b964-c37e6487d6ae",
    "deepnote_cell_type": "code"
   },
   "outputs": [
    {
     "data": {
      "text/plain": [
       "'./sampledocs/pdf/Artificial Financial Intelligence.pdf'"
      ]
     },
     "execution_count": 46,
     "metadata": {},
     "output_type": "execute_result"
    }
   ],
   "source": [
    "text='latest innovation in underwiting ad how to use artificial intelligence'\n",
    "id= searchClosestDocumentEntLevel(text)\n",
    "fullDocs.iloc[id].Name"
   ]
  },
  {
   "cell_type": "code",
   "execution_count": 47,
   "metadata": {
    "cell_id": "00042-bef1b772-6b47-41b5-9349-e8e8e7df2998",
    "deepnote_cell_type": "code"
   },
   "outputs": [
    {
     "data": {
      "text/plain": [
       "'./sampledocs/pdf/Artificial Financial Intelligence.pdf'"
      ]
     },
     "execution_count": 47,
     "metadata": {},
     "output_type": "execute_result"
    }
   ],
   "source": [
    "text='what are the main digital innovations in insurance'\n",
    "id= searchClosestDocumentEntLevel(text)\n",
    "fullDocs.iloc[id].Name"
   ]
  },
  {
   "cell_type": "markdown",
   "metadata": {
    "cell_id": "00043-b3ed7801-334d-4401-b6b5-f14c4628375a",
    "deepnote_cell_type": "markdown"
   },
   "source": [
    "# Let us use sentences vector  to calculate similarities"
   ]
  },
  {
   "cell_type": "code",
   "execution_count": 48,
   "metadata": {
    "cell_id": "00044-cc299532-b941-4e05-a589-ecd688959850",
    "deepnote_cell_type": "code"
   },
   "outputs": [],
   "source": [
    "def getAverageSentenceVector(doc):\n",
    "    vectorAvg = 0\n",
    "    i=0\n",
    "    for sent in doc.sents:\n",
    "        vectorAvg += sent.vector\n",
    "        i+=1\n",
    "    if i>0:\n",
    "        vectorAvg=vectorAvg/i\n",
    "    else:\n",
    "        vectorAvg=float('Inf')\n",
    "    return vectorAvg"
   ]
  },
  {
   "cell_type": "code",
   "execution_count": 49,
   "metadata": {
    "cell_id": "00045-d1a99231-cd1d-4677-aaa1-73082b85d291",
    "deepnote_cell_type": "code"
   },
   "outputs": [],
   "source": [
    "# calculate average entity vector for documents\n",
    "entitiesVec=[]\n",
    "for doc in fullDocs.NLP:\n",
    "    # all entities\n",
    "    vectorAvg=getAverageSentenceVector(doc)\n",
    "    entitiesVec.append(vectorAvg)  "
   ]
  },
  {
   "cell_type": "code",
   "execution_count": 50,
   "metadata": {
    "cell_id": "00046-92cd71dd-275b-4546-98f0-12bca25a45b8",
    "deepnote_cell_type": "code"
   },
   "outputs": [],
   "source": [
    "# compare all documents using sentence similarity vectors\n",
    "similarityList=[]\n",
    "for ents in entitiesVec:\n",
    "    docSimilarity=[]\n",
    "    for entComp in entitiesVec:\n",
    "        #docSimilarity.append(np.dot(doc.vector,compDoc.vector))\n",
    "        docSimilarity.append(np.linalg.norm(ents-entComp))\n",
    "    similarityList.append(docSimilarity)"
   ]
  },
  {
   "cell_type": "code",
   "execution_count": 51,
   "metadata": {
    "cell_id": "00047-89798e7e-4668-41bc-87bf-3ea6f2e04aff",
    "deepnote_cell_type": "code"
   },
   "outputs": [],
   "source": [
    "similarityDFVecAvg= pd.DataFrame(data=similarityList)"
   ]
  },
  {
   "cell_type": "code",
   "execution_count": 52,
   "metadata": {
    "cell_id": "00048-2bacdd0e-7659-4dac-9d35-03fc749cb94f",
    "deepnote_cell_type": "code"
   },
   "outputs": [
    {
     "name": "stderr",
     "output_type": "stream",
     "text": [
      "<ipython-input-52-b2cdf32786bf>:2: DeprecationWarning: `np.bool` is a deprecated alias for the builtin `bool`. To silence this warning, use `bool` by itself. Doing this will not modify any behavior and is safe. If you specifically wanted the numpy scalar type, use `np.bool_` here.\n",
      "Deprecated in NumPy 1.20; for more details and guidance: https://numpy.org/devdocs/release/1.20.0-notes.html#deprecations\n",
      "  mask = np.zeros_like(similarityDF, dtype=np.bool)\n"
     ]
    },
    {
     "data": {
      "image/png": "[encoded data removed]",
      "text/plain": [
       "<Figure size 432x288 with 2 Axes>"
      ]
     },
     "metadata": {},
     "output_type": "display_data"
    }
   ],
   "source": [
    "sns.set()\n",
    "mask = np.zeros_like(similarityDF, dtype=np.bool)\n",
    "mask[np.triu_indices_from(mask)] = True\n",
    "ax = sns.heatmap(similarityDFVecAvg,linewidths=.5, mask=mask)"
   ]
  },
  {
   "cell_type": "code",
   "execution_count": 53,
   "metadata": {
    "cell_id": "00049-61829c8c-a87e-4713-aa1c-a5c5cef847c4",
    "deepnote_cell_type": "code"
   },
   "outputs": [],
   "source": [
    "def searchClosestDocumentSentLevel(text):\n",
    "    searchQueryNLP=nlp(text)\n",
    "    simQuery=[]\n",
    "    for i,doc in fullDocs.iterrows():\n",
    "        simQuery.append((np.linalg.norm(getAverageSentenceVector(doc.NLP)-getAverageSentenceVector(searchQueryNLP)),i))\n",
    "    simQuery.sort()\n",
    "    idMin=simQuery[0][1]\n",
    "    return idMin"
   ]
  },
  {
   "cell_type": "code",
   "execution_count": 54,
   "metadata": {
    "cell_id": "00050-0c08bdda-2b87-4145-8a77-b87cf877352f",
    "deepnote_cell_type": "code"
   },
   "outputs": [
    {
     "data": {
      "text/plain": [
       "'./sampledocs/pdf/Module-1-Lecture-Slides.pdf'"
      ]
     },
     "execution_count": 54,
     "metadata": {},
     "output_type": "execute_result"
    }
   ],
   "source": [
    "text='What are innovations in underwriting ?'\n",
    "id= searchClosestDocumentSentLevel(text)\n",
    "fullDocs.iloc[id].Name"
   ]
  },
  {
   "cell_type": "code",
   "execution_count": 55,
   "metadata": {
    "cell_id": "00051-253cb966-fbd8-4086-908c-db27f2283f0f",
    "deepnote_cell_type": "code"
   },
   "outputs": [
    {
     "data": {
      "text/plain": [
       "'./sampledocs/pdf/Data machine the insurers using AI to reshape the industry Financial Times.pdf'"
      ]
     },
     "execution_count": 55,
     "metadata": {},
     "output_type": "execute_result"
    }
   ],
   "source": [
    "text='What about claim notification.'\n",
    "id= searchClosestDocumentSentLevel(text)\n",
    "fullDocs.iloc[id].Name"
   ]
  },
  {
   "cell_type": "code",
   "execution_count": null,
   "metadata": {
    "cell_id": "00052-d1d4833f-a11a-4a84-919e-3d44068c5b03",
    "deepnote_cell_type": "code"
   },
   "outputs": [],
   "source": []
  },
  {
   "cell_type": "code",
   "execution_count": null,
   "metadata": {},
   "outputs": [],
   "source": []
  }
 ],
 "metadata": {
  "deepnote_execution_queue": [],
  "deepnote_notebook_id": "54554fd8-f050-4589-ae1e-cc4786243305",
  "kernelspec": {
   "display_name": "Python 3",
   "language": "python",
   "name": "python3"
  },
  "language_info": {
   "codemirror_mode": {
    "name": "ipython",
    "version": 3
   },
   "file_extension": ".py",
   "mimetype": "text/x-python",
   "name": "python",
   "nbconvert_exporter": "python",
   "pygments_lexer": "ipython3",
   "version": "3.8.11"
  }
 },
 "nbformat": 4,
 "nbformat_minor": 4
}
