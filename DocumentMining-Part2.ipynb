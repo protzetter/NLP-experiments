{
 "cells": [
  {
   "cell_type": "markdown",
   "metadata": {
    "cell_id": "00000-30b82da4-5864-446b-8422-f33d1e7f292c",
    "deepnote_cell_type": "markdown"
   },
   "source": [
    "Created on December 30th 2020 by Patrick Rotzetter\n",
    "\n",
    "https://www.linkedin.com/in/rotzetter/\n",
    "\n",
    "# A few notebooks with various text mining and natural language processing experiments: Part 2\n",
    "In this second part, we will still use spacy output, but this time we will be using spacy entities as input for a count and tfidf vectorizer. We will show also how we could use clustering to classify documents in an unsupervised learnign way. Since we have only a small number of documents in this experiment, this is not extremely usefull, but this can be used for larger number of documents"
   ]
  },
  {
   "cell_type": "code",
   "execution_count": 1,
   "metadata": {
    "cell_id": "00001-7dbd4c11-5ee3-4645-ba9a-9c956e5bdde0",
    "deepnote_cell_type": "code"
   },
   "outputs": [
    {
     "data": {
      "text/plain": [
       "'/Users/patrickrotzetter/opt/anaconda3/envs/spacy3x/bin/python'"
      ]
     },
     "execution_count": 1,
     "metadata": {},
     "output_type": "execute_result"
    }
   ],
   "source": [
    "#check python version and path\n",
    "import sys\n",
    "sys.executable"
   ]
  },
  {
   "cell_type": "code",
   "execution_count": 2,
   "metadata": {
    "cell_id": "00002-0dc601b2-02b7-457f-bf6a-c9aca7fc4973",
    "deepnote_cell_type": "code"
   },
   "outputs": [],
   "source": [
    "#import main libraries\n",
    "import numpy as np\n",
    "import PyPDF2\n",
    "import spacy\n",
    "import pandas as pd\n",
    "import re\n",
    "from pptx import Presentation\n",
    "import pdftotext\n",
    "import texthero as hero"
   ]
  },
  {
   "cell_type": "code",
   "execution_count": 3,
   "metadata": {
    "cell_id": "00003-811e4c2b-c2c3-4977-b432-ab02fcc0fa0f",
    "deepnote_cell_type": "code"
   },
   "outputs": [
    {
     "name": "stdout",
     "output_type": "stream",
     "text": [
      "/System/Library/Frameworks/Python.framework/Versions/2.7/Resources/Python.app/Contents/MacOS/Python: No module named spacy\r\n"
     ]
    }
   ],
   "source": [
    "# validate spacy language models just in case, this command does not work on Mac ARM systems unless you have installed the brew workaround and reinstalled python\n",
    "!python -m spacy validate"
   ]
  },
  {
   "cell_type": "code",
   "execution_count": 4,
   "metadata": {
    "cell_id": "00004-b4e0cf28-996f-429b-81e6-5ebc7912ce2d",
    "deepnote_cell_type": "code"
   },
   "outputs": [],
   "source": [
    "# function to read PDF files using PYPdf2\n",
    "def readPdfFilePY(filename):\n",
    "    text=\"\"\n",
    "    read_pdf = PyPDF2.PdfFileReader(filename,'rb')   \n",
    "    for i in range(read_pdf.getNumPages()):\n",
    "        page = read_pdf.getPage(i)\n",
    "        txt=page.extractText()\n",
    "        text=text+txt\n",
    "    return text\n"
   ]
  },
  {
   "cell_type": "code",
   "execution_count": 5,
   "metadata": {
    "cell_id": "00005-3ad6947f-30f3-49ce-94a4-7eeb559a52b5",
    "deepnote_cell_type": "code"
   },
   "outputs": [],
   "source": [
    "# function to read PDF files using pdftotext\n",
    "def readPdfFile(filename):\n",
    "    text=\"\"\n",
    "    with open(filename, \"rb\") as f:\n",
    "        pdf = pdftotext.PDF(f)\n",
    "        for page in pdf:\n",
    "            text=text+page\n",
    "    return text"
   ]
  },
  {
   "cell_type": "code",
   "execution_count": 6,
   "metadata": {
    "cell_id": "00006-4e1f01b5-0c1c-47d5-9b12-39a46b573de4",
    "deepnote_cell_type": "code"
   },
   "outputs": [],
   "source": [
    "# function to read PPT files\n",
    "def readPPTFile(filename):\n",
    "    text=\"\"  \n",
    "    prs = Presentation(filename)\n",
    "    for slide in prs.slides:\n",
    "        for shape in slide.shapes:\n",
    "            if hasattr(shape, \"text\"):\n",
    "                text=text+shape.text\n",
    "    text=remove_special_characters(text)\n",
    "    return text"
   ]
  },
  {
   "cell_type": "code",
   "execution_count": 7,
   "metadata": {
    "cell_id": "00007-fce3f199-283a-4603-8472-4808fd9ba144",
    "deepnote_cell_type": "code"
   },
   "outputs": [],
   "source": [
    "#path of input folder\n",
    "path='./sampledocs/pdf/' "
   ]
  },
  {
   "cell_type": "markdown",
   "metadata": {
    "cell_id": "00008-70be64cd-b08c-4574-b28e-9f464b0f51cf",
    "deepnote_cell_type": "markdown"
   },
   "source": [
    "## Process all directory files with spacy"
   ]
  },
  {
   "cell_type": "code",
   "execution_count": 8,
   "metadata": {
    "cell_id": "00009-59e0e171-35ca-4943-a5f7-1013cb0ab8e6",
    "deepnote_cell_type": "code"
   },
   "outputs": [],
   "source": [
    "# helper function to process documents in an apply function and return the nlp object\n",
    "def processDoc(doc):\n",
    "    return nlp(doc)"
   ]
  },
  {
   "cell_type": "code",
   "execution_count": 9,
   "metadata": {
    "cell_id": "00010-2377b4a0-305b-49f3-af45-04b17ab41e4a",
    "deepnote_cell_type": "code"
   },
   "outputs": [],
   "source": [
    "# load spacy with large English model\n",
    "\n",
    "import en_core_web_lg\n",
    "nlp = en_core_web_lg.load()"
   ]
  },
  {
   "cell_type": "markdown",
   "metadata": {
    "cell_id": "00011-5e67dac4-8cb0-44df-a610-7838020911b5",
    "deepnote_cell_type": "markdown"
   },
   "source": [
    "## Let us scan the full directory, read PDF and PPT documents, clean them and process them with spacy"
   ]
  },
  {
   "cell_type": "code",
   "execution_count": 10,
   "metadata": {
    "cell_id": "00012-43ca6207-00fd-4f43-90ea-20d3b4936d7d",
    "deepnote_cell_type": "code"
   },
   "outputs": [
    {
     "name": "stdout",
     "output_type": "stream",
     "text": [
      "Number of read files: 21\n"
     ]
    }
   ],
   "source": [
    "# go through the folder and read all pdf and pptx files\n",
    "docName=[]\n",
    "docType=[]\n",
    "docText=[]\n",
    "docNLP=[]\n",
    "import glob\n",
    "list_of_files = glob.glob(path+'*.pdf')           # create the list of file\n",
    "fileNames=[]\n",
    "for file_name in list_of_files:\n",
    "    fileText=readPdfFile(file_name)\n",
    "    docName.append(file_name)\n",
    "    docType.append('pdf')\n",
    "    docText.append(fileText)\n",
    "list_of_files = glob.glob(path+'*.pptx')           # create the list of file\n",
    "for file_name in list_of_files:\n",
    "    fileText=readPPTFile(file_name)\n",
    "    docName.append(file_name)\n",
    "    docType.append('ppt')\n",
    "    docText.append(fileText)\n",
    "fullDocs = pd.DataFrame({'Name':docName,'Type':docType,'Text':docText})\n",
    "fullDocs['cleanText']=hero.clean(fullDocs['Text'])\n",
    "fullDocs['NLP']=fullDocs['cleanText'].apply(processDoc)\n",
    "print('Number of read files:',fullDocs.shape[0])"
   ]
  },
  {
   "cell_type": "code",
   "execution_count": 11,
   "metadata": {
    "cell_id": "00013-4d3b14c6-9c23-4683-9422-66b2579f2559",
    "deepnote_cell_type": "code"
   },
   "outputs": [
    {
     "name": "stdout",
     "output_type": "stream",
     "text": [
      "Average length of text:87030.23809523809\n",
      "Min length of text:9170\n",
      "Max length of text:328295\n"
     ]
    }
   ],
   "source": [
    " print (\"Average length of text:\" + str((np.mean(fullDocs['Text'].str.len()))))\n",
    " print (\"Min length of text:\" + str((np.min(fullDocs['Text'].str.len()))))\n",
    " print (\"Max length of text:\" + str((np.max(fullDocs['Text'].str.len()))))"
   ]
  },
  {
   "cell_type": "code",
   "execution_count": 12,
   "metadata": {
    "cell_id": "00014-d8d7bf08-4513-42e8-a63e-a6f7d09bcba4",
    "deepnote_cell_type": "code"
   },
   "outputs": [
    {
     "data": {
      "text/html": [
       "<div>\n",
       "<style scoped>\n",
       "    .dataframe tbody tr th:only-of-type {\n",
       "        vertical-align: middle;\n",
       "    }\n",
       "\n",
       "    .dataframe tbody tr th {\n",
       "        vertical-align: top;\n",
       "    }\n",
       "\n",
       "    .dataframe thead th {\n",
       "        text-align: right;\n",
       "    }\n",
       "</style>\n",
       "<table border=\"1\" class=\"dataframe\">\n",
       "  <thead>\n",
       "    <tr style=\"text-align: right;\">\n",
       "      <th></th>\n",
       "      <th>Name</th>\n",
       "      <th>Type</th>\n",
       "      <th>Text</th>\n",
       "      <th>cleanText</th>\n",
       "      <th>NLP</th>\n",
       "      <th>text_word_count</th>\n",
       "      <th>text_unique_words</th>\n",
       "    </tr>\n",
       "  </thead>\n",
       "  <tbody>\n",
       "    <tr>\n",
       "      <th>0</th>\n",
       "      <td>./sampledocs/pdf/ai_in_insurance_web_0.pdf</td>\n",
       "      <td>pdf</td>\n",
       "      <td>Promoting Responsible\\nArtificial Intelligence...</td>\n",
       "      <td>promoting responsible artificial intelligence ...</td>\n",
       "      <td>(promoting, responsible, artificial, intellige...</td>\n",
       "      <td>9087</td>\n",
       "      <td>2706</td>\n",
       "    </tr>\n",
       "    <tr>\n",
       "      <th>1</th>\n",
       "      <td>./sampledocs/pdf/NIST.IR.8312.pdf</td>\n",
       "      <td>pdf</td>\n",
       "      <td>NISTIR 8312\\n\\nFour Principles of Explainable ...</td>\n",
       "      <td>nistir four principles explainable artificial ...</td>\n",
       "      <td>(nistir, four, principles, explainable, artifi...</td>\n",
       "      <td>16792</td>\n",
       "      <td>5026</td>\n",
       "    </tr>\n",
       "    <tr>\n",
       "      <th>2</th>\n",
       "      <td>./sampledocs/pdf/ai-360-research.pdf</td>\n",
       "      <td>pdf</td>\n",
       "      <td>AI 360: insights from the\\nnext frontier of bu...</td>\n",
       "      <td>ai insights next frontier business corner offi...</td>\n",
       "      <td>(ai, insights, next, frontier, business, corne...</td>\n",
       "      <td>5281</td>\n",
       "      <td>1746</td>\n",
       "    </tr>\n",
       "    <tr>\n",
       "      <th>3</th>\n",
       "      <td>./sampledocs/pdf/Module-1-Lecture-Slides.pdf</td>\n",
       "      <td>pdf</td>\n",
       "      <td>Application of AI, Insurtech and Real Estate\\n...</td>\n",
       "      <td>application ai insurtech real estate technolog...</td>\n",
       "      <td>(application, ai, insurtech, real, estate, tec...</td>\n",
       "      <td>3728</td>\n",
       "      <td>1506</td>\n",
       "    </tr>\n",
       "    <tr>\n",
       "      <th>4</th>\n",
       "      <td>./sampledocs/pdf/Technology-and-innovation-in-...</td>\n",
       "      <td>pdf</td>\n",
       "      <td>Technology and\\ninnovation in the\\ninsurance s...</td>\n",
       "      <td>technology innovation insurance sector technol...</td>\n",
       "      <td>(technology, innovation, insurance, sector, te...</td>\n",
       "      <td>16742</td>\n",
       "      <td>4228</td>\n",
       "    </tr>\n",
       "  </tbody>\n",
       "</table>\n",
       "</div>"
      ],
      "text/plain": [
       "                                                Name Type  \\\n",
       "0         ./sampledocs/pdf/ai_in_insurance_web_0.pdf  pdf   \n",
       "1                  ./sampledocs/pdf/NIST.IR.8312.pdf  pdf   \n",
       "2               ./sampledocs/pdf/ai-360-research.pdf  pdf   \n",
       "3       ./sampledocs/pdf/Module-1-Lecture-Slides.pdf  pdf   \n",
       "4  ./sampledocs/pdf/Technology-and-innovation-in-...  pdf   \n",
       "\n",
       "                                                Text  \\\n",
       "0  Promoting Responsible\\nArtificial Intelligence...   \n",
       "1  NISTIR 8312\\n\\nFour Principles of Explainable ...   \n",
       "2  AI 360: insights from the\\nnext frontier of bu...   \n",
       "3  Application of AI, Insurtech and Real Estate\\n...   \n",
       "4  Technology and\\ninnovation in the\\ninsurance s...   \n",
       "\n",
       "                                           cleanText  \\\n",
       "0  promoting responsible artificial intelligence ...   \n",
       "1  nistir four principles explainable artificial ...   \n",
       "2  ai insights next frontier business corner offi...   \n",
       "3  application ai insurtech real estate technolog...   \n",
       "4  technology innovation insurance sector technol...   \n",
       "\n",
       "                                                 NLP  text_word_count  \\\n",
       "0  (promoting, responsible, artificial, intellige...             9087   \n",
       "1  (nistir, four, principles, explainable, artifi...            16792   \n",
       "2  (ai, insights, next, frontier, business, corne...             5281   \n",
       "3  (application, ai, insurtech, real, estate, tec...             3728   \n",
       "4  (technology, innovation, insurance, sector, te...            16742   \n",
       "\n",
       "   text_unique_words  \n",
       "0               2706  \n",
       "1               5026  \n",
       "2               1746  \n",
       "3               1506  \n",
       "4               4228  "
      ]
     },
     "execution_count": 12,
     "metadata": {},
     "output_type": "execute_result"
    }
   ],
   "source": [
    "fullDocs['text_word_count'] = fullDocs['Text'].apply(lambda x: len(x.strip().split()))  # word count\n",
    "fullDocs['text_unique_words']=fullDocs['Text'].apply(lambda x:len(set(str(x).split())))  # number of unique words\n",
    "fullDocs.head()"
   ]
  },
  {
   "cell_type": "markdown",
   "metadata": {
    "cell_id": "00015-e4f62f7e-b49d-4b72-8dc9-e907901e3680",
    "deepnote_cell_type": "markdown"
   },
   "source": [
    "## Let use TF-IDF to analyse documents features\n",
    "Largely inspired by this repository https://buhrmann.github.io/tfidf-analysis.html"
   ]
  },
  {
   "cell_type": "code",
   "execution_count": 13,
   "metadata": {
    "cell_id": "00016-47467f90-fb55-47f0-8404-82397a0cce38",
    "deepnote_cell_type": "code"
   },
   "outputs": [],
   "source": [
    "# import additional spacy symbols and stop words\n",
    "from spacy.symbols import nsubj, VERB, dobj, NOUN, root, xcomp, PROPN, NUM,SYM\n",
    "from spacy.lang.en.stop_words import STOP_WORDS"
   ]
  },
  {
   "cell_type": "code",
   "execution_count": 14,
   "metadata": {
    "cell_id": "00017-d66be196-7343-4354-a165-37390c1ca0ae",
    "deepnote_cell_type": "code"
   },
   "outputs": [
    {
     "data": {
      "text/html": [
       "<div>\n",
       "<style scoped>\n",
       "    .dataframe tbody tr th:only-of-type {\n",
       "        vertical-align: middle;\n",
       "    }\n",
       "\n",
       "    .dataframe tbody tr th {\n",
       "        vertical-align: top;\n",
       "    }\n",
       "\n",
       "    .dataframe thead th {\n",
       "        text-align: right;\n",
       "    }\n",
       "</style>\n",
       "<table border=\"1\" class=\"dataframe\">\n",
       "  <thead>\n",
       "    <tr style=\"text-align: right;\">\n",
       "      <th></th>\n",
       "      <th>0</th>\n",
       "    </tr>\n",
       "  </thead>\n",
       "  <tbody>\n",
       "    <tr>\n",
       "      <th>0</th>\n",
       "      <td>promote responsible artificial intelligence in...</td>\n",
       "    </tr>\n",
       "    <tr>\n",
       "      <th>1</th>\n",
       "      <td>nistir principle explainable artificial intell...</td>\n",
       "    </tr>\n",
       "    <tr>\n",
       "      <th>2</th>\n",
       "      <td>ai insight frontier business corner office cor...</td>\n",
       "    </tr>\n",
       "    <tr>\n",
       "      <th>3</th>\n",
       "      <td>application ai insurtech real estate technolog...</td>\n",
       "    </tr>\n",
       "    <tr>\n",
       "      <th>4</th>\n",
       "      <td>technology innovation insurance sector technol...</td>\n",
       "    </tr>\n",
       "  </tbody>\n",
       "</table>\n",
       "</div>"
      ],
      "text/plain": [
       "                                                   0\n",
       "0  promote responsible artificial intelligence in...\n",
       "1  nistir principle explainable artificial intell...\n",
       "2  ai insight frontier business corner office cor...\n",
       "3  application ai insurtech real estate technolog...\n",
       "4  technology innovation insurance sector technol..."
      ]
     },
     "execution_count": 14,
     "metadata": {},
     "output_type": "execute_result"
    }
   ],
   "source": [
    "# instead of using the full text, we will use only certains words detected by spacy\n",
    "ents=[]\n",
    "for doc in fullDocs.NLP:\n",
    "    # all entities\n",
    "    words=[]\n",
    "    words += [token.lemma_ for token in doc if token.is_stop != True and token.is_punct != True \\\n",
    "              and token.is_space != True and token.pos != NUM and token.pos != SYM \\\n",
    "              and token.text != '©' and (not token.text in STOP_WORDS)and (not token.lemma_ in STOP_WORDS)]\n",
    "    ents.append(' '.join(words))\n",
    "entitiesdf=pd.DataFrame(ents)\n",
    "entitiesdf.head()"
   ]
  },
  {
   "cell_type": "code",
   "execution_count": 15,
   "metadata": {
    "cell_id": "00018-50fc9bf0-7e29-4513-bb9a-a0fd2a93c3c4",
    "deepnote_cell_type": "code"
   },
   "outputs": [],
   "source": [
    "# function to get top n tfidf words in a row\n",
    "def top_tfidf_feats(row, features, top_n=25):\n",
    "    ''' Get top n tfidf values in row and return them with their corresponding feature names.'''\n",
    "    topn_ids = np.argsort(row)[::-1][:top_n]\n",
    "    top_feats = [(features[i], row[i]) for i in topn_ids]\n",
    "    df = pd.DataFrame(top_feats)\n",
    "    df.columns = ['feature', 'tfidf']\n",
    "    return df"
   ]
  },
  {
   "cell_type": "code",
   "execution_count": 16,
   "metadata": {
    "cell_id": "00019-1210b0ab-747f-44fa-a180-f1d391bf5eb8",
    "deepnote_cell_type": "code"
   },
   "outputs": [],
   "source": [
    "# function to get top n words in a document\n",
    "def top_features_in_document(mat, features, row_id, top_n=25):\n",
    "    row = np.squeeze(mat[row_id].toarray())\n",
    "    return top_tfidf_feats(row, features, top_n)"
   ]
  },
  {
   "cell_type": "code",
   "execution_count": 17,
   "metadata": {
    "cell_id": "00020-81fa7d1f-6dd7-4736-bb50-ee1d74636616",
    "deepnote_cell_type": "code"
   },
   "outputs": [],
   "source": [
    "# function to get top n features that are on average most important in a set of documents\n",
    "def top_mean_feats(Xtr, features, grp_ids=None, min_tfidf=0.2, top_n=25):\n",
    "    ''' Return the top n features that on average are most important amongst documents in rows\n",
    "        indentified by indices in grp_ids. '''\n",
    "    if grp_ids:\n",
    "        D = Xtr[grp_ids].toarray()\n",
    "    else:\n",
    "        D = Xtr.toarray()\n",
    "\n",
    "    D[D < min_tfidf] = 0\n",
    "    tfidf_means = np.mean(D, axis=0)\n",
    "    return top_tfidf_feats(tfidf_means, features, top_n)"
   ]
  },
  {
   "cell_type": "code",
   "execution_count": 18,
   "metadata": {
    "cell_id": "00021-34de8fa6-d218-46b8-b01a-a651052a397c",
    "deepnote_cell_type": "code"
   },
   "outputs": [
    {
     "name": "stdout",
     "output_type": "stream",
     "text": [
      "length of vocabulary 11823\n",
      "sparse matrix shape: (21, 11823)\n",
      "nonzero count: 35273\n",
      " sparsity: 14.21%\n"
     ]
    }
   ],
   "source": [
    "# Initialize the count vectorizer first\n",
    "from sklearn.feature_extraction.text import CountVectorizer, TfidfTransformer\n",
    "cvec = CountVectorizer()\n",
    "counts=cvec.fit_transform(entitiesdf[entitiesdf.columns[0]])\n",
    "print('length of vocabulary',len(cvec.vocabulary_))\n",
    "print ('sparse matrix shape:', counts.shape)\n",
    "print ('nonzero count:', counts.nnz)\n",
    "print (' sparsity: %.2f%%' % (100.0 * counts.nnz / (counts.shape[0] * counts.shape[1])))"
   ]
  },
  {
   "cell_type": "markdown",
   "metadata": {
    "cell_id": "00022-a4c5fa3f-d26a-4e03-b1fc-72712eaa98e7",
    "deepnote_cell_type": "markdown"
   },
   "source": [
    "The vocabulary has a 7102 words, and the matrix is at 72% empty"
   ]
  },
  {
   "cell_type": "code",
   "execution_count": 19,
   "metadata": {
    "cell_id": "00023-4f590aea-297f-4d66-8016-3dca5330cc12",
    "deepnote_cell_type": "code"
   },
   "outputs": [],
   "source": [
    "# initialize the tfidf transforme\n",
    "tfidf_transformer=TfidfTransformer(smooth_idf=True,use_idf=True) \n"
   ]
  },
  {
   "cell_type": "code",
   "execution_count": 20,
   "metadata": {
    "cell_id": "00024-17e2509f-bc8a-4862-9991-97ac2119099c",
    "deepnote_cell_type": "code"
   },
   "outputs": [
    {
     "name": "stderr",
     "output_type": "stream",
     "text": [
      "/Users/patrickrotzetter/opt/anaconda3/envs/spacy3x/lib/python3.8/site-packages/sklearn/utils/deprecation.py:87: FutureWarning: Function get_feature_names is deprecated; get_feature_names is deprecated in 1.0 and will be removed in 1.2. Please use get_feature_names_out instead.\n",
      "  warnings.warn(msg, category=FutureWarning)\n"
     ]
    }
   ],
   "source": [
    "# transform the count matrix into a tfidf matrix\n",
    "tfidf = tfidf_transformer.fit_transform(counts)\n",
    "features = cvec.get_feature_names()"
   ]
  },
  {
   "cell_type": "code",
   "execution_count": 21,
   "metadata": {
    "cell_id": "00025-909ef193-76b0-403d-b4f0-b7e25444c407",
    "deepnote_cell_type": "code"
   },
   "outputs": [
    {
     "data": {
      "text/html": [
       "<div>\n",
       "<style scoped>\n",
       "    .dataframe tbody tr th:only-of-type {\n",
       "        vertical-align: middle;\n",
       "    }\n",
       "\n",
       "    .dataframe tbody tr th {\n",
       "        vertical-align: top;\n",
       "    }\n",
       "\n",
       "    .dataframe thead th {\n",
       "        text-align: right;\n",
       "    }\n",
       "</style>\n",
       "<table border=\"1\" class=\"dataframe\">\n",
       "  <thead>\n",
       "    <tr style=\"text-align: right;\">\n",
       "      <th></th>\n",
       "      <th>feature</th>\n",
       "      <th>tfidf</th>\n",
       "    </tr>\n",
       "  </thead>\n",
       "  <tbody>\n",
       "    <tr>\n",
       "      <th>0</th>\n",
       "      <td>mi</td>\n",
       "      <td>0.754728</td>\n",
       "    </tr>\n",
       "    <tr>\n",
       "      <th>1</th>\n",
       "      <td>datum</td>\n",
       "      <td>0.200015</td>\n",
       "    </tr>\n",
       "    <tr>\n",
       "      <th>2</th>\n",
       "      <td>model</td>\n",
       "      <td>0.150288</td>\n",
       "    </tr>\n",
       "    <tr>\n",
       "      <th>3</th>\n",
       "      <td>swiss</td>\n",
       "      <td>0.144600</td>\n",
       "    </tr>\n",
       "    <tr>\n",
       "      <th>4</th>\n",
       "      <td>ml</td>\n",
       "      <td>0.136600</td>\n",
       "    </tr>\n",
       "    <tr>\n",
       "      <th>5</th>\n",
       "      <td>sigma</td>\n",
       "      <td>0.125659</td>\n",
       "    </tr>\n",
       "    <tr>\n",
       "      <th>6</th>\n",
       "      <td>eg</td>\n",
       "      <td>0.121960</td>\n",
       "    </tr>\n",
       "    <tr>\n",
       "      <th>7</th>\n",
       "      <td>insurer</td>\n",
       "      <td>0.114621</td>\n",
       "    </tr>\n",
       "    <tr>\n",
       "      <th>8</th>\n",
       "      <td>system</td>\n",
       "      <td>0.100612</td>\n",
       "    </tr>\n",
       "    <tr>\n",
       "      <th>9</th>\n",
       "      <td>insurance</td>\n",
       "      <td>0.097564</td>\n",
       "    </tr>\n",
       "    <tr>\n",
       "      <th>10</th>\n",
       "      <td>ai</td>\n",
       "      <td>0.095987</td>\n",
       "    </tr>\n",
       "    <tr>\n",
       "      <th>11</th>\n",
       "      <td>data</td>\n",
       "      <td>0.093930</td>\n",
       "    </tr>\n",
       "    <tr>\n",
       "      <th>12</th>\n",
       "      <td>deployment</td>\n",
       "      <td>0.091680</td>\n",
       "    </tr>\n",
       "    <tr>\n",
       "      <th>13</th>\n",
       "      <td>enterprise</td>\n",
       "      <td>0.091067</td>\n",
       "    </tr>\n",
       "    <tr>\n",
       "      <th>14</th>\n",
       "      <td>process</td>\n",
       "      <td>0.090204</td>\n",
       "    </tr>\n",
       "    <tr>\n",
       "      <th>15</th>\n",
       "      <td>learn</td>\n",
       "      <td>0.087299</td>\n",
       "    </tr>\n",
       "    <tr>\n",
       "      <th>16</th>\n",
       "      <td>physic</td>\n",
       "      <td>0.075097</td>\n",
       "    </tr>\n",
       "    <tr>\n",
       "      <th>17</th>\n",
       "      <td>new</td>\n",
       "      <td>0.064762</td>\n",
       "    </tr>\n",
       "    <tr>\n",
       "      <th>18</th>\n",
       "      <td>enabled</td>\n",
       "      <td>0.060346</td>\n",
       "    </tr>\n",
       "    <tr>\n",
       "      <th>19</th>\n",
       "      <td>conventional</td>\n",
       "      <td>0.060019</td>\n",
       "    </tr>\n",
       "    <tr>\n",
       "      <th>20</th>\n",
       "      <td>use</td>\n",
       "      <td>0.059673</td>\n",
       "    </tr>\n",
       "    <tr>\n",
       "      <th>21</th>\n",
       "      <td>curation</td>\n",
       "      <td>0.059522</td>\n",
       "    </tr>\n",
       "    <tr>\n",
       "      <th>22</th>\n",
       "      <td>machine</td>\n",
       "      <td>0.057823</td>\n",
       "    </tr>\n",
       "    <tr>\n",
       "      <th>23</th>\n",
       "      <td>technique</td>\n",
       "      <td>0.056158</td>\n",
       "    </tr>\n",
       "    <tr>\n",
       "      <th>24</th>\n",
       "      <td>algorithms</td>\n",
       "      <td>0.055677</td>\n",
       "    </tr>\n",
       "  </tbody>\n",
       "</table>\n",
       "</div>"
      ],
      "text/plain": [
       "         feature     tfidf\n",
       "0             mi  0.754728\n",
       "1          datum  0.200015\n",
       "2          model  0.150288\n",
       "3          swiss  0.144600\n",
       "4             ml  0.136600\n",
       "5          sigma  0.125659\n",
       "6             eg  0.121960\n",
       "7        insurer  0.114621\n",
       "8         system  0.100612\n",
       "9      insurance  0.097564\n",
       "10            ai  0.095987\n",
       "11          data  0.093930\n",
       "12    deployment  0.091680\n",
       "13    enterprise  0.091067\n",
       "14       process  0.090204\n",
       "15         learn  0.087299\n",
       "16        physic  0.075097\n",
       "17           new  0.064762\n",
       "18       enabled  0.060346\n",
       "19  conventional  0.060019\n",
       "20           use  0.059673\n",
       "21      curation  0.059522\n",
       "22       machine  0.057823\n",
       "23     technique  0.056158\n",
       "24    algorithms  0.055677"
      ]
     },
     "execution_count": 21,
     "metadata": {},
     "output_type": "execute_result"
    }
   ],
   "source": [
    "#let us check the top features of document 6 for example\n",
    "top_features_in_document(tfidf, features, row_id=6, top_n=25)"
   ]
  },
  {
   "cell_type": "markdown",
   "metadata": {
    "cell_id": "00026-b7a0e69c-5c78-429e-98a3-3a102f705db0",
    "deepnote_cell_type": "markdown"
   },
   "source": [
    "The words AI, right and EU are the most important topics in this document. This speaks mainly about AI in the conmtext of the EU right "
   ]
  },
  {
   "cell_type": "code",
   "execution_count": 22,
   "metadata": {
    "cell_id": "00027-761f8ef2-dd34-4450-8536-f15dc421ebff",
    "deepnote_cell_type": "code"
   },
   "outputs": [
    {
     "data": {
      "text/html": [
       "<div>\n",
       "<style scoped>\n",
       "    .dataframe tbody tr th:only-of-type {\n",
       "        vertical-align: middle;\n",
       "    }\n",
       "\n",
       "    .dataframe tbody tr th {\n",
       "        vertical-align: top;\n",
       "    }\n",
       "\n",
       "    .dataframe thead th {\n",
       "        text-align: right;\n",
       "    }\n",
       "</style>\n",
       "<table border=\"1\" class=\"dataframe\">\n",
       "  <thead>\n",
       "    <tr style=\"text-align: right;\">\n",
       "      <th></th>\n",
       "      <th>feature</th>\n",
       "      <th>tfidf</th>\n",
       "    </tr>\n",
       "  </thead>\n",
       "  <tbody>\n",
       "    <tr>\n",
       "      <th>0</th>\n",
       "      <td>insurtech</td>\n",
       "      <td>0.668853</td>\n",
       "    </tr>\n",
       "    <tr>\n",
       "      <th>1</th>\n",
       "      <td>insurance</td>\n",
       "      <td>0.207062</td>\n",
       "    </tr>\n",
       "    <tr>\n",
       "      <th>2</th>\n",
       "      <td>microinsurance</td>\n",
       "      <td>0.183167</td>\n",
       "    </tr>\n",
       "    <tr>\n",
       "      <th>3</th>\n",
       "      <td>q4</td>\n",
       "      <td>0.157616</td>\n",
       "    </tr>\n",
       "    <tr>\n",
       "      <th>4</th>\n",
       "      <td>series</td>\n",
       "      <td>0.141301</td>\n",
       "    </tr>\n",
       "    <tr>\n",
       "      <th>5</th>\n",
       "      <td>bima</td>\n",
       "      <td>0.123841</td>\n",
       "    </tr>\n",
       "    <tr>\n",
       "      <th>6</th>\n",
       "      <td>insurer</td>\n",
       "      <td>0.119673</td>\n",
       "    </tr>\n",
       "    <tr>\n",
       "      <th>7</th>\n",
       "      <td>technology</td>\n",
       "      <td>0.118118</td>\n",
       "    </tr>\n",
       "    <tr>\n",
       "      <th>8</th>\n",
       "      <td>milken</td>\n",
       "      <td>0.115053</td>\n",
       "    </tr>\n",
       "    <tr>\n",
       "      <th>9</th>\n",
       "      <td>investment</td>\n",
       "      <td>0.109254</td>\n",
       "    </tr>\n",
       "    <tr>\n",
       "      <th>10</th>\n",
       "      <td>solution</td>\n",
       "      <td>0.109128</td>\n",
       "    </tr>\n",
       "    <tr>\n",
       "      <th>11</th>\n",
       "      <td>firm</td>\n",
       "      <td>0.103348</td>\n",
       "    </tr>\n",
       "    <tr>\n",
       "      <th>12</th>\n",
       "      <td>capgemini</td>\n",
       "      <td>0.101324</td>\n",
       "    </tr>\n",
       "    <tr>\n",
       "      <th>13</th>\n",
       "      <td>product</td>\n",
       "      <td>0.090557</td>\n",
       "    </tr>\n",
       "    <tr>\n",
       "      <th>14</th>\n",
       "      <td>market</td>\n",
       "      <td>0.086537</td>\n",
       "    </tr>\n",
       "    <tr>\n",
       "      <th>15</th>\n",
       "      <td>quarterly</td>\n",
       "      <td>0.086505</td>\n",
       "    </tr>\n",
       "    <tr>\n",
       "      <th>16</th>\n",
       "      <td>policy</td>\n",
       "      <td>0.086276</td>\n",
       "    </tr>\n",
       "    <tr>\n",
       "      <th>17</th>\n",
       "      <td>q1</td>\n",
       "      <td>0.081407</td>\n",
       "    </tr>\n",
       "    <tr>\n",
       "      <th>18</th>\n",
       "      <td>transaction</td>\n",
       "      <td>0.079366</td>\n",
       "    </tr>\n",
       "    <tr>\n",
       "      <th>19</th>\n",
       "      <td>nc</td>\n",
       "      <td>0.078808</td>\n",
       "    </tr>\n",
       "    <tr>\n",
       "      <th>20</th>\n",
       "      <td>geczy</td>\n",
       "      <td>0.076702</td>\n",
       "    </tr>\n",
       "    <tr>\n",
       "      <th>21</th>\n",
       "      <td>carrier</td>\n",
       "      <td>0.075681</td>\n",
       "    </tr>\n",
       "    <tr>\n",
       "      <th>22</th>\n",
       "      <td>customer</td>\n",
       "      <td>0.074808</td>\n",
       "    </tr>\n",
       "    <tr>\n",
       "      <th>23</th>\n",
       "      <td>provider</td>\n",
       "      <td>0.074405</td>\n",
       "    </tr>\n",
       "    <tr>\n",
       "      <th>24</th>\n",
       "      <td>platform</td>\n",
       "      <td>0.074175</td>\n",
       "    </tr>\n",
       "  </tbody>\n",
       "</table>\n",
       "</div>"
      ],
      "text/plain": [
       "           feature     tfidf\n",
       "0        insurtech  0.668853\n",
       "1        insurance  0.207062\n",
       "2   microinsurance  0.183167\n",
       "3               q4  0.157616\n",
       "4           series  0.141301\n",
       "5             bima  0.123841\n",
       "6          insurer  0.119673\n",
       "7       technology  0.118118\n",
       "8           milken  0.115053\n",
       "9       investment  0.109254\n",
       "10        solution  0.109128\n",
       "11            firm  0.103348\n",
       "12       capgemini  0.101324\n",
       "13         product  0.090557\n",
       "14          market  0.086537\n",
       "15       quarterly  0.086505\n",
       "16          policy  0.086276\n",
       "17              q1  0.081407\n",
       "18     transaction  0.079366\n",
       "19              nc  0.078808\n",
       "20           geczy  0.076702\n",
       "21         carrier  0.075681\n",
       "22        customer  0.074808\n",
       "23        provider  0.074405\n",
       "24        platform  0.074175"
      ]
     },
     "execution_count": 22,
     "metadata": {},
     "output_type": "execute_result"
    }
   ],
   "source": [
    "#let us check the top features of document 3 to compare with the above\n",
    "top_features_in_document(tfidf, features, row_id=3, top_n=25)"
   ]
  },
  {
   "cell_type": "markdown",
   "metadata": {
    "cell_id": "00028-67942ef0-6c00-42b9-9830-e0727a02e3df",
    "deepnote_cell_type": "markdown"
   },
   "source": [
    "In this case the document seems to be about insurance, consumer and product. This is not surprising given that most of the documents are about Insurance innovation."
   ]
  },
  {
   "cell_type": "code",
   "execution_count": 23,
   "metadata": {
    "cell_id": "00029-2e45005c-85bc-4335-8999-9b3bb32c6c78",
    "deepnote_cell_type": "code"
   },
   "outputs": [
    {
     "data": {
      "text/html": [
       "<div>\n",
       "<style scoped>\n",
       "    .dataframe tbody tr th:only-of-type {\n",
       "        vertical-align: middle;\n",
       "    }\n",
       "\n",
       "    .dataframe tbody tr th {\n",
       "        vertical-align: top;\n",
       "    }\n",
       "\n",
       "    .dataframe thead th {\n",
       "        text-align: right;\n",
       "    }\n",
       "</style>\n",
       "<table border=\"1\" class=\"dataframe\">\n",
       "  <thead>\n",
       "    <tr style=\"text-align: right;\">\n",
       "      <th></th>\n",
       "      <th>feature</th>\n",
       "      <th>tfidf</th>\n",
       "    </tr>\n",
       "  </thead>\n",
       "  <tbody>\n",
       "    <tr>\n",
       "      <th>0</th>\n",
       "      <td>ai</td>\n",
       "      <td>0.111443</td>\n",
       "    </tr>\n",
       "    <tr>\n",
       "      <th>1</th>\n",
       "      <td>insurance</td>\n",
       "      <td>0.106097</td>\n",
       "    </tr>\n",
       "    <tr>\n",
       "      <th>2</th>\n",
       "      <td>dataiku</td>\n",
       "      <td>0.039014</td>\n",
       "    </tr>\n",
       "    <tr>\n",
       "      <th>3</th>\n",
       "      <td>mi</td>\n",
       "      <td>0.035939</td>\n",
       "    </tr>\n",
       "    <tr>\n",
       "      <th>4</th>\n",
       "      <td>insurtech</td>\n",
       "      <td>0.031850</td>\n",
       "    </tr>\n",
       "    <tr>\n",
       "      <th>5</th>\n",
       "      <td>explanation</td>\n",
       "      <td>0.028938</td>\n",
       "    </tr>\n",
       "    <tr>\n",
       "      <th>6</th>\n",
       "      <td>chatbot</td>\n",
       "      <td>0.028819</td>\n",
       "    </tr>\n",
       "    <tr>\n",
       "      <th>7</th>\n",
       "      <td>financial</td>\n",
       "      <td>0.028785</td>\n",
       "    </tr>\n",
       "    <tr>\n",
       "      <th>8</th>\n",
       "      <td>bank</td>\n",
       "      <td>0.027690</td>\n",
       "    </tr>\n",
       "    <tr>\n",
       "      <th>9</th>\n",
       "      <td>artificial</td>\n",
       "      <td>0.021356</td>\n",
       "    </tr>\n",
       "    <tr>\n",
       "      <th>10</th>\n",
       "      <td>intelligence</td>\n",
       "      <td>0.019471</td>\n",
       "    </tr>\n",
       "    <tr>\n",
       "      <th>11</th>\n",
       "      <td>datum</td>\n",
       "      <td>0.017288</td>\n",
       "    </tr>\n",
       "    <tr>\n",
       "      <th>12</th>\n",
       "      <td>digital</td>\n",
       "      <td>0.017256</td>\n",
       "    </tr>\n",
       "    <tr>\n",
       "      <th>13</th>\n",
       "      <td>healthcare</td>\n",
       "      <td>0.017121</td>\n",
       "    </tr>\n",
       "    <tr>\n",
       "      <th>14</th>\n",
       "      <td>scientist</td>\n",
       "      <td>0.016175</td>\n",
       "    </tr>\n",
       "    <tr>\n",
       "      <th>15</th>\n",
       "      <td>carrier</td>\n",
       "      <td>0.016061</td>\n",
       "    </tr>\n",
       "    <tr>\n",
       "      <th>16</th>\n",
       "      <td>oecd</td>\n",
       "      <td>0.015791</td>\n",
       "    </tr>\n",
       "    <tr>\n",
       "      <th>17</th>\n",
       "      <td>reset</td>\n",
       "      <td>0.015701</td>\n",
       "    </tr>\n",
       "    <tr>\n",
       "      <th>18</th>\n",
       "      <td>right</td>\n",
       "      <td>0.015400</td>\n",
       "    </tr>\n",
       "    <tr>\n",
       "      <th>19</th>\n",
       "      <td>insurer</td>\n",
       "      <td>0.015293</td>\n",
       "    </tr>\n",
       "    <tr>\n",
       "      <th>20</th>\n",
       "      <td>service</td>\n",
       "      <td>0.014335</td>\n",
       "    </tr>\n",
       "    <tr>\n",
       "      <th>21</th>\n",
       "      <td>fairness</td>\n",
       "      <td>0.000000</td>\n",
       "    </tr>\n",
       "    <tr>\n",
       "      <th>22</th>\n",
       "      <td>fairly</td>\n",
       "      <td>0.000000</td>\n",
       "    </tr>\n",
       "    <tr>\n",
       "      <th>23</th>\n",
       "      <td>fairnesshere</td>\n",
       "      <td>0.000000</td>\n",
       "    </tr>\n",
       "    <tr>\n",
       "      <th>24</th>\n",
       "      <td>fairer</td>\n",
       "      <td>0.000000</td>\n",
       "    </tr>\n",
       "  </tbody>\n",
       "</table>\n",
       "</div>"
      ],
      "text/plain": [
       "         feature     tfidf\n",
       "0             ai  0.111443\n",
       "1      insurance  0.106097\n",
       "2        dataiku  0.039014\n",
       "3             mi  0.035939\n",
       "4      insurtech  0.031850\n",
       "5    explanation  0.028938\n",
       "6        chatbot  0.028819\n",
       "7      financial  0.028785\n",
       "8           bank  0.027690\n",
       "9     artificial  0.021356\n",
       "10  intelligence  0.019471\n",
       "11         datum  0.017288\n",
       "12       digital  0.017256\n",
       "13    healthcare  0.017121\n",
       "14     scientist  0.016175\n",
       "15       carrier  0.016061\n",
       "16          oecd  0.015791\n",
       "17         reset  0.015701\n",
       "18         right  0.015400\n",
       "19       insurer  0.015293\n",
       "20       service  0.014335\n",
       "21      fairness  0.000000\n",
       "22        fairly  0.000000\n",
       "23  fairnesshere  0.000000\n",
       "24        fairer  0.000000"
      ]
     },
     "execution_count": 23,
     "metadata": {},
     "output_type": "execute_result"
    }
   ],
   "source": [
    "top_mean_feats(tfidf, features, grp_ids=None, min_tfidf=0.3, top_n=25)"
   ]
  },
  {
   "cell_type": "markdown",
   "metadata": {
    "cell_id": "00030-4829e065-81fd-4eec-8b97-f7bae713bf61",
    "deepnote_cell_type": "markdown"
   },
   "source": [
    "Not surprisingly, top features across documents include insurance, digital and AI, Not sure what 'mi' stands for though. Let us have a deeper look at it below"
   ]
  },
  {
   "cell_type": "code",
   "execution_count": 24,
   "metadata": {
    "cell_id": "00031-6f5daac4-e7c2-4d3b-bae0-8bda843dc69a",
    "deepnote_cell_type": "code"
   },
   "outputs": [
    {
     "name": "stdout",
     "output_type": "stream",
     "text": [
      "ADP\n"
     ]
    }
   ],
   "source": [
    "mi=nlp('mi')\n",
    "for token in mi:\n",
    "    print(token.pos_)"
   ]
  },
  {
   "cell_type": "markdown",
   "metadata": {
    "cell_id": "00032-1d0cffc6-adc6-4c4e-8a4c-9d6d7e2e0fe3",
    "deepnote_cell_type": "markdown"
   },
   "source": [
    "well spacy interprets 'mi' as a preposition, we could set a specific rule if we want to avoid this in our context, but that is a different topic for now"
   ]
  },
  {
   "cell_type": "code",
   "execution_count": 25,
   "metadata": {
    "cell_id": "00033-cd259396-0ebe-41dc-91a7-2c53a816389a",
    "deepnote_cell_type": "code"
   },
   "outputs": [
    {
     "name": "stderr",
     "output_type": "stream",
     "text": [
      "/Users/patrickrotzetter/opt/anaconda3/envs/spacy3x/lib/python3.8/site-packages/sklearn/utils/deprecation.py:87: FutureWarning: Function get_feature_names is deprecated; get_feature_names is deprecated in 1.0 and will be removed in 1.2. Please use get_feature_names_out instead.\n",
      "  warnings.warn(msg, category=FutureWarning)\n"
     ]
    },
    {
     "data": {
      "text/html": [
       "<div>\n",
       "<style scoped>\n",
       "    .dataframe tbody tr th:only-of-type {\n",
       "        vertical-align: middle;\n",
       "    }\n",
       "\n",
       "    .dataframe tbody tr th {\n",
       "        vertical-align: top;\n",
       "    }\n",
       "\n",
       "    .dataframe thead th {\n",
       "        text-align: right;\n",
       "    }\n",
       "</style>\n",
       "<table border=\"1\" class=\"dataframe\">\n",
       "  <thead>\n",
       "    <tr style=\"text-align: right;\">\n",
       "      <th></th>\n",
       "      <th>term</th>\n",
       "      <th>occurrences</th>\n",
       "    </tr>\n",
       "  </thead>\n",
       "  <tbody>\n",
       "    <tr>\n",
       "      <th>392</th>\n",
       "      <td>ai</td>\n",
       "      <td>2129</td>\n",
       "    </tr>\n",
       "    <tr>\n",
       "      <th>2653</th>\n",
       "      <td>datum</td>\n",
       "      <td>1729</td>\n",
       "    </tr>\n",
       "    <tr>\n",
       "      <th>5462</th>\n",
       "      <td>insurance</td>\n",
       "      <td>1720</td>\n",
       "    </tr>\n",
       "    <tr>\n",
       "      <th>11234</th>\n",
       "      <td>use</td>\n",
       "      <td>1073</td>\n",
       "    </tr>\n",
       "    <tr>\n",
       "      <th>2551</th>\n",
       "      <td>customer</td>\n",
       "      <td>1004</td>\n",
       "    </tr>\n",
       "    <tr>\n",
       "      <th>2626</th>\n",
       "      <td>data</td>\n",
       "      <td>999</td>\n",
       "    </tr>\n",
       "    <tr>\n",
       "      <th>10494</th>\n",
       "      <td>technology</td>\n",
       "      <td>907</td>\n",
       "    </tr>\n",
       "    <tr>\n",
       "      <th>10380</th>\n",
       "      <td>system</td>\n",
       "      <td>900</td>\n",
       "    </tr>\n",
       "    <tr>\n",
       "      <th>9113</th>\n",
       "      <td>risk</td>\n",
       "      <td>894</td>\n",
       "    </tr>\n",
       "    <tr>\n",
       "      <th>2955</th>\n",
       "      <td>digital</td>\n",
       "      <td>763</td>\n",
       "    </tr>\n",
       "    <tr>\n",
       "      <th>7180</th>\n",
       "      <td>new</td>\n",
       "      <td>763</td>\n",
       "    </tr>\n",
       "    <tr>\n",
       "      <th>5503</th>\n",
       "      <td>intelligence</td>\n",
       "      <td>720</td>\n",
       "    </tr>\n",
       "    <tr>\n",
       "      <th>5475</th>\n",
       "      <td>insurer</td>\n",
       "      <td>720</td>\n",
       "    </tr>\n",
       "    <tr>\n",
       "      <th>9095</th>\n",
       "      <td>right</td>\n",
       "      <td>698</td>\n",
       "    </tr>\n",
       "    <tr>\n",
       "      <th>1504</th>\n",
       "      <td>business</td>\n",
       "      <td>696</td>\n",
       "    </tr>\n",
       "    <tr>\n",
       "      <th>8304</th>\n",
       "      <td>process</td>\n",
       "      <td>687</td>\n",
       "    </tr>\n",
       "    <tr>\n",
       "      <th>787</th>\n",
       "      <td>artificial</td>\n",
       "      <td>683</td>\n",
       "    </tr>\n",
       "    <tr>\n",
       "      <th>6176</th>\n",
       "      <td>learn</td>\n",
       "      <td>661</td>\n",
       "    </tr>\n",
       "    <tr>\n",
       "      <th>7137</th>\n",
       "      <td>need</td>\n",
       "      <td>654</td>\n",
       "    </tr>\n",
       "    <tr>\n",
       "      <th>6909</th>\n",
       "      <td>model</td>\n",
       "      <td>621</td>\n",
       "    </tr>\n",
       "  </tbody>\n",
       "</table>\n",
       "</div>"
      ],
      "text/plain": [
       "               term  occurrences\n",
       "392              ai         2129\n",
       "2653          datum         1729\n",
       "5462      insurance         1720\n",
       "11234           use         1073\n",
       "2551       customer         1004\n",
       "2626           data          999\n",
       "10494    technology          907\n",
       "10380        system          900\n",
       "9113           risk          894\n",
       "2955        digital          763\n",
       "7180            new          763\n",
       "5503   intelligence          720\n",
       "5475        insurer          720\n",
       "9095          right          698\n",
       "1504       business          696\n",
       "8304        process          687\n",
       "787      artificial          683\n",
       "6176          learn          661\n",
       "7137           need          654\n",
       "6909          model          621"
      ]
     },
     "execution_count": 25,
     "metadata": {},
     "output_type": "execute_result"
    }
   ],
   "source": [
    "# We can also look at the number of occurences of each term\n",
    "occ = np.asarray(counts.sum(axis=0)).ravel().tolist()\n",
    "counts_df = pd.DataFrame({'term': cvec.get_feature_names(), 'occurrences': occ})\n",
    "counts_df.sort_values(by='occurrences', ascending=False).head(20)"
   ]
  },
  {
   "cell_type": "code",
   "execution_count": 26,
   "metadata": {
    "cell_id": "00034-56500c9c-475d-4c48-a763-ed045273f97a",
    "deepnote_cell_type": "code"
   },
   "outputs": [
    {
     "name": "stderr",
     "output_type": "stream",
     "text": [
      "/Users/patrickrotzetter/opt/anaconda3/envs/spacy3x/lib/python3.8/site-packages/sklearn/utils/deprecation.py:87: FutureWarning: Function get_feature_names is deprecated; get_feature_names is deprecated in 1.0 and will be removed in 1.2. Please use get_feature_names_out instead.\n",
      "  warnings.warn(msg, category=FutureWarning)\n"
     ]
    },
    {
     "data": {
      "text/html": [
       "<div>\n",
       "<style scoped>\n",
       "    .dataframe tbody tr th:only-of-type {\n",
       "        vertical-align: middle;\n",
       "    }\n",
       "\n",
       "    .dataframe tbody tr th {\n",
       "        vertical-align: top;\n",
       "    }\n",
       "\n",
       "    .dataframe thead th {\n",
       "        text-align: right;\n",
       "    }\n",
       "</style>\n",
       "<table border=\"1\" class=\"dataframe\">\n",
       "  <thead>\n",
       "    <tr style=\"text-align: right;\">\n",
       "      <th></th>\n",
       "      <th>term</th>\n",
       "      <th>weight</th>\n",
       "    </tr>\n",
       "  </thead>\n",
       "  <tbody>\n",
       "    <tr>\n",
       "      <th>392</th>\n",
       "      <td>ai</td>\n",
       "      <td>0.175911</td>\n",
       "    </tr>\n",
       "    <tr>\n",
       "      <th>5462</th>\n",
       "      <td>insurance</td>\n",
       "      <td>0.163174</td>\n",
       "    </tr>\n",
       "    <tr>\n",
       "      <th>2653</th>\n",
       "      <td>datum</td>\n",
       "      <td>0.144037</td>\n",
       "    </tr>\n",
       "    <tr>\n",
       "      <th>2551</th>\n",
       "      <td>customer</td>\n",
       "      <td>0.090836</td>\n",
       "    </tr>\n",
       "    <tr>\n",
       "      <th>5475</th>\n",
       "      <td>insurer</td>\n",
       "      <td>0.077383</td>\n",
       "    </tr>\n",
       "    <tr>\n",
       "      <th>2626</th>\n",
       "      <td>data</td>\n",
       "      <td>0.075483</td>\n",
       "    </tr>\n",
       "    <tr>\n",
       "      <th>10494</th>\n",
       "      <td>technology</td>\n",
       "      <td>0.073102</td>\n",
       "    </tr>\n",
       "    <tr>\n",
       "      <th>11234</th>\n",
       "      <td>use</td>\n",
       "      <td>0.069160</td>\n",
       "    </tr>\n",
       "    <tr>\n",
       "      <th>9113</th>\n",
       "      <td>risk</td>\n",
       "      <td>0.068588</td>\n",
       "    </tr>\n",
       "    <tr>\n",
       "      <th>7180</th>\n",
       "      <td>new</td>\n",
       "      <td>0.060276</td>\n",
       "    </tr>\n",
       "    <tr>\n",
       "      <th>4089</th>\n",
       "      <td>financial</td>\n",
       "      <td>0.059110</td>\n",
       "    </tr>\n",
       "    <tr>\n",
       "      <th>1504</th>\n",
       "      <td>business</td>\n",
       "      <td>0.053435</td>\n",
       "    </tr>\n",
       "    <tr>\n",
       "      <th>6176</th>\n",
       "      <td>learn</td>\n",
       "      <td>0.052606</td>\n",
       "    </tr>\n",
       "    <tr>\n",
       "      <th>9552</th>\n",
       "      <td>service</td>\n",
       "      <td>0.052357</td>\n",
       "    </tr>\n",
       "    <tr>\n",
       "      <th>8304</th>\n",
       "      <td>process</td>\n",
       "      <td>0.050552</td>\n",
       "    </tr>\n",
       "    <tr>\n",
       "      <th>2955</th>\n",
       "      <td>digital</td>\n",
       "      <td>0.049479</td>\n",
       "    </tr>\n",
       "    <tr>\n",
       "      <th>8319</th>\n",
       "      <td>product</td>\n",
       "      <td>0.049468</td>\n",
       "    </tr>\n",
       "    <tr>\n",
       "      <th>6909</th>\n",
       "      <td>model</td>\n",
       "      <td>0.048869</td>\n",
       "    </tr>\n",
       "    <tr>\n",
       "      <th>2269</th>\n",
       "      <td>consumer</td>\n",
       "      <td>0.048767</td>\n",
       "    </tr>\n",
       "    <tr>\n",
       "      <th>1892</th>\n",
       "      <td>claim</td>\n",
       "      <td>0.048749</td>\n",
       "    </tr>\n",
       "  </tbody>\n",
       "</table>\n",
       "</div>"
      ],
      "text/plain": [
       "             term    weight\n",
       "392            ai  0.175911\n",
       "5462    insurance  0.163174\n",
       "2653        datum  0.144037\n",
       "2551     customer  0.090836\n",
       "5475      insurer  0.077383\n",
       "2626         data  0.075483\n",
       "10494  technology  0.073102\n",
       "11234         use  0.069160\n",
       "9113         risk  0.068588\n",
       "7180          new  0.060276\n",
       "4089    financial  0.059110\n",
       "1504     business  0.053435\n",
       "6176        learn  0.052606\n",
       "9552      service  0.052357\n",
       "8304      process  0.050552\n",
       "2955      digital  0.049479\n",
       "8319      product  0.049468\n",
       "6909        model  0.048869\n",
       "2269     consumer  0.048767\n",
       "1892        claim  0.048749"
      ]
     },
     "execution_count": 26,
     "metadata": {},
     "output_type": "execute_result"
    }
   ],
   "source": [
    "weights = np.asarray(tfidf.mean(axis=0)).ravel().tolist()\n",
    "weights_df = pd.DataFrame({'term': cvec.get_feature_names(), 'weight': weights})\n",
    "weights_df.sort_values(by='weight', ascending=False).head(20)"
   ]
  },
  {
   "cell_type": "code",
   "execution_count": 27,
   "metadata": {
    "cell_id": "00035-938e0037-f868-4980-a7c1-8ecf6de3839d",
    "deepnote_cell_type": "code"
   },
   "outputs": [
    {
     "data": {
      "text/plain": [
       "(21, 11823)"
      ]
     },
     "execution_count": 27,
     "metadata": {},
     "output_type": "execute_result"
    }
   ],
   "source": [
    "tfidf.toarray().shape"
   ]
  },
  {
   "cell_type": "code",
   "execution_count": 28,
   "metadata": {
    "cell_id": "00036-2ff01f91-a5bf-4779-9e26-044ab420c04b",
    "deepnote_cell_type": "code"
   },
   "outputs": [
    {
     "data": {
      "text/plain": [
       "array([[-0.26843062,  0.21647538, -0.27298758,  0.12223556, -0.01745571,\n",
       "         0.06621429,  0.00901031,  0.04982825,  0.01999212, -0.03571607,\n",
       "        -0.09697537,  0.08219496, -0.02382362,  0.07666525, -0.16952567,\n",
       "         0.03799811,  0.59484407, -0.52314151, -0.06146605,  0.28735381,\n",
       "         0.1266345 ],\n",
       "       [-0.11533929,  0.32537093, -0.184137  ,  0.25643997, -0.25833246,\n",
       "         0.62040184,  0.23179159, -0.06219119, -0.20929656, -0.36283798,\n",
       "        -0.09556766, -0.07280389, -0.00623269,  0.02942246,  0.07337575,\n",
       "         0.01144332, -0.21475859,  0.14821819,  0.03104617, -0.08098858,\n",
       "         0.00333382],\n",
       "       [-0.21679699,  0.19211169,  0.42287389,  0.12944644,  0.12033685,\n",
       "        -0.05539754, -0.10722074, -0.11436957,  0.19047246, -0.17069469,\n",
       "         0.14796619,  0.06281254, -0.1258411 ,  0.17218432,  0.61356947,\n",
       "         0.16502669, -0.14042816, -0.31356617, -0.05886399, -0.02426046,\n",
       "         0.12589285],\n",
       "       [-0.16582649, -0.30053988, -0.21344889, -0.00250617,  0.0796307 ,\n",
       "         0.00719232, -0.0225267 , -0.64619873, -0.21305906, -0.08190715,\n",
       "         0.40831997, -0.30679519, -0.00795257, -0.10585868,  0.06476483,\n",
       "        -0.02193351,  0.09435429, -0.07839285, -0.15231867,  0.00741998,\n",
       "        -0.21198376],\n",
       "       [-0.27147107, -0.25434153, -0.307703  ,  0.00810587, -0.04276252,\n",
       "        -0.16679253, -0.06937379, -0.11606478, -0.04146662, -0.06241103,\n",
       "         0.06222737,  0.15894588, -0.13164448,  0.23445169, -0.06661315,\n",
       "         0.03855936, -0.2414231 ,  0.11535233,  0.39175491,  0.07688515,\n",
       "         0.6123624 ],\n",
       "       [-0.21212718,  0.0553205 ,  0.49986649,  0.09454695, -0.01645275,\n",
       "         0.02956979,  0.01944033, -0.02275783, -0.00696243, -0.1584022 ,\n",
       "         0.32714096,  0.02506512,  0.21173801,  0.26676618, -0.56935187,\n",
       "        -0.32902638, -0.07697918, -0.05447723, -0.0111339 , -0.02233631,\n",
       "         0.0192982 ],\n",
       "       [-0.17924119,  0.07225913, -0.0284604 , -0.40691781, -0.02883238,\n",
       "         0.30424366,  0.39845337,  0.13333516,  0.17901934,  0.43529574,\n",
       "         0.41723667,  0.03940243, -0.29651815,  0.11315729,  0.02705939,\n",
       "         0.0597586 , -0.04002574,  0.0550757 , -0.03307089,  0.13162506,\n",
       "        -0.03264716],\n",
       "       [-0.12767093,  0.27600192,  0.03235896,  0.27935768,  0.24964629,\n",
       "        -0.37759093,  0.55311717, -0.22088065, -0.26499072,  0.34555923,\n",
       "        -0.23163859, -0.03199955,  0.04103375,  0.08019543, -0.02743917,\n",
       "         0.02581208, -0.10521169,  0.03347521,  0.01110102, -0.04730017,\n",
       "        -0.02033869],\n",
       "       [-0.16337765,  0.07897119,  0.12756702, -0.21538704,  0.27302523,\n",
       "         0.17561296, -0.38546211,  0.15976347, -0.74186257,  0.17177099,\n",
       "        -0.05316418,  0.10537625, -0.16303946, -0.00396964,  0.01872033,\n",
       "        -0.01591365, -0.03465077, -0.0420874 , -0.01847578, -0.02418113,\n",
       "         0.00478762],\n",
       "       [-0.15701657,  0.2543209 , -0.20396835, -0.32128772, -0.02348187,\n",
       "        -0.36106072,  0.06965541,  0.39229371, -0.13442318, -0.28665377,\n",
       "         0.19878718, -0.46576209,  0.28923641,  0.09200111,  0.14106988,\n",
       "         0.00438381, -0.01100794,  0.06160629, -0.04204548, -0.01835443,\n",
       "         0.03770447],\n",
       "       [-0.28378482,  0.05712651,  0.14314866,  0.05725471,  0.15895814,\n",
       "         0.1022543 , -0.05064515, -0.0581509 ,  0.10425877,  0.06432664,\n",
       "        -0.01632867,  0.03068478,  0.19378557, -0.15374577,  0.28004121,\n",
       "        -0.3136495 ,  0.46746807,  0.57258085,  0.16010165,  0.11231509,\n",
       "         0.10924683],\n",
       "       [-0.21944183, -0.00507036,  0.03446868,  0.06303129,  0.24110036,\n",
       "         0.13642786, -0.22115905,  0.01537386,  0.29794292,  0.11743856,\n",
       "        -0.34874555, -0.65122376, -0.28469217,  0.04096902, -0.18022263,\n",
       "        -0.06587214, -0.18770285,  0.01653277, -0.02563884,  0.12850146,\n",
       "         0.01637622],\n",
       "       [-0.1698515 ,  0.18416546, -0.06448818,  0.02078967, -0.56083647,\n",
       "        -0.01471081, -0.33415298, -0.14909747,  0.03057864,  0.53091323,\n",
       "        -0.03308739, -0.0570643 ,  0.36305543, -0.00189077,  0.09155691,\n",
       "        -0.09049327, -0.16439462, -0.09392009, -0.08292528, -0.06312394,\n",
       "         0.04186932],\n",
       "       [-0.26599892, -0.22023022, -0.18382406,  0.04577259, -0.05681778,\n",
       "        -0.14340456,  0.04908943,  0.15066625,  0.01514862, -0.12140623,\n",
       "        -0.16912884,  0.29050523, -0.11168694,  0.11175836,  0.14630731,\n",
       "        -0.43970305, -0.23241837,  0.06214573, -0.5117479 ,  0.25239703,\n",
       "        -0.21167834],\n",
       "       [-0.29254338,  0.11507944, -0.19954986,  0.0513783 ,  0.02606388,\n",
       "        -0.1172266 , -0.22555621,  0.01140909,  0.15547937, -0.02821873,\n",
       "         0.00365724,  0.18278831, -0.12573714,  0.34268161, -0.08255617,\n",
       "         0.19485946,  0.08727773,  0.16455978,  0.2606239 , -0.3512535 ,\n",
       "        -0.57520915],\n",
       "       [-0.27116202, -0.28790509,  0.11535828, -0.0111562 ,  0.00304466,\n",
       "         0.08255986,  0.1410225 ,  0.14800789, -0.03695283, -0.01544142,\n",
       "        -0.09723623,  0.01505651,  0.3252463 , -0.25512702,  0.07242101,\n",
       "         0.12065286, -0.21004886, -0.23545888,  0.47863373,  0.37112409,\n",
       "        -0.3364277 ],\n",
       "       [-0.11148959,  0.16003603,  0.16744788, -0.67246633, -0.1547815 ,\n",
       "        -0.07029167,  0.09161597, -0.42620058,  0.05317238, -0.23725136,\n",
       "        -0.41974606,  0.10954875, -0.05201804, -0.05077492, -0.08494283,\n",
       "        -0.0293935 ,  0.01941691, -0.01941306,  0.03474821, -0.01067071,\n",
       "        -0.0053401 ],\n",
       "       [-0.14510912, -0.24638782,  0.33662189,  0.1498146 , -0.57375685,\n",
       "        -0.19942736,  0.11084964,  0.13877801, -0.2315644 , -0.02668014,\n",
       "        -0.05555576, -0.2019662 , -0.40564172, -0.0226968 ,  0.01239838,\n",
       "         0.17414254,  0.26262799,  0.13529527,  0.00074701,  0.01317132,\n",
       "        -0.0275646 ],\n",
       "       [-0.2173635 ,  0.33609409, -0.05598932,  0.1028957 , -0.00652858,\n",
       "        -0.21194291, -0.11053341,  0.03376571,  0.10437614, -0.0848856 ,\n",
       "         0.22754612,  0.15270995, -0.25980345, -0.7280398 , -0.20487956,\n",
       "         0.0249155 , -0.17824349,  0.04067072, -0.01971848, -0.01355095,\n",
       "         0.02050283],\n",
       "       [-0.27823068, -0.16715035,  0.069416  , -0.01000204,  0.11442801,\n",
       "         0.09767423, -0.0060148 ,  0.0211646 ,  0.06000993, -0.01608002,\n",
       "        -0.08180226,  0.10129623,  0.31633738, -0.03246819, -0.17185454,\n",
       "         0.65014274, -0.00891257,  0.23595031, -0.46663701, -0.01035459,\n",
       "         0.13728441],\n",
       "       [-0.27590673, -0.30152957, -0.02904519, -0.04902856,  0.06039422,\n",
       "         0.11392268,  0.20400574,  0.17304019,  0.06608352,  0.04043413,\n",
       "        -0.11430037, -0.02595117,  0.04675276, -0.20984768,  0.05700184,\n",
       "        -0.21257721,  0.07396575, -0.27304986, -0.015993  , -0.72444751,\n",
       "         0.14836987]])"
      ]
     },
     "execution_count": 28,
     "metadata": {},
     "output_type": "execute_result"
    }
   ],
   "source": [
    "countsarray = counts.toarray()\n",
    "tfidfarray=tfidf.toarray()\n",
    "tfidfaarray = tfidfarray-np.mean(tfidfarray,axis=0)\n",
    "countsarray = countsarray-np.mean(countsarray,axis=0)\n",
    "evecs,evalues,V0 =np.linalg.svd(tfidfarray)\n",
    "evecs"
   ]
  },
  {
   "cell_type": "code",
   "execution_count": 29,
   "metadata": {
    "cell_id": "00037-4d9c8469-def5-4fca-8a6f-0e30870b4085",
    "deepnote_cell_type": "code"
   },
   "outputs": [
    {
     "data": {
      "text/plain": [
       "array([2.57925185, 1.25791742, 1.0778997 , 1.01662661, 0.97750983,\n",
       "       0.93960687, 0.92537964, 0.91680079, 0.90141383, 0.88077256,\n",
       "       0.84947968, 0.83652158, 0.79362381, 0.74331942, 0.7285457 ,\n",
       "       0.70283786, 0.66719028, 0.65277595, 0.61354725, 0.56265049,\n",
       "       0.50336841])"
      ]
     },
     "execution_count": 29,
     "metadata": {},
     "output_type": "execute_result"
    }
   ],
   "source": [
    "evalues"
   ]
  },
  {
   "cell_type": "code",
   "execution_count": 30,
   "metadata": {
    "cell_id": "00038-3b379b4c-b128-4c13-9d11-a521bf5cb867",
    "deepnote_cell_type": "code"
   },
   "outputs": [
    {
     "data": {
      "text/plain": [
       "(21, 5)"
      ]
     },
     "execution_count": 30,
     "metadata": {},
     "output_type": "execute_result"
    }
   ],
   "source": [
    "from sklearn.decomposition import PCA\n",
    "\n",
    "pca = PCA(n_components=5, random_state=42)\n",
    "tfidfRed= pca.fit_transform(countsarray)\n",
    "tfidfRed.shape"
   ]
  },
  {
   "cell_type": "code",
   "execution_count": 31,
   "metadata": {
    "cell_id": "00039-839bfb9f-b528-459b-a5f0-8246568f646d",
    "deepnote_cell_type": "code"
   },
   "outputs": [
    {
     "name": "stdout",
     "output_type": "stream",
     "text": [
      "Processed 1 clusters\n",
      "Processed 2 clusters\n",
      "Processed 3 clusters\n",
      "Processed 4 clusters\n"
     ]
    }
   ],
   "source": [
    "from sklearn import metrics\n",
    "from scipy.spatial.distance import cdist\n",
    "from sklearn.cluster import KMeans\n",
    "\n",
    "distortions = []\n",
    "K = range(1, 5)\n",
    "for k in K:\n",
    "    kmeanModel = KMeans(n_clusters=k, random_state=42).fit(tfidfRed)\n",
    "    distortions.append(kmeanModel.inertia_)\n",
    "    print('Processed {} clusters'.format(k))"
   ]
  },
  {
   "cell_type": "code",
   "execution_count": 32,
   "metadata": {
    "cell_id": "00040-3331282b-7572-41eb-9dda-47997be3d86c",
    "deepnote_cell_type": "code"
   },
   "outputs": [
    {
     "data": {
      "image/png": "[encoded data removed]",
      "text/plain": [
       "<Figure size 1600x800 with 1 Axes>"
      ]
     },
     "metadata": {},
     "output_type": "display_data"
    }
   ],
   "source": [
    "import matplotlib.pyplot as plt\n",
    "plt.figure(figsize=(16,8))\n",
    "plt.plot(K, distortions, 'bx-')\n",
    "plt.xlabel('k')\n",
    "plt.ylabel('Distortion')\n",
    "plt.title('The Elbow Method showing the optimal k')\n",
    "plt.show()"
   ]
  },
  {
   "cell_type": "code",
   "execution_count": 33,
   "metadata": {
    "cell_id": "00041-4efd72e5-dba3-414c-883f-715e785e3996",
    "deepnote_cell_type": "code"
   },
   "outputs": [],
   "source": [
    "kmeans = KMeans(n_clusters=2, init='k-means++', max_iter=1000, n_init=10, random_state=0)\n",
    "pred_y = kmeans.fit_predict(tfidfRed)"
   ]
  },
  {
   "cell_type": "code",
   "execution_count": 34,
   "metadata": {
    "cell_id": "00042-0671770f-c57d-4b4e-ab4c-2a70473b3d0d",
    "deepnote_cell_type": "code"
   },
   "outputs": [
    {
     "data": {
      "text/plain": [
       "array([[ -69.40721637,    5.13567542,    4.11399587,    2.51963082,\n",
       "          -1.84778025],\n",
       "       [1388.14432736, -102.71350842,  -82.27991747,  -50.39261645,\n",
       "          36.95560499]])"
      ]
     },
     "execution_count": 34,
     "metadata": {},
     "output_type": "execute_result"
    }
   ],
   "source": [
    "kmeans.cluster_centers_"
   ]
  },
  {
   "cell_type": "code",
   "execution_count": 35,
   "metadata": {
    "cell_id": "00043-8620ba91-5ed4-4bea-abe5-20d5ef060308",
    "deepnote_cell_type": "code"
   },
   "outputs": [
    {
     "data": {
      "image/png": "[encoded data removed]",
      "text/plain": [
       "<Figure size 432x288 with 1 Axes>"
      ]
     },
     "metadata": {
      "needs_background": "light"
     },
     "output_type": "display_data"
    }
   ],
   "source": [
    "%matplotlib inline  \n",
    "fig = plt.figure()\n",
    "ax = plt.axes(projection='3d')\n",
    "ax.scatter3D(tfidfRed[:,0], tfidfRed[:,1],tfidfRed[:,2], c=pred_y);\n"
   ]
  },
  {
   "cell_type": "code",
   "execution_count": 36,
   "metadata": {
    "cell_id": "00044-0abf2767-d351-430d-990c-b37dfeb101bc",
    "deepnote_cell_type": "code"
   },
   "outputs": [
    {
     "data": {
      "image/png": "[encoded data removed]",
      "text/plain": [
       "<Figure size 432x288 with 1 Axes>"
      ]
     },
     "metadata": {
      "needs_background": "light"
     },
     "output_type": "display_data"
    }
   ],
   "source": [
    "plt.scatter(tfidfRed[:,0], tfidfRed[:,1],c=pred_y)\n",
    "plt.scatter(kmeans.cluster_centers_[:, 0], kmeans.cluster_centers_[:, 1], s=10, c='red')\n",
    "plt.show()"
   ]
  },
  {
   "cell_type": "code",
   "execution_count": 37,
   "metadata": {
    "cell_id": "00045-47e0831f-0ed4-45d3-9aed-9743803bdd4c",
    "deepnote_cell_type": "code"
   },
   "outputs": [
    {
     "data": {
      "text/html": [
       "<div>\n",
       "<style scoped>\n",
       "    .dataframe tbody tr th:only-of-type {\n",
       "        vertical-align: middle;\n",
       "    }\n",
       "\n",
       "    .dataframe tbody tr th {\n",
       "        vertical-align: top;\n",
       "    }\n",
       "\n",
       "    .dataframe thead th {\n",
       "        text-align: right;\n",
       "    }\n",
       "</style>\n",
       "<table border=\"1\" class=\"dataframe\">\n",
       "  <thead>\n",
       "    <tr style=\"text-align: right;\">\n",
       "      <th></th>\n",
       "      <th>Name</th>\n",
       "      <th>Type</th>\n",
       "      <th>Text</th>\n",
       "      <th>cleanText</th>\n",
       "      <th>NLP</th>\n",
       "      <th>text_word_count</th>\n",
       "      <th>text_unique_words</th>\n",
       "    </tr>\n",
       "  </thead>\n",
       "  <tbody>\n",
       "    <tr>\n",
       "      <th>18</th>\n",
       "      <td>./sampledocs/pdf/fra-2020-artificial-intellige...</td>\n",
       "      <td>pdf</td>\n",
       "      <td>REPORT\\n\\nGETTING THE\\nFUTURE RIGHT\\n―\\nARTIFI...</td>\n",
       "      <td>report getting future right -- artificial inte...</td>\n",
       "      <td>(report, getting, future, right, --, artificia...</td>\n",
       "      <td>49748</td>\n",
       "      <td>8458</td>\n",
       "    </tr>\n",
       "  </tbody>\n",
       "</table>\n",
       "</div>"
      ],
      "text/plain": [
       "                                                 Name Type  \\\n",
       "18  ./sampledocs/pdf/fra-2020-artificial-intellige...  pdf   \n",
       "\n",
       "                                                 Text  \\\n",
       "18  REPORT\\n\\nGETTING THE\\nFUTURE RIGHT\\n―\\nARTIFI...   \n",
       "\n",
       "                                            cleanText  \\\n",
       "18  report getting future right -- artificial inte...   \n",
       "\n",
       "                                                  NLP  text_word_count  \\\n",
       "18  (report, getting, future, right, --, artificia...            49748   \n",
       "\n",
       "    text_unique_words  \n",
       "18               8458  "
      ]
     },
     "execution_count": 37,
     "metadata": {},
     "output_type": "execute_result"
    }
   ],
   "source": [
    "fullDocs[pred_y==1]"
   ]
  },
  {
   "cell_type": "code",
   "execution_count": 38,
   "metadata": {
    "cell_id": "00046-482a4422-a7e9-408e-b70b-bb8970668f1e",
    "deepnote_cell_type": "code"
   },
   "outputs": [
    {
     "data": {
      "text/html": [
       "<div>\n",
       "<style scoped>\n",
       "    .dataframe tbody tr th:only-of-type {\n",
       "        vertical-align: middle;\n",
       "    }\n",
       "\n",
       "    .dataframe tbody tr th {\n",
       "        vertical-align: top;\n",
       "    }\n",
       "\n",
       "    .dataframe thead th {\n",
       "        text-align: right;\n",
       "    }\n",
       "</style>\n",
       "<table border=\"1\" class=\"dataframe\">\n",
       "  <thead>\n",
       "    <tr style=\"text-align: right;\">\n",
       "      <th></th>\n",
       "      <th>Name</th>\n",
       "      <th>Type</th>\n",
       "      <th>Text</th>\n",
       "      <th>cleanText</th>\n",
       "      <th>NLP</th>\n",
       "      <th>text_word_count</th>\n",
       "      <th>text_unique_words</th>\n",
       "    </tr>\n",
       "  </thead>\n",
       "  <tbody>\n",
       "    <tr>\n",
       "      <th>0</th>\n",
       "      <td>./sampledocs/pdf/ai_in_insurance_web_0.pdf</td>\n",
       "      <td>pdf</td>\n",
       "      <td>Promoting Responsible\\nArtificial Intelligence...</td>\n",
       "      <td>promoting responsible artificial intelligence ...</td>\n",
       "      <td>(promoting, responsible, artificial, intellige...</td>\n",
       "      <td>9087</td>\n",
       "      <td>2706</td>\n",
       "    </tr>\n",
       "    <tr>\n",
       "      <th>1</th>\n",
       "      <td>./sampledocs/pdf/NIST.IR.8312.pdf</td>\n",
       "      <td>pdf</td>\n",
       "      <td>NISTIR 8312\\n\\nFour Principles of Explainable ...</td>\n",
       "      <td>nistir four principles explainable artificial ...</td>\n",
       "      <td>(nistir, four, principles, explainable, artifi...</td>\n",
       "      <td>16792</td>\n",
       "      <td>5026</td>\n",
       "    </tr>\n",
       "    <tr>\n",
       "      <th>2</th>\n",
       "      <td>./sampledocs/pdf/ai-360-research.pdf</td>\n",
       "      <td>pdf</td>\n",
       "      <td>AI 360: insights from the\\nnext frontier of bu...</td>\n",
       "      <td>ai insights next frontier business corner offi...</td>\n",
       "      <td>(ai, insights, next, frontier, business, corne...</td>\n",
       "      <td>5281</td>\n",
       "      <td>1746</td>\n",
       "    </tr>\n",
       "    <tr>\n",
       "      <th>3</th>\n",
       "      <td>./sampledocs/pdf/Module-1-Lecture-Slides.pdf</td>\n",
       "      <td>pdf</td>\n",
       "      <td>Application of AI, Insurtech and Real Estate\\n...</td>\n",
       "      <td>application ai insurtech real estate technolog...</td>\n",
       "      <td>(application, ai, insurtech, real, estate, tec...</td>\n",
       "      <td>3728</td>\n",
       "      <td>1506</td>\n",
       "    </tr>\n",
       "    <tr>\n",
       "      <th>4</th>\n",
       "      <td>./sampledocs/pdf/Technology-and-innovation-in-...</td>\n",
       "      <td>pdf</td>\n",
       "      <td>Technology and\\ninnovation in the\\ninsurance s...</td>\n",
       "      <td>technology innovation insurance sector technol...</td>\n",
       "      <td>(technology, innovation, insurance, sector, te...</td>\n",
       "      <td>16742</td>\n",
       "      <td>4228</td>\n",
       "    </tr>\n",
       "    <tr>\n",
       "      <th>5</th>\n",
       "      <td>./sampledocs/pdf/AI-bank-of-the-future-Can-ban...</td>\n",
       "      <td>pdf</td>\n",
       "      <td>Global Banking &amp; Securities\\n\\nAI-bank of the ...</td>\n",
       "      <td>global banking securities ai bank future banks...</td>\n",
       "      <td>(global, banking, securities, ai, bank, future...</td>\n",
       "      <td>5774</td>\n",
       "      <td>2144</td>\n",
       "    </tr>\n",
       "    <tr>\n",
       "      <th>6</th>\n",
       "      <td>./sampledocs/pdf/sigma-5-2020-en.pdf</td>\n",
       "      <td>pdf</td>\n",
       "      <td>No 5 /2020\\n\\nMachine intelligence in\\ninsuran...</td>\n",
       "      <td>machine intelligence insurance insights end en...</td>\n",
       "      <td>(machine, intelligence, insurance, insights, e...</td>\n",
       "      <td>14478</td>\n",
       "      <td>4329</td>\n",
       "    </tr>\n",
       "    <tr>\n",
       "      <th>7</th>\n",
       "      <td>./sampledocs/pdf/WEF_Governance_of_Chatbots_in...</td>\n",
       "      <td>pdf</td>\n",
       "      <td>In collaboration with\\nMitsubishi Chemical Hol...</td>\n",
       "      <td>collaboration mitsubishi chemical holdings cor...</td>\n",
       "      <td>(collaboration, mitsubishi, chemical, holdings...</td>\n",
       "      <td>10301</td>\n",
       "      <td>2941</td>\n",
       "    </tr>\n",
       "    <tr>\n",
       "      <th>8</th>\n",
       "      <td>./sampledocs/pdf/ai-insurance.pdf</td>\n",
       "      <td>pdf</td>\n",
       "      <td>AI in Insurance\\nTop Use Cases, Challenges, an...</td>\n",
       "      <td>ai insurance top use cases challenges trends w...</td>\n",
       "      <td>(ai, insurance, top, use, cases, challenges, t...</td>\n",
       "      <td>6558</td>\n",
       "      <td>2297</td>\n",
       "    </tr>\n",
       "    <tr>\n",
       "      <th>9</th>\n",
       "      <td>./sampledocs/pdf/A Guide for Ethical Data Scie...</td>\n",
       "      <td>pdf</td>\n",
       "      <td>A Guide for\\nEthical Data Science\\n\\nA collabo...</td>\n",
       "      <td>guide ethical data science collaboration royal...</td>\n",
       "      <td>(guide, ethical, data, science, collaboration,...</td>\n",
       "      <td>3482</td>\n",
       "      <td>1193</td>\n",
       "    </tr>\n",
       "    <tr>\n",
       "      <th>10</th>\n",
       "      <td>./sampledocs/pdf/_content_dam_Deloitte_de_Docu...</td>\n",
       "      <td>pdf</td>\n",
       "      <td>From mystery to mastery:\\nUnlocking the busine...</td>\n",
       "      <td>mystery mastery unlocking business value artif...</td>\n",
       "      <td>(mystery, mastery, unlocking, business, value,...</td>\n",
       "      <td>10921</td>\n",
       "      <td>3356</td>\n",
       "    </tr>\n",
       "    <tr>\n",
       "      <th>11</th>\n",
       "      <td>./sampledocs/pdf/Data machine the insurers usi...</td>\n",
       "      <td>pdf</td>\n",
       "      <td>Data machine: the insurers using AI to reshape...</td>\n",
       "      <td>data machine insurers using ai reshape industr...</td>\n",
       "      <td>(data, machine, insurers, using, ai, reshape, ...</td>\n",
       "      <td>1454</td>\n",
       "      <td>684</td>\n",
       "    </tr>\n",
       "    <tr>\n",
       "      <th>12</th>\n",
       "      <td>./sampledocs/pdf/Artificial Financial Intellig...</td>\n",
       "      <td>pdf</td>\n",
       "      <td>Texas A&amp;M University School of Law\\n\\nTexas A&amp;...</td>\n",
       "      <td>texas university school law texas law scholars...</td>\n",
       "      <td>(texas, university, school, law, texas, law, s...</td>\n",
       "      <td>22240</td>\n",
       "      <td>6349</td>\n",
       "    </tr>\n",
       "    <tr>\n",
       "      <th>13</th>\n",
       "      <td>./sampledocs/pdf/Issues_Paper_on_Increasing_Di...</td>\n",
       "      <td>pdf</td>\n",
       "      <td>Issues Paper on Increasing Digitalisation in\\n...</td>\n",
       "      <td>issues paper increasing digitalisation insuran...</td>\n",
       "      <td>(issues, paper, increasing, digitalisation, in...</td>\n",
       "      <td>15370</td>\n",
       "      <td>3667</td>\n",
       "    </tr>\n",
       "    <tr>\n",
       "      <th>14</th>\n",
       "      <td>./sampledocs/pdf/Impact-Big-Data-AI-in-the-Ins...</td>\n",
       "      <td>pdf</td>\n",
       "      <td>The Impact of Big Data and\\nArtificial Intelli...</td>\n",
       "      <td>impact big data artificial intelligence ai ins...</td>\n",
       "      <td>(impact, big, data, artificial, intelligence, ...</td>\n",
       "      <td>13471</td>\n",
       "      <td>3467</td>\n",
       "    </tr>\n",
       "    <tr>\n",
       "      <th>15</th>\n",
       "      <td>./sampledocs/pdf/Digital-disruption-in-Insuran...</td>\n",
       "      <td>pdf</td>\n",
       "      <td>Digital disruption\\nin insurance:\\nCutting thr...</td>\n",
       "      <td>digital disruption insurance cutting noise con...</td>\n",
       "      <td>(digital, disruption, insurance, cutting, nois...</td>\n",
       "      <td>34485</td>\n",
       "      <td>7049</td>\n",
       "    </tr>\n",
       "    <tr>\n",
       "      <th>16</th>\n",
       "      <td>./sampledocs/pdf/Kaggle State of Machine Learn...</td>\n",
       "      <td>pdf</td>\n",
       "      <td>State of Machine\\nLearning and Data\\nScience 2...</td>\n",
       "      <td>state machine learning data science enterprise...</td>\n",
       "      <td>(state, machine, learning, data, science, ente...</td>\n",
       "      <td>3660</td>\n",
       "      <td>1287</td>\n",
       "    </tr>\n",
       "    <tr>\n",
       "      <th>17</th>\n",
       "      <td>./sampledocs/pdf/McKinsey_  Future of Asia.pdf</td>\n",
       "      <td>pdf</td>\n",
       "      <td>Future\\nof Asia\\nThe future of\\nfinancial serv...</td>\n",
       "      <td>future asia future financial services changes ...</td>\n",
       "      <td>(future, asia, future, financial, services, ch...</td>\n",
       "      <td>4321</td>\n",
       "      <td>1572</td>\n",
       "    </tr>\n",
       "    <tr>\n",
       "      <th>19</th>\n",
       "      <td>./sampledocs/pdf/Insurance-2030-The-impact-of-...</td>\n",
       "      <td>pdf</td>\n",
       "      <td>Insurance Practice\\n\\nInsurance 2030—\\nThe imp...</td>\n",
       "      <td>insurance practice insurance -- impact ai futu...</td>\n",
       "      <td>(insurance, practice, insurance, --, impact, a...</td>\n",
       "      <td>4424</td>\n",
       "      <td>1782</td>\n",
       "    </tr>\n",
       "    <tr>\n",
       "      <th>20</th>\n",
       "      <td>./sampledocs/pdf/sigma1_2020_en.pdf</td>\n",
       "      <td>pdf</td>\n",
       "      <td>No 1 /2020\\n\\nData-driven insurance:\\nready fo...</td>\n",
       "      <td>data driven insurance ready next frontier exec...</td>\n",
       "      <td>(data, driven, insurance, ready, next, frontie...</td>\n",
       "      <td>18818</td>\n",
       "      <td>5309</td>\n",
       "    </tr>\n",
       "  </tbody>\n",
       "</table>\n",
       "</div>"
      ],
      "text/plain": [
       "                                                 Name Type  \\\n",
       "0          ./sampledocs/pdf/ai_in_insurance_web_0.pdf  pdf   \n",
       "1                   ./sampledocs/pdf/NIST.IR.8312.pdf  pdf   \n",
       "2                ./sampledocs/pdf/ai-360-research.pdf  pdf   \n",
       "3        ./sampledocs/pdf/Module-1-Lecture-Slides.pdf  pdf   \n",
       "4   ./sampledocs/pdf/Technology-and-innovation-in-...  pdf   \n",
       "5   ./sampledocs/pdf/AI-bank-of-the-future-Can-ban...  pdf   \n",
       "6                ./sampledocs/pdf/sigma-5-2020-en.pdf  pdf   \n",
       "7   ./sampledocs/pdf/WEF_Governance_of_Chatbots_in...  pdf   \n",
       "8                   ./sampledocs/pdf/ai-insurance.pdf  pdf   \n",
       "9   ./sampledocs/pdf/A Guide for Ethical Data Scie...  pdf   \n",
       "10  ./sampledocs/pdf/_content_dam_Deloitte_de_Docu...  pdf   \n",
       "11  ./sampledocs/pdf/Data machine the insurers usi...  pdf   \n",
       "12  ./sampledocs/pdf/Artificial Financial Intellig...  pdf   \n",
       "13  ./sampledocs/pdf/Issues_Paper_on_Increasing_Di...  pdf   \n",
       "14  ./sampledocs/pdf/Impact-Big-Data-AI-in-the-Ins...  pdf   \n",
       "15  ./sampledocs/pdf/Digital-disruption-in-Insuran...  pdf   \n",
       "16  ./sampledocs/pdf/Kaggle State of Machine Learn...  pdf   \n",
       "17     ./sampledocs/pdf/McKinsey_  Future of Asia.pdf  pdf   \n",
       "19  ./sampledocs/pdf/Insurance-2030-The-impact-of-...  pdf   \n",
       "20                ./sampledocs/pdf/sigma1_2020_en.pdf  pdf   \n",
       "\n",
       "                                                 Text  \\\n",
       "0   Promoting Responsible\\nArtificial Intelligence...   \n",
       "1   NISTIR 8312\\n\\nFour Principles of Explainable ...   \n",
       "2   AI 360: insights from the\\nnext frontier of bu...   \n",
       "3   Application of AI, Insurtech and Real Estate\\n...   \n",
       "4   Technology and\\ninnovation in the\\ninsurance s...   \n",
       "5   Global Banking & Securities\\n\\nAI-bank of the ...   \n",
       "6   No 5 /2020\\n\\nMachine intelligence in\\ninsuran...   \n",
       "7   In collaboration with\\nMitsubishi Chemical Hol...   \n",
       "8   AI in Insurance\\nTop Use Cases, Challenges, an...   \n",
       "9   A Guide for\\nEthical Data Science\\n\\nA collabo...   \n",
       "10  From mystery to mastery:\\nUnlocking the busine...   \n",
       "11  Data machine: the insurers using AI to reshape...   \n",
       "12  Texas A&M University School of Law\\n\\nTexas A&...   \n",
       "13  Issues Paper on Increasing Digitalisation in\\n...   \n",
       "14  The Impact of Big Data and\\nArtificial Intelli...   \n",
       "15  Digital disruption\\nin insurance:\\nCutting thr...   \n",
       "16  State of Machine\\nLearning and Data\\nScience 2...   \n",
       "17  Future\\nof Asia\\nThe future of\\nfinancial serv...   \n",
       "19  Insurance Practice\\n\\nInsurance 2030—\\nThe imp...   \n",
       "20  No 1 /2020\\n\\nData-driven insurance:\\nready fo...   \n",
       "\n",
       "                                            cleanText  \\\n",
       "0   promoting responsible artificial intelligence ...   \n",
       "1   nistir four principles explainable artificial ...   \n",
       "2   ai insights next frontier business corner offi...   \n",
       "3   application ai insurtech real estate technolog...   \n",
       "4   technology innovation insurance sector technol...   \n",
       "5   global banking securities ai bank future banks...   \n",
       "6   machine intelligence insurance insights end en...   \n",
       "7   collaboration mitsubishi chemical holdings cor...   \n",
       "8   ai insurance top use cases challenges trends w...   \n",
       "9   guide ethical data science collaboration royal...   \n",
       "10  mystery mastery unlocking business value artif...   \n",
       "11  data machine insurers using ai reshape industr...   \n",
       "12  texas university school law texas law scholars...   \n",
       "13  issues paper increasing digitalisation insuran...   \n",
       "14  impact big data artificial intelligence ai ins...   \n",
       "15  digital disruption insurance cutting noise con...   \n",
       "16  state machine learning data science enterprise...   \n",
       "17  future asia future financial services changes ...   \n",
       "19  insurance practice insurance -- impact ai futu...   \n",
       "20  data driven insurance ready next frontier exec...   \n",
       "\n",
       "                                                  NLP  text_word_count  \\\n",
       "0   (promoting, responsible, artificial, intellige...             9087   \n",
       "1   (nistir, four, principles, explainable, artifi...            16792   \n",
       "2   (ai, insights, next, frontier, business, corne...             5281   \n",
       "3   (application, ai, insurtech, real, estate, tec...             3728   \n",
       "4   (technology, innovation, insurance, sector, te...            16742   \n",
       "5   (global, banking, securities, ai, bank, future...             5774   \n",
       "6   (machine, intelligence, insurance, insights, e...            14478   \n",
       "7   (collaboration, mitsubishi, chemical, holdings...            10301   \n",
       "8   (ai, insurance, top, use, cases, challenges, t...             6558   \n",
       "9   (guide, ethical, data, science, collaboration,...             3482   \n",
       "10  (mystery, mastery, unlocking, business, value,...            10921   \n",
       "11  (data, machine, insurers, using, ai, reshape, ...             1454   \n",
       "12  (texas, university, school, law, texas, law, s...            22240   \n",
       "13  (issues, paper, increasing, digitalisation, in...            15370   \n",
       "14  (impact, big, data, artificial, intelligence, ...            13471   \n",
       "15  (digital, disruption, insurance, cutting, nois...            34485   \n",
       "16  (state, machine, learning, data, science, ente...             3660   \n",
       "17  (future, asia, future, financial, services, ch...             4321   \n",
       "19  (insurance, practice, insurance, --, impact, a...             4424   \n",
       "20  (data, driven, insurance, ready, next, frontie...            18818   \n",
       "\n",
       "    text_unique_words  \n",
       "0                2706  \n",
       "1                5026  \n",
       "2                1746  \n",
       "3                1506  \n",
       "4                4228  \n",
       "5                2144  \n",
       "6                4329  \n",
       "7                2941  \n",
       "8                2297  \n",
       "9                1193  \n",
       "10               3356  \n",
       "11                684  \n",
       "12               6349  \n",
       "13               3667  \n",
       "14               3467  \n",
       "15               7049  \n",
       "16               1287  \n",
       "17               1572  \n",
       "19               1782  \n",
       "20               5309  "
      ]
     },
     "execution_count": 38,
     "metadata": {},
     "output_type": "execute_result"
    }
   ],
   "source": [
    "fullDocs[pred_y==0]"
   ]
  },
  {
   "cell_type": "code",
   "execution_count": null,
   "metadata": {
    "cell_id": "00047-25eeb582-0186-43f8-8875-3176c5bd12ed",
    "deepnote_cell_type": "code"
   },
   "outputs": [],
   "source": []
  }
 ],
 "metadata": {
  "deepnote_execution_queue": [],
  "deepnote_notebook_id": "f99d52e0-590d-49d0-9e6a-dea9df80f184",
  "kernelspec": {
   "display_name": "Python 3",
   "language": "python",
   "name": "python3"
  },
  "language_info": {
   "codemirror_mode": {
    "name": "ipython",
    "version": 3
   },
   "file_extension": ".py",
   "mimetype": "text/x-python",
   "name": "python",
   "nbconvert_exporter": "python",
   "pygments_lexer": "ipython3",
   "version": "3.8.11"
  }
 },
 "nbformat": 4,
 "nbformat_minor": 4
}
